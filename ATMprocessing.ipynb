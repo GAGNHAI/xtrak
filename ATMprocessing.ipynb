{
 "cells": [
  {
   "cell_type": "code",
   "execution_count": 36,
   "metadata": {},
   "outputs": [
    {
     "name": "stdout",
     "output_type": "stream",
     "text": [
      "/home/jovyan/xtrak/data/ILATM2_20180418_134700_smooth_nadir3seg_50pt.csv\n",
      "/home/jovyan/xtrak/data/ILATM2_20180418_133800_smooth_nadir3seg_50pt.csv\n",
      "/home/jovyan/xtrak/data/ILATM2_20180418_134300_smooth_nadir3seg_50pt.csv\n",
      "/home/jovyan/xtrak/data/ILATM2_20180418_133400_smooth_nadir3seg_50pt.csv\n",
      "/home/jovyan/xtrak/data/ILATM2_20180418_134100_smooth_nadir3seg_50pt.csv\n",
      "/home/jovyan/xtrak/data/ILATM2_20180418_134500_smooth_nadir3seg_50pt.csv\n",
      "/home/jovyan/xtrak/data/ILATM2_20180418_133600_smooth_nadir3seg_50pt.csv\n",
      "/home/jovyan/xtrak/data/ILATM2_20180418_134000_smooth_nadir3seg_50pt.csv\n",
      "/home/jovyan/xtrak/data/ILATM2_20180418_134800_smooth_nadir3seg_50pt.csv\n",
      "/home/jovyan/xtrak/data/ILATM2_20180418_133900_smooth_nadir3seg_50pt.csv\n",
      "/home/jovyan/xtrak/data/ILATM2_20180418_134400_smooth_nadir3seg_50pt.csv\n",
      "/home/jovyan/xtrak/data/ILATM2_20180418_133500_smooth_nadir3seg_50pt.csv\n",
      "/home/jovyan/xtrak/data/ILATM2_20180418_134200_smooth_nadir3seg_50pt.csv\n",
      "/home/jovyan/xtrak/data/ILATM2_20180418_133300_smooth_nadir3seg_50pt.csv\n",
      "/home/jovyan/xtrak/data/ILATM2_20180418_134600_smooth_nadir3seg_50pt.csv\n",
      "/home/jovyan/xtrak/data/ILATM2_20180418_133700_smooth_nadir3seg_50pt.csv\n"
     ]
    }
   ],
   "source": [
    "#Code to stitch together the ATM data and plot profile\n",
    "import os\n",
    "import glob\n",
    "import pandas as pd\n",
    "import csv\n",
    "\n",
    "#get all the relevant csv files as a list\n",
    "filelist = glob.glob(\"/home/jovyan/xtrak/data/*.csv\")\n",
    "\n",
    "for file in filelist:    \n",
    "    with open(file, 'rb') as inp, open(file+'_noheader', 'wb') as out:\n",
    "    writer = csv.writer(out)\n",
    "    for row in csv.reader(inp):\n",
    "        if row[2] != \"0\":\n",
    "            writer.writerow(row)\n",
    "    os.remove('original.csv')\n",
    "    os.rename('new.csv', 'original.csv')\n",
    "    #must get rid of files \n",
    "    #with open(file, 'rb') as inp\n",
    "    #df = pd.read_csv(file)\n",
    "    #print(df)\n",
    "    #read lat column into ndarray using csvread?\n",
    "    #read long column into ndarray\n",
    "    #extract height column into ndarray\n",
    "    \n",
    "#reproject lat and long arrays into Polar stereographic EPSG: 3413\n",
    "\n",
    "#calculate distance along profile... in its own array\n",
    "\n",
    "#plot profile x = distance along profile in m, y = height in m"
   ]
  },
  {
   "cell_type": "code",
   "execution_count": null,
   "metadata": {},
   "outputs": [],
   "source": []
  }
 ],
 "metadata": {
  "kernelspec": {
   "display_name": "Python 3",
   "language": "python",
   "name": "python3"
  },
  "language_info": {
   "codemirror_mode": {
    "name": "ipython",
    "version": 3
   },
   "file_extension": ".py",
   "mimetype": "text/x-python",
   "name": "python",
   "nbconvert_exporter": "python",
   "pygments_lexer": "ipython3",
   "version": "3.6.7"
  }
 },
 "nbformat": 4,
 "nbformat_minor": 2
}
