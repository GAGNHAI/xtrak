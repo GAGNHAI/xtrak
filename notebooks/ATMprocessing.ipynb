{
 "cells": [
  {
   "cell_type": "markdown",
   "metadata": {},
   "source": [
    "## Code to work with ATM data along the flowline of Zachariae Isstrom\n",
    "\n",
    "**by Jukes Liu**\n",
    "\n",
    "**June 2019 ICESat-2 Hackweek**\n"
   ]
  },
  {
   "cell_type": "code",
   "execution_count": 227,
   "metadata": {},
   "outputs": [],
   "source": [
    "#IMPORT PACKAGES\n",
    "import os\n",
    "import glob\n",
    "import pandas as pd\n",
    "import csv\n",
    "import numpy as np\n",
    "import math\n",
    "import matplotlib.pyplot as plt\n",
    "import pyproj\n",
    "import geopandas as gpd\n",
    "from shapely.geometry import Point, Polygon\n",
    "from ipyleaflet import Map, Marker, basemaps #'OpenTopoMap'"
   ]
  },
  {
   "cell_type": "markdown",
   "metadata": {},
   "source": [
    "## Read in ATM elevation CSV files into dataframes and each variable into 1D arrays:"
   ]
  },
  {
   "cell_type": "code",
   "execution_count": 228,
   "metadata": {},
   "outputs": [
    {
     "data": {
      "text/html": [
       "<div>\n",
       "<style scoped>\n",
       "    .dataframe tbody tr th:only-of-type {\n",
       "        vertical-align: middle;\n",
       "    }\n",
       "\n",
       "    .dataframe tbody tr th {\n",
       "        vertical-align: top;\n",
       "    }\n",
       "\n",
       "    .dataframe thead th {\n",
       "        text-align: right;\n",
       "    }\n",
       "</style>\n",
       "<table border=\"1\" class=\"dataframe\">\n",
       "  <thead>\n",
       "    <tr style=\"text-align: right;\">\n",
       "      <th></th>\n",
       "      <th>lat</th>\n",
       "      <th>lon</th>\n",
       "      <th>elev</th>\n",
       "      <th>TrackID</th>\n",
       "    </tr>\n",
       "  </thead>\n",
       "  <tbody>\n",
       "    <tr>\n",
       "      <th>3</th>\n",
       "      <td>79.202572</td>\n",
       "      <td>341.714609</td>\n",
       "      <td>32.5185</td>\n",
       "      <td>0.0</td>\n",
       "    </tr>\n",
       "    <tr>\n",
       "      <th>7</th>\n",
       "      <td>79.202270</td>\n",
       "      <td>341.714622</td>\n",
       "      <td>33.1235</td>\n",
       "      <td>0.0</td>\n",
       "    </tr>\n",
       "    <tr>\n",
       "      <th>11</th>\n",
       "      <td>79.201968</td>\n",
       "      <td>341.714638</td>\n",
       "      <td>32.7155</td>\n",
       "      <td>0.0</td>\n",
       "    </tr>\n",
       "    <tr>\n",
       "      <th>15</th>\n",
       "      <td>79.201666</td>\n",
       "      <td>341.714654</td>\n",
       "      <td>32.1009</td>\n",
       "      <td>0.0</td>\n",
       "    </tr>\n",
       "    <tr>\n",
       "      <th>19</th>\n",
       "      <td>79.201364</td>\n",
       "      <td>341.714670</td>\n",
       "      <td>30.7951</td>\n",
       "      <td>0.0</td>\n",
       "    </tr>\n",
       "  </tbody>\n",
       "</table>\n",
       "</div>"
      ],
      "text/plain": [
       "          lat         lon     elev  TrackID\n",
       "3   79.202572  341.714609  32.5185      0.0\n",
       "7   79.202270  341.714622  33.1235      0.0\n",
       "11  79.201968  341.714638  32.7155      0.0\n",
       "15  79.201666  341.714654  32.1009      0.0\n",
       "19  79.201364  341.714670  30.7951      0.0"
      ]
     },
     "execution_count": 228,
     "metadata": {},
     "output_type": "execute_result"
    }
   ],
   "source": [
    "#get all the relevant csv files as a list and sort in order of the flight path\n",
    "#filelist = glob.glob(\"../data/ILATM2_2018*.csv\")\n",
    "filelist = glob.glob(\"../data/ILATM2_2014*.csv\")\n",
    "filelist.sort(reverse=True)\n",
    "#test with first file in the filelist\n",
    "# filelist = [filelist[0]] \n",
    "\n",
    "#create an empty DataFrame to hold the stitched together ATM data along the profile\n",
    "df_total = pd.DataFrame()\n",
    "\n",
    "#for each csv file\n",
    "for file in filelist:\n",
    "    #print(file)\n",
    "    #read the csv file into a pandas DataFrame\n",
    "    csv_df = pd.read_csv(file, skiprows=9)\n",
    "    \n",
    "    #concatenate (join) it to the df_total\n",
    "    df_total = pd.concat([csv_df, df_total])\n",
    "\n",
    "#check that we have all the data properly stitched together:\n",
    "#print(df_total)\n",
    "\n",
    "#Read variables from csv DataFrame into 1D arrays\n",
    "ATM_lat = df_total.loc[:, df_total.keys()[1]].values\n",
    "ATM_long = df_total.loc[:, df_total.keys()[2]].values\n",
    "ATM_elev = df_total.loc[:, df_total.keys()[3]].values\n",
    "TrackID = df_total.loc[:, df_total.keys()[-1]].values\n",
    "\n",
    "#Set in new DataFrame called ATM_data\n",
    "ATM_data = pd.DataFrame([ATM_lat, ATM_long, ATM_elev, TrackID])\n",
    "headers = ['lat', \"lon\", \"elev\", \"TrackID\"]\n",
    "ATM_data = ATM_data.transpose()\n",
    "ATM_data.columns = headers\n",
    "#ATM_data.head()\n",
    "\n",
    "#Select only the data with TrackID 0:\n",
    "ATM_track0 = ATM_data[ATM_data['TrackID'] == 0.0].copy()\n",
    "\n",
    "#get the variables in arrays:\n",
    "track0_lat = ATM_track0.lat.values\n",
    "track0_long = ATM_track0.lon.values\n",
    "track0_elev = ATM_track0.elev.values\n",
    "\n",
    "ATM_track0.head()"
   ]
  },
  {
   "cell_type": "markdown",
   "metadata": {},
   "source": [
    "## Reproject lat and long into Greenland Polar Stereo coordinates (ESPG: 3413)"
   ]
  },
  {
   "cell_type": "code",
   "execution_count": 229,
   "metadata": {},
   "outputs": [
    {
     "name": "stdout",
     "output_type": "stream",
     "text": [
      "[527314.0468452  527329.11751696 527344.24307394 ... 416008.10264363\n",
      " 415976.20023373 415944.31738589]\n",
      "[-1047781.64325332 -1047810.99688281 -1047840.32290794 ...\n",
      " -1102874.44909802 -1102873.40305985 -1102872.34885821]\n"
     ]
    }
   ],
   "source": [
    "#Coordinate transformation function written by Fernando Paolo:\n",
    "def transform_coord(proj1, proj2, x, y):\n",
    "    \"\"\"\n",
    "    Transform coordinates from proj1 to proj2 (EPSG num).\n",
    "\n",
    "    Example EPSG projs:\n",
    "        Geodetic (lon/lat): 4326\n",
    "        Polar Stereo AnIS (x/y): 3031\n",
    "        Polar Stereo GrIS (x/y): 3413\n",
    "    \"\"\"\n",
    "    # Set full EPSG projection strings\n",
    "    proj1 = pyproj.Proj(\"+init=EPSG:\"+str(proj1))\n",
    "    proj2 = pyproj.Proj(\"+init=EPSG:\"+str(proj2))\n",
    "    return pyproj.transform(proj1, proj2, x, y)  # convert\n",
    "\n",
    "#use the function to transform into Greenland Polar Stereo (PS_x, PS_y)\n",
    "PS_x, PS_y = transform_coord(4326, 3413, track0_long, track0_lat)\n",
    "print(PS_x)\n",
    "print(PS_y)"
   ]
  },
  {
   "cell_type": "markdown",
   "metadata": {},
   "source": [
    "## Calculate distance along the flowline:"
   ]
  },
  {
   "cell_type": "code",
   "execution_count": 230,
   "metadata": {},
   "outputs": [],
   "source": [
    "#create an empty array to contain the distance along flow \n",
    "dist_along = np.empty(len(track0_lat), dtype=float)\n",
    "\n",
    "#for each lat-long point:\n",
    "for i in range(len(track0_lat)):\n",
    "    #for the first point, set distance along flow to 0 m\n",
    "    if i == 0:\n",
    "        dist_along[i] = 0.0\n",
    "    \n",
    "    #for all other subsequent points:\n",
    "    else:\n",
    "        #calculate distance from the last point in meters\n",
    "        x_diff = PS_x[i] - PS_x[i-1]\n",
    "        y_diff = PS_y[i] - PS_y[i-1]\n",
    "                \n",
    "        #calculate distance from the previous point using the distance formula:    \n",
    "        dist_last = math.sqrt(((x_diff)**2)+((y_diff)**2))\n",
    "        #print(dist_last)\n",
    "        \n",
    "        #add it to the previous distance along the track to get the cumulative distance\n",
    "        dist_along[i] = dist_last + dist_along[i-1]\n",
    "\n",
    "    #check the array of distance along the track in meters:\n",
    "    #print(dist_along[i], ATM_elev[i])\n",
    "    \n",
    "# PS_diffs = np.sqrt( np.diff(ref_x)**2 + np.diff(ref_y)**2 ) # m\n",
    "# dist_along = np.cumsum(PS_diffs)\n",
    "# dist_along = np.append(0, dist_along)"
   ]
  },
  {
   "cell_type": "markdown",
   "metadata": {},
   "source": [
    "## Final data extracted into arrays\n",
    "+ ATM_long: longitude of elev points\n",
    "+ ATM_lat: latitude of elev points\n",
    "+ PS_x: x-coords of elev points in Greenland Polar Stereo\n",
    "+ PS_y: y-coords of elev points in Greenland Polar Stereo\n",
    "+ ATM_elev: elevation points with z in meters\n",
    "+ dist_along: distance along the flowline in meters\n",
    "\n",
    "## ...and recombined into a dataframe called final_data:"
   ]
  },
  {
   "cell_type": "code",
   "execution_count": 231,
   "metadata": {},
   "outputs": [
    {
     "data": {
      "text/html": [
       "<div>\n",
       "<style scoped>\n",
       "    .dataframe tbody tr th:only-of-type {\n",
       "        vertical-align: middle;\n",
       "    }\n",
       "\n",
       "    .dataframe tbody tr th {\n",
       "        vertical-align: top;\n",
       "    }\n",
       "\n",
       "    .dataframe thead th {\n",
       "        text-align: right;\n",
       "    }\n",
       "</style>\n",
       "<table border=\"1\" class=\"dataframe\">\n",
       "  <thead>\n",
       "    <tr style=\"text-align: right;\">\n",
       "      <th></th>\n",
       "      <th>ATM_lat</th>\n",
       "      <th>ATM_long</th>\n",
       "      <th>PS_x</th>\n",
       "      <th>PS_y</th>\n",
       "      <th>ATM_elev</th>\n",
       "      <th>dist_along</th>\n",
       "    </tr>\n",
       "  </thead>\n",
       "  <tbody>\n",
       "    <tr>\n",
       "      <th>0</th>\n",
       "      <td>79.202572</td>\n",
       "      <td>341.714609</td>\n",
       "      <td>527314.046845</td>\n",
       "      <td>-1.047782e+06</td>\n",
       "      <td>32.5185</td>\n",
       "      <td>0.000000</td>\n",
       "    </tr>\n",
       "    <tr>\n",
       "      <th>1</th>\n",
       "      <td>79.202270</td>\n",
       "      <td>341.714622</td>\n",
       "      <td>527329.117517</td>\n",
       "      <td>-1.047811e+06</td>\n",
       "      <td>33.1235</td>\n",
       "      <td>32.996374</td>\n",
       "    </tr>\n",
       "    <tr>\n",
       "      <th>2</th>\n",
       "      <td>79.201968</td>\n",
       "      <td>341.714638</td>\n",
       "      <td>527344.243074</td>\n",
       "      <td>-1.047840e+06</td>\n",
       "      <td>32.7155</td>\n",
       "      <td>65.993317</td>\n",
       "    </tr>\n",
       "    <tr>\n",
       "      <th>3</th>\n",
       "      <td>79.201666</td>\n",
       "      <td>341.714654</td>\n",
       "      <td>527359.368654</td>\n",
       "      <td>-1.047870e+06</td>\n",
       "      <td>32.1009</td>\n",
       "      <td>98.990275</td>\n",
       "    </tr>\n",
       "    <tr>\n",
       "      <th>4</th>\n",
       "      <td>79.201364</td>\n",
       "      <td>341.714670</td>\n",
       "      <td>527374.494258</td>\n",
       "      <td>-1.047899e+06</td>\n",
       "      <td>30.7951</td>\n",
       "      <td>131.987250</td>\n",
       "    </tr>\n",
       "  </tbody>\n",
       "</table>\n",
       "</div>"
      ],
      "text/plain": [
       "     ATM_lat    ATM_long           PS_x          PS_y  ATM_elev  dist_along\n",
       "0  79.202572  341.714609  527314.046845 -1.047782e+06   32.5185    0.000000\n",
       "1  79.202270  341.714622  527329.117517 -1.047811e+06   33.1235   32.996374\n",
       "2  79.201968  341.714638  527344.243074 -1.047840e+06   32.7155   65.993317\n",
       "3  79.201666  341.714654  527359.368654 -1.047870e+06   32.1009   98.990275\n",
       "4  79.201364  341.714670  527374.494258 -1.047899e+06   30.7951  131.987250"
      ]
     },
     "execution_count": 231,
     "metadata": {},
     "output_type": "execute_result"
    }
   ],
   "source": [
    "variables = [track0_lat, track0_long, PS_x, PS_y, track0_elev, dist_along]\n",
    "indices = ['ATM_lat', \"ATM_long\", \"PS_x\", \"PS_y\", \"ATM_elev\", \"dist_along\"]\n",
    "\n",
    "#create DataFrame from these variables\n",
    "final_data = pd.DataFrame(variables)\n",
    "final_data = final_data.transpose()\n",
    "final_data.columns = indices\n",
    "\n",
    "#SAVE TO CSV\n",
    "final_data.to_csv('/home/jovyan/xtrak/data/ATMprof_20140429.csv',index=False)\n",
    "final_data.head()"
   ]
  },
  {
   "cell_type": "markdown",
   "metadata": {},
   "source": [
    "## Convert to GeoDataFrame"
   ]
  },
  {
   "cell_type": "code",
   "execution_count": 232,
   "metadata": {},
   "outputs": [
    {
     "data": {
      "text/html": [
       "<div>\n",
       "<style scoped>\n",
       "    .dataframe tbody tr th:only-of-type {\n",
       "        vertical-align: middle;\n",
       "    }\n",
       "\n",
       "    .dataframe tbody tr th {\n",
       "        vertical-align: top;\n",
       "    }\n",
       "\n",
       "    .dataframe thead th {\n",
       "        text-align: right;\n",
       "    }\n",
       "</style>\n",
       "<table border=\"1\" class=\"dataframe\">\n",
       "  <thead>\n",
       "    <tr style=\"text-align: right;\">\n",
       "      <th></th>\n",
       "      <th>ATM_lat</th>\n",
       "      <th>ATM_long</th>\n",
       "      <th>PS_x</th>\n",
       "      <th>PS_y</th>\n",
       "      <th>ATM_elev</th>\n",
       "      <th>dist_along</th>\n",
       "      <th>geometry</th>\n",
       "    </tr>\n",
       "  </thead>\n",
       "  <tbody>\n",
       "    <tr>\n",
       "      <th>0</th>\n",
       "      <td>79.202572</td>\n",
       "      <td>341.714609</td>\n",
       "      <td>527314.046845</td>\n",
       "      <td>-1.047782e+06</td>\n",
       "      <td>32.5185</td>\n",
       "      <td>0.000000</td>\n",
       "      <td>POINT (527314.0468452007 -1047781.643253321)</td>\n",
       "    </tr>\n",
       "    <tr>\n",
       "      <th>1</th>\n",
       "      <td>79.202270</td>\n",
       "      <td>341.714622</td>\n",
       "      <td>527329.117517</td>\n",
       "      <td>-1.047811e+06</td>\n",
       "      <td>33.1235</td>\n",
       "      <td>32.996374</td>\n",
       "      <td>POINT (527329.1175169554 -1047810.996882809)</td>\n",
       "    </tr>\n",
       "    <tr>\n",
       "      <th>2</th>\n",
       "      <td>79.201968</td>\n",
       "      <td>341.714638</td>\n",
       "      <td>527344.243074</td>\n",
       "      <td>-1.047840e+06</td>\n",
       "      <td>32.7155</td>\n",
       "      <td>65.993317</td>\n",
       "      <td>POINT (527344.2430739407 -1047840.322907937)</td>\n",
       "    </tr>\n",
       "    <tr>\n",
       "      <th>3</th>\n",
       "      <td>79.201666</td>\n",
       "      <td>341.714654</td>\n",
       "      <td>527359.368654</td>\n",
       "      <td>-1.047870e+06</td>\n",
       "      <td>32.1009</td>\n",
       "      <td>98.990275</td>\n",
       "      <td>POINT (527359.368654446 -1047869.648938797)</td>\n",
       "    </tr>\n",
       "    <tr>\n",
       "      <th>4</th>\n",
       "      <td>79.201364</td>\n",
       "      <td>341.714670</td>\n",
       "      <td>527374.494258</td>\n",
       "      <td>-1.047899e+06</td>\n",
       "      <td>30.7951</td>\n",
       "      <td>131.987250</td>\n",
       "      <td>POINT (527374.4942584686 -1047898.974975394)</td>\n",
       "    </tr>\n",
       "  </tbody>\n",
       "</table>\n",
       "</div>"
      ],
      "text/plain": [
       "     ATM_lat    ATM_long           PS_x          PS_y  ATM_elev  dist_along  \\\n",
       "0  79.202572  341.714609  527314.046845 -1.047782e+06   32.5185    0.000000   \n",
       "1  79.202270  341.714622  527329.117517 -1.047811e+06   33.1235   32.996374   \n",
       "2  79.201968  341.714638  527344.243074 -1.047840e+06   32.7155   65.993317   \n",
       "3  79.201666  341.714654  527359.368654 -1.047870e+06   32.1009   98.990275   \n",
       "4  79.201364  341.714670  527374.494258 -1.047899e+06   30.7951  131.987250   \n",
       "\n",
       "                                       geometry  \n",
       "0  POINT (527314.0468452007 -1047781.643253321)  \n",
       "1  POINT (527329.1175169554 -1047810.996882809)  \n",
       "2  POINT (527344.2430739407 -1047840.322907937)  \n",
       "3   POINT (527359.368654446 -1047869.648938797)  \n",
       "4  POINT (527374.4942584686 -1047898.974975394)  "
      ]
     },
     "execution_count": 232,
     "metadata": {},
     "output_type": "execute_result"
    }
   ],
   "source": [
    "#create new geometry column:\n",
    "final_data['geometry'] = list(zip(final_data['PS_x'], final_data['PS_y']))\n",
    "\n",
    "#create new shapely Point geometry objects \n",
    "final_data['geometry'] = final_data['geometry'].apply(Point)\n",
    "#final_data.head()\n",
    "\n",
    "#convert DataFrame to GeoDataFrame in Polar Stereo\n",
    "final_gdf = gpd.GeoDataFrame(final_data, crs={'init' :'epsg:3413'})\n",
    "\n",
    "final_gdf.head()"
   ]
  },
  {
   "cell_type": "markdown",
   "metadata": {},
   "source": [
    "## Plotting the data:"
   ]
  },
  {
   "cell_type": "code",
   "execution_count": 233,
   "metadata": {},
   "outputs": [
    {
     "name": "stderr",
     "output_type": "stream",
     "text": [
      "/srv/conda/lib/python3.6/site-packages/pandas/plotting/_core.py:304: RuntimeWarning: More than 20 figures have been opened. Figures created through the pyplot interface (`matplotlib.pyplot.figure`) are retained until explicitly closed and may consume too much memory. (To control this warning, see the rcParam `figure.max_open_warning`).\n",
      "  fig = self.plt.figure(figsize=self.figsize)\n"
     ]
    },
    {
     "data": {
      "application/vnd.jupyter.widget-view+json": {
       "model_id": "8f108501398142028527d1b8759001ce",
       "version_major": 2,
       "version_minor": 0
      },
      "text/plain": [
       "FigureCanvasNbAgg()"
      ]
     },
     "metadata": {},
     "output_type": "display_data"
    },
    {
     "data": {
      "text/plain": [
       "Text(0, 0.5, 'Polar Stereographic Y (m)')"
      ]
     },
     "execution_count": 233,
     "metadata": {},
     "output_type": "execute_result"
    }
   ],
   "source": [
    "#2D elevation cross-section plot with DataFrame:\n",
    "# elev_prof = final_data.plot(x='dist_along', y='ATM_elev', kind='scatter', s=0.05) \n",
    "# elev_prof.set_xlabel(\"Distance along glacier flowline (m)\")\n",
    "# elev_prof.set_ylabel(\"WGS84 Ellipsoid Height (m)\")\n",
    "\n",
    "#2D plot of track (X, Y, by elevation) with DataFrame:\n",
    "track = final_data.plot(x='PS_x', y='PS_y', kind='scatter', s=0.05, c='ATM_elev', cmap='inferno')\n",
    "track.set_xlabel(\"Polar Stereographic X (m)\")\n",
    "track.set_ylabel(\"Polar Stereographic Y (m)\")\n",
    "\n",
    "#plot with GeoDataFrame\n",
    "# gdf_plot = final_gdf.plot('ATM_elev', s=0.05, cmap='inferno', legend=True);\n",
    "# gdf_plot.set_xlabel(\"Polar Stereographic X (m)\")\n",
    "# gdf_plot.set_ylabel(\"Polar Stereographic Y (m)\")"
   ]
  },
  {
   "cell_type": "code",
   "execution_count": null,
   "metadata": {},
   "outputs": [],
   "source": []
  }
 ],
 "metadata": {
  "kernelspec": {
   "display_name": "Python [conda env:root] *",
   "language": "python",
   "name": "conda-root-py"
  },
  "language_info": {
   "codemirror_mode": {
    "name": "ipython",
    "version": 3
   },
   "file_extension": ".py",
   "mimetype": "text/x-python",
   "name": "python",
   "nbconvert_exporter": "python",
   "pygments_lexer": "ipython3",
   "version": "3.6.7"
  }
 },
 "nbformat": 4,
 "nbformat_minor": 2
}
