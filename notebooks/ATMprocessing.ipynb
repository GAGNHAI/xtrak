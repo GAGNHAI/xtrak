{
 "cells": [
  {
   "cell_type": "markdown",
   "metadata": {},
   "source": [
    "## Code to work with ATM data along the flowline of Zachariae Isstrom\n",
    "\n",
    "**by Jukes Liu**\n",
    "\n",
    "**June 2019 ICESat-2 Hackweek**\n"
   ]
  },
  {
   "cell_type": "code",
   "execution_count": 235,
   "metadata": {},
   "outputs": [],
   "source": [
    "#IMPORT PACKAGES\n",
    "import os\n",
    "import glob\n",
    "import pandas as pd\n",
    "import csv\n",
    "import numpy as np\n",
    "import math\n",
    "import matplotlib.pyplot as plt\n",
    "import pyproj\n",
    "import geopandas as gpd\n",
    "from shapely.geometry import Point, Polygon\n",
    "from ipyleaflet import Map, Marker, basemaps #'OpenTopoMap'"
   ]
  },
  {
   "cell_type": "markdown",
   "metadata": {},
   "source": [
    "## Read in ATM elevation CSV files into dataframes and each variable into 1D arrays:"
   ]
  },
  {
   "cell_type": "code",
   "execution_count": 238,
   "metadata": {},
   "outputs": [
    {
     "data": {
      "text/html": [
       "<div>\n",
       "<style scoped>\n",
       "    .dataframe tbody tr th:only-of-type {\n",
       "        vertical-align: middle;\n",
       "    }\n",
       "\n",
       "    .dataframe tbody tr th {\n",
       "        vertical-align: top;\n",
       "    }\n",
       "\n",
       "    .dataframe thead th {\n",
       "        text-align: right;\n",
       "    }\n",
       "</style>\n",
       "<table border=\"1\" class=\"dataframe\">\n",
       "  <thead>\n",
       "    <tr style=\"text-align: right;\">\n",
       "      <th></th>\n",
       "      <th>lat</th>\n",
       "      <th>lon</th>\n",
       "      <th>elev</th>\n",
       "      <th>TrackID</th>\n",
       "      <th>NS_slope</th>\n",
       "      <th>EW_slope</th>\n",
       "    </tr>\n",
       "  </thead>\n",
       "  <tbody>\n",
       "    <tr>\n",
       "      <th>3</th>\n",
       "      <td>79.212155</td>\n",
       "      <td>334.848567</td>\n",
       "      <td>891.6397</td>\n",
       "      <td>0.0</td>\n",
       "      <td>0.002528</td>\n",
       "      <td>-0.003607</td>\n",
       "    </tr>\n",
       "    <tr>\n",
       "      <th>7</th>\n",
       "      <td>79.212039</td>\n",
       "      <td>334.850146</td>\n",
       "      <td>891.4861</td>\n",
       "      <td>0.0</td>\n",
       "      <td>0.003011</td>\n",
       "      <td>-0.003841</td>\n",
       "    </tr>\n",
       "    <tr>\n",
       "      <th>11</th>\n",
       "      <td>79.211923</td>\n",
       "      <td>334.851724</td>\n",
       "      <td>891.3228</td>\n",
       "      <td>0.0</td>\n",
       "      <td>0.003946</td>\n",
       "      <td>-0.003423</td>\n",
       "    </tr>\n",
       "    <tr>\n",
       "      <th>15</th>\n",
       "      <td>79.211808</td>\n",
       "      <td>334.853304</td>\n",
       "      <td>891.1725</td>\n",
       "      <td>0.0</td>\n",
       "      <td>0.004970</td>\n",
       "      <td>-0.002393</td>\n",
       "    </tr>\n",
       "    <tr>\n",
       "      <th>19</th>\n",
       "      <td>79.211692</td>\n",
       "      <td>334.854884</td>\n",
       "      <td>891.0138</td>\n",
       "      <td>0.0</td>\n",
       "      <td>0.005104</td>\n",
       "      <td>-0.003135</td>\n",
       "    </tr>\n",
       "  </tbody>\n",
       "</table>\n",
       "</div>"
      ],
      "text/plain": [
       "          lat         lon      elev  TrackID  NS_slope  EW_slope\n",
       "3   79.212155  334.848567  891.6397      0.0  0.002528 -0.003607\n",
       "7   79.212039  334.850146  891.4861      0.0  0.003011 -0.003841\n",
       "11  79.211923  334.851724  891.3228      0.0  0.003946 -0.003423\n",
       "15  79.211808  334.853304  891.1725      0.0  0.004970 -0.002393\n",
       "19  79.211692  334.854884  891.0138      0.0  0.005104 -0.003135"
      ]
     },
     "execution_count": 238,
     "metadata": {},
     "output_type": "execute_result"
    }
   ],
   "source": [
    "#get all the relevant csv files as a list and sort in order of the flight path\n",
    "#filelist = glob.glob(\"../data/ILATM2_2018*.csv\")\n",
    "filelist = glob.glob(\"../data_raw/ATM_2018/*.csv\")\n",
    "filelist.sort(reverse=True)\n",
    "#test with first file in the filelist\n",
    "# filelist = [filelist[0]] \n",
    "\n",
    "#create an empty DataFrame to hold the stitched together ATM data along the profile\n",
    "df_total = pd.DataFrame()\n",
    "\n",
    "#for each csv file\n",
    "for file in filelist:\n",
    "    #print(file)\n",
    "    #read the csv file into a pandas DataFrame\n",
    "    csv_df = pd.read_csv(file, skiprows=9)\n",
    "    \n",
    "    #concatenate (join) it to the df_total\n",
    "    df_total = pd.concat([csv_df, df_total])\n",
    "\n",
    "#check that we have all the data properly stitched together:\n",
    "#print(df_total)\n",
    "\n",
    "#Read variables from csv DataFrame into 1D arrays\n",
    "ATM_lat = df_total.loc[:, df_total.keys()[1]].values\n",
    "ATM_long = df_total.loc[:, df_total.keys()[2]].values\n",
    "ATM_elev = df_total.loc[:, df_total.keys()[3]].values\n",
    "TrackID = df_total.loc[:, df_total.keys()[-1]].values\n",
    "NS_slope = df_total.loc[:,df_total.keys()[4]].values\n",
    "EW_slope = df_total.loc[:,df_total.keys()[5]].values\n",
    "\n",
    "#Set in new DataFrame called ATM_data\n",
    "ATM_data = pd.DataFrame([ATM_lat, ATM_long, ATM_elev, TrackID, NS_slope, EW_slope])\n",
    "headers = ['lat', \"lon\", \"elev\", \"TrackID\", \"NS_slope\", \"EW_slope\"]\n",
    "ATM_data = ATM_data.transpose()\n",
    "ATM_data.columns = headers\n",
    "#ATM_data.head()\n",
    "\n",
    "#Select only the data with TrackID 0:\n",
    "ATM_track0 = ATM_data[ATM_data['TrackID'] == 0.0].copy()\n",
    "\n",
    "#get the variables in arrays:\n",
    "track0_lat = ATM_track0.lat.values\n",
    "track0_long = ATM_track0.lon.values\n",
    "track0_elev = ATM_track0.elev.values\n",
    "track0_slope_NS = ATM_track0.NS_slope.values\n",
    "track0_slope_EW = ATM_track0.EW_slope.values\n",
    "\n",
    "ATM_track0.head()"
   ]
  },
  {
   "cell_type": "markdown",
   "metadata": {},
   "source": [
    "## Reproject lat and long into Greenland Polar Stereo coordinates (ESPG: 3413)"
   ]
  },
  {
   "cell_type": "code",
   "execution_count": 239,
   "metadata": {},
   "outputs": [
    {
     "name": "stdout",
     "output_type": "stream",
     "text": [
      "[397916.20306121 397950.88495727 397985.54796972 ... 521498.057707\n",
      " 521526.14084298 521554.12880888]\n",
      "[-1102322.11492441 -1102323.06892135 -1102324.02879225 ...\n",
      " -1084654.329196   -1084639.2497822  -1084623.97262617]\n"
     ]
    }
   ],
   "source": [
    "#Coordinate transformation function written by Fernando Paolo:\n",
    "def transform_coord(proj1, proj2, x, y):\n",
    "    \"\"\"\n",
    "    Transform coordinates from proj1 to proj2 (EPSG num).\n",
    "\n",
    "    Example EPSG projs:\n",
    "        Geodetic (lon/lat): 4326\n",
    "        Polar Stereo AnIS (x/y): 3031\n",
    "        Polar Stereo GrIS (x/y): 3413\n",
    "    \"\"\"\n",
    "    # Set full EPSG projection strings\n",
    "    proj1 = pyproj.Proj(\"+init=EPSG:\"+str(proj1))\n",
    "    proj2 = pyproj.Proj(\"+init=EPSG:\"+str(proj2))\n",
    "    return pyproj.transform(proj1, proj2, x, y)  # convert\n",
    "\n",
    "#use the function to transform into Greenland Polar Stereo (PS_x, PS_y)\n",
    "PS_x, PS_y = transform_coord(4326, 3413, track0_long, track0_lat)\n",
    "print(PS_x)\n",
    "print(PS_y)"
   ]
  },
  {
   "cell_type": "markdown",
   "metadata": {},
   "source": [
    "## Calculate distance along the flowline:"
   ]
  },
  {
   "cell_type": "code",
   "execution_count": 241,
   "metadata": {},
   "outputs": [],
   "source": [
    "#create an empty array to contain the distance along flow \n",
    "dist_along = np.empty(len(track0_lat), dtype=float)\n",
    "\n",
    "#for each lat-long point:\n",
    "for i in range(len(track0_lat)):\n",
    "    #for the first point, set distance along flow to 0 m\n",
    "    if i == 0:\n",
    "        dist_along[i] = 0.0\n",
    "    \n",
    "    #for all other subsequent points:\n",
    "    else:\n",
    "        #calculate distance from the last point in meters\n",
    "        x_diff = PS_x[i] - PS_x[i-1]\n",
    "        y_diff = PS_y[i] - PS_y[i-1]\n",
    "                \n",
    "        #calculate distance from the previous point using the distance formula:    \n",
    "        dist_last = math.sqrt(((x_diff)**2)+((y_diff)**2))\n",
    "        #print(dist_last)\n",
    "        \n",
    "        #add it to the previous distance along the track to get the cumulative distance\n",
    "        dist_along[i] = dist_last + dist_along[i-1]\n",
    "\n",
    "    #check the array of distance along the track in meters:\n",
    "    #print(dist_along[i], ATM_elev[i])"
   ]
  },
  {
   "cell_type": "markdown",
   "metadata": {},
   "source": [
    "## Final data extracted into arrays\n",
    "+ ATM_long: longitude of elev points\n",
    "+ ATM_lat: latitude of elev points\n",
    "+ PS_x: x-coords of elev points in Greenland Polar Stereo\n",
    "+ PS_y: y-coords of elev points in Greenland Polar Stereo\n",
    "+ ATM_elev: elevation points with z in meters\n",
    "+ dist_along: distance along the flowline in meters\n",
    "\n",
    "## ...and recombined into a dataframe called final_data:"
   ]
  },
  {
   "cell_type": "code",
   "execution_count": 243,
   "metadata": {},
   "outputs": [
    {
     "data": {
      "text/html": [
       "<div>\n",
       "<style scoped>\n",
       "    .dataframe tbody tr th:only-of-type {\n",
       "        vertical-align: middle;\n",
       "    }\n",
       "\n",
       "    .dataframe tbody tr th {\n",
       "        vertical-align: top;\n",
       "    }\n",
       "\n",
       "    .dataframe thead th {\n",
       "        text-align: right;\n",
       "    }\n",
       "</style>\n",
       "<table border=\"1\" class=\"dataframe\">\n",
       "  <thead>\n",
       "    <tr style=\"text-align: right;\">\n",
       "      <th></th>\n",
       "      <th>ATM_lat</th>\n",
       "      <th>ATM_long</th>\n",
       "      <th>PS_x</th>\n",
       "      <th>PS_y</th>\n",
       "      <th>ATM_elev</th>\n",
       "      <th>dist_along</th>\n",
       "      <th>slope_NS</th>\n",
       "      <th>slope_EW</th>\n",
       "    </tr>\n",
       "  </thead>\n",
       "  <tbody>\n",
       "    <tr>\n",
       "      <th>0</th>\n",
       "      <td>79.212155</td>\n",
       "      <td>334.848567</td>\n",
       "      <td>397916.203061</td>\n",
       "      <td>-1.102322e+06</td>\n",
       "      <td>891.6397</td>\n",
       "      <td>0.000000</td>\n",
       "      <td>0.002528</td>\n",
       "      <td>-0.003607</td>\n",
       "    </tr>\n",
       "    <tr>\n",
       "      <th>1</th>\n",
       "      <td>79.212039</td>\n",
       "      <td>334.850146</td>\n",
       "      <td>397950.884957</td>\n",
       "      <td>-1.102323e+06</td>\n",
       "      <td>891.4861</td>\n",
       "      <td>34.695014</td>\n",
       "      <td>0.003011</td>\n",
       "      <td>-0.003841</td>\n",
       "    </tr>\n",
       "    <tr>\n",
       "      <th>2</th>\n",
       "      <td>79.211923</td>\n",
       "      <td>334.851724</td>\n",
       "      <td>397985.547970</td>\n",
       "      <td>-1.102324e+06</td>\n",
       "      <td>891.3228</td>\n",
       "      <td>69.371314</td>\n",
       "      <td>0.003946</td>\n",
       "      <td>-0.003423</td>\n",
       "    </tr>\n",
       "    <tr>\n",
       "      <th>3</th>\n",
       "      <td>79.211808</td>\n",
       "      <td>334.853304</td>\n",
       "      <td>398020.212712</td>\n",
       "      <td>-1.102325e+06</td>\n",
       "      <td>891.1725</td>\n",
       "      <td>104.046285</td>\n",
       "      <td>0.004970</td>\n",
       "      <td>-0.002393</td>\n",
       "    </tr>\n",
       "    <tr>\n",
       "      <th>4</th>\n",
       "      <td>79.211692</td>\n",
       "      <td>334.854884</td>\n",
       "      <td>398054.914911</td>\n",
       "      <td>-1.102326e+06</td>\n",
       "      <td>891.0138</td>\n",
       "      <td>138.761317</td>\n",
       "      <td>0.005104</td>\n",
       "      <td>-0.003135</td>\n",
       "    </tr>\n",
       "  </tbody>\n",
       "</table>\n",
       "</div>"
      ],
      "text/plain": [
       "     ATM_lat    ATM_long           PS_x          PS_y  ATM_elev  dist_along  \\\n",
       "0  79.212155  334.848567  397916.203061 -1.102322e+06  891.6397    0.000000   \n",
       "1  79.212039  334.850146  397950.884957 -1.102323e+06  891.4861   34.695014   \n",
       "2  79.211923  334.851724  397985.547970 -1.102324e+06  891.3228   69.371314   \n",
       "3  79.211808  334.853304  398020.212712 -1.102325e+06  891.1725  104.046285   \n",
       "4  79.211692  334.854884  398054.914911 -1.102326e+06  891.0138  138.761317   \n",
       "\n",
       "   slope_NS  slope_EW  \n",
       "0  0.002528 -0.003607  \n",
       "1  0.003011 -0.003841  \n",
       "2  0.003946 -0.003423  \n",
       "3  0.004970 -0.002393  \n",
       "4  0.005104 -0.003135  "
      ]
     },
     "execution_count": 243,
     "metadata": {},
     "output_type": "execute_result"
    }
   ],
   "source": [
    "variables = [track0_lat, track0_long, PS_x, PS_y, track0_elev, dist_along, track0_slope_NS, track0_slope_EW]\n",
    "indices = ['ATM_lat', \"ATM_long\", \"PS_x\", \"PS_y\", \"ATM_elev\", \"dist_along\", 'slope_NS', 'slope_EW']\n",
    "\n",
    "#create DataFrame from these variables\n",
    "final_data = pd.DataFrame(variables)\n",
    "final_data = final_data.transpose()\n",
    "final_data.columns = indices\n",
    "\n",
    "#SAVE TO CSV\n",
    "final_data.to_csv('/home/jovyan/xtrak/data_prod/ATMprof_2018_slopes.csv',index=False)\n",
    "final_data.head()"
   ]
  },
  {
   "cell_type": "markdown",
   "metadata": {},
   "source": [
    "## Convert to GeoDataFrame"
   ]
  },
  {
   "cell_type": "code",
   "execution_count": 244,
   "metadata": {},
   "outputs": [
    {
     "data": {
      "text/html": [
       "<div>\n",
       "<style scoped>\n",
       "    .dataframe tbody tr th:only-of-type {\n",
       "        vertical-align: middle;\n",
       "    }\n",
       "\n",
       "    .dataframe tbody tr th {\n",
       "        vertical-align: top;\n",
       "    }\n",
       "\n",
       "    .dataframe thead th {\n",
       "        text-align: right;\n",
       "    }\n",
       "</style>\n",
       "<table border=\"1\" class=\"dataframe\">\n",
       "  <thead>\n",
       "    <tr style=\"text-align: right;\">\n",
       "      <th></th>\n",
       "      <th>ATM_lat</th>\n",
       "      <th>ATM_long</th>\n",
       "      <th>PS_x</th>\n",
       "      <th>PS_y</th>\n",
       "      <th>ATM_elev</th>\n",
       "      <th>dist_along</th>\n",
       "      <th>slope_NS</th>\n",
       "      <th>slope_EW</th>\n",
       "      <th>geometry</th>\n",
       "    </tr>\n",
       "  </thead>\n",
       "  <tbody>\n",
       "    <tr>\n",
       "      <th>0</th>\n",
       "      <td>79.212155</td>\n",
       "      <td>334.848567</td>\n",
       "      <td>397916.203061</td>\n",
       "      <td>-1.102322e+06</td>\n",
       "      <td>891.6397</td>\n",
       "      <td>0.000000</td>\n",
       "      <td>0.002528</td>\n",
       "      <td>-0.003607</td>\n",
       "      <td>POINT (397916.2030612105 -1102322.114924406)</td>\n",
       "    </tr>\n",
       "    <tr>\n",
       "      <th>1</th>\n",
       "      <td>79.212039</td>\n",
       "      <td>334.850146</td>\n",
       "      <td>397950.884957</td>\n",
       "      <td>-1.102323e+06</td>\n",
       "      <td>891.4861</td>\n",
       "      <td>34.695014</td>\n",
       "      <td>0.003011</td>\n",
       "      <td>-0.003841</td>\n",
       "      <td>POINT (397950.8849572688 -1102323.068921348)</td>\n",
       "    </tr>\n",
       "    <tr>\n",
       "      <th>2</th>\n",
       "      <td>79.211923</td>\n",
       "      <td>334.851724</td>\n",
       "      <td>397985.547970</td>\n",
       "      <td>-1.102324e+06</td>\n",
       "      <td>891.3228</td>\n",
       "      <td>69.371314</td>\n",
       "      <td>0.003946</td>\n",
       "      <td>-0.003423</td>\n",
       "      <td>POINT (397985.547969724 -1102324.028792245)</td>\n",
       "    </tr>\n",
       "    <tr>\n",
       "      <th>3</th>\n",
       "      <td>79.211808</td>\n",
       "      <td>334.853304</td>\n",
       "      <td>398020.212712</td>\n",
       "      <td>-1.102325e+06</td>\n",
       "      <td>891.1725</td>\n",
       "      <td>104.046285</td>\n",
       "      <td>0.004970</td>\n",
       "      <td>-0.002393</td>\n",
       "      <td>POINT (398020.2127118901 -1102324.870937772)</td>\n",
       "    </tr>\n",
       "    <tr>\n",
       "      <th>4</th>\n",
       "      <td>79.211692</td>\n",
       "      <td>334.854884</td>\n",
       "      <td>398054.914911</td>\n",
       "      <td>-1.102326e+06</td>\n",
       "      <td>891.0138</td>\n",
       "      <td>138.761317</td>\n",
       "      <td>0.005104</td>\n",
       "      <td>-0.003135</td>\n",
       "      <td>POINT (398054.9149109663 -1102325.814771683)</td>\n",
       "    </tr>\n",
       "  </tbody>\n",
       "</table>\n",
       "</div>"
      ],
      "text/plain": [
       "     ATM_lat    ATM_long           PS_x          PS_y  ATM_elev  dist_along  \\\n",
       "0  79.212155  334.848567  397916.203061 -1.102322e+06  891.6397    0.000000   \n",
       "1  79.212039  334.850146  397950.884957 -1.102323e+06  891.4861   34.695014   \n",
       "2  79.211923  334.851724  397985.547970 -1.102324e+06  891.3228   69.371314   \n",
       "3  79.211808  334.853304  398020.212712 -1.102325e+06  891.1725  104.046285   \n",
       "4  79.211692  334.854884  398054.914911 -1.102326e+06  891.0138  138.761317   \n",
       "\n",
       "   slope_NS  slope_EW                                      geometry  \n",
       "0  0.002528 -0.003607  POINT (397916.2030612105 -1102322.114924406)  \n",
       "1  0.003011 -0.003841  POINT (397950.8849572688 -1102323.068921348)  \n",
       "2  0.003946 -0.003423   POINT (397985.547969724 -1102324.028792245)  \n",
       "3  0.004970 -0.002393  POINT (398020.2127118901 -1102324.870937772)  \n",
       "4  0.005104 -0.003135  POINT (398054.9149109663 -1102325.814771683)  "
      ]
     },
     "execution_count": 244,
     "metadata": {},
     "output_type": "execute_result"
    }
   ],
   "source": [
    "#create new geometry column:\n",
    "final_data['geometry'] = list(zip(final_data['PS_x'], final_data['PS_y']))\n",
    "\n",
    "#create new shapely Point geometry objects \n",
    "final_data['geometry'] = final_data['geometry'].apply(Point)\n",
    "#final_data.head()\n",
    "\n",
    "#convert DataFrame to GeoDataFrame in Polar Stereo\n",
    "final_gdf = gpd.GeoDataFrame(final_data, crs={'init' :'epsg:3413'})\n",
    "\n",
    "final_gdf.head()"
   ]
  },
  {
   "cell_type": "markdown",
   "metadata": {},
   "source": [
    "## Plotting the data:"
   ]
  },
  {
   "cell_type": "code",
   "execution_count": 268,
   "metadata": {},
   "outputs": [
    {
     "name": "stderr",
     "output_type": "stream",
     "text": [
      "/srv/conda/lib/python3.6/site-packages/pandas/plotting/_core.py:304: RuntimeWarning: More than 20 figures have been opened. Figures created through the pyplot interface (`matplotlib.pyplot.figure`) are retained until explicitly closed and may consume too much memory. (To control this warning, see the rcParam `figure.max_open_warning`).\n",
      "  fig = self.plt.figure(figsize=self.figsize)\n"
     ]
    },
    {
     "data": {
      "application/vnd.jupyter.widget-view+json": {
       "model_id": "4c8a01a58a93478f93df63e8b1da3988",
       "version_major": 2,
       "version_minor": 0
      },
      "text/plain": [
       "FigureCanvasNbAgg()"
      ]
     },
     "metadata": {},
     "output_type": "display_data"
    },
    {
     "data": {
      "text/plain": [
       "Text(0, 0.5, 'WGS84 Ellipsoid Height (m)')"
      ]
     },
     "execution_count": 268,
     "metadata": {},
     "output_type": "execute_result"
    }
   ],
   "source": [
    "#2D elevation cross-section plot with DataFrame:\n",
    "elev_prof = final_data.plot(x='dist_along', y='ATM_elev', kind='scatter', s=0.5)\n",
    "elev_prof.set_xlabel(\"Distance along glacier flowline (m)\")\n",
    "elev_prof.set_ylabel(\"WGS84 Ellipsoid Height (m)\")\n",
    "\n",
    "#2D plot of track (X, Y, by elevation) with DataFrame:\n",
    "# track = final_data.plot(x='PS_x', y='PS_y', kind='scatter', s=0.05, c='ATM_elev', cmap='inferno')\n",
    "# track.set_xlabel(\"Polar Stereographic X (m)\")\n",
    "# track.set_ylabel(\"Polar Stereographic Y (m)\")\n",
    "\n",
    "#plot with GeoDataFrame\n",
    "# gdf_plot = final_gdf.plot('ATM_elev', s=0.05, cmap='inferno', legend=True);\n",
    "# gdf_plot.set_xlabel(\"Polar Stereographic X (m)\")\n",
    "# gdf_plot.set_ylabel(\"Polar Stereographic Y (m)\")"
   ]
  },
  {
   "cell_type": "markdown",
   "metadata": {},
   "source": [
    "## Playing around with slope:"
   ]
  },
  {
   "cell_type": "code",
   "execution_count": 269,
   "metadata": {},
   "outputs": [
    {
     "name": "stderr",
     "output_type": "stream",
     "text": [
      "/srv/conda/lib/python3.6/site-packages/pandas/plotting/_core.py:304: RuntimeWarning: More than 20 figures have been opened. Figures created through the pyplot interface (`matplotlib.pyplot.figure`) are retained until explicitly closed and may consume too much memory. (To control this warning, see the rcParam `figure.max_open_warning`).\n",
      "  fig = self.plt.figure(figsize=self.figsize)\n"
     ]
    },
    {
     "data": {
      "application/vnd.jupyter.widget-view+json": {
       "model_id": "4bc70ef6d46e4123b545e77c795b6797",
       "version_major": 2,
       "version_minor": 0
      },
      "text/plain": [
       "FigureCanvasNbAgg()"
      ]
     },
     "metadata": {},
     "output_type": "display_data"
    },
    {
     "data": {
      "text/plain": [
       "Text(0, 0.5, 'WGS84 Ellipsoid Height (m)')"
      ]
     },
     "execution_count": 269,
     "metadata": {},
     "output_type": "execute_result"
    }
   ],
   "source": [
    "elev_prof = final_data.plot(x='dist_along', y='ATM_elev', kind='scatter', s=0.5, c='slope_NS', cmap='inferno')\n",
    "elev_prof.set_xlabel(\"Distance along glacier flowline (m)\")\n",
    "elev_prof.set_ylabel(\"WGS84 Ellipsoid Height (m)\")\n",
    "\n",
    "# final_data.hist('slope_NS', bins=50)"
   ]
  },
  {
   "cell_type": "code",
   "execution_count": null,
   "metadata": {},
   "outputs": [],
   "source": []
  }
 ],
 "metadata": {
  "kernelspec": {
   "display_name": "Python [conda env:root] *",
   "language": "python",
   "name": "conda-root-py"
  },
  "language_info": {
   "codemirror_mode": {
    "name": "ipython",
    "version": 3
   },
   "file_extension": ".py",
   "mimetype": "text/x-python",
   "name": "python",
   "nbconvert_exporter": "python",
   "pygments_lexer": "ipython3",
   "version": "3.6.7"
  }
 },
 "nbformat": 4,
 "nbformat_minor": 2
}
