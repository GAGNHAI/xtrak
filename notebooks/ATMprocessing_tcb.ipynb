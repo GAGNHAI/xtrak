{
 "cells": [
  {
   "cell_type": "markdown",
   "metadata": {},
   "source": [
    "## Code to work with ATM data along the flowline of Zachariae Isstrom\n",
    "\n",
    "**by Jukes Liu**\n",
    "\n",
    "**June 2019 ICESat-2 Hackweek**\n"
   ]
  },
  {
   "cell_type": "code",
   "execution_count": 2,
   "metadata": {},
   "outputs": [],
   "source": [
    "#IMPORT PACKAGES\n",
    "import os\n",
    "import glob\n",
    "import pandas as pd\n",
    "import csv\n",
    "import numpy as np\n",
    "import math\n",
    "import matplotlib.pyplot as plt\n",
    "import pyproj"
   ]
  },
  {
   "cell_type": "markdown",
   "metadata": {},
   "source": [
    "Read in ATM elevation CSV files into dataframes and each variable into 1D numpy arrays:"
   ]
  },
  {
   "cell_type": "code",
   "execution_count": 3,
   "metadata": {},
   "outputs": [
    {
     "name": "stdout",
     "output_type": "stream",
     "text": [
      "78.909913 79.212707 -25.153278999999998 -19.318566000000033\n",
      "-1104281.872070611 -1084535.5284330987 397553.47706813517 521260.1086058897\n",
      "-19.746343637512297 -123.70663153775456\n"
     ]
    }
   ],
   "source": [
    "print(ATM_lat.min(), ATM_lat.max(),ATM_long.min()-360, ATM_long.max()-360)\n",
    "print(PS_y.min(), PS_y.max(), PS_x.min()-360, PS_x.max()-360)\n",
    "print( (PS_y.min() - PS_y.max())/1000, \n",
    "       (PS_x.min() - PS_x.max() )/1000 ) \n",
    "# print(filelist)"
   ]
  },
  {
   "cell_type": "code",
   "execution_count": 221,
   "metadata": {},
   "outputs": [
    {
     "data": {
      "text/plain": [
       "(6100, 6200)"
      ]
     },
     "execution_count": 221,
     "metadata": {},
     "output_type": "execute_result"
    },
    {
     "data": {
      "image/png": "[encoded data removed]",
      "text/plain": [
       "<Figure size 432x288 with 1 Axes>"
      ]
     },
     "metadata": {
      "needs_background": "light"
     },
     "output_type": "display_data"
    }
   ],
   "source": [
    "# For 2014\n",
    "plt.plot((ATM_long))#, PS_y)\n",
    "PS_x[6100:6200]\n",
    "# plt.plot(PS_diffs, 'o')#PS_x, PS_y)\n",
    "# PS_diffs\n",
    "plt.xlim(6100, 6200)\n",
    "# plt.ylim(510000, 530000)\n",
    "# plt.ylim(340, 341)"
   ]
  },
  {
   "cell_type": "code",
   "execution_count": 222,
   "metadata": {},
   "outputs": [
    {
     "data": {
      "text/plain": [
       "[<matplotlib.lines.Line2D at 0x1214a1e48>]"
      ]
     },
     "execution_count": 222,
     "metadata": {},
     "output_type": "execute_result"
    },
    {
     "data": {
      "image/png": "[encoded data removed]",
      "text/plain": [
       "<Figure size 432x288 with 1 Axes>"
      ]
     },
     "metadata": {
      "needs_background": "light"
     },
     "output_type": "display_data"
    }
   ],
   "source": [
    "# For 2018\n",
    "plt.plot(np.diff(ref_y))#, PS_y)\n",
    "# PS_x[6100:6200]\n",
    "# plt.plot(PS_diffs, 'o')#PS_x, PS_y)\n",
    "# PS_diffs\n",
    "# plt.xlim(6100, 6200)\n",
    "# plt.xlim(0, 10)\n",
    "# plt.ylim(510000, 530000)\n",
    "# plt.ylim(340, 341)"
   ]
  },
  {
   "cell_type": "code",
   "execution_count": 223,
   "metadata": {},
   "outputs": [
    {
     "name": "stdout",
     "output_type": "stream",
     "text": [
      "['../data/ILATM2_20180418_134800_smooth_nadir3seg_50pt.csv', '../data/ILATM2_20180418_134700_smooth_nadir3seg_50pt.csv', '../data/ILATM2_20180418_134600_smooth_nadir3seg_50pt.csv', '../data/ILATM2_20180418_134500_smooth_nadir3seg_50pt.csv', '../data/ILATM2_20180418_134400_smooth_nadir3seg_50pt.csv', '../data/ILATM2_20180418_134300_smooth_nadir3seg_50pt.csv', '../data/ILATM2_20180418_134200_smooth_nadir3seg_50pt.csv', '../data/ILATM2_20180418_134100_smooth_nadir3seg_50pt.csv', '../data/ILATM2_20180418_134000_smooth_nadir3seg_50pt.csv', '../data/ILATM2_20180418_133900_smooth_nadir3seg_50pt.csv', '../data/ILATM2_20180418_133800_smooth_nadir3seg_50pt.csv', '../data/ILATM2_20180418_133700_smooth_nadir3seg_50pt.csv', '../data/ILATM2_20180418_133600_smooth_nadir3seg_50pt.csv', '../data/ILATM2_20180418_133500_smooth_nadir3seg_50pt.csv', '../data/ILATM2_20180418_133400_smooth_nadir3seg_50pt.csv', '../data/ILATM2_20180418_133300_smooth_nadir3seg_50pt.csv']\n"
     ]
    }
   ],
   "source": [
    "#get all the relevant csv files as a list and sort in order of the flight path\n",
    "filelist = glob.glob(\"../data/*2018*.csv\")\n",
    "filelist.sort(reverse=True)\n",
    "print(filelist)\n",
    "#create an empty DataFrame to hold the stitched together ATM data along the profile\n",
    "df_total = pd.DataFrame()\n",
    "\n",
    "#for each csv file\n",
    "for file in filelist:\n",
    "    #print(file)\n",
    "    #read the csv file into a pandas DataFrame\n",
    "    csv_df = pd.read_csv(file, skiprows=9)\n",
    "    \n",
    "    #slice it to only keep Lat, Long, Ellipsoid Height\n",
    "    df_slice = csv_df.loc[:, csv_df.keys()[1]: csv_df.keys()[3]]\n",
    "    #print(df_slice)\n",
    "    \n",
    "    #concatenate (join) it to the df_total\n",
    "    df_total = pd.concat([df_slice, df_total])\n",
    "\n",
    "#check that we have all the data properly stitched together:\n",
    "#print(df_total)\n",
    "\n",
    "#Read latitude from DataFrame into 1D array\n",
    "ATM_lat = df_total.loc[:, df_total.keys()[0]].values\n",
    "#print(ATM_lat)\n",
    "\n",
    "#Read longitude from DataFrame into 1D Array\n",
    "ATM_long = df_total.loc[:, df_total.keys()[1]].values\n",
    "#print(ATM_long)\n",
    "\n",
    "#Read elevation from DataFrame into 1D Array\n",
    "ATM_elev = df_total.loc[:, df_total.keys()[2]].values\n",
    "\n",
    "#check the elevation data:\n",
    "#for i in range(len(ATM_elev)):\n",
    "    #print(i, ATM_elev[i])"
   ]
  },
  {
   "cell_type": "markdown",
   "metadata": {},
   "source": [
    "Reproject lat and long into Greenland Polar Stereo coordinates (ESPG: 3413)"
   ]
  },
  {
   "cell_type": "code",
   "execution_count": 4,
   "metadata": {},
   "outputs": [
    {
     "name": "stdout",
     "output_type": "stream",
     "text": [
      "[397913.47706814 397915.70409007 397917.94624422 ... 521563.18496156\n",
      " 521506.26241972 521554.12880888]\n",
      "[-1102425.77908309 -1102341.5766936  -1102257.36808201 ...\n",
      " -1084640.72154964 -1084535.5284331  -1084623.97262617]\n"
     ]
    }
   ],
   "source": [
    "#REPROJECT LAT LONG INTO GREENLAND POLAR STEREO(ESPG: 3413)\n",
    "\n",
    "#Coordinate transformation function written by Fernando Paolo:\n",
    "def transform_coord(proj1, proj2, x, y):\n",
    "    \"\"\"\n",
    "    Transform coordinates from proj1 to proj2 (EPSG num).\n",
    "\n",
    "    Example EPSG projs:\n",
    "        Geodetic (lon/lat): 4326\n",
    "        Polar Stereo AnIS (x/y): 3031\n",
    "        Polar Stereo GrIS (x/y): 3413\n",
    "    \"\"\"\n",
    "    # Set full EPSG projection strings\n",
    "    proj1 = pyproj.Proj(\"+init=EPSG:\"+str(proj1))\n",
    "    proj2 = pyproj.Proj(\"+init=EPSG:\"+str(proj2))\n",
    "    return pyproj.transform(proj1, proj2, x, y)  # convert\n",
    "\n",
    "#use the function to transform into Greenland Polar Stereo (PS_x, PS_y)\n",
    "PS_coords = transform_coord(4326, 3413, ATM_long, ATM_lat)\n",
    "PS_x = PS_coords[0]\n",
    "PS_y = PS_coords[1]\n",
    "print(PS_x)\n",
    "print(PS_y)"
   ]
  },
  {
   "cell_type": "markdown",
   "metadata": {},
   "source": [
    "Calculate distance along the flowline:"
   ]
  },
  {
   "cell_type": "code",
   "execution_count": 236,
   "metadata": {},
   "outputs": [
    {
     "name": "stdout",
     "output_type": "stream",
     "text": [
      "[8.00832551 8.86229366 8.85600924 8.96402787 8.00955311 8.86695983\n",
      " 8.8601262  8.96671009 8.01297909 8.87331349 8.86644076 8.96892017\n",
      " 8.01691557 8.87695656 8.87059535 8.97219046 8.01814169 8.87898767\n",
      " 8.87372689 8.97443922 8.01822854 8.8821952  8.87854444 8.97947376\n",
      " 8.02326262 8.8885837  8.88226276 8.98285914 8.02276052 8.8912002\n",
      " 8.88813856 8.98522198 8.02610578 8.89436523 8.89185353 8.98919531\n",
      " 8.03106178 8.90023895 8.89662869 8.99312956 8.03110822 8.90226372\n",
      " 8.89869249 8.99541459 8.03056592 8.90640976 8.90338866 8.99663865\n",
      " 8.03379506]\n",
      "[ 2.22702194  2.24215415 -1.74318301 31.95560841  2.22363867  2.21954405\n",
      " -1.71689507 31.91719862  2.22026391  2.159839   -1.63428907 31.93652114\n",
      "  2.19765221  2.15647663 -1.62590782 31.99296276  2.13793672  2.15174703\n",
      " -1.58044743 32.05217188  2.11395187  2.07280457 -1.55424438 32.01381087\n",
      "  2.12983333  2.14368255 -1.60229299 32.20635417  2.01102545  2.0070267\n",
      " -1.48266793 32.15151015  2.04478767  2.00368484 -1.45788878 32.11590714\n",
      "  2.02219947  2.0374691  -1.45100836 32.23287404  1.98036701  2.01354118\n",
      " -1.4633865  32.33196792  1.91929348  1.95249012 -1.38363973 32.29908677\n",
      "  1.93383437]\n"
     ]
    },
    {
     "data": {
      "text/plain": [
       "array([  0.        ,   8.46916488,  17.72901511,  26.99313587,\n",
       "        36.08203348,  44.55582923,  53.81671667,  63.08135886,\n",
       "        72.17146481,  80.6522397 ,  89.91467057,  99.18172216,\n",
       "       108.27363759, 116.7608556 , 126.02159573, 135.28827479,\n",
       "       144.38256649, 152.87444373, 162.13120924, 171.39476064])"
      ]
     },
     "execution_count": 236,
     "metadata": {},
     "output_type": "execute_result"
    }
   ],
   "source": [
    "print(np.diff(ref_x[0:50]))\n",
    "print(np.diff(PS_x[0:50]))\n",
    "dist_along[0:20]\n",
    "# np.diff(ATM_long[0:2])"
   ]
  },
  {
   "cell_type": "code",
   "execution_count": 231,
   "metadata": {},
   "outputs": [],
   "source": [
    "x = np.array([1, 2, 3, 4, 5, 6, 7, 9, 6, 5, 4, 2, 0, 1])\n",
    "N_smooth = 35\n",
    "# ref_x = np.convolve(x, np.ones((N_smooth,))/N_smooth, mode='same')\n",
    "ref_x = np.convolve(PS_x, np.ones((N_smooth,))/N_smooth, mode='same')\n",
    "ref_y = np.convolve(PS_y, np.ones((N_smooth,))/N_smooth, mode='same')\n",
    "trim_factor = np.floor(N_smooth/2).astype('int')\n",
    "\n",
    "ref_elev = ATM_elev[trim_factor:-trim_factor]\n",
    "ref_x = ref_x[trim_factor:-trim_factor]\n",
    "ref_y = ref_y[trim_factor:-trim_factor]\n",
    "\n",
    "# x = x[trim_factor:-trim_factor]\n"
   ]
  },
  {
   "cell_type": "code",
   "execution_count": 232,
   "metadata": {},
   "outputs": [
    {
     "data": {
      "text/plain": [
       "array([1, 2, 3, 4, 5, 6, 7, 9, 6, 5, 4, 2, 0, 1])"
      ]
     },
     "execution_count": 232,
     "metadata": {},
     "output_type": "execute_result"
    }
   ],
   "source": [
    "trim_factor\n",
    "x"
   ]
  },
  {
   "cell_type": "code",
   "execution_count": 233,
   "metadata": {},
   "outputs": [
    {
     "name": "stdout",
     "output_type": "stream",
     "text": [
      "[-1102425.77908309 -1102341.5766936  -1102257.36808201 ...\n",
      " -1084640.72154964 -1084535.5284331  -1084623.97262617]\n",
      "[-1102341.76159408 -1102339.00596777 -1102341.69010215 -1102344.40948329\n",
      " -1102342.90806261 -1102340.14178832 -1102342.81406444 -1102345.52178647\n",
      " -1102344.02909219 -1102341.25137571 -1102343.90786464 -1102346.60313334\n",
      " -1102345.11269808 -1102342.32667329 -1102344.96503453 -1102347.64531045\n",
      " -1102346.16006979 -1102343.36339627 -1102345.98089236 -1102348.63990639]\n"
     ]
    }
   ],
   "source": [
    "print(PS_y)\n",
    "print(ref_y[0:20])"
   ]
  },
  {
   "cell_type": "code",
   "execution_count": 234,
   "metadata": {},
   "outputs": [
    {
     "name": "stdout",
     "output_type": "stream",
     "text": [
      "[0.00000000e+00 9.14131320e+01 1.82805733e+02 ... 1.78796151e+06\n",
      " 1.78804598e+06 1.78815931e+06] [ 30.1881  31.838   36.1526 ... 883.4576 884.1959 883.1842]\n"
     ]
    }
   ],
   "source": [
    "#create an empty array to contain the distance along flow \n",
    "# dist_along = np.empty(len(ATM_lat), dtype=float)\n",
    "\n",
    "# PS_diffs = np.sqrt( np.diff(PS_x)**2 + np.diff(PS_y)**2 ) # m\n",
    "PS_diffs = np.sqrt( np.diff(ref_x)**2 + np.diff(ref_y)**2 ) # m\n",
    "dist_along = np.cumsum(PS_diffs)\n",
    "dist_along = np.append(0, dist_along)\n",
    "\n",
    "# #for each lat-long point:\n",
    "# for i in range(len(ATM_lat)):\n",
    "#     #for the first point, set distance along flow to 0 m\n",
    "#     if i == 0:\n",
    "#         dist_along[i] = 0.0\n",
    "    \n",
    "#     #for all other subsequent points:\n",
    "#     else:\n",
    "#         #calculate distance from the last point\n",
    "#         #in North PS, no conversion needed\n",
    "#         x_diff = PS_x[i] - PS_x[i-1]\n",
    "#         y_diff = PS_y[i] - PS_y[i-1]\n",
    "#         #print(x_diff, y_diff)\n",
    "                \n",
    "#         #calculate distance from the previous point using the distance formula:    \n",
    "#         #in km using PS\n",
    "#         dist_last = math.sqrt(((x_diff/1000)**2)+((y_diff/1000)**2))\n",
    "#         #print(dist_last)\n",
    "        \n",
    "#         #add it to the previous distance along the track to get the cumulative distance\n",
    "#         dist_along[i] = dist_last + dist_along[i-1]\n",
    "\n",
    "#     #check the array of distance along the track in meters:\n",
    "print(dist_along, ATM_elev)"
   ]
  },
  {
   "cell_type": "markdown",
   "metadata": {},
   "source": [
    "Plot the elevation profile along the flowline:"
   ]
  },
  {
   "cell_type": "code",
   "execution_count": 8,
   "metadata": {},
   "outputs": [
    {
     "data": {
      "image/png": "[encoded data removed]",
      "text/plain": [
       "<Figure size 432x288 with 1 Axes>"
      ]
     },
     "metadata": {
      "needs_background": "light"
     },
     "output_type": "display_data"
    }
   ],
   "source": [
    "# %matplotlib widget\n",
    "\n",
    "# plt.plot(dist_along/1000, ATM_elev)\n",
    "plt.plot(dist_along/1000, ref_elev)\n",
    "plt.ylabel('Elevation (m)')\n",
    "plt.xlabel('distance along flow (km)')\n",
    "plt.title('Elevation along flowline of Zachariae Isstrom')\n",
    "plt.show()"
   ]
  },
  {
   "cell_type": "markdown",
   "metadata": {},
   "source": [
    "Plot the horizontal footprint with elevation color coded:"
   ]
  },
  {
   "cell_type": "code",
   "execution_count": 412,
   "metadata": {},
   "outputs": [
    {
     "data": {
      "application/vnd.jupyter.widget-view+json": {
       "model_id": "d13b9b4d4849455f8fa039aaacca3535",
       "version_major": 2,
       "version_minor": 0
      },
      "text/plain": [
       "FigureCanvasNbAgg()"
      ]
     },
     "metadata": {},
     "output_type": "display_data"
    }
   ],
   "source": [
    "%matplotlib widget\n",
    "\n",
    "plt.scatter(ATM_long, ATM_lat, c=ATM_elev,cmap='plasma')\n",
    "plt.ylabel('Latitude (deg)')\n",
    "plt.xlabel('Longitude (deg)')\n",
    "plt.title('ATM flyover along Zachariae Isstrom')\n",
    "plt.colorbar(fraction=0.0320, pad=0.02, label='Elevation (m)')\n",
    "plt.show()"
   ]
  },
  {
   "cell_type": "markdown",
   "metadata": {},
   "source": [
    "Final data extracted into arrays:\n",
    "+ ATM_long: longitude of elev points\n",
    "+ ATM_lat: latitude of elev points\n",
    "+ PS_x: x-coords of elev points in Greenland Polar Stereo\n",
    "+ PS_y: y-coords of elev points in Greenland Polar Stereo\n",
    "+ ATM_elev: elevation points with z in meters\n",
    "+ dist_along: distance along the flowline in km\n",
    "\n",
    "...and recombined into a dataframe:"
   ]
  },
  {
   "cell_type": "code",
   "execution_count": 410,
   "metadata": {},
   "outputs": [
    {
     "name": "stdout",
     "output_type": "stream",
     "text": [
      "     ATM_long    ATM_lat           PS_x          PS_y  ATM_elev  dist_along\n",
      "0  334.846721  79.211271  397913.477068 -1.102426e+06  891.4235    0.000000\n",
      "1  334.848221  79.211989  397915.704090 -1.102342e+06  891.6056    0.084232\n",
      "2  334.849722  79.212707  397917.946244 -1.102257e+06  891.7156    0.168470\n",
      "3  334.848567  79.212155  397916.203061 -1.102322e+06  891.6397    0.233241\n",
      "4  334.848296  79.211153  397948.158670 -1.102427e+06  891.1921    0.342854\n"
     ]
    }
   ],
   "source": [
    "variables = [ATM_long, ATM_lat, PS_x, PS_y, ATM_elev, dist_along]\n",
    "indices = ['ATM_long', \"ATM_lat\", \"PS_x\", \"PS_y\", \"ATM_elev\", \"dist_along\"]\n",
    "\n",
    "#create DataFrame from these variables\n",
    "final_data = pd.DataFrame(variables)\n",
    "final_data = final_data.transpose()\n",
    "final_data.columns = indices\n",
    "print(final_data.head())"
   ]
  },
  {
   "cell_type": "code",
   "execution_count": 10,
   "metadata": {},
   "outputs": [],
   "source": [
    "final_data.to_csv('atmZach04_18_19.csv',index=False)"
   ]
  }
 ],
 "metadata": {
  "kernelspec": {
   "display_name": "Python [conda env:spatialenv_yml]",
   "language": "python",
   "name": "conda-env-spatialenv_yml-py"
  },
  "language_info": {
   "codemirror_mode": {
    "name": "ipython",
    "version": 3
   },
   "file_extension": ".py",
   "mimetype": "text/x-python",
   "name": "python",
   "nbconvert_exporter": "python",
   "pygments_lexer": "ipython3",
   "version": "3.7.0"
  }
 },
 "nbformat": 4,
 "nbformat_minor": 2
}
