{
 "cells": [
  {
   "cell_type": "markdown",
   "metadata": {},
   "source": [
    "## Code to work with ATM data along the flowline of Zachariae Isstrom\n",
    "\n",
    "**by Jukes Liu**\n",
    "\n",
    "**June 2019 ICESat-2 Hackweek**\n"
   ]
  },
  {
   "cell_type": "code",
   "execution_count": 1,
   "metadata": {},
   "outputs": [],
   "source": [
    "#IMPORT PACKAGES\n",
    "import os\n",
    "import glob\n",
    "import pandas as pd\n",
    "import csv\n",
    "import numpy as np\n",
    "import math\n",
    "import matplotlib.pyplot as plt\n",
    "import pyproj"
   ]
  },
  {
   "cell_type": "markdown",
   "metadata": {},
   "source": [
    "Read in ATM elevation CSV files into dataframes and each variable into 1D numpy arrays:"
   ]
  },
  {
   "cell_type": "code",
   "execution_count": 2,
   "metadata": {},
   "outputs": [
    {
     "name": "stdout",
     "output_type": "stream",
     "text": [
      "['../data/ILATM2_20180418_134800_smooth_nadir3seg_50pt.csv', '../data/ILATM2_20180418_134700_smooth_nadir3seg_50pt.csv', '../data/ILATM2_20180418_134600_smooth_nadir3seg_50pt.csv', '../data/ILATM2_20180418_134500_smooth_nadir3seg_50pt.csv', '../data/ILATM2_20180418_134400_smooth_nadir3seg_50pt.csv', '../data/ILATM2_20180418_134300_smooth_nadir3seg_50pt.csv', '../data/ILATM2_20180418_134200_smooth_nadir3seg_50pt.csv', '../data/ILATM2_20180418_134100_smooth_nadir3seg_50pt.csv', '../data/ILATM2_20180418_134000_smooth_nadir3seg_50pt.csv', '../data/ILATM2_20180418_133900_smooth_nadir3seg_50pt.csv', '../data/ILATM2_20180418_133800_smooth_nadir3seg_50pt.csv', '../data/ILATM2_20180418_133700_smooth_nadir3seg_50pt.csv', '../data/ILATM2_20180418_133600_smooth_nadir3seg_50pt.csv', '../data/ILATM2_20180418_133500_smooth_nadir3seg_50pt.csv', '../data/ILATM2_20180418_133400_smooth_nadir3seg_50pt.csv', '../data/ILATM2_20180418_133300_smooth_nadir3seg_50pt.csv']\n"
     ]
    }
   ],
   "source": [
    "#get all the relevant csv files as a list and sort in order of the flight path\n",
    "filelist = glob.glob(\"../data/*2018*.csv\")\n",
    "filelist.sort(reverse=True)\n",
    "print(filelist)\n",
    "#create an empty DataFrame to hold the stitched together ATM data along the profile\n",
    "df_total = pd.DataFrame()\n",
    "\n",
    "#for each csv file\n",
    "for file in filelist:\n",
    "    #print(file)\n",
    "    #read the csv file into a pandas DataFrame\n",
    "    csv_df = pd.read_csv(file, skiprows=9)\n",
    "    \n",
    "    #slice it to only keep Lat, Long, Ellipsoid Height\n",
    "    df_slice = csv_df.loc[:, csv_df.keys()[1]: csv_df.keys()[3]]\n",
    "    #print(df_slice)\n",
    "    \n",
    "    #concatenate (join) it to the df_total\n",
    "    df_total = pd.concat([df_slice, df_total])\n",
    "\n",
    "#check that we have all the data properly stitched together:\n",
    "#print(df_total)\n",
    "\n",
    "#Read latitude from DataFrame into 1D array\n",
    "ATM_lat = df_total.loc[:, df_total.keys()[0]].values\n",
    "#print(ATM_lat)\n",
    "\n",
    "#Read longitude from DataFrame into 1D Array\n",
    "ATM_long = df_total.loc[:, df_total.keys()[1]].values\n",
    "#print(ATM_long)\n",
    "\n",
    "#Read elevation from DataFrame into 1D Array\n",
    "ATM_elev = df_total.loc[:, df_total.keys()[2]].values\n",
    "\n",
    "#check the elevation data:\n",
    "#for i in range(len(ATM_elev)):\n",
    "    #print(i, ATM_elev[i])"
   ]
  },
  {
   "cell_type": "markdown",
   "metadata": {},
   "source": [
    "Reproject lat and long into Greenland Polar Stereo coordinates (ESPG: 3413)"
   ]
  },
  {
   "cell_type": "code",
   "execution_count": 3,
   "metadata": {},
   "outputs": [
    {
     "name": "stdout",
     "output_type": "stream",
     "text": [
      "[397913.47706814 397915.70409007 397917.94624422 ... 521563.18496156\n",
      " 521506.26241972 521554.12880888]\n",
      "[-1102425.77908309 -1102341.5766936  -1102257.36808201 ...\n",
      " -1084640.72154964 -1084535.5284331  -1084623.97262617]\n"
     ]
    }
   ],
   "source": [
    "#REPROJECT LAT LONG INTO GREENLAND POLAR STEREO(ESPG: 3413)\n",
    "\n",
    "#Coordinate transformation function written by Fernando Paolo:\n",
    "def transform_coord(proj1, proj2, x, y):\n",
    "    \"\"\"\n",
    "    Transform coordinates from proj1 to proj2 (EPSG num).\n",
    "\n",
    "    Example EPSG projs:\n",
    "        Geodetic (lon/lat): 4326\n",
    "        Polar Stereo AnIS (x/y): 3031\n",
    "        Polar Stereo GrIS (x/y): 3413\n",
    "    \"\"\"\n",
    "    # Set full EPSG projection strings\n",
    "    proj1 = pyproj.Proj(\"+init=EPSG:\"+str(proj1))\n",
    "    proj2 = pyproj.Proj(\"+init=EPSG:\"+str(proj2))\n",
    "    return pyproj.transform(proj1, proj2, x, y)  # convert\n",
    "\n",
    "#use the function to transform into Greenland Polar Stereo (PS_x, PS_y)\n",
    "PS_coords = transform_coord(4326, 3413, ATM_long, ATM_lat)\n",
    "PS_x = PS_coords[0]\n",
    "PS_y = PS_coords[1]\n",
    "print(PS_x)\n",
    "print(PS_y)"
   ]
  },
  {
   "cell_type": "code",
   "execution_count": null,
   "metadata": {},
   "outputs": [],
   "source": [
    "print(ATM_lat.min(), ATM_lat.max(),ATM_long.min()-360, ATM_long.max()-360)\n",
    "print(PS_y.min(), PS_y.max(), PS_x.min()-360, PS_x.max()-360)\n",
    "print( (PS_y.min() - PS_y.max())/1000, \n",
    "       (PS_x.min() - PS_x.max() )/1000 ) \n",
    "# print(filelist)"
   ]
  },
  {
   "cell_type": "code",
   "execution_count": 14,
   "metadata": {},
   "outputs": [],
   "source": [
    "x = np.array([1, 2, 3, 4, 5, 6, 7, 9, 6, 5, 4, 2, 0, 1])\n",
    "N_smooth = 251 # Number of points to use in a running average\n",
    "# ref_x = np.convolve(x, np.ones((N_smooth,))/N_smooth, mode='same')\n",
    "ref_x = np.convolve(PS_x, np.ones((N_smooth,))/N_smooth, mode='same')\n",
    "ref_y = np.convolve(PS_y, np.ones((N_smooth,))/N_smooth, mode='same')\n",
    "trim_factor = np.floor(N_smooth/2).astype('int')\n",
    "\n",
    "ref_elev = ATM_elev[trim_factor:-trim_factor]\n",
    "ref_x = ref_x[trim_factor:-trim_factor]\n",
    "ref_y = ref_y[trim_factor:-trim_factor]\n",
    "\n",
    "# x = x[trim_factor:-trim_factor]\n"
   ]
  },
  {
   "cell_type": "code",
   "execution_count": null,
   "metadata": {},
   "outputs": [],
   "source": [
    "# For 2014\n",
    "plt.plot((ATM_long))#, PS_y)\n",
    "PS_x[6100:6200]\n",
    "# plt.plot(PS_diffs, 'o')#PS_x, PS_y)\n",
    "# PS_diffs\n",
    "plt.xlim(6100, 6200)\n",
    "# plt.ylim(510000, 530000)\n",
    "# plt.ylim(340, 341)"
   ]
  },
  {
   "cell_type": "markdown",
   "metadata": {},
   "source": [
    "## Look at the difference along track, between consecutive ATM points\n",
    "Even with a 251 point running average, there's still too much back and forth wander in the points.  But it's much much better"
   ]
  },
  {
   "cell_type": "code",
   "execution_count": 22,
   "metadata": {},
   "outputs": [
    {
     "data": {
      "image/png": "[encoded data removed]",
      "text/plain": [
       "<Figure size 432x288 with 2 Axes>"
      ]
     },
     "metadata": {
      "needs_background": "light"
     },
     "output_type": "display_data"
    }
   ],
   "source": [
    "# For 2018\n",
    "# Comment just this following line, with PS_y to see this\n",
    "fig, ax = plt.subplots(2, sharex=True)\n",
    "ax[0].plot(np.diff(PS_y))#, PS_y)\n",
    "# plt.plot(np.diff(PS_y))#, PS_y)\n",
    "ax[0].plot(np.diff(ref_y))#, PS_y)\n",
    "ax[0].set_title('Differences between adjacent pixels unsmoothed, and smoothed');\n",
    "ax[1].plot(np.diff(ref_y), color='C1')#, PS_y)\n",
    "ax[1].set_title('Differences between adjacent pixels, just smoothed');\n",
    "\n",
    "\n",
    "# PS_x[6100:6200]\n",
    "# plt.plot(PS_diffs, 'o')#PS_x, PS_y)\n",
    "# PS_diffs\n",
    "# plt.xlim(6100, 6200)\n",
    "ax[0].set_xlim(6800, 8000)\n",
    "# plt.ylim(510000, 530000)\n",
    "# plt.ylim(340, 341)\n",
    "plt.tight_layout()"
   ]
  },
  {
   "cell_type": "markdown",
   "metadata": {},
   "source": [
    "Calculate distance along the flowline:"
   ]
  },
  {
   "cell_type": "code",
   "execution_count": null,
   "metadata": {},
   "outputs": [],
   "source": [
    "print(np.diff(ref_x[0:50]))\n",
    "print(np.diff(PS_x[0:50]))\n",
    "dist_along[0:20]\n",
    "# np.diff(ATM_long[0:2])"
   ]
  },
  {
   "cell_type": "code",
   "execution_count": null,
   "metadata": {},
   "outputs": [],
   "source": [
    "trim_factor\n",
    "x"
   ]
  },
  {
   "cell_type": "code",
   "execution_count": null,
   "metadata": {},
   "outputs": [],
   "source": [
    "print(PS_y)\n",
    "print(ref_y[0:20])"
   ]
  },
  {
   "cell_type": "markdown",
   "metadata": {},
   "source": [
    "#### Tim replaced most of this cell with the lines below that do the same thing"
   ]
  },
  {
   "cell_type": "code",
   "execution_count": 23,
   "metadata": {},
   "outputs": [
    {
     "name": "stdout",
     "output_type": "stream",
     "text": [
      "[0.00000000e+00 8.62781793e+00 1.73882777e+01 ... 1.25789313e+05\n",
      " 1.25797268e+05 1.25805122e+05] [891.4235 891.6056 891.7156 ...  28.7702  28.7218  28.7838]\n"
     ]
    }
   ],
   "source": [
    "#create an empty array to contain the distance along flow \n",
    "# dist_along = np.empty(len(ATM_lat), dtype=float)\n",
    "\n",
    "# PS_diffs = np.sqrt( np.diff(PS_x)**2 + np.diff(PS_y)**2 ) # m\n",
    "PS_diffs = np.sqrt( np.diff(ref_x)**2 + np.diff(ref_y)**2 ) # m\n",
    "dist_along = np.cumsum(PS_diffs)\n",
    "dist_along = np.append(0, dist_along)\n",
    "\n",
    "# #for each lat-long point:\n",
    "# for i in range(len(ATM_lat)):\n",
    "#     #for the first point, set distance along flow to 0 m\n",
    "#     if i == 0:\n",
    "#         dist_along[i] = 0.0\n",
    "    \n",
    "#     #for all other subsequent points:\n",
    "#     else:\n",
    "#         #calculate distance from the last point\n",
    "#         #in North PS, no conversion needed\n",
    "#         x_diff = PS_x[i] - PS_x[i-1]\n",
    "#         y_diff = PS_y[i] - PS_y[i-1]\n",
    "#         #print(x_diff, y_diff)\n",
    "                \n",
    "#         #calculate distance from the previous point using the distance formula:    \n",
    "#         #in km using PS\n",
    "#         dist_last = math.sqrt(((x_diff/1000)**2)+((y_diff/1000)**2))\n",
    "#         #print(dist_last)\n",
    "        \n",
    "#         #add it to the previous distance along the track to get the cumulative distance\n",
    "#         dist_along[i] = dist_last + dist_along[i-1]\n",
    "\n",
    "#     #check the array of distance along the track in meters:\n",
    "print(dist_along, ATM_elev)"
   ]
  },
  {
   "cell_type": "markdown",
   "metadata": {},
   "source": [
    "Plot the elevation profile along the flowline:"
   ]
  },
  {
   "cell_type": "code",
   "execution_count": 24,
   "metadata": {},
   "outputs": [
    {
     "data": {
      "image/png": "[encoded data removed]",
      "text/plain": [
       "<Figure size 432x288 with 1 Axes>"
      ]
     },
     "metadata": {
      "needs_background": "light"
     },
     "output_type": "display_data"
    }
   ],
   "source": [
    "# %matplotlib widget\n",
    "\n",
    "# plt.plot(dist_along/1000, ATM_elev)\n",
    "plt.plot(dist_along/1000, ref_elev)\n",
    "plt.ylabel('Elevation (m)')\n",
    "plt.xlabel('distance along flow (km)')\n",
    "plt.title('Elevation along flowline of Zachariae Isstrom')\n",
    "plt.show()"
   ]
  },
  {
   "cell_type": "markdown",
   "metadata": {},
   "source": [
    "Plot the horizontal footprint with elevation color coded:"
   ]
  },
  {
   "cell_type": "code",
   "execution_count": 25,
   "metadata": {},
   "outputs": [
    {
     "data": {
      "image/png": "[encoded data removed]",
      "text/plain": [
       "<Figure size 432x288 with 2 Axes>"
      ]
     },
     "metadata": {
      "needs_background": "light"
     },
     "output_type": "display_data"
    }
   ],
   "source": [
    "# %matplotlib widget\n",
    "\n",
    "plt.scatter(ATM_long, ATM_lat, c=ATM_elev,cmap='plasma')\n",
    "plt.ylabel('Latitude (deg)')\n",
    "plt.xlabel('Longitude (deg)')\n",
    "plt.title('ATM flyover along Zachariae Isstrom')\n",
    "plt.colorbar(fraction=0.0320, pad=0.02, label='Elevation (m)')\n",
    "plt.show()"
   ]
  },
  {
   "cell_type": "markdown",
   "metadata": {},
   "source": [
    "Final data extracted into arrays:\n",
    "+ ATM_long: longitude of elev points\n",
    "+ ATM_lat: latitude of elev points\n",
    "+ PS_x: x-coords of elev points in Greenland Polar Stereo\n",
    "+ PS_y: y-coords of elev points in Greenland Polar Stereo\n",
    "+ ATM_elev: elevation points with z in meters\n",
    "+ dist_along: distance along the flowline in km\n",
    "\n",
    "...and recombined into a dataframe:"
   ]
  },
  {
   "cell_type": "code",
   "execution_count": null,
   "metadata": {},
   "outputs": [],
   "source": [
    "variables = [ATM_long, ATM_lat, PS_x, PS_y, ATM_elev, dist_along]\n",
    "indices = ['ATM_long', \"ATM_lat\", \"PS_x\", \"PS_y\", \"ATM_elev\", \"dist_along\"]\n",
    "\n",
    "#create DataFrame from these variables\n",
    "final_data = pd.DataFrame(variables)\n",
    "final_data = final_data.transpose()\n",
    "final_data.columns = indices\n",
    "print(final_data.head())"
   ]
  },
  {
   "cell_type": "code",
   "execution_count": null,
   "metadata": {},
   "outputs": [],
   "source": [
    "final_data.to_csv('atmZach04_18_19.csv',index=False)"
   ]
  }
 ],
 "metadata": {
  "kernelspec": {
   "display_name": "Python 3",
   "language": "python",
   "name": "python3"
  },
  "language_info": {
   "codemirror_mode": {
    "name": "ipython",
    "version": 3
   },
   "file_extension": ".py",
   "mimetype": "text/x-python",
   "name": "python",
   "nbconvert_exporter": "python",
   "pygments_lexer": "ipython3",
   "version": "3.6.7"
  }
 },
 "nbformat": 4,
 "nbformat_minor": 2
}
