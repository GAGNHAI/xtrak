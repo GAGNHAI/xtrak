{
 "cells": [
  {
   "cell_type": "markdown",
   "metadata": {},
   "source": [
    "## Code to work with ATM data along the flowline of Zachariae Isstrom\n",
    "\n",
    "**by Jukes Liu**\n",
    "\n",
    "**June 2019 ICESat-2 Hackweek**\n"
   ]
  },
  {
   "cell_type": "code",
   "execution_count": 2,
   "metadata": {},
   "outputs": [],
   "source": [
    "#IMPORT PACKAGES\n",
    "import os\n",
    "import glob\n",
    "import pandas as pd\n",
    "import csv\n",
    "import numpy as np\n",
    "import math\n",
    "import matplotlib.pyplot as plt\n",
    "import pyproj"
   ]
  },
  {
   "cell_type": "markdown",
   "metadata": {},
   "source": [
    "Read in ATM elevation CSV files into dataframes and each variable into 1D numpy arrays:"
   ]
  },
  {
   "cell_type": "code",
   "execution_count": 3,
   "metadata": {},
   "outputs": [],
   "source": [
    "#get all the relevant csv files as a list and sort in order of the flight path\n",
    "filelist = glob.glob(\"/home/jovyan/xtrak/data/*2014*.csv\")\n",
    "filelist.sort(reverse=True)\n",
    "\n",
    "#create an empty DataFrame to hold the stitched together ATM data along the profile\n",
    "df_total = pd.DataFrame()\n",
    "\n",
    "#for each csv file\n",
    "for file in filelist:\n",
    "    #print(file)\n",
    "    #read the csv file into a pandas DataFrame\n",
    "    csv_df = pd.read_csv(file, skiprows=9)\n",
    "    \n",
    "    #slice it to only keep Lat, Long, Ellipsoid Height\n",
    "    df_slice = csv_df.loc[:, csv_df.keys()[1]: csv_df.keys()[3]]\n",
    "    #print(df_slice)\n",
    "    \n",
    "    #concatenate (join) it to the df_total\n",
    "    df_total = pd.concat([df_slice, df_total])\n",
    "\n",
    "#check that we have all the data properly stitched together:\n",
    "#print(df_total)\n",
    "\n",
    "#Read latitude from DataFrame into 1D array\n",
    "ATM_lat = df_total.loc[:, df_total.keys()[0]].values\n",
    "#print(ATM_lat)\n",
    "\n",
    "#Read longitude from DataFrame into 1D Array\n",
    "ATM_long = df_total.loc[:, df_total.keys()[1]].values\n",
    "#print(ATM_long)\n",
    "\n",
    "#Read elevation from DataFrame into 1D Array\n",
    "ATM_elev = df_total.loc[:, df_total.keys()[2]].values\n",
    "\n",
    "#check the elevation data:\n",
    "#for i in range(len(ATM_elev)):\n",
    "    #print(i, ATM_elev[i])"
   ]
  },
  {
   "cell_type": "markdown",
   "metadata": {},
   "source": [
    "Reproject lat and long into Greenland Polar Stereo coordinates (ESPG: 3413)"
   ]
  },
  {
   "cell_type": "code",
   "execution_count": 4,
   "metadata": {},
   "outputs": [
    {
     "name": "stdout",
     "output_type": "stream",
     "text": [
      "[527241.42899779 527322.73901087 527404.02742866 ... 415943.38866303\n",
      " 415940.6177958  415944.31738589]\n",
      "[-1047818.92012011 -1047777.14641456 -1047735.37560448 ...\n",
      " -1102901.19281485 -1102985.61634593 -1102872.34885821]\n"
     ]
    }
   ],
   "source": [
    "#REPROJECT LAT LONG INTO GREENLAND POLAR STEREO(ESPG: 3413)\n",
    "\n",
    "#Coordinate transformation function written by Fernando Paolo:\n",
    "def transform_coord(proj1, proj2, x, y):\n",
    "    \"\"\"\n",
    "    Transform coordinates from proj1 to proj2 (EPSG num).\n",
    "\n",
    "    Example EPSG projs:\n",
    "        Geodetic (lon/lat): 4326\n",
    "        Polar Stereo AnIS (x/y): 3031\n",
    "        Polar Stereo GrIS (x/y): 3413\n",
    "    \"\"\"\n",
    "    # Set full EPSG projection strings\n",
    "    proj1 = pyproj.Proj(\"+init=EPSG:\"+str(proj1))\n",
    "    proj2 = pyproj.Proj(\"+init=EPSG:\"+str(proj2))\n",
    "    return pyproj.transform(proj1, proj2, x, y)  # convert\n",
    "\n",
    "#use the function to transform into Greenland Polar Stereo (PS_x, PS_y)\n",
    "PS_coords = transform_coord(4326, 3413, ATM_long, ATM_lat)\n",
    "PS_x = PS_coords[0]\n",
    "PS_y = PS_coords[1]\n",
    "print(PS_x)\n",
    "print(PS_y)"
   ]
  },
  {
   "cell_type": "markdown",
   "metadata": {},
   "source": [
    "Calculate distance along the flowline:"
   ]
  },
  {
   "cell_type": "code",
   "execution_count": 7,
   "metadata": {},
   "outputs": [
    {
     "name": "stdout",
     "output_type": "stream",
     "text": [
      "[0.00000000e+00 9.14131320e+01 1.82805733e+02 ... 1.78796151e+06\n",
      " 1.78804598e+06 1.78815931e+06] [ 30.1881  31.838   36.1526 ... 883.4576 884.1959 883.1842]\n"
     ]
    }
   ],
   "source": [
    "#create an empty array to contain the distance along flow \n",
    "dist_along = np.empty(len(ATM_lat), dtype=float)\n",
    "\n",
    "PS_diffs = np.sqrt( np.diff(PS_x)**2 + np.diff(PS_y)**2 )\n",
    "dist_along = np.cumsum(PS_diffs)\n",
    "dist_along = np.append(0, dist_along)\n",
    "\n",
    "# #for each lat-long point:\n",
    "# for i in range(len(ATM_lat)):\n",
    "#     #for the first point, set distance along flow to 0 m\n",
    "#     if i == 0:\n",
    "#         dist_along[i] = 0.0\n",
    "    \n",
    "#     #for all other subsequent points:\n",
    "#     else:\n",
    "#         #calculate distance from the last point\n",
    "#         #in North PS, no conversion needed\n",
    "#         x_diff = PS_x[i] - PS_x[i-1]\n",
    "#         y_diff = PS_y[i] - PS_y[i-1]\n",
    "#         #print(x_diff, y_diff)\n",
    "                \n",
    "#         #calculate distance from the previous point using the distance formula:    \n",
    "#         #in km using PS\n",
    "#         dist_last = math.sqrt(((x_diff/1000)**2)+((y_diff/1000)**2))\n",
    "#         #print(dist_last)\n",
    "        \n",
    "#         #add it to the previous distance along the track to get the cumulative distance\n",
    "#         dist_along[i] = dist_last + dist_along[i-1]\n",
    "\n",
    "#     #check the array of distance along the track in meters:\n",
    "print(dist_along, ATM_elev)"
   ]
  },
  {
   "cell_type": "markdown",
   "metadata": {},
   "source": [
    "Plot the elevation profile along the flowline:"
   ]
  },
  {
   "cell_type": "code",
   "execution_count": 8,
   "metadata": {},
   "outputs": [
    {
     "data": {
      "application/vnd.jupyter.widget-view+json": {
       "model_id": "ebdce1d61082420ea213faffd42f31b0",
       "version_major": 2,
       "version_minor": 0
      },
      "text/plain": [
       "FigureCanvasNbAgg()"
      ]
     },
     "metadata": {},
     "output_type": "display_data"
    }
   ],
   "source": [
    "%matplotlib widget\n",
    "\n",
    "plt.plot(dist_along, ATM_elev)\n",
    "plt.ylabel('Elevation (m)')\n",
    "plt.xlabel('distance along flow (km)')\n",
    "plt.title('Elevation along flowline of Zachariae Isstrom')\n",
    "plt.show()"
   ]
  },
  {
   "cell_type": "markdown",
   "metadata": {},
   "source": [
    "Plot the horizontal footprint with elevation color coded:"
   ]
  },
  {
   "cell_type": "code",
   "execution_count": 412,
   "metadata": {},
   "outputs": [
    {
     "data": {
      "application/vnd.jupyter.widget-view+json": {
       "model_id": "d13b9b4d4849455f8fa039aaacca3535",
       "version_major": 2,
       "version_minor": 0
      },
      "text/plain": [
       "FigureCanvasNbAgg()"
      ]
     },
     "metadata": {},
     "output_type": "display_data"
    }
   ],
   "source": [
    "%matplotlib widget\n",
    "\n",
    "plt.scatter(ATM_long, ATM_lat, c=ATM_elev,cmap='plasma')\n",
    "plt.ylabel('Latitude (deg)')\n",
    "plt.xlabel('Longitude (deg)')\n",
    "plt.title('ATM flyover along Zachariae Isstrom')\n",
    "plt.colorbar(fraction=0.0320, pad=0.02, label='Elevation (m)')\n",
    "plt.show()"
   ]
  },
  {
   "cell_type": "markdown",
   "metadata": {},
   "source": [
    "Final data extracted into arrays:\n",
    "+ ATM_long: longitude of elev points\n",
    "+ ATM_lat: latitude of elev points\n",
    "+ PS_x: x-coords of elev points in Greenland Polar Stereo\n",
    "+ PS_y: y-coords of elev points in Greenland Polar Stereo\n",
    "+ ATM_elev: elevation points with z in meters\n",
    "+ dist_along: distance along the flowline in km\n",
    "\n",
    "...and recombined into a dataframe:"
   ]
  },
  {
   "cell_type": "code",
   "execution_count": 410,
   "metadata": {},
   "outputs": [
    {
     "name": "stdout",
     "output_type": "stream",
     "text": [
      "     ATM_long    ATM_lat           PS_x          PS_y  ATM_elev  dist_along\n",
      "0  334.846721  79.211271  397913.477068 -1.102426e+06  891.4235    0.000000\n",
      "1  334.848221  79.211989  397915.704090 -1.102342e+06  891.6056    0.084232\n",
      "2  334.849722  79.212707  397917.946244 -1.102257e+06  891.7156    0.168470\n",
      "3  334.848567  79.212155  397916.203061 -1.102322e+06  891.6397    0.233241\n",
      "4  334.848296  79.211153  397948.158670 -1.102427e+06  891.1921    0.342854\n"
     ]
    }
   ],
   "source": [
    "variables = [ATM_long, ATM_lat, PS_x, PS_y, ATM_elev, dist_along]\n",
    "indices = ['ATM_long', \"ATM_lat\", \"PS_x\", \"PS_y\", \"ATM_elev\", \"dist_along\"]\n",
    "\n",
    "#create DataFrame from these variables\n",
    "final_data = pd.DataFrame(variables)\n",
    "final_data = final_data.transpose()\n",
    "final_data.columns = indices\n",
    "print(final_data.head())"
   ]
  },
  {
   "cell_type": "code",
   "execution_count": 10,
   "metadata": {},
   "outputs": [],
   "source": [
    "final_data.to_csv('atmZach04_18_19.csv',index=False)"
   ]
  }
 ],
 "metadata": {
  "kernelspec": {
   "display_name": "Python 3",
   "language": "python",
   "name": "python3"
  },
  "language_info": {
   "codemirror_mode": {
    "name": "ipython",
    "version": 3
   },
   "file_extension": ".py",
   "mimetype": "text/x-python",
   "name": "python",
   "nbconvert_exporter": "python",
   "pygments_lexer": "ipython3",
   "version": "3.6.7"
  }
 },
 "nbformat": 4,
 "nbformat_minor": 2
}
