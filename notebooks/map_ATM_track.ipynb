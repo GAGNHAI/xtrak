{
 "cells": [
  {
   "cell_type": "markdown",
   "metadata": {},
   "source": [
    "# Plot ATM track over greenland ice sheet velocities\n",
    "\n",
    "Timothy Bartholomaus - modified from David Shean starting point\n",
    "\n",
    "    Script started as geospatial-analysis/shean_ICESat-2_hackweek_tutorial_GeospatialAnalysis.ipynb \n",
    "    \n",
    "    from the ICESat-2 hackweek\n",
    "    \n",
    "Branched from Dave Shean's script on June 20, 2019\n"
   ]
  },
  {
   "cell_type": "markdown",
   "metadata": {},
   "source": []
  },
  {
   "cell_type": "raw",
   "metadata": {},
   "source": [
    "# Objectives\n"
   ]
  },
  {
   "cell_type": "markdown",
   "metadata": {},
   "source": []
  },
  {
   "cell_type": "code",
   "execution_count": 1,
   "metadata": {},
   "outputs": [],
   "source": [
    "import os\n",
    "import rasterio as rio\n",
    "import matplotlib.pyplot as plt\n",
    "import numpy as np\n",
    "import pandas as pd\n",
    "import geopandas as gpd"
   ]
  },
  {
   "cell_type": "markdown",
   "metadata": {},
   "source": [
    "Read in the velocity geotiffs"
   ]
  },
  {
   "cell_type": "code",
   "execution_count": 2,
   "metadata": {},
   "outputs": [
    {
     "name": "stdout",
     "output_type": "stream",
     "text": [
      "{'driver': 'GTiff', 'dtype': 'float32', 'nodata': -2000000000.0, 'width': 6020, 'height': 10920, 'count': 1, 'crs': CRS.from_wkt('PROJCS[\"unnamed\",GEOGCS[\"WGS 84\",DATUM[\"WGS_1984\",SPHEROID[\"WGS 84\",6378137,298.257223563,AUTHORITY[\"EPSG\",\"7030\"]],AUTHORITY[\"EPSG\",\"6326\"]],PRIMEM[\"Greenwich\",0],UNIT[\"degree\",0.0174532925199433],AUTHORITY[\"EPSG\",\"4326\"]],PROJECTION[\"Polar_Stereographic\"],PARAMETER[\"latitude_of_origin\",70],PARAMETER[\"central_meridian\",-45],PARAMETER[\"scale_factor\",1],PARAMETER[\"false_easting\",0],PARAMETER[\"false_northing\",0],UNIT[\"metre\",1,AUTHORITY[\"EPSG\",\"9001\"]]]'), 'transform': Affine(250.0, 0.0, -645125.0,\n",
      "       0.0, -250.0, -640125.0), 'tiled': False, 'interleave': 'band'}\n"
     ]
    }
   ],
   "source": [
    "vel_path = '../data_raw/Greenland_Vels/n5eil01u.ecs.nsidc.org/SAN/PullDir/080453768817611/'\n",
    "vx_fn = 'greenland_vel_mosaic250_vx_v1.tif'\n",
    "vy_fn = 'greenland_vel_mosaic250_vy_v1.tif'\n",
    "vx = rio.open(vel_path + vx_fn)\n",
    "vy = rio.open(vel_path + vy_fn)\n",
    "print(vx.profile)"
   ]
  },
  {
   "cell_type": "markdown",
   "metadata": {},
   "source": [
    "Read in the created speed raster"
   ]
  },
  {
   "cell_type": "code",
   "execution_count": 3,
   "metadata": {},
   "outputs": [
    {
     "name": "stdout",
     "output_type": "stream",
     "text": [
      "{'driver': 'GTiff', 'dtype': 'float32', 'nodata': -2000000000.0, 'width': 6020, 'height': 10920, 'count': 1, 'crs': CRS.from_epsg(3413), 'transform': Affine(250.0, 0.0, -645125.0,\n",
      "       0.0, -250.0, -640125.0), 'tiled': False, 'interleave': 'band'}\n"
     ]
    }
   ],
   "source": [
    "# spd_tmp =   np.sqrt(vx.read(1)**2 + vy.read(1)**2) \n",
    "# spd_tmp[np.where(vx==-2000000000.0)] = -2000000000.0\n",
    "# speed_rio = rio.open('../data_prod/speed.tif', 'w', driver='GTiff', nodata=-2000000000.0,\n",
    "#                             height=spd_tmp.shape[0], width=spd_tmp.shape[1], count=1, \n",
    "#                             dtype=spd_tmp.dtype, crs=3413, transform=vx.transform)\n",
    "# speed_rio.write(spd_tmp, 1)\n",
    "# speed_rio.close()\n",
    "\n",
    "spd = rio.open('../data_prod/speed.tif')\n",
    "print(spd.profile)\n",
    "# %ls ../data_prod\n",
    "\n",
    "# spd.read(1)[np.where(spd.read(1) >199999)] = np.nan\n",
    "\n",
    "spd_a = spd.read(1)\n",
    "spd_a[np.where(spd.read(1) >199999)] = np.nan\n"
   ]
  },
  {
   "cell_type": "code",
   "execution_count": null,
   "metadata": {},
   "outputs": [],
   "source": [
    "# >>> pyplot.imshow(src.read(1), cmap='pink')\n",
    "print(vx.crs)\n",
    "# rio.plot.show((vx, 1), vmin = -40, vmax = 40, cmap='RdBu')\n",
    "\n",
    "# plt.imshow(vx.read(1), vmin = -40, vmax = 40, cmap='RdBu')\n",
    "# plt.imshow(spd, vmin = -0, vmax = 100)#, cmap='RdBu')\n",
    "# plt.colorbar()\n",
    "\n",
    "# PROJCS[\"unnamed\",\n",
    "#        GEOGCS[\"WGS 84\",DATUM[\"WGS_1984\",SPHEROID[\"WGS 84\",6378137,298.257223563,\n",
    "#                                                  AUTHORITY[\"EPSG\",\"7030\"]],\n",
    "#                              AUTHORITY[\"EPSG\",\"6326\"]],PRIMEM[\"Greenwich\",0],\n",
    "#               UNIT[\"degree\",0.0174532925199433],AUTHORITY[\"EPSG\",\"4326\"]],\n",
    "#        PROJECTION[\"Polar_Stereographic\"],\n",
    "#        PARAMETER[\"latitude_of_origin\",70],\n",
    "#        PARAMETER[\"central_meridian\",-45],PARAMETER[\"scale_factor\",1],\n",
    "#        PARAMETER[\"false_easting\",0],PARAMETER[\"false_northing\",0],UNIT[\"metre\",1,AUTHORITY[\"EPSG\",\"9001\"]]]"
   ]
  },
  {
   "cell_type": "code",
   "execution_count": 12,
   "metadata": {},
   "outputs": [
    {
     "data": {
      "text/plain": [
       "CRS.from_epsg(3413)"
      ]
     },
     "execution_count": 12,
     "metadata": {},
     "output_type": "execute_result"
    }
   ],
   "source": [
    "speed_rio.crs"
   ]
  },
  {
   "cell_type": "code",
   "execution_count": 23,
   "metadata": {},
   "outputs": [
    {
     "data": {
      "text/plain": [
       "array([[nan, nan, nan, ..., nan, nan, nan],\n",
       "       [nan, nan, nan, ..., nan, nan, nan],\n",
       "       [nan, nan, nan, ..., nan, nan, nan],\n",
       "       ...,\n",
       "       [nan, nan, nan, ..., nan, nan, nan],\n",
       "       [nan, nan, nan, ..., nan, nan, nan],\n",
       "       [nan, nan, nan, ..., nan, nan, nan]], dtype=float32)"
      ]
     },
     "execution_count": 23,
     "metadata": {},
     "output_type": "execute_result"
    }
   ],
   "source": []
  },
  {
   "cell_type": "code",
   "execution_count": 3,
   "metadata": {},
   "outputs": [
    {
     "data": {
      "text/plain": [
       "10.184008"
      ]
     },
     "execution_count": 3,
     "metadata": {},
     "output_type": "execute_result"
    }
   ],
   "source": []
  },
  {
   "cell_type": "code",
   "execution_count": 4,
   "metadata": {},
   "outputs": [],
   "source": [
    "# lon, lat = rio.transform(vx.crs, {'init': 'EPSG:3413'},\n",
    "#                      x.flatten(), y.flatten())\n",
    "vx_trans = vx.transform\n",
    "\n",
    "tl = vx.transform * (0, 0) # Top left coordinate\n",
    "# (358485.0, 4265115.0)\n",
    "# The position of the lower right corner is obtained similarly.\n",
    "br = vx.transform * (vx.width, vx.height) # Bottom right coordinate\n",
    "# >>> dataset.transform * (dataset.width, dataset.height)\n",
    "# (590415.0, 4028985.0)\n",
    "# print(vx_trans, tl, br)\n",
    "x = np.arange(tl[0] , br[0]+1, vx_trans[0])\n",
    "y = np.arange(br[1] , tl[1]+1, vx_trans[0])\n",
    "\n",
    "# print(x, y)"
   ]
  },
  {
   "cell_type": "code",
   "execution_count": 5,
   "metadata": {},
   "outputs": [],
   "source": [
    "ATM2014 = pd.read_csv('/home/jovyan/xtrak/data_prod/ATMprof_20140429.csv')#,index=False)\n",
    "ATM2018 = pd.read_csv('/home/jovyan/xtrak/data_prod/ATMprof_20180418.csv')#,index=False)\n",
    "# ATM2014_gdf = gpd.GeoDataFrame(ATM2014, crs={'init' :'epsg:3413'},\n",
    "#                                geometry=[shapely.geometry.Point(xy) for xy in zip(ATM2014.x, ATM2014.y)]))\n",
    "\n",
    "# ATM2014_gdf = gpd.GeoDataFrame(ATM2014, crs={'init' :'epsg:3413'})\n",
    "# ATM2014_gdf.head()\n",
    "\n",
    "# lenATM2014 = ATM2014.shape[0]\n",
    "# print(lenATM2014)"
   ]
  },
  {
   "cell_type": "code",
   "execution_count": null,
   "metadata": {},
   "outputs": [],
   "source": [
    "fig, ax = plt.subplots(figsize=(6, 10))#1,2)\n",
    "map = ax.pcolormesh(x/1000, y/1000, np.flipud( np.log10(spd_a) ), vmin=0, vmax=4)\n",
    "ax.plot(ATM2014['PS_x'].values[::10]/1000, ATM2014['PS_y'].values[::10]/1000, 'r')\n",
    "\n",
    "ax.axis('equal')\n",
    "# ax.axis('tight')\n",
    "ax.set_xlim(-700, 900)\n",
    "ax.set_ylim(-3400, -650)\n",
    "fig.colorbar(map, ax=ax);\n",
    "\n",
    "plt.savefig('../figures/Greenland_map.png')"
   ]
  },
  {
   "cell_type": "code",
   "execution_count": 6,
   "metadata": {},
   "outputs": [
    {
     "data": {
      "text/plain": [
       "['18', '31', '44', '57', '71', '84', '97', '111', '125', '138', '153', '166']"
      ]
     },
     "execution_count": 6,
     "metadata": {},
     "output_type": "execute_result"
    }
   ],
   "source": [
    "labels = [str(int(val)) for val in np.round( ATM2014['dist_along'].values[::400]/1000 )]\n",
    "\n",
    "labels"
   ]
  },
  {
   "cell_type": "code",
   "execution_count": 6,
   "metadata": {},
   "outputs": [
    {
     "data": {
      "image/png": "[encoded data removed]",
      "text/plain": [
       "<Figure size 432x288 with 2 Axes>"
      ]
     },
     "metadata": {
      "needs_background": "light"
     },
     "output_type": "display_data"
    }
   ],
   "source": [
    "# %matplotlib widget\n",
    "fig, ax = plt.subplots()\n",
    "map = ax.pcolormesh(x/1000, y/1000, np.flipud( np.log10(spd_a) ), vmin=0, vmax=4)\n",
    "ax.axis('equal')\n",
    "ax.set_xlim(380, 550)\n",
    "ax.set_ylim(-1160, -1050)\n",
    "# # idx = [0:100:lenATM2014]\n",
    "# idx_ev = 100\n",
    "ax.plot(ATM2014['PS_x'].values[::10]/1000, ATM2014['PS_y'].values[::10]/1000, 'r')\n",
    "# ax.plot(ATM2018['PS_x'].values[::10]/1000, ATM2018['PS_y'].values[::10]/1000, 'm')\n",
    "\n",
    "labels14 = [str(int(val)) for val in np.round( ATM2014['dist_along'].values[::400]/1000 )]\n",
    "for i, txt in enumerate(labels14):\n",
    "    ax.plot(ATM2014['PS_x'].values[::400][i]/1000, ATM2014['PS_y'].values[::400][i]/1000, 'ko', markersize=8)#, txt)#, \n",
    "    ax.text(ATM2014['PS_x'].values[::400][i]/1000, ATM2014['PS_y'].values[::400][i]/1000, ' '+txt)#, \n",
    "# labels18 = [str(int(val)) for val in np.round( ATM2018['dist_along'].values[::400]/1000 )]\n",
    "# for i, txt in enumerate(labels18):\n",
    "#     ax.plot(ATM2018['PS_x'].values[::400][i]/1000, ATM2018['PS_y'].values[::400][i]/1000, 'k^', markersize=8)#, txt)#, \n",
    "#     ax.text(ATM2018['PS_x'].values[::400][i]/1000, ATM2018['PS_y'].values[::400][i]/1000, ' '+txt)#, \n",
    "\n",
    "# #          ATM2014['PS_y'].values[::100]/1000,)\n",
    "# # ATM2014_gdf.plot()#'glas_z', markersize=1)#, cmap='inferno', legend=True);\n",
    "fig.colorbar(map, ax=ax);\n",
    "# plt.tight_layout()\n",
    "\n",
    "# print(ATM2014['PS_x'].values[::400]/1000, ATM2014['PS_y'].values[::400]/1000, labels)\n",
    "\n",
    "plt.savefig('../figures/Greenland_map_zoom_just_2014_cbar.png')"
   ]
  },
  {
   "cell_type": "code",
   "execution_count": 14,
   "metadata": {},
   "outputs": [
    {
     "data": {
      "text/plain": [
       "(4573, 9)"
      ]
     },
     "execution_count": 14,
     "metadata": {},
     "output_type": "execute_result"
    }
   ],
   "source": [
    "# rio.plot.show(vx)\n",
    "ATM2014.shape\n"
   ]
  },
  {
   "cell_type": "code",
   "execution_count": 1,
   "metadata": {},
   "outputs": [
    {
     "ename": "NameError",
     "evalue": "name 'plt' is not defined",
     "output_type": "error",
     "traceback": [
      "\u001b[0;31m---------------------------------------------------------------------------\u001b[0m",
      "\u001b[0;31mNameError\u001b[0m                                 Traceback (most recent call last)",
      "\u001b[0;32m<ipython-input-1-cef01e7dae0f>\u001b[0m in \u001b[0;36m<module>\u001b[0;34m\u001b[0m\n\u001b[1;32m      1\u001b[0m \u001b[0;32mfrom\u001b[0m \u001b[0mrasterio\u001b[0m\u001b[0;34m.\u001b[0m\u001b[0mplot\u001b[0m \u001b[0;32mimport\u001b[0m \u001b[0mshow\u001b[0m\u001b[0;34m\u001b[0m\u001b[0;34m\u001b[0m\u001b[0m\n\u001b[1;32m      2\u001b[0m \u001b[0;31m# plt.imshow()\u001b[0m\u001b[0;34m\u001b[0m\u001b[0;34m\u001b[0m\u001b[0;34m\u001b[0m\u001b[0m\n\u001b[0;32m----> 3\u001b[0;31m \u001b[0mfig\u001b[0m\u001b[0;34m,\u001b[0m \u001b[0max\u001b[0m \u001b[0;34m=\u001b[0m \u001b[0mplt\u001b[0m\u001b[0;34m.\u001b[0m\u001b[0msubplots\u001b[0m\u001b[0;34m(\u001b[0m\u001b[0;34m)\u001b[0m\u001b[0;34m\u001b[0m\u001b[0;34m\u001b[0m\u001b[0m\n\u001b[0m\u001b[1;32m      4\u001b[0m \u001b[0mmap\u001b[0m \u001b[0;34m=\u001b[0m \u001b[0mshow\u001b[0m\u001b[0;34m(\u001b[0m\u001b[0mspd\u001b[0m\u001b[0;34m,\u001b[0m \u001b[0max\u001b[0m\u001b[0;34m=\u001b[0m\u001b[0max\u001b[0m\u001b[0;34m,\u001b[0m \u001b[0mvmin\u001b[0m\u001b[0;34m=\u001b[0m\u001b[0;36m0\u001b[0m\u001b[0;34m,\u001b[0m \u001b[0mvmax\u001b[0m\u001b[0;34m=\u001b[0m\u001b[0;36m6000\u001b[0m\u001b[0;34m)\u001b[0m\u001b[0;34m\u001b[0m\u001b[0;34m\u001b[0m\u001b[0m\n\u001b[1;32m      5\u001b[0m \u001b[0mfig\u001b[0m\u001b[0;34m.\u001b[0m\u001b[0mcolorbar\u001b[0m\u001b[0;34m(\u001b[0m\u001b[0mmap\u001b[0m\u001b[0;34m)\u001b[0m\u001b[0;31m#, ax=ax)\u001b[0m\u001b[0;34m\u001b[0m\u001b[0;34m\u001b[0m\u001b[0m\n",
      "\u001b[0;31mNameError\u001b[0m: name 'plt' is not defined"
     ]
    }
   ],
   "source": [
    "from rasterio.plot import show\n",
    "# plt.imshow()\n",
    "fig, ax = plt.subplots()\n",
    "map = show(spd, ax=ax, vmin=0, vmax=6000)\n",
    "fig.colorbar(map)#, ax=ax)\n",
    "# plt.show()"
   ]
  },
  {
   "cell_type": "code",
   "execution_count": null,
   "metadata": {},
   "outputs": [],
   "source": [
    "ATM2014 = pd.read_csv('/home/jovyan/xtrak/data_prod/ATMprof_20140429.csv')#,index=False)\n",
    "ATM2018 = pd.read_csv('/home/jovyan/xtrak/data_prod/ATMprof_20180418.csv')#,index=False)\n",
    "# ATM2014_gdf = gpd.GeoDataFrame(ATM2014, crs={'init' :'epsg:3413'},\n",
    "#                                geometry=[shapely.geometry.Point(xy) for xy in zip(ATM2014.x, ATM2014.y)]))\n",
    "ATM2014_gdf = gpd.GeoDataFrame(ATM2014, crs={'init' :'epsg:3413'})\n",
    "ATM2018_gdf.head()"
   ]
  },
  {
   "cell_type": "code",
   "execution_count": null,
   "metadata": {},
   "outputs": [],
   "source": []
  },
  {
   "cell_type": "code",
   "execution_count": null,
   "metadata": {},
   "outputs": [],
   "source": []
  },
  {
   "cell_type": "code",
   "execution_count": null,
   "metadata": {},
   "outputs": [],
   "source": []
  },
  {
   "cell_type": "code",
   "execution_count": null,
   "metadata": {},
   "outputs": [],
   "source": []
  },
  {
   "cell_type": "code",
   "execution_count": null,
   "metadata": {},
   "outputs": [],
   "source": []
  },
  {
   "cell_type": "code",
   "execution_count": null,
   "metadata": {},
   "outputs": [],
   "source": []
  },
  {
   "cell_type": "code",
   "execution_count": null,
   "metadata": {},
   "outputs": [],
   "source": []
  },
  {
   "cell_type": "markdown",
   "metadata": {},
   "source": [
    "# Sample GLAS dataset for CONUS\n",
    "A few years ago, I wanted to evaluate ICESat coverage of the Continental United States (CONUS).  The primary application was to extract a set of accurate control points to co-register a large set of high-resolution DEMs derived from satellite stereo imagery.  I wrote some Python/shell scripts to download, filter, and process all of the GLAH14 granules in parallel ([https://github.com/dshean/icesat_tools](https://github.com/dshean/icesat_tools)).\n",
    "\n",
    "The high-level workflow is here: https://github.com/dshean/icesat_tools/blob/master/glas_proc.py#L24.  These tools processed each H5 file and wrote out csvs of “good” points, then concatenated, to prepare the input csv (`GLAH14_tllz_conus_lulcfilt_demfilt.csv`) that we will use for this tutorial.  \n",
    "\n",
    "The csv contains ICESat GLAS shots that passed the following filters:\n",
    "* Within some buffer (~110 km) of mapped glacier polygons from the Randolph Glacier Inventory (RGI)\n",
    "* Returns from exposed bare ground (31) or snow/ice (12) according to a 30-m Land-use/Land-cover dataset (2011 NLCD, https://www.mrlc.gov/data?f%5B0%5D=category%3Aland%20cover)\n",
    "* Elevation values within some threshold (200 m) of elevations sampled from an external reference DEM (void-filled 1/3-arcsec [30-m] SRTM-GL1), used to remove spurious points and returns from clouds.\n",
    "* Various other ICESat-specific quality flags (see comments in `glas_proc.py` for details)\n",
    "\n",
    "The final file contains a relatively small subset (~65K) of the total shots in the original GLAH14 data granules from the full mission timeline (2003-2009).  The remaining points should represent returns from the Earth's surface with reasonably high quality, and can be used for subsequent analysis.\n",
    "\n",
    "In the end, the coverage/quality was often insufficient for the co-registration process.  Last year, I decided to take another look at the sample of ICESat GLAS points over CONUS glaciers."
   ]
  },
  {
   "cell_type": "markdown",
   "metadata": {},
   "source": [
    "## Wait, I thought this was an ICESat-2 hackweek?\n",
    "\n",
    "Note that we could (and should!) swap similarly processed/filtered ATL06 points over CONUS for this tutorial.  I did not have time to do this before the hackweek, but it would make a great project (nudge).  After opening this updated file with Pandas, it should mostly be a matter of updating field names throughout the notebook."
   ]
  },
  {
   "cell_type": "markdown",
   "metadata": {},
   "source": [
    "# Import necessary modules"
   ]
  },
  {
   "cell_type": "code",
   "execution_count": 11,
   "metadata": {},
   "outputs": [],
   "source": [
    "import numpy as np\n",
    "import pandas as pd\n",
    "import geopandas as gpd\n",
    "import matplotlib.pyplot as plt\n",
    "from shapely.geometry import Point, Polygon"
   ]
  },
  {
   "cell_type": "code",
   "execution_count": 65,
   "metadata": {},
   "outputs": [],
   "source": [
    "import warnings\n",
    "warnings.filterwarnings('ignore')"
   ]
  },
  {
   "cell_type": "code",
   "execution_count": 66,
   "metadata": {},
   "outputs": [],
   "source": [
    "#Magic function to enable interactive plotting (zoom/pan) in Jupyter notebook\n",
    "#If running locally, this would be `%matplotlib notebook`, but since we're using Juptyerlab, we use widget\n",
    "%matplotlib widget\n",
    "#%matplotlib inline"
   ]
  },
  {
   "cell_type": "code",
   "execution_count": 67,
   "metadata": {},
   "outputs": [],
   "source": [
    "#Define path to sample GLAS data\n",
    "glas_fn = 'GLAH14_tllz_conus_lulcfilt_demfilt.csv'"
   ]
  },
  {
   "cell_type": "code",
   "execution_count": 68,
   "metadata": {},
   "outputs": [
    {
     "name": "stdout",
     "output_type": "stream",
     "text": [
      "head: cannot open 'GLAH14_tllz_conus_lulcfilt_demfilt.csv' for reading: No such file or directory\n"
     ]
    }
   ],
   "source": [
    "#Quick check of file contents\n",
    "!head $glas_fn"
   ]
  },
  {
   "cell_type": "markdown",
   "metadata": {},
   "source": [
    "# pandas"
   ]
  },
  {
   "cell_type": "markdown",
   "metadata": {},
   "source": [
    "Trust me, you should learn how to use pandas, regardless of your ICESat-2 application.  \n",
    "\n",
    "A significant portion of the Python data science ecosystem is based on Pandas and/or Pandas data models.\n",
    "\n",
    ">\"pandas is a Python package providing fast, flexible, and expressive data structures designed to make working with \"relational\" or \"labeled\" data both easy and intuitive. It aims to be the fundamental high-level building block for doing practical, real world data analysis in Python. Additionally, it has the broader goal of becoming the most powerful and flexible open source data analysis / manipulation tool available in any language. It is already well on its way towards this goal.\"\n",
    "\n",
    "https://github.com/pandas-dev/pandas#main-features\n",
    "\n",
    "If you are working with tabular data, especially time series data, please use pandas."
   ]
  },
  {
   "cell_type": "markdown",
   "metadata": {},
   "source": [
    "## Load the csv\n",
    "\n",
    "We'll use the `read_csv` function here to load the data into a DataFrame.\n",
    "\n",
    "Note that pandas has excellent readers for most common file formats: https://pandas.pydata.org/pandas-docs/stable/reference/io.html"
   ]
  },
  {
   "cell_type": "code",
   "execution_count": 69,
   "metadata": {},
   "outputs": [
    {
     "ename": "FileNotFoundError",
     "evalue": "[Errno 2] File b'GLAH14_tllz_conus_lulcfilt_demfilt.csv' does not exist: b'GLAH14_tllz_conus_lulcfilt_demfilt.csv'",
     "output_type": "error",
     "traceback": [
      "\u001b[0;31m---------------------------------------------------------------------------\u001b[0m",
      "\u001b[0;31mFileNotFoundError\u001b[0m                         Traceback (most recent call last)",
      "\u001b[0;32m<ipython-input-69-384349629b58>\u001b[0m in \u001b[0;36m<module>\u001b[0;34m\u001b[0m\n\u001b[0;32m----> 1\u001b[0;31m \u001b[0mglas_df\u001b[0m \u001b[0;34m=\u001b[0m \u001b[0mpd\u001b[0m\u001b[0;34m.\u001b[0m\u001b[0mread_csv\u001b[0m\u001b[0;34m(\u001b[0m\u001b[0mglas_fn\u001b[0m\u001b[0;34m)\u001b[0m\u001b[0;34m\u001b[0m\u001b[0;34m\u001b[0m\u001b[0m\n\u001b[0m",
      "\u001b[0;32m/srv/conda/lib/python3.6/site-packages/pandas/io/parsers.py\u001b[0m in \u001b[0;36mparser_f\u001b[0;34m(filepath_or_buffer, sep, delimiter, header, names, index_col, usecols, squeeze, prefix, mangle_dupe_cols, dtype, engine, converters, true_values, false_values, skipinitialspace, skiprows, skipfooter, nrows, na_values, keep_default_na, na_filter, verbose, skip_blank_lines, parse_dates, infer_datetime_format, keep_date_col, date_parser, dayfirst, iterator, chunksize, compression, thousands, decimal, lineterminator, quotechar, quoting, doublequote, escapechar, comment, encoding, dialect, tupleize_cols, error_bad_lines, warn_bad_lines, delim_whitespace, low_memory, memory_map, float_precision)\u001b[0m\n\u001b[1;32m    700\u001b[0m                     skip_blank_lines=skip_blank_lines)\n\u001b[1;32m    701\u001b[0m \u001b[0;34m\u001b[0m\u001b[0m\n\u001b[0;32m--> 702\u001b[0;31m         \u001b[0;32mreturn\u001b[0m \u001b[0m_read\u001b[0m\u001b[0;34m(\u001b[0m\u001b[0mfilepath_or_buffer\u001b[0m\u001b[0;34m,\u001b[0m \u001b[0mkwds\u001b[0m\u001b[0;34m)\u001b[0m\u001b[0;34m\u001b[0m\u001b[0;34m\u001b[0m\u001b[0m\n\u001b[0m\u001b[1;32m    703\u001b[0m \u001b[0;34m\u001b[0m\u001b[0m\n\u001b[1;32m    704\u001b[0m     \u001b[0mparser_f\u001b[0m\u001b[0;34m.\u001b[0m\u001b[0m__name__\u001b[0m \u001b[0;34m=\u001b[0m \u001b[0mname\u001b[0m\u001b[0;34m\u001b[0m\u001b[0;34m\u001b[0m\u001b[0m\n",
      "\u001b[0;32m/srv/conda/lib/python3.6/site-packages/pandas/io/parsers.py\u001b[0m in \u001b[0;36m_read\u001b[0;34m(filepath_or_buffer, kwds)\u001b[0m\n\u001b[1;32m    427\u001b[0m \u001b[0;34m\u001b[0m\u001b[0m\n\u001b[1;32m    428\u001b[0m     \u001b[0;31m# Create the parser.\u001b[0m\u001b[0;34m\u001b[0m\u001b[0;34m\u001b[0m\u001b[0;34m\u001b[0m\u001b[0m\n\u001b[0;32m--> 429\u001b[0;31m     \u001b[0mparser\u001b[0m \u001b[0;34m=\u001b[0m \u001b[0mTextFileReader\u001b[0m\u001b[0;34m(\u001b[0m\u001b[0mfilepath_or_buffer\u001b[0m\u001b[0;34m,\u001b[0m \u001b[0;34m**\u001b[0m\u001b[0mkwds\u001b[0m\u001b[0;34m)\u001b[0m\u001b[0;34m\u001b[0m\u001b[0;34m\u001b[0m\u001b[0m\n\u001b[0m\u001b[1;32m    430\u001b[0m \u001b[0;34m\u001b[0m\u001b[0m\n\u001b[1;32m    431\u001b[0m     \u001b[0;32mif\u001b[0m \u001b[0mchunksize\u001b[0m \u001b[0;32mor\u001b[0m \u001b[0miterator\u001b[0m\u001b[0;34m:\u001b[0m\u001b[0;34m\u001b[0m\u001b[0;34m\u001b[0m\u001b[0m\n",
      "\u001b[0;32m/srv/conda/lib/python3.6/site-packages/pandas/io/parsers.py\u001b[0m in \u001b[0;36m__init__\u001b[0;34m(self, f, engine, **kwds)\u001b[0m\n\u001b[1;32m    893\u001b[0m             \u001b[0mself\u001b[0m\u001b[0;34m.\u001b[0m\u001b[0moptions\u001b[0m\u001b[0;34m[\u001b[0m\u001b[0;34m'has_index_names'\u001b[0m\u001b[0;34m]\u001b[0m \u001b[0;34m=\u001b[0m \u001b[0mkwds\u001b[0m\u001b[0;34m[\u001b[0m\u001b[0;34m'has_index_names'\u001b[0m\u001b[0;34m]\u001b[0m\u001b[0;34m\u001b[0m\u001b[0;34m\u001b[0m\u001b[0m\n\u001b[1;32m    894\u001b[0m \u001b[0;34m\u001b[0m\u001b[0m\n\u001b[0;32m--> 895\u001b[0;31m         \u001b[0mself\u001b[0m\u001b[0;34m.\u001b[0m\u001b[0m_make_engine\u001b[0m\u001b[0;34m(\u001b[0m\u001b[0mself\u001b[0m\u001b[0;34m.\u001b[0m\u001b[0mengine\u001b[0m\u001b[0;34m)\u001b[0m\u001b[0;34m\u001b[0m\u001b[0;34m\u001b[0m\u001b[0m\n\u001b[0m\u001b[1;32m    896\u001b[0m \u001b[0;34m\u001b[0m\u001b[0m\n\u001b[1;32m    897\u001b[0m     \u001b[0;32mdef\u001b[0m \u001b[0mclose\u001b[0m\u001b[0;34m(\u001b[0m\u001b[0mself\u001b[0m\u001b[0;34m)\u001b[0m\u001b[0;34m:\u001b[0m\u001b[0;34m\u001b[0m\u001b[0;34m\u001b[0m\u001b[0m\n",
      "\u001b[0;32m/srv/conda/lib/python3.6/site-packages/pandas/io/parsers.py\u001b[0m in \u001b[0;36m_make_engine\u001b[0;34m(self, engine)\u001b[0m\n\u001b[1;32m   1120\u001b[0m     \u001b[0;32mdef\u001b[0m \u001b[0m_make_engine\u001b[0m\u001b[0;34m(\u001b[0m\u001b[0mself\u001b[0m\u001b[0;34m,\u001b[0m \u001b[0mengine\u001b[0m\u001b[0;34m=\u001b[0m\u001b[0;34m'c'\u001b[0m\u001b[0;34m)\u001b[0m\u001b[0;34m:\u001b[0m\u001b[0;34m\u001b[0m\u001b[0;34m\u001b[0m\u001b[0m\n\u001b[1;32m   1121\u001b[0m         \u001b[0;32mif\u001b[0m \u001b[0mengine\u001b[0m \u001b[0;34m==\u001b[0m \u001b[0;34m'c'\u001b[0m\u001b[0;34m:\u001b[0m\u001b[0;34m\u001b[0m\u001b[0;34m\u001b[0m\u001b[0m\n\u001b[0;32m-> 1122\u001b[0;31m             \u001b[0mself\u001b[0m\u001b[0;34m.\u001b[0m\u001b[0m_engine\u001b[0m \u001b[0;34m=\u001b[0m \u001b[0mCParserWrapper\u001b[0m\u001b[0;34m(\u001b[0m\u001b[0mself\u001b[0m\u001b[0;34m.\u001b[0m\u001b[0mf\u001b[0m\u001b[0;34m,\u001b[0m \u001b[0;34m**\u001b[0m\u001b[0mself\u001b[0m\u001b[0;34m.\u001b[0m\u001b[0moptions\u001b[0m\u001b[0;34m)\u001b[0m\u001b[0;34m\u001b[0m\u001b[0;34m\u001b[0m\u001b[0m\n\u001b[0m\u001b[1;32m   1123\u001b[0m         \u001b[0;32melse\u001b[0m\u001b[0;34m:\u001b[0m\u001b[0;34m\u001b[0m\u001b[0;34m\u001b[0m\u001b[0m\n\u001b[1;32m   1124\u001b[0m             \u001b[0;32mif\u001b[0m \u001b[0mengine\u001b[0m \u001b[0;34m==\u001b[0m \u001b[0;34m'python'\u001b[0m\u001b[0;34m:\u001b[0m\u001b[0;34m\u001b[0m\u001b[0;34m\u001b[0m\u001b[0m\n",
      "\u001b[0;32m/srv/conda/lib/python3.6/site-packages/pandas/io/parsers.py\u001b[0m in \u001b[0;36m__init__\u001b[0;34m(self, src, **kwds)\u001b[0m\n\u001b[1;32m   1851\u001b[0m         \u001b[0mkwds\u001b[0m\u001b[0;34m[\u001b[0m\u001b[0;34m'usecols'\u001b[0m\u001b[0;34m]\u001b[0m \u001b[0;34m=\u001b[0m \u001b[0mself\u001b[0m\u001b[0;34m.\u001b[0m\u001b[0musecols\u001b[0m\u001b[0;34m\u001b[0m\u001b[0;34m\u001b[0m\u001b[0m\n\u001b[1;32m   1852\u001b[0m \u001b[0;34m\u001b[0m\u001b[0m\n\u001b[0;32m-> 1853\u001b[0;31m         \u001b[0mself\u001b[0m\u001b[0;34m.\u001b[0m\u001b[0m_reader\u001b[0m \u001b[0;34m=\u001b[0m \u001b[0mparsers\u001b[0m\u001b[0;34m.\u001b[0m\u001b[0mTextReader\u001b[0m\u001b[0;34m(\u001b[0m\u001b[0msrc\u001b[0m\u001b[0;34m,\u001b[0m \u001b[0;34m**\u001b[0m\u001b[0mkwds\u001b[0m\u001b[0;34m)\u001b[0m\u001b[0;34m\u001b[0m\u001b[0;34m\u001b[0m\u001b[0m\n\u001b[0m\u001b[1;32m   1854\u001b[0m         \u001b[0mself\u001b[0m\u001b[0;34m.\u001b[0m\u001b[0munnamed_cols\u001b[0m \u001b[0;34m=\u001b[0m \u001b[0mself\u001b[0m\u001b[0;34m.\u001b[0m\u001b[0m_reader\u001b[0m\u001b[0;34m.\u001b[0m\u001b[0munnamed_cols\u001b[0m\u001b[0;34m\u001b[0m\u001b[0;34m\u001b[0m\u001b[0m\n\u001b[1;32m   1855\u001b[0m \u001b[0;34m\u001b[0m\u001b[0m\n",
      "\u001b[0;32mpandas/_libs/parsers.pyx\u001b[0m in \u001b[0;36mpandas._libs.parsers.TextReader.__cinit__\u001b[0;34m()\u001b[0m\n",
      "\u001b[0;32mpandas/_libs/parsers.pyx\u001b[0m in \u001b[0;36mpandas._libs.parsers.TextReader._setup_parser_source\u001b[0;34m()\u001b[0m\n",
      "\u001b[0;31mFileNotFoundError\u001b[0m: [Errno 2] File b'GLAH14_tllz_conus_lulcfilt_demfilt.csv' does not exist: b'GLAH14_tllz_conus_lulcfilt_demfilt.csv'"
     ]
    }
   ],
   "source": [
    "glas_df = pd.read_csv(glas_fn)"
   ]
  },
  {
   "cell_type": "markdown",
   "metadata": {},
   "source": [
    "## Inspect the DataFrame\n",
    "\n",
    "Core pandas data structure for labeled, tabular data: DataFrame\n",
    "\n",
    "* full output\n",
    "* columns\n",
    "* head, tail\n",
    "* describe\n",
    "* Applying ufunc"
   ]
  },
  {
   "cell_type": "code",
   "execution_count": 8,
   "metadata": {},
   "outputs": [
    {
     "data": {
      "text/html": [
       "<div>\n",
       "<style scoped>\n",
       "    .dataframe tbody tr th:only-of-type {\n",
       "        vertical-align: middle;\n",
       "    }\n",
       "\n",
       "    .dataframe tbody tr th {\n",
       "        vertical-align: top;\n",
       "    }\n",
       "\n",
       "    .dataframe thead th {\n",
       "        text-align: right;\n",
       "    }\n",
       "</style>\n",
       "<table border=\"1\" class=\"dataframe\">\n",
       "  <thead>\n",
       "    <tr style=\"text-align: right;\">\n",
       "      <th></th>\n",
       "      <th>decyear</th>\n",
       "      <th>ordinal</th>\n",
       "      <th>lat</th>\n",
       "      <th>lon</th>\n",
       "      <th>glas_z</th>\n",
       "      <th>dem_z</th>\n",
       "      <th>dem_z_std</th>\n",
       "      <th>lulc</th>\n",
       "    </tr>\n",
       "  </thead>\n",
       "  <tbody>\n",
       "    <tr>\n",
       "      <th>0</th>\n",
       "      <td>2003.139571</td>\n",
       "      <td>731266.943345</td>\n",
       "      <td>44.157897</td>\n",
       "      <td>-105.356562</td>\n",
       "      <td>1398.51</td>\n",
       "      <td>1400.52</td>\n",
       "      <td>0.33</td>\n",
       "      <td>31</td>\n",
       "    </tr>\n",
       "    <tr>\n",
       "      <th>1</th>\n",
       "      <td>2003.139571</td>\n",
       "      <td>731266.943346</td>\n",
       "      <td>44.150175</td>\n",
       "      <td>-105.358116</td>\n",
       "      <td>1387.11</td>\n",
       "      <td>1384.64</td>\n",
       "      <td>0.43</td>\n",
       "      <td>31</td>\n",
       "    </tr>\n",
       "    <tr>\n",
       "      <th>2</th>\n",
       "      <td>2003.139571</td>\n",
       "      <td>731266.943347</td>\n",
       "      <td>44.148632</td>\n",
       "      <td>-105.358427</td>\n",
       "      <td>1392.83</td>\n",
       "      <td>1383.49</td>\n",
       "      <td>0.28</td>\n",
       "      <td>31</td>\n",
       "    </tr>\n",
       "    <tr>\n",
       "      <th>3</th>\n",
       "      <td>2003.139571</td>\n",
       "      <td>731266.943347</td>\n",
       "      <td>44.147087</td>\n",
       "      <td>-105.358738</td>\n",
       "      <td>1384.24</td>\n",
       "      <td>1382.85</td>\n",
       "      <td>0.84</td>\n",
       "      <td>31</td>\n",
       "    </tr>\n",
       "    <tr>\n",
       "      <th>4</th>\n",
       "      <td>2003.139571</td>\n",
       "      <td>731266.943347</td>\n",
       "      <td>44.145542</td>\n",
       "      <td>-105.359048</td>\n",
       "      <td>1369.21</td>\n",
       "      <td>1380.24</td>\n",
       "      <td>1.73</td>\n",
       "      <td>31</td>\n",
       "    </tr>\n",
       "    <tr>\n",
       "      <th>5</th>\n",
       "      <td>2003.139571</td>\n",
       "      <td>731266.943347</td>\n",
       "      <td>44.143996</td>\n",
       "      <td>-105.359359</td>\n",
       "      <td>1366.60</td>\n",
       "      <td>1375.23</td>\n",
       "      <td>1.60</td>\n",
       "      <td>31</td>\n",
       "    </tr>\n",
       "    <tr>\n",
       "      <th>6</th>\n",
       "      <td>2003.139571</td>\n",
       "      <td>731266.943351</td>\n",
       "      <td>44.126969</td>\n",
       "      <td>-105.362876</td>\n",
       "      <td>1355.14</td>\n",
       "      <td>1379.38</td>\n",
       "      <td>2.17</td>\n",
       "      <td>31</td>\n",
       "    </tr>\n",
       "    <tr>\n",
       "      <th>7</th>\n",
       "      <td>2003.139571</td>\n",
       "      <td>731266.943360</td>\n",
       "      <td>44.074358</td>\n",
       "      <td>-105.373549</td>\n",
       "      <td>1369.53</td>\n",
       "      <td>1391.71</td>\n",
       "      <td>2.88</td>\n",
       "      <td>31</td>\n",
       "    </tr>\n",
       "    <tr>\n",
       "      <th>8</th>\n",
       "      <td>2003.139571</td>\n",
       "      <td>731266.943361</td>\n",
       "      <td>44.072806</td>\n",
       "      <td>-105.373864</td>\n",
       "      <td>1380.02</td>\n",
       "      <td>1387.79</td>\n",
       "      <td>0.45</td>\n",
       "      <td>31</td>\n",
       "    </tr>\n",
       "    <tr>\n",
       "      <th>9</th>\n",
       "      <td>2003.139571</td>\n",
       "      <td>731266.943361</td>\n",
       "      <td>44.071256</td>\n",
       "      <td>-105.374177</td>\n",
       "      <td>1391.47</td>\n",
       "      <td>1396.90</td>\n",
       "      <td>1.56</td>\n",
       "      <td>31</td>\n",
       "    </tr>\n",
       "    <tr>\n",
       "      <th>10</th>\n",
       "      <td>2003.139571</td>\n",
       "      <td>731266.943362</td>\n",
       "      <td>44.063515</td>\n",
       "      <td>-105.375712</td>\n",
       "      <td>1388.58</td>\n",
       "      <td>1408.54</td>\n",
       "      <td>0.24</td>\n",
       "      <td>31</td>\n",
       "    </tr>\n",
       "    <tr>\n",
       "      <th>11</th>\n",
       "      <td>2003.139571</td>\n",
       "      <td>731266.943363</td>\n",
       "      <td>44.061967</td>\n",
       "      <td>-105.376015</td>\n",
       "      <td>1372.55</td>\n",
       "      <td>1406.21</td>\n",
       "      <td>0.17</td>\n",
       "      <td>31</td>\n",
       "    </tr>\n",
       "    <tr>\n",
       "      <th>12</th>\n",
       "      <td>2003.139571</td>\n",
       "      <td>731266.943364</td>\n",
       "      <td>44.057328</td>\n",
       "      <td>-105.376934</td>\n",
       "      <td>1402.38</td>\n",
       "      <td>1406.23</td>\n",
       "      <td>0.33</td>\n",
       "      <td>31</td>\n",
       "    </tr>\n",
       "    <tr>\n",
       "      <th>13</th>\n",
       "      <td>2003.139571</td>\n",
       "      <td>731266.943364</td>\n",
       "      <td>44.055780</td>\n",
       "      <td>-105.377243</td>\n",
       "      <td>1401.82</td>\n",
       "      <td>1405.75</td>\n",
       "      <td>0.35</td>\n",
       "      <td>31</td>\n",
       "    </tr>\n",
       "    <tr>\n",
       "      <th>14</th>\n",
       "      <td>2003.139571</td>\n",
       "      <td>731266.943364</td>\n",
       "      <td>44.054231</td>\n",
       "      <td>-105.377553</td>\n",
       "      <td>1399.31</td>\n",
       "      <td>1406.05</td>\n",
       "      <td>0.68</td>\n",
       "      <td>31</td>\n",
       "    </tr>\n",
       "    <tr>\n",
       "      <th>15</th>\n",
       "      <td>2003.139571</td>\n",
       "      <td>731266.943366</td>\n",
       "      <td>44.046487</td>\n",
       "      <td>-105.379115</td>\n",
       "      <td>1394.22</td>\n",
       "      <td>1398.14</td>\n",
       "      <td>0.27</td>\n",
       "      <td>31</td>\n",
       "    </tr>\n",
       "    <tr>\n",
       "      <th>16</th>\n",
       "      <td>2003.139571</td>\n",
       "      <td>731266.943366</td>\n",
       "      <td>44.044941</td>\n",
       "      <td>-105.379430</td>\n",
       "      <td>1394.94</td>\n",
       "      <td>1400.58</td>\n",
       "      <td>0.17</td>\n",
       "      <td>31</td>\n",
       "    </tr>\n",
       "    <tr>\n",
       "      <th>17</th>\n",
       "      <td>2003.139571</td>\n",
       "      <td>731266.943367</td>\n",
       "      <td>44.041850</td>\n",
       "      <td>-105.380064</td>\n",
       "      <td>1386.00</td>\n",
       "      <td>1389.69</td>\n",
       "      <td>0.57</td>\n",
       "      <td>31</td>\n",
       "    </tr>\n",
       "    <tr>\n",
       "      <th>18</th>\n",
       "      <td>2003.139571</td>\n",
       "      <td>731266.943424</td>\n",
       "      <td>43.737000</td>\n",
       "      <td>-105.441568</td>\n",
       "      <td>1496.53</td>\n",
       "      <td>1498.16</td>\n",
       "      <td>1.52</td>\n",
       "      <td>31</td>\n",
       "    </tr>\n",
       "    <tr>\n",
       "      <th>19</th>\n",
       "      <td>2003.139571</td>\n",
       "      <td>731266.943429</td>\n",
       "      <td>43.706060</td>\n",
       "      <td>-105.447754</td>\n",
       "      <td>1459.99</td>\n",
       "      <td>1460.90</td>\n",
       "      <td>0.08</td>\n",
       "      <td>31</td>\n",
       "    </tr>\n",
       "    <tr>\n",
       "      <th>20</th>\n",
       "      <td>2003.139571</td>\n",
       "      <td>731266.943440</td>\n",
       "      <td>43.648800</td>\n",
       "      <td>-105.459264</td>\n",
       "      <td>1476.59</td>\n",
       "      <td>1477.00</td>\n",
       "      <td>0.18</td>\n",
       "      <td>31</td>\n",
       "    </tr>\n",
       "    <tr>\n",
       "      <th>21</th>\n",
       "      <td>2003.139573</td>\n",
       "      <td>731266.944177</td>\n",
       "      <td>39.703389</td>\n",
       "      <td>-106.218798</td>\n",
       "      <td>3282.69</td>\n",
       "      <td>3299.32</td>\n",
       "      <td>26.43</td>\n",
       "      <td>31</td>\n",
       "    </tr>\n",
       "    <tr>\n",
       "      <th>22</th>\n",
       "      <td>2003.139573</td>\n",
       "      <td>731266.944178</td>\n",
       "      <td>39.698740</td>\n",
       "      <td>-106.219636</td>\n",
       "      <td>3441.40</td>\n",
       "      <td>3446.35</td>\n",
       "      <td>3.02</td>\n",
       "      <td>31</td>\n",
       "    </tr>\n",
       "    <tr>\n",
       "      <th>23</th>\n",
       "      <td>2003.139573</td>\n",
       "      <td>731266.944184</td>\n",
       "      <td>39.669291</td>\n",
       "      <td>-106.225142</td>\n",
       "      <td>3505.12</td>\n",
       "      <td>3508.25</td>\n",
       "      <td>5.74</td>\n",
       "      <td>12</td>\n",
       "    </tr>\n",
       "    <tr>\n",
       "      <th>24</th>\n",
       "      <td>2003.139573</td>\n",
       "      <td>731266.944184</td>\n",
       "      <td>39.666205</td>\n",
       "      <td>-106.225719</td>\n",
       "      <td>3626.78</td>\n",
       "      <td>3608.66</td>\n",
       "      <td>14.82</td>\n",
       "      <td>31</td>\n",
       "    </tr>\n",
       "    <tr>\n",
       "      <th>25</th>\n",
       "      <td>2003.139573</td>\n",
       "      <td>731266.944191</td>\n",
       "      <td>39.632069</td>\n",
       "      <td>-106.231963</td>\n",
       "      <td>3201.05</td>\n",
       "      <td>3196.42</td>\n",
       "      <td>14.64</td>\n",
       "      <td>31</td>\n",
       "    </tr>\n",
       "    <tr>\n",
       "      <th>26</th>\n",
       "      <td>2003.139573</td>\n",
       "      <td>731266.944193</td>\n",
       "      <td>39.618129</td>\n",
       "      <td>-106.234573</td>\n",
       "      <td>3369.84</td>\n",
       "      <td>3378.92</td>\n",
       "      <td>13.98</td>\n",
       "      <td>31</td>\n",
       "    </tr>\n",
       "    <tr>\n",
       "      <th>27</th>\n",
       "      <td>2003.139573</td>\n",
       "      <td>731266.944312</td>\n",
       "      <td>38.982866</td>\n",
       "      <td>-106.351290</td>\n",
       "      <td>3573.84</td>\n",
       "      <td>3575.38</td>\n",
       "      <td>22.70</td>\n",
       "      <td>31</td>\n",
       "    </tr>\n",
       "    <tr>\n",
       "      <th>28</th>\n",
       "      <td>2003.139573</td>\n",
       "      <td>731266.944315</td>\n",
       "      <td>38.967383</td>\n",
       "      <td>-106.354065</td>\n",
       "      <td>3856.17</td>\n",
       "      <td>3857.83</td>\n",
       "      <td>8.99</td>\n",
       "      <td>31</td>\n",
       "    </tr>\n",
       "    <tr>\n",
       "      <th>29</th>\n",
       "      <td>2003.139573</td>\n",
       "      <td>731266.944315</td>\n",
       "      <td>38.964285</td>\n",
       "      <td>-106.354608</td>\n",
       "      <td>3963.13</td>\n",
       "      <td>3964.91</td>\n",
       "      <td>6.56</td>\n",
       "      <td>31</td>\n",
       "    </tr>\n",
       "    <tr>\n",
       "      <th>...</th>\n",
       "      <td>...</td>\n",
       "      <td>...</td>\n",
       "      <td>...</td>\n",
       "      <td>...</td>\n",
       "      <td>...</td>\n",
       "      <td>...</td>\n",
       "      <td>...</td>\n",
       "      <td>...</td>\n",
       "    </tr>\n",
       "    <tr>\n",
       "      <th>65206</th>\n",
       "      <td>2009.775995</td>\n",
       "      <td>733691.238332</td>\n",
       "      <td>37.857479</td>\n",
       "      <td>-117.037425</td>\n",
       "      <td>1556.01</td>\n",
       "      <td>1556.39</td>\n",
       "      <td>0.00</td>\n",
       "      <td>31</td>\n",
       "    </tr>\n",
       "    <tr>\n",
       "      <th>65207</th>\n",
       "      <td>2009.775995</td>\n",
       "      <td>733691.238333</td>\n",
       "      <td>37.859032</td>\n",
       "      <td>-117.037704</td>\n",
       "      <td>1556.33</td>\n",
       "      <td>1556.40</td>\n",
       "      <td>0.00</td>\n",
       "      <td>31</td>\n",
       "    </tr>\n",
       "    <tr>\n",
       "      <th>65208</th>\n",
       "      <td>2009.775995</td>\n",
       "      <td>733691.238333</td>\n",
       "      <td>37.860583</td>\n",
       "      <td>-117.037983</td>\n",
       "      <td>1556.07</td>\n",
       "      <td>1556.40</td>\n",
       "      <td>0.00</td>\n",
       "      <td>31</td>\n",
       "    </tr>\n",
       "    <tr>\n",
       "      <th>65209</th>\n",
       "      <td>2009.775995</td>\n",
       "      <td>733691.238333</td>\n",
       "      <td>37.862133</td>\n",
       "      <td>-117.038265</td>\n",
       "      <td>1556.13</td>\n",
       "      <td>1556.40</td>\n",
       "      <td>0.00</td>\n",
       "      <td>31</td>\n",
       "    </tr>\n",
       "    <tr>\n",
       "      <th>65210</th>\n",
       "      <td>2009.775995</td>\n",
       "      <td>733691.238334</td>\n",
       "      <td>37.863683</td>\n",
       "      <td>-117.038547</td>\n",
       "      <td>1556.13</td>\n",
       "      <td>1556.40</td>\n",
       "      <td>0.00</td>\n",
       "      <td>31</td>\n",
       "    </tr>\n",
       "    <tr>\n",
       "      <th>65211</th>\n",
       "      <td>2009.775995</td>\n",
       "      <td>733691.238334</td>\n",
       "      <td>37.865233</td>\n",
       "      <td>-117.038829</td>\n",
       "      <td>1556.12</td>\n",
       "      <td>1556.40</td>\n",
       "      <td>0.00</td>\n",
       "      <td>31</td>\n",
       "    </tr>\n",
       "    <tr>\n",
       "      <th>65212</th>\n",
       "      <td>2009.775995</td>\n",
       "      <td>733691.238334</td>\n",
       "      <td>37.866785</td>\n",
       "      <td>-117.039111</td>\n",
       "      <td>1556.06</td>\n",
       "      <td>1556.40</td>\n",
       "      <td>0.00</td>\n",
       "      <td>31</td>\n",
       "    </tr>\n",
       "    <tr>\n",
       "      <th>65213</th>\n",
       "      <td>2009.775995</td>\n",
       "      <td>733691.238334</td>\n",
       "      <td>37.868340</td>\n",
       "      <td>-117.039391</td>\n",
       "      <td>1556.25</td>\n",
       "      <td>1556.41</td>\n",
       "      <td>0.00</td>\n",
       "      <td>31</td>\n",
       "    </tr>\n",
       "    <tr>\n",
       "      <th>65214</th>\n",
       "      <td>2009.775995</td>\n",
       "      <td>733691.238335</td>\n",
       "      <td>37.869895</td>\n",
       "      <td>-117.039671</td>\n",
       "      <td>1556.01</td>\n",
       "      <td>1556.41</td>\n",
       "      <td>0.00</td>\n",
       "      <td>31</td>\n",
       "    </tr>\n",
       "    <tr>\n",
       "      <th>65215</th>\n",
       "      <td>2009.775995</td>\n",
       "      <td>733691.238335</td>\n",
       "      <td>37.871449</td>\n",
       "      <td>-117.039950</td>\n",
       "      <td>1556.05</td>\n",
       "      <td>1556.41</td>\n",
       "      <td>0.00</td>\n",
       "      <td>31</td>\n",
       "    </tr>\n",
       "    <tr>\n",
       "      <th>65216</th>\n",
       "      <td>2009.775995</td>\n",
       "      <td>733691.238335</td>\n",
       "      <td>37.873003</td>\n",
       "      <td>-117.040228</td>\n",
       "      <td>1556.10</td>\n",
       "      <td>1556.41</td>\n",
       "      <td>0.00</td>\n",
       "      <td>31</td>\n",
       "    </tr>\n",
       "    <tr>\n",
       "      <th>65217</th>\n",
       "      <td>2009.775995</td>\n",
       "      <td>733691.238336</td>\n",
       "      <td>37.874555</td>\n",
       "      <td>-117.040504</td>\n",
       "      <td>1556.16</td>\n",
       "      <td>1556.46</td>\n",
       "      <td>0.01</td>\n",
       "      <td>31</td>\n",
       "    </tr>\n",
       "    <tr>\n",
       "      <th>65218</th>\n",
       "      <td>2009.775995</td>\n",
       "      <td>733691.238336</td>\n",
       "      <td>37.876105</td>\n",
       "      <td>-117.040780</td>\n",
       "      <td>1556.08</td>\n",
       "      <td>1556.39</td>\n",
       "      <td>0.01</td>\n",
       "      <td>31</td>\n",
       "    </tr>\n",
       "    <tr>\n",
       "      <th>65219</th>\n",
       "      <td>2009.775995</td>\n",
       "      <td>733691.238336</td>\n",
       "      <td>37.877655</td>\n",
       "      <td>-117.041055</td>\n",
       "      <td>1556.05</td>\n",
       "      <td>1556.41</td>\n",
       "      <td>0.00</td>\n",
       "      <td>31</td>\n",
       "    </tr>\n",
       "    <tr>\n",
       "      <th>65220</th>\n",
       "      <td>2009.775995</td>\n",
       "      <td>733691.238336</td>\n",
       "      <td>37.879203</td>\n",
       "      <td>-117.041333</td>\n",
       "      <td>1556.13</td>\n",
       "      <td>1556.41</td>\n",
       "      <td>0.00</td>\n",
       "      <td>31</td>\n",
       "    </tr>\n",
       "    <tr>\n",
       "      <th>65221</th>\n",
       "      <td>2009.775995</td>\n",
       "      <td>733691.238337</td>\n",
       "      <td>37.880750</td>\n",
       "      <td>-117.041613</td>\n",
       "      <td>1556.03</td>\n",
       "      <td>1556.41</td>\n",
       "      <td>0.00</td>\n",
       "      <td>31</td>\n",
       "    </tr>\n",
       "    <tr>\n",
       "      <th>65222</th>\n",
       "      <td>2009.775995</td>\n",
       "      <td>733691.238337</td>\n",
       "      <td>37.882297</td>\n",
       "      <td>-117.041894</td>\n",
       "      <td>1555.98</td>\n",
       "      <td>1556.42</td>\n",
       "      <td>0.00</td>\n",
       "      <td>31</td>\n",
       "    </tr>\n",
       "    <tr>\n",
       "      <th>65223</th>\n",
       "      <td>2009.775995</td>\n",
       "      <td>733691.238337</td>\n",
       "      <td>37.883843</td>\n",
       "      <td>-117.042175</td>\n",
       "      <td>1556.21</td>\n",
       "      <td>1556.42</td>\n",
       "      <td>0.00</td>\n",
       "      <td>31</td>\n",
       "    </tr>\n",
       "    <tr>\n",
       "      <th>65224</th>\n",
       "      <td>2009.775995</td>\n",
       "      <td>733691.238338</td>\n",
       "      <td>37.885391</td>\n",
       "      <td>-117.042455</td>\n",
       "      <td>1555.96</td>\n",
       "      <td>1556.42</td>\n",
       "      <td>0.00</td>\n",
       "      <td>31</td>\n",
       "    </tr>\n",
       "    <tr>\n",
       "      <th>65225</th>\n",
       "      <td>2009.775995</td>\n",
       "      <td>733691.238338</td>\n",
       "      <td>37.886939</td>\n",
       "      <td>-117.042734</td>\n",
       "      <td>1555.88</td>\n",
       "      <td>1556.42</td>\n",
       "      <td>0.00</td>\n",
       "      <td>31</td>\n",
       "    </tr>\n",
       "    <tr>\n",
       "      <th>65226</th>\n",
       "      <td>2009.775995</td>\n",
       "      <td>733691.238338</td>\n",
       "      <td>37.888488</td>\n",
       "      <td>-117.043013</td>\n",
       "      <td>1555.92</td>\n",
       "      <td>1556.42</td>\n",
       "      <td>0.00</td>\n",
       "      <td>31</td>\n",
       "    </tr>\n",
       "    <tr>\n",
       "      <th>65227</th>\n",
       "      <td>2009.775995</td>\n",
       "      <td>733691.238338</td>\n",
       "      <td>37.890037</td>\n",
       "      <td>-117.043291</td>\n",
       "      <td>1556.05</td>\n",
       "      <td>1556.43</td>\n",
       "      <td>0.00</td>\n",
       "      <td>31</td>\n",
       "    </tr>\n",
       "    <tr>\n",
       "      <th>65228</th>\n",
       "      <td>2009.775995</td>\n",
       "      <td>733691.238339</td>\n",
       "      <td>37.891584</td>\n",
       "      <td>-117.043569</td>\n",
       "      <td>1556.05</td>\n",
       "      <td>1556.43</td>\n",
       "      <td>0.00</td>\n",
       "      <td>31</td>\n",
       "    </tr>\n",
       "    <tr>\n",
       "      <th>65229</th>\n",
       "      <td>2009.775995</td>\n",
       "      <td>733691.238339</td>\n",
       "      <td>37.893130</td>\n",
       "      <td>-117.043846</td>\n",
       "      <td>1555.94</td>\n",
       "      <td>1556.43</td>\n",
       "      <td>0.00</td>\n",
       "      <td>31</td>\n",
       "    </tr>\n",
       "    <tr>\n",
       "      <th>65230</th>\n",
       "      <td>2009.775995</td>\n",
       "      <td>733691.238339</td>\n",
       "      <td>37.894676</td>\n",
       "      <td>-117.044122</td>\n",
       "      <td>1556.00</td>\n",
       "      <td>1556.43</td>\n",
       "      <td>0.00</td>\n",
       "      <td>31</td>\n",
       "    </tr>\n",
       "    <tr>\n",
       "      <th>65231</th>\n",
       "      <td>2009.775995</td>\n",
       "      <td>733691.238340</td>\n",
       "      <td>37.896222</td>\n",
       "      <td>-117.044399</td>\n",
       "      <td>1556.16</td>\n",
       "      <td>1556.43</td>\n",
       "      <td>0.00</td>\n",
       "      <td>31</td>\n",
       "    </tr>\n",
       "    <tr>\n",
       "      <th>65232</th>\n",
       "      <td>2009.775995</td>\n",
       "      <td>733691.238340</td>\n",
       "      <td>37.897769</td>\n",
       "      <td>-117.044675</td>\n",
       "      <td>1556.02</td>\n",
       "      <td>1556.43</td>\n",
       "      <td>0.00</td>\n",
       "      <td>31</td>\n",
       "    </tr>\n",
       "    <tr>\n",
       "      <th>65233</th>\n",
       "      <td>2009.775995</td>\n",
       "      <td>733691.238340</td>\n",
       "      <td>37.899319</td>\n",
       "      <td>-117.044952</td>\n",
       "      <td>1556.19</td>\n",
       "      <td>1556.44</td>\n",
       "      <td>0.00</td>\n",
       "      <td>31</td>\n",
       "    </tr>\n",
       "    <tr>\n",
       "      <th>65234</th>\n",
       "      <td>2009.775995</td>\n",
       "      <td>733691.238340</td>\n",
       "      <td>37.900869</td>\n",
       "      <td>-117.045230</td>\n",
       "      <td>1556.18</td>\n",
       "      <td>1556.44</td>\n",
       "      <td>0.00</td>\n",
       "      <td>31</td>\n",
       "    </tr>\n",
       "    <tr>\n",
       "      <th>65235</th>\n",
       "      <td>2009.775995</td>\n",
       "      <td>733691.238341</td>\n",
       "      <td>37.902420</td>\n",
       "      <td>-117.045508</td>\n",
       "      <td>1556.32</td>\n",
       "      <td>1556.44</td>\n",
       "      <td>0.00</td>\n",
       "      <td>31</td>\n",
       "    </tr>\n",
       "  </tbody>\n",
       "</table>\n",
       "<p>65236 rows × 8 columns</p>\n",
       "</div>"
      ],
      "text/plain": [
       "           decyear        ordinal        lat         lon   glas_z    dem_z  \\\n",
       "0      2003.139571  731266.943345  44.157897 -105.356562  1398.51  1400.52   \n",
       "1      2003.139571  731266.943346  44.150175 -105.358116  1387.11  1384.64   \n",
       "2      2003.139571  731266.943347  44.148632 -105.358427  1392.83  1383.49   \n",
       "3      2003.139571  731266.943347  44.147087 -105.358738  1384.24  1382.85   \n",
       "4      2003.139571  731266.943347  44.145542 -105.359048  1369.21  1380.24   \n",
       "5      2003.139571  731266.943347  44.143996 -105.359359  1366.60  1375.23   \n",
       "6      2003.139571  731266.943351  44.126969 -105.362876  1355.14  1379.38   \n",
       "7      2003.139571  731266.943360  44.074358 -105.373549  1369.53  1391.71   \n",
       "8      2003.139571  731266.943361  44.072806 -105.373864  1380.02  1387.79   \n",
       "9      2003.139571  731266.943361  44.071256 -105.374177  1391.47  1396.90   \n",
       "10     2003.139571  731266.943362  44.063515 -105.375712  1388.58  1408.54   \n",
       "11     2003.139571  731266.943363  44.061967 -105.376015  1372.55  1406.21   \n",
       "12     2003.139571  731266.943364  44.057328 -105.376934  1402.38  1406.23   \n",
       "13     2003.139571  731266.943364  44.055780 -105.377243  1401.82  1405.75   \n",
       "14     2003.139571  731266.943364  44.054231 -105.377553  1399.31  1406.05   \n",
       "15     2003.139571  731266.943366  44.046487 -105.379115  1394.22  1398.14   \n",
       "16     2003.139571  731266.943366  44.044941 -105.379430  1394.94  1400.58   \n",
       "17     2003.139571  731266.943367  44.041850 -105.380064  1386.00  1389.69   \n",
       "18     2003.139571  731266.943424  43.737000 -105.441568  1496.53  1498.16   \n",
       "19     2003.139571  731266.943429  43.706060 -105.447754  1459.99  1460.90   \n",
       "20     2003.139571  731266.943440  43.648800 -105.459264  1476.59  1477.00   \n",
       "21     2003.139573  731266.944177  39.703389 -106.218798  3282.69  3299.32   \n",
       "22     2003.139573  731266.944178  39.698740 -106.219636  3441.40  3446.35   \n",
       "23     2003.139573  731266.944184  39.669291 -106.225142  3505.12  3508.25   \n",
       "24     2003.139573  731266.944184  39.666205 -106.225719  3626.78  3608.66   \n",
       "25     2003.139573  731266.944191  39.632069 -106.231963  3201.05  3196.42   \n",
       "26     2003.139573  731266.944193  39.618129 -106.234573  3369.84  3378.92   \n",
       "27     2003.139573  731266.944312  38.982866 -106.351290  3573.84  3575.38   \n",
       "28     2003.139573  731266.944315  38.967383 -106.354065  3856.17  3857.83   \n",
       "29     2003.139573  731266.944315  38.964285 -106.354608  3963.13  3964.91   \n",
       "...            ...            ...        ...         ...      ...      ...   \n",
       "65206  2009.775995  733691.238332  37.857479 -117.037425  1556.01  1556.39   \n",
       "65207  2009.775995  733691.238333  37.859032 -117.037704  1556.33  1556.40   \n",
       "65208  2009.775995  733691.238333  37.860583 -117.037983  1556.07  1556.40   \n",
       "65209  2009.775995  733691.238333  37.862133 -117.038265  1556.13  1556.40   \n",
       "65210  2009.775995  733691.238334  37.863683 -117.038547  1556.13  1556.40   \n",
       "65211  2009.775995  733691.238334  37.865233 -117.038829  1556.12  1556.40   \n",
       "65212  2009.775995  733691.238334  37.866785 -117.039111  1556.06  1556.40   \n",
       "65213  2009.775995  733691.238334  37.868340 -117.039391  1556.25  1556.41   \n",
       "65214  2009.775995  733691.238335  37.869895 -117.039671  1556.01  1556.41   \n",
       "65215  2009.775995  733691.238335  37.871449 -117.039950  1556.05  1556.41   \n",
       "65216  2009.775995  733691.238335  37.873003 -117.040228  1556.10  1556.41   \n",
       "65217  2009.775995  733691.238336  37.874555 -117.040504  1556.16  1556.46   \n",
       "65218  2009.775995  733691.238336  37.876105 -117.040780  1556.08  1556.39   \n",
       "65219  2009.775995  733691.238336  37.877655 -117.041055  1556.05  1556.41   \n",
       "65220  2009.775995  733691.238336  37.879203 -117.041333  1556.13  1556.41   \n",
       "65221  2009.775995  733691.238337  37.880750 -117.041613  1556.03  1556.41   \n",
       "65222  2009.775995  733691.238337  37.882297 -117.041894  1555.98  1556.42   \n",
       "65223  2009.775995  733691.238337  37.883843 -117.042175  1556.21  1556.42   \n",
       "65224  2009.775995  733691.238338  37.885391 -117.042455  1555.96  1556.42   \n",
       "65225  2009.775995  733691.238338  37.886939 -117.042734  1555.88  1556.42   \n",
       "65226  2009.775995  733691.238338  37.888488 -117.043013  1555.92  1556.42   \n",
       "65227  2009.775995  733691.238338  37.890037 -117.043291  1556.05  1556.43   \n",
       "65228  2009.775995  733691.238339  37.891584 -117.043569  1556.05  1556.43   \n",
       "65229  2009.775995  733691.238339  37.893130 -117.043846  1555.94  1556.43   \n",
       "65230  2009.775995  733691.238339  37.894676 -117.044122  1556.00  1556.43   \n",
       "65231  2009.775995  733691.238340  37.896222 -117.044399  1556.16  1556.43   \n",
       "65232  2009.775995  733691.238340  37.897769 -117.044675  1556.02  1556.43   \n",
       "65233  2009.775995  733691.238340  37.899319 -117.044952  1556.19  1556.44   \n",
       "65234  2009.775995  733691.238340  37.900869 -117.045230  1556.18  1556.44   \n",
       "65235  2009.775995  733691.238341  37.902420 -117.045508  1556.32  1556.44   \n",
       "\n",
       "       dem_z_std  lulc  \n",
       "0           0.33    31  \n",
       "1           0.43    31  \n",
       "2           0.28    31  \n",
       "3           0.84    31  \n",
       "4           1.73    31  \n",
       "5           1.60    31  \n",
       "6           2.17    31  \n",
       "7           2.88    31  \n",
       "8           0.45    31  \n",
       "9           1.56    31  \n",
       "10          0.24    31  \n",
       "11          0.17    31  \n",
       "12          0.33    31  \n",
       "13          0.35    31  \n",
       "14          0.68    31  \n",
       "15          0.27    31  \n",
       "16          0.17    31  \n",
       "17          0.57    31  \n",
       "18          1.52    31  \n",
       "19          0.08    31  \n",
       "20          0.18    31  \n",
       "21         26.43    31  \n",
       "22          3.02    31  \n",
       "23          5.74    12  \n",
       "24         14.82    31  \n",
       "25         14.64    31  \n",
       "26         13.98    31  \n",
       "27         22.70    31  \n",
       "28          8.99    31  \n",
       "29          6.56    31  \n",
       "...          ...   ...  \n",
       "65206       0.00    31  \n",
       "65207       0.00    31  \n",
       "65208       0.00    31  \n",
       "65209       0.00    31  \n",
       "65210       0.00    31  \n",
       "65211       0.00    31  \n",
       "65212       0.00    31  \n",
       "65213       0.00    31  \n",
       "65214       0.00    31  \n",
       "65215       0.00    31  \n",
       "65216       0.00    31  \n",
       "65217       0.01    31  \n",
       "65218       0.01    31  \n",
       "65219       0.00    31  \n",
       "65220       0.00    31  \n",
       "65221       0.00    31  \n",
       "65222       0.00    31  \n",
       "65223       0.00    31  \n",
       "65224       0.00    31  \n",
       "65225       0.00    31  \n",
       "65226       0.00    31  \n",
       "65227       0.00    31  \n",
       "65228       0.00    31  \n",
       "65229       0.00    31  \n",
       "65230       0.00    31  \n",
       "65231       0.00    31  \n",
       "65232       0.00    31  \n",
       "65233       0.00    31  \n",
       "65234       0.00    31  \n",
       "65235       0.00    31  \n",
       "\n",
       "[65236 rows x 8 columns]"
      ]
     },
     "execution_count": 8,
     "metadata": {},
     "output_type": "execute_result"
    }
   ],
   "source": [
    "glas_df\n"
   ]
  },
  {
   "cell_type": "code",
   "execution_count": 9,
   "metadata": {},
   "outputs": [
    {
     "name": "stdout",
     "output_type": "stream",
     "text": [
      "<class 'pandas.core.frame.DataFrame'>\n",
      "RangeIndex: 65236 entries, 0 to 65235\n",
      "Data columns (total 8 columns):\n",
      "decyear      65236 non-null float64\n",
      "ordinal      65236 non-null float64\n",
      "lat          65236 non-null float64\n",
      "lon          65236 non-null float64\n",
      "glas_z       65236 non-null float64\n",
      "dem_z        65236 non-null float64\n",
      "dem_z_std    65236 non-null float64\n",
      "lulc         65236 non-null int64\n",
      "dtypes: float64(7), int64(1)\n",
      "memory usage: 4.0 MB\n"
     ]
    }
   ],
   "source": [
    "glas_df.info()"
   ]
  },
  {
   "cell_type": "code",
   "execution_count": 10,
   "metadata": {},
   "outputs": [
    {
     "data": {
      "text/plain": [
       "Index(['decyear', 'ordinal', 'lat', 'lon', 'glas_z', 'dem_z', 'dem_z_std',\n",
       "       'lulc'],\n",
       "      dtype='object')"
      ]
     },
     "execution_count": 10,
     "metadata": {},
     "output_type": "execute_result"
    }
   ],
   "source": [
    "glas_df.columns"
   ]
  },
  {
   "cell_type": "code",
   "execution_count": 11,
   "metadata": {},
   "outputs": [
    {
     "data": {
      "text/html": [
       "<div>\n",
       "<style scoped>\n",
       "    .dataframe tbody tr th:only-of-type {\n",
       "        vertical-align: middle;\n",
       "    }\n",
       "\n",
       "    .dataframe tbody tr th {\n",
       "        vertical-align: top;\n",
       "    }\n",
       "\n",
       "    .dataframe thead th {\n",
       "        text-align: right;\n",
       "    }\n",
       "</style>\n",
       "<table border=\"1\" class=\"dataframe\">\n",
       "  <thead>\n",
       "    <tr style=\"text-align: right;\">\n",
       "      <th></th>\n",
       "      <th>decyear</th>\n",
       "      <th>ordinal</th>\n",
       "      <th>lat</th>\n",
       "      <th>lon</th>\n",
       "      <th>glas_z</th>\n",
       "      <th>dem_z</th>\n",
       "      <th>dem_z_std</th>\n",
       "      <th>lulc</th>\n",
       "    </tr>\n",
       "  </thead>\n",
       "  <tbody>\n",
       "    <tr>\n",
       "      <th>0</th>\n",
       "      <td>2003.139571</td>\n",
       "      <td>731266.943345</td>\n",
       "      <td>44.157897</td>\n",
       "      <td>-105.356562</td>\n",
       "      <td>1398.51</td>\n",
       "      <td>1400.52</td>\n",
       "      <td>0.33</td>\n",
       "      <td>31</td>\n",
       "    </tr>\n",
       "    <tr>\n",
       "      <th>1</th>\n",
       "      <td>2003.139571</td>\n",
       "      <td>731266.943346</td>\n",
       "      <td>44.150175</td>\n",
       "      <td>-105.358116</td>\n",
       "      <td>1387.11</td>\n",
       "      <td>1384.64</td>\n",
       "      <td>0.43</td>\n",
       "      <td>31</td>\n",
       "    </tr>\n",
       "    <tr>\n",
       "      <th>2</th>\n",
       "      <td>2003.139571</td>\n",
       "      <td>731266.943347</td>\n",
       "      <td>44.148632</td>\n",
       "      <td>-105.358427</td>\n",
       "      <td>1392.83</td>\n",
       "      <td>1383.49</td>\n",
       "      <td>0.28</td>\n",
       "      <td>31</td>\n",
       "    </tr>\n",
       "    <tr>\n",
       "      <th>3</th>\n",
       "      <td>2003.139571</td>\n",
       "      <td>731266.943347</td>\n",
       "      <td>44.147087</td>\n",
       "      <td>-105.358738</td>\n",
       "      <td>1384.24</td>\n",
       "      <td>1382.85</td>\n",
       "      <td>0.84</td>\n",
       "      <td>31</td>\n",
       "    </tr>\n",
       "    <tr>\n",
       "      <th>4</th>\n",
       "      <td>2003.139571</td>\n",
       "      <td>731266.943347</td>\n",
       "      <td>44.145542</td>\n",
       "      <td>-105.359048</td>\n",
       "      <td>1369.21</td>\n",
       "      <td>1380.24</td>\n",
       "      <td>1.73</td>\n",
       "      <td>31</td>\n",
       "    </tr>\n",
       "  </tbody>\n",
       "</table>\n",
       "</div>"
      ],
      "text/plain": [
       "       decyear        ordinal        lat         lon   glas_z    dem_z  \\\n",
       "0  2003.139571  731266.943345  44.157897 -105.356562  1398.51  1400.52   \n",
       "1  2003.139571  731266.943346  44.150175 -105.358116  1387.11  1384.64   \n",
       "2  2003.139571  731266.943347  44.148632 -105.358427  1392.83  1383.49   \n",
       "3  2003.139571  731266.943347  44.147087 -105.358738  1384.24  1382.85   \n",
       "4  2003.139571  731266.943347  44.145542 -105.359048  1369.21  1380.24   \n",
       "\n",
       "   dem_z_std  lulc  \n",
       "0       0.33    31  \n",
       "1       0.43    31  \n",
       "2       0.28    31  \n",
       "3       0.84    31  \n",
       "4       1.73    31  "
      ]
     },
     "execution_count": 11,
     "metadata": {},
     "output_type": "execute_result"
    }
   ],
   "source": [
    "glas_df.head()"
   ]
  },
  {
   "cell_type": "code",
   "execution_count": 12,
   "metadata": {},
   "outputs": [
    {
     "data": {
      "text/html": [
       "<div>\n",
       "<style scoped>\n",
       "    .dataframe tbody tr th:only-of-type {\n",
       "        vertical-align: middle;\n",
       "    }\n",
       "\n",
       "    .dataframe tbody tr th {\n",
       "        vertical-align: top;\n",
       "    }\n",
       "\n",
       "    .dataframe thead th {\n",
       "        text-align: right;\n",
       "    }\n",
       "</style>\n",
       "<table border=\"1\" class=\"dataframe\">\n",
       "  <thead>\n",
       "    <tr style=\"text-align: right;\">\n",
       "      <th></th>\n",
       "      <th>decyear</th>\n",
       "      <th>ordinal</th>\n",
       "      <th>lat</th>\n",
       "      <th>lon</th>\n",
       "      <th>glas_z</th>\n",
       "      <th>dem_z</th>\n",
       "      <th>dem_z_std</th>\n",
       "      <th>lulc</th>\n",
       "    </tr>\n",
       "  </thead>\n",
       "  <tbody>\n",
       "    <tr>\n",
       "      <th>count</th>\n",
       "      <td>65236.000000</td>\n",
       "      <td>65236.000000</td>\n",
       "      <td>65236.000000</td>\n",
       "      <td>65236.000000</td>\n",
       "      <td>65236.000000</td>\n",
       "      <td>65236.000000</td>\n",
       "      <td>65236.000000</td>\n",
       "      <td>65236.000000</td>\n",
       "    </tr>\n",
       "    <tr>\n",
       "      <th>mean</th>\n",
       "      <td>2005.945322</td>\n",
       "      <td>732291.890372</td>\n",
       "      <td>40.946798</td>\n",
       "      <td>-115.040612</td>\n",
       "      <td>1791.494167</td>\n",
       "      <td>1792.260964</td>\n",
       "      <td>5.504748</td>\n",
       "      <td>30.339444</td>\n",
       "    </tr>\n",
       "    <tr>\n",
       "      <th>std</th>\n",
       "      <td>1.729573</td>\n",
       "      <td>631.766682</td>\n",
       "      <td>3.590476</td>\n",
       "      <td>5.465065</td>\n",
       "      <td>1037.183482</td>\n",
       "      <td>1037.925371</td>\n",
       "      <td>7.518558</td>\n",
       "      <td>3.480576</td>\n",
       "    </tr>\n",
       "    <tr>\n",
       "      <th>min</th>\n",
       "      <td>2003.139571</td>\n",
       "      <td>731266.943345</td>\n",
       "      <td>34.999455</td>\n",
       "      <td>-124.482406</td>\n",
       "      <td>-115.550000</td>\n",
       "      <td>-114.570000</td>\n",
       "      <td>0.000000</td>\n",
       "      <td>12.000000</td>\n",
       "    </tr>\n",
       "    <tr>\n",
       "      <th>25%</th>\n",
       "      <td>2004.444817</td>\n",
       "      <td>731743.803182</td>\n",
       "      <td>38.101451</td>\n",
       "      <td>-119.257599</td>\n",
       "      <td>1166.970000</td>\n",
       "      <td>1168.240000</td>\n",
       "      <td>0.070000</td>\n",
       "      <td>31.000000</td>\n",
       "    </tr>\n",
       "    <tr>\n",
       "      <th>50%</th>\n",
       "      <td>2005.846896</td>\n",
       "      <td>732256.116938</td>\n",
       "      <td>39.884541</td>\n",
       "      <td>-115.686241</td>\n",
       "      <td>1555.730000</td>\n",
       "      <td>1556.380000</td>\n",
       "      <td>1.350000</td>\n",
       "      <td>31.000000</td>\n",
       "    </tr>\n",
       "    <tr>\n",
       "      <th>75%</th>\n",
       "      <td>2007.223249</td>\n",
       "      <td>732758.486046</td>\n",
       "      <td>43.453565</td>\n",
       "      <td>-109.816475</td>\n",
       "      <td>2399.355000</td>\n",
       "      <td>2400.072500</td>\n",
       "      <td>9.530000</td>\n",
       "      <td>31.000000</td>\n",
       "    </tr>\n",
       "    <tr>\n",
       "      <th>max</th>\n",
       "      <td>2009.775995</td>\n",
       "      <td>733691.238341</td>\n",
       "      <td>48.999727</td>\n",
       "      <td>-104.052336</td>\n",
       "      <td>4340.310000</td>\n",
       "      <td>4252.940000</td>\n",
       "      <td>49.900000</td>\n",
       "      <td>31.000000</td>\n",
       "    </tr>\n",
       "  </tbody>\n",
       "</table>\n",
       "</div>"
      ],
      "text/plain": [
       "            decyear        ordinal           lat           lon        glas_z  \\\n",
       "count  65236.000000   65236.000000  65236.000000  65236.000000  65236.000000   \n",
       "mean    2005.945322  732291.890372     40.946798   -115.040612   1791.494167   \n",
       "std        1.729573     631.766682      3.590476      5.465065   1037.183482   \n",
       "min     2003.139571  731266.943345     34.999455   -124.482406   -115.550000   \n",
       "25%     2004.444817  731743.803182     38.101451   -119.257599   1166.970000   \n",
       "50%     2005.846896  732256.116938     39.884541   -115.686241   1555.730000   \n",
       "75%     2007.223249  732758.486046     43.453565   -109.816475   2399.355000   \n",
       "max     2009.775995  733691.238341     48.999727   -104.052336   4340.310000   \n",
       "\n",
       "              dem_z     dem_z_std          lulc  \n",
       "count  65236.000000  65236.000000  65236.000000  \n",
       "mean    1792.260964      5.504748     30.339444  \n",
       "std     1037.925371      7.518558      3.480576  \n",
       "min     -114.570000      0.000000     12.000000  \n",
       "25%     1168.240000      0.070000     31.000000  \n",
       "50%     1556.380000      1.350000     31.000000  \n",
       "75%     2400.072500      9.530000     31.000000  \n",
       "max     4252.940000     49.900000     31.000000  "
      ]
     },
     "execution_count": 12,
     "metadata": {},
     "output_type": "execute_result"
    }
   ],
   "source": [
    "glas_df.describe()"
   ]
  },
  {
   "cell_type": "code",
   "execution_count": 13,
   "metadata": {},
   "outputs": [
    {
     "data": {
      "text/plain": [
       "decyear        2005.945322\n",
       "ordinal      732291.890372\n",
       "lat              40.946798\n",
       "lon            -115.040612\n",
       "glas_z         1791.494167\n",
       "dem_z          1792.260964\n",
       "dem_z_std         5.504748\n",
       "lulc             30.339444\n",
       "dtype: float64"
      ]
     },
     "execution_count": 13,
     "metadata": {},
     "output_type": "execute_result"
    }
   ],
   "source": [
    "glas_df.mean()"
   ]
  },
  {
   "cell_type": "markdown",
   "metadata": {},
   "source": [
    "## Create a 2D scatterplot\n",
    "Use pandas built-in convenience plotting function\n",
    "\n",
    "A note on colormaps: https://matplotlib.org/3.1.0/tutorials/colors/colormaps.html\n",
    "\n",
    "Another great resource (Thanks @fperez!): https://matplotlib.org/cmocean/"
   ]
  },
  {
   "cell_type": "code",
   "execution_count": 14,
   "metadata": {},
   "outputs": [
    {
     "data": {
      "application/vnd.jupyter.widget-view+json": {
       "model_id": "20151f4ae25a40aba3c14bacdcc3036b",
       "version_major": 2,
       "version_minor": 0
      },
      "text/plain": [
       "FigureCanvasNbAgg()"
      ]
     },
     "metadata": {},
     "output_type": "display_data"
    },
    {
     "data": {
      "text/plain": [
       "<matplotlib.axes._subplots.AxesSubplot at 0x7f5a3d87e978>"
      ]
     },
     "execution_count": 14,
     "metadata": {},
     "output_type": "execute_result"
    }
   ],
   "source": [
    "glas_df.plot(x='lon', y='lat', kind='scatter', c='glas_z', s=1, cmap='inferno')"
   ]
  },
  {
   "cell_type": "markdown",
   "metadata": {},
   "source": [
    "## Create a 3D scatterplot\n",
    "Some lag, not very useful, but just so you know..."
   ]
  },
  {
   "cell_type": "code",
   "execution_count": 15,
   "metadata": {},
   "outputs": [
    {
     "data": {
      "application/vnd.jupyter.widget-view+json": {
       "model_id": "5dca185df0d244488808add053818373",
       "version_major": 2,
       "version_minor": 0
      },
      "text/plain": [
       "FigureCanvasNbAgg()"
      ]
     },
     "metadata": {},
     "output_type": "display_data"
    },
    {
     "data": {
      "text/plain": [
       "<matplotlib.colorbar.Colorbar at 0x7f5a385cc198>"
      ]
     },
     "execution_count": 15,
     "metadata": {},
     "output_type": "execute_result"
    }
   ],
   "source": [
    "from mpl_toolkits.mplot3d import Axes3D\n",
    "f = plt.figure()\n",
    "ax3D = f.add_subplot(111, projection='3d')\n",
    "sc = ax3D.scatter(glas_df['lon'], glas_df['lat'], glas_df['glas_z'], c=glas_df['glas_z'], s=1, cmap='inferno')\n",
    "#sc = ax3D.scatter(glas_df['lon'], glas_df['lat'], glas_df['glas_z'], c=glas_df['decyear'], s=1, cmap='inferno')\n",
    "plt.colorbar(sc)"
   ]
  },
  {
   "cell_type": "markdown",
   "metadata": {},
   "source": [
    "## Create a histogram of GLAS elevation values"
   ]
  },
  {
   "cell_type": "code",
   "execution_count": 16,
   "metadata": {},
   "outputs": [
    {
     "data": {
      "application/vnd.jupyter.widget-view+json": {
       "model_id": "11d61f0f4f8c45658fbd1c33ac6273e9",
       "version_major": 2,
       "version_minor": 0
      },
      "text/plain": [
       "FigureCanvasNbAgg()"
      ]
     },
     "metadata": {},
     "output_type": "display_data"
    },
    {
     "data": {
      "text/plain": [
       "array([[<matplotlib.axes._subplots.AxesSubplot object at 0x7f5a38049eb8>]],\n",
       "      dtype=object)"
      ]
     },
     "execution_count": 16,
     "metadata": {},
     "output_type": "execute_result"
    }
   ],
   "source": [
    "glas_df.hist('glas_z', bins=128)"
   ]
  },
  {
   "cell_type": "markdown",
   "metadata": {},
   "source": [
    "## A note on vertical datums\n",
    "\n",
    "Note that some elevations are less than 0 m.  How can this be?\n",
    "\n",
    "These are height values above (or below) the WGS84 ellipsoid.  Is this the same thing as mean sea level?\n",
    "\n",
    "https://vdatum.noaa.gov/docs/datums.html\n",
    "\n",
    "![Geodetic vs. Orthometric height](https://geodesy.noaa.gov/GEOID/IMAGES/d05.jpg)"
   ]
  },
  {
   "cell_type": "markdown",
   "metadata": {},
   "source": [
    "## Check spatial distribution of points below 0 (height above WGS84 ellipsoid)"
   ]
  },
  {
   "cell_type": "code",
   "execution_count": 17,
   "metadata": {},
   "outputs": [
    {
     "data": {
      "application/vnd.jupyter.widget-view+json": {
       "model_id": "96397d8c9a094cd497aec7e30de0e5e3",
       "version_major": 2,
       "version_minor": 0
      },
      "text/plain": [
       "FigureCanvasNbAgg()"
      ]
     },
     "metadata": {},
     "output_type": "display_data"
    }
   ],
   "source": [
    "ax = glas_df[glas_df['glas_z'] < 0].plot(x='lon', y='lat', kind='scatter', c='dem_z', s=1, cmap='inferno', vmin=-30, vmax=0)"
   ]
  },
  {
   "cell_type": "markdown",
   "metadata": {},
   "source": [
    "## Geoid offset\n",
    "Height differene between the WGS84 ellipsoid (simple shape model of the Earth) and a geoid, that approximates a geopotential (gravitational) surface, approximately mean sea level.\n",
    "\n",
    "EGM96 geoid offset grid\n",
    "\n",
    "https://upload.wikimedia.org/wikipedia/commons/3/3b/Earth_Gravitational_Model_1996.png\n",
    "\n",
    "![EGM96 geoid offset grid](https://upload.wikimedia.org/wikipedia/commons/3/3b/Earth_Gravitational_Model_1996.png)\n",
    "\n",
    "Note values for CONUS.  \n",
    "\n",
    "A lot of the points with elevation < 0 m in the above plot are near coastal sites, roughly near mean sea level.  We see that the geoid offset (difference between WGS84 ellipsoid and EGM96 geoid in this case) for CONUS is roughly -20 m.  So the ICESat GLAS point elevations relative to the ellipsoid near the coast are roughly -20 m, even though they are 0 m relative to the geoid (approximately mean sea level)."
   ]
  },
  {
   "cell_type": "markdown",
   "metadata": {},
   "source": [
    "## Compute the elevation difference between ICESat glas_z and SRTM dem_z values\n",
    "\n",
    "Earlier, I mentioned that I had sampled the SRTM-GL1 DEM for each GLAS shot.  Let's compute the difference and store in a new column in our DataFrame called `glas_srtm_dh`\n",
    "\n",
    "Remember the order of this calculation (if output difference values are negative, which dataset is higher?)"
   ]
  },
  {
   "cell_type": "code",
   "execution_count": 63,
   "metadata": {},
   "outputs": [
    {
     "ename": "NameError",
     "evalue": "name 'glas_df' is not defined",
     "output_type": "error",
     "traceback": [
      "\u001b[0;31m---------------------------------------------------------------------------\u001b[0m",
      "\u001b[0;31mNameError\u001b[0m                                 Traceback (most recent call last)",
      "\u001b[0;32m<ipython-input-63-6c264a77c46f>\u001b[0m in \u001b[0;36m<module>\u001b[0;34m\u001b[0m\n\u001b[0;32m----> 1\u001b[0;31m \u001b[0mglas_df\u001b[0m\u001b[0;34m[\u001b[0m\u001b[0;34m'glas_srtm_dh'\u001b[0m\u001b[0;34m]\u001b[0m \u001b[0;34m=\u001b[0m \u001b[0mglas_df\u001b[0m\u001b[0;34m[\u001b[0m\u001b[0;34m'glas_z'\u001b[0m\u001b[0;34m]\u001b[0m \u001b[0;34m-\u001b[0m \u001b[0mglas_df\u001b[0m\u001b[0;34m[\u001b[0m\u001b[0;34m'dem_z'\u001b[0m\u001b[0;34m]\u001b[0m\u001b[0;34m\u001b[0m\u001b[0;34m\u001b[0m\u001b[0m\n\u001b[0m\u001b[1;32m      2\u001b[0m \u001b[0mglas_df\u001b[0m\u001b[0;34m.\u001b[0m\u001b[0mhead\u001b[0m\u001b[0;34m(\u001b[0m\u001b[0;34m)\u001b[0m\u001b[0;34m\u001b[0m\u001b[0;34m\u001b[0m\u001b[0m\n",
      "\u001b[0;31mNameError\u001b[0m: name 'glas_df' is not defined"
     ]
    }
   ],
   "source": [
    "glas_df['glas_srtm_dh'] = glas_df['glas_z'] - glas_df['dem_z']\n",
    "glas_df.head()"
   ]
  },
  {
   "cell_type": "markdown",
   "metadata": {},
   "source": [
    "## Compute the difference between ICESat point timestamp and SRTM timestamp"
   ]
  },
  {
   "cell_type": "code",
   "execution_count": 19,
   "metadata": {},
   "outputs": [
    {
     "data": {
      "text/html": [
       "<div>\n",
       "<style scoped>\n",
       "    .dataframe tbody tr th:only-of-type {\n",
       "        vertical-align: middle;\n",
       "    }\n",
       "\n",
       "    .dataframe tbody tr th {\n",
       "        vertical-align: top;\n",
       "    }\n",
       "\n",
       "    .dataframe thead th {\n",
       "        text-align: right;\n",
       "    }\n",
       "</style>\n",
       "<table border=\"1\" class=\"dataframe\">\n",
       "  <thead>\n",
       "    <tr style=\"text-align: right;\">\n",
       "      <th></th>\n",
       "      <th>decyear</th>\n",
       "      <th>ordinal</th>\n",
       "      <th>lat</th>\n",
       "      <th>lon</th>\n",
       "      <th>glas_z</th>\n",
       "      <th>dem_z</th>\n",
       "      <th>dem_z_std</th>\n",
       "      <th>lulc</th>\n",
       "      <th>glas_srtm_dh</th>\n",
       "      <th>glas_srtm_dt</th>\n",
       "    </tr>\n",
       "  </thead>\n",
       "  <tbody>\n",
       "    <tr>\n",
       "      <th>0</th>\n",
       "      <td>2003.139571</td>\n",
       "      <td>731266.943345</td>\n",
       "      <td>44.157897</td>\n",
       "      <td>-105.356562</td>\n",
       "      <td>1398.51</td>\n",
       "      <td>1400.52</td>\n",
       "      <td>0.33</td>\n",
       "      <td>31</td>\n",
       "      <td>-2.01</td>\n",
       "      <td>3.027571</td>\n",
       "    </tr>\n",
       "    <tr>\n",
       "      <th>1</th>\n",
       "      <td>2003.139571</td>\n",
       "      <td>731266.943346</td>\n",
       "      <td>44.150175</td>\n",
       "      <td>-105.358116</td>\n",
       "      <td>1387.11</td>\n",
       "      <td>1384.64</td>\n",
       "      <td>0.43</td>\n",
       "      <td>31</td>\n",
       "      <td>2.47</td>\n",
       "      <td>3.027571</td>\n",
       "    </tr>\n",
       "    <tr>\n",
       "      <th>2</th>\n",
       "      <td>2003.139571</td>\n",
       "      <td>731266.943347</td>\n",
       "      <td>44.148632</td>\n",
       "      <td>-105.358427</td>\n",
       "      <td>1392.83</td>\n",
       "      <td>1383.49</td>\n",
       "      <td>0.28</td>\n",
       "      <td>31</td>\n",
       "      <td>9.34</td>\n",
       "      <td>3.027571</td>\n",
       "    </tr>\n",
       "    <tr>\n",
       "      <th>3</th>\n",
       "      <td>2003.139571</td>\n",
       "      <td>731266.943347</td>\n",
       "      <td>44.147087</td>\n",
       "      <td>-105.358738</td>\n",
       "      <td>1384.24</td>\n",
       "      <td>1382.85</td>\n",
       "      <td>0.84</td>\n",
       "      <td>31</td>\n",
       "      <td>1.39</td>\n",
       "      <td>3.027571</td>\n",
       "    </tr>\n",
       "    <tr>\n",
       "      <th>4</th>\n",
       "      <td>2003.139571</td>\n",
       "      <td>731266.943347</td>\n",
       "      <td>44.145542</td>\n",
       "      <td>-105.359048</td>\n",
       "      <td>1369.21</td>\n",
       "      <td>1380.24</td>\n",
       "      <td>1.73</td>\n",
       "      <td>31</td>\n",
       "      <td>-11.03</td>\n",
       "      <td>3.027571</td>\n",
       "    </tr>\n",
       "  </tbody>\n",
       "</table>\n",
       "</div>"
      ],
      "text/plain": [
       "       decyear        ordinal        lat         lon   glas_z    dem_z  \\\n",
       "0  2003.139571  731266.943345  44.157897 -105.356562  1398.51  1400.52   \n",
       "1  2003.139571  731266.943346  44.150175 -105.358116  1387.11  1384.64   \n",
       "2  2003.139571  731266.943347  44.148632 -105.358427  1392.83  1383.49   \n",
       "3  2003.139571  731266.943347  44.147087 -105.358738  1384.24  1382.85   \n",
       "4  2003.139571  731266.943347  44.145542 -105.359048  1369.21  1380.24   \n",
       "\n",
       "   dem_z_std  lulc  glas_srtm_dh  glas_srtm_dt  \n",
       "0       0.33    31         -2.01      3.027571  \n",
       "1       0.43    31          2.47      3.027571  \n",
       "2       0.28    31          9.34      3.027571  \n",
       "3       0.84    31          1.39      3.027571  \n",
       "4       1.73    31        -11.03      3.027571  "
      ]
     },
     "execution_count": 19,
     "metadata": {},
     "output_type": "execute_result"
    }
   ],
   "source": [
    "#February 11-22, 2000\n",
    "srtm_decyear = 2000.112\n",
    "glas_df['glas_srtm_dt'] = glas_df['decyear'] - srtm_decyear\n",
    "glas_df.head()"
   ]
  },
  {
   "cell_type": "markdown",
   "metadata": {},
   "source": [
    "## Compute (apparent) elevation change rates between 2000 and 2003-2009 (m/yr)"
   ]
  },
  {
   "cell_type": "code",
   "execution_count": 20,
   "metadata": {},
   "outputs": [
    {
     "data": {
      "text/html": [
       "<div>\n",
       "<style scoped>\n",
       "    .dataframe tbody tr th:only-of-type {\n",
       "        vertical-align: middle;\n",
       "    }\n",
       "\n",
       "    .dataframe tbody tr th {\n",
       "        vertical-align: top;\n",
       "    }\n",
       "\n",
       "    .dataframe thead th {\n",
       "        text-align: right;\n",
       "    }\n",
       "</style>\n",
       "<table border=\"1\" class=\"dataframe\">\n",
       "  <thead>\n",
       "    <tr style=\"text-align: right;\">\n",
       "      <th></th>\n",
       "      <th>decyear</th>\n",
       "      <th>ordinal</th>\n",
       "      <th>lat</th>\n",
       "      <th>lon</th>\n",
       "      <th>glas_z</th>\n",
       "      <th>dem_z</th>\n",
       "      <th>dem_z_std</th>\n",
       "      <th>lulc</th>\n",
       "      <th>glas_srtm_dh</th>\n",
       "      <th>glas_srtm_dt</th>\n",
       "      <th>glas_srtm_dhdt</th>\n",
       "    </tr>\n",
       "  </thead>\n",
       "  <tbody>\n",
       "    <tr>\n",
       "      <th>0</th>\n",
       "      <td>2003.139571</td>\n",
       "      <td>731266.943345</td>\n",
       "      <td>44.157897</td>\n",
       "      <td>-105.356562</td>\n",
       "      <td>1398.51</td>\n",
       "      <td>1400.52</td>\n",
       "      <td>0.33</td>\n",
       "      <td>31</td>\n",
       "      <td>-2.01</td>\n",
       "      <td>3.027571</td>\n",
       "      <td>-0.663899</td>\n",
       "    </tr>\n",
       "    <tr>\n",
       "      <th>1</th>\n",
       "      <td>2003.139571</td>\n",
       "      <td>731266.943346</td>\n",
       "      <td>44.150175</td>\n",
       "      <td>-105.358116</td>\n",
       "      <td>1387.11</td>\n",
       "      <td>1384.64</td>\n",
       "      <td>0.43</td>\n",
       "      <td>31</td>\n",
       "      <td>2.47</td>\n",
       "      <td>3.027571</td>\n",
       "      <td>0.815836</td>\n",
       "    </tr>\n",
       "    <tr>\n",
       "      <th>2</th>\n",
       "      <td>2003.139571</td>\n",
       "      <td>731266.943347</td>\n",
       "      <td>44.148632</td>\n",
       "      <td>-105.358427</td>\n",
       "      <td>1392.83</td>\n",
       "      <td>1383.49</td>\n",
       "      <td>0.28</td>\n",
       "      <td>31</td>\n",
       "      <td>9.34</td>\n",
       "      <td>3.027571</td>\n",
       "      <td>3.084982</td>\n",
       "    </tr>\n",
       "    <tr>\n",
       "      <th>3</th>\n",
       "      <td>2003.139571</td>\n",
       "      <td>731266.943347</td>\n",
       "      <td>44.147087</td>\n",
       "      <td>-105.358738</td>\n",
       "      <td>1384.24</td>\n",
       "      <td>1382.85</td>\n",
       "      <td>0.84</td>\n",
       "      <td>31</td>\n",
       "      <td>1.39</td>\n",
       "      <td>3.027571</td>\n",
       "      <td>0.459114</td>\n",
       "    </tr>\n",
       "    <tr>\n",
       "      <th>4</th>\n",
       "      <td>2003.139571</td>\n",
       "      <td>731266.943347</td>\n",
       "      <td>44.145542</td>\n",
       "      <td>-105.359048</td>\n",
       "      <td>1369.21</td>\n",
       "      <td>1380.24</td>\n",
       "      <td>1.73</td>\n",
       "      <td>31</td>\n",
       "      <td>-11.03</td>\n",
       "      <td>3.027571</td>\n",
       "      <td>-3.643185</td>\n",
       "    </tr>\n",
       "  </tbody>\n",
       "</table>\n",
       "</div>"
      ],
      "text/plain": [
       "       decyear        ordinal        lat         lon   glas_z    dem_z  \\\n",
       "0  2003.139571  731266.943345  44.157897 -105.356562  1398.51  1400.52   \n",
       "1  2003.139571  731266.943346  44.150175 -105.358116  1387.11  1384.64   \n",
       "2  2003.139571  731266.943347  44.148632 -105.358427  1392.83  1383.49   \n",
       "3  2003.139571  731266.943347  44.147087 -105.358738  1384.24  1382.85   \n",
       "4  2003.139571  731266.943347  44.145542 -105.359048  1369.21  1380.24   \n",
       "\n",
       "   dem_z_std  lulc  glas_srtm_dh  glas_srtm_dt  glas_srtm_dhdt  \n",
       "0       0.33    31         -2.01      3.027571       -0.663899  \n",
       "1       0.43    31          2.47      3.027571        0.815836  \n",
       "2       0.28    31          9.34      3.027571        3.084982  \n",
       "3       0.84    31          1.39      3.027571        0.459114  \n",
       "4       1.73    31        -11.03      3.027571       -3.643185  "
      ]
     },
     "execution_count": 20,
     "metadata": {},
     "output_type": "execute_result"
    }
   ],
   "source": [
    "glas_df['glas_srtm_dhdt'] = glas_df['glas_srtm_dh']/glas_df['glas_srtm_dt']\n",
    "glas_df.head()"
   ]
  },
  {
   "cell_type": "markdown",
   "metadata": {},
   "source": [
    "## Create a scatterplot of difference values\n",
    "* Use a symmetrical `RdBu` (Red to Blue) colormap\n",
    "* Set the colormap limits using `vmin` and `vmax` keyword arguments to be symmetrical about 0 with appropriate range to bring out relevant detail"
   ]
  },
  {
   "cell_type": "code",
   "execution_count": 21,
   "metadata": {},
   "outputs": [
    {
     "data": {
      "application/vnd.jupyter.widget-view+json": {
       "model_id": "be96659adbce4d9f86bd59c3d55b6dc7",
       "version_major": 2,
       "version_minor": 0
      },
      "text/plain": [
       "FigureCanvasNbAgg()"
      ]
     },
     "metadata": {},
     "output_type": "display_data"
    }
   ],
   "source": [
    "ax = glas_df.plot(x='lon', y='lat', kind='scatter', c='glas_srtm_dh', s=1, cmap='RdBu', vmin=-10, vmax=10)"
   ]
  },
  {
   "cell_type": "code",
   "execution_count": 22,
   "metadata": {},
   "outputs": [
    {
     "data": {
      "application/vnd.jupyter.widget-view+json": {
       "model_id": "53b1c3a3e1d04854870182b6b745c77f",
       "version_major": 2,
       "version_minor": 0
      },
      "text/plain": [
       "FigureCanvasNbAgg()"
      ]
     },
     "metadata": {},
     "output_type": "display_data"
    }
   ],
   "source": [
    "ax = glas_df.plot(x='lon', y='lat', kind='scatter', c='glas_srtm_dh', s=1, cmap='RdBu', vmin=-50, vmax=50)"
   ]
  },
  {
   "cell_type": "markdown",
   "metadata": {},
   "source": [
    "## Create a histogram of the difference values\n",
    "* Increase the number of bins, and limit the range to something reasonable"
   ]
  },
  {
   "cell_type": "code",
   "execution_count": 25,
   "metadata": {},
   "outputs": [
    {
     "data": {
      "application/vnd.jupyter.widget-view+json": {
       "model_id": "c116f1d2b2df433a8ff9aa5022011326",
       "version_major": 2,
       "version_minor": 0
      },
      "text/plain": [
       "FigureCanvasNbAgg()"
      ]
     },
     "metadata": {},
     "output_type": "display_data"
    }
   ],
   "source": [
    "out = glas_df.hist('glas_srtm_dh', bins=128, range=(-20,20))"
   ]
  },
  {
   "cell_type": "markdown",
   "metadata": {},
   "source": [
    "## Create a scatterplot of elevation difference vs. elevation"
   ]
  },
  {
   "cell_type": "code",
   "execution_count": 26,
   "metadata": {},
   "outputs": [
    {
     "data": {
      "application/vnd.jupyter.widget-view+json": {
       "model_id": "0cd8d5f8e399483fbd3668e851de2036",
       "version_major": 2,
       "version_minor": 0
      },
      "text/plain": [
       "FigureCanvasNbAgg()"
      ]
     },
     "metadata": {},
     "output_type": "display_data"
    }
   ],
   "source": [
    "ax = glas_df.plot('glas_z', 'glas_srtm_dh', kind='scatter', s=1)\n",
    "#Add a horizontal line at 0\n",
    "ax.axhline(0, color='k', lw=0.5);"
   ]
  },
  {
   "cell_type": "markdown",
   "metadata": {},
   "source": [
    "## Remove outliers\n",
    "The initial filter in `glas_proc.py` removed GLAS points with absolute elevation difference >200 m compared to the SRTM elevations.  We expect most real elevation change signals to be less than this for the given time period.  But clearly some outliers remain.\n",
    "\n",
    "Use a simple sigma filter"
   ]
  },
  {
   "cell_type": "code",
   "execution_count": 27,
   "metadata": {},
   "outputs": [
    {
     "name": "stdout",
     "output_type": "stream",
     "text": [
      "Mean difference: -0.7667968606291014\n",
      "3.5 * std: 43.271695327333795\n"
     ]
    }
   ],
   "source": [
    "print(\"Mean difference:\", glas_df['glas_srtm_dh'].mean())\n",
    "thresh = 3.5 * glas_df['glas_srtm_dh'].std()\n",
    "print(\"3.5 * std:\", thresh)"
   ]
  },
  {
   "cell_type": "code",
   "execution_count": 28,
   "metadata": {},
   "outputs": [
    {
     "name": "stdout",
     "output_type": "stream",
     "text": [
      "Number of points before filter: 65236\n",
      "Number of points after filter: 64589\n"
     ]
    }
   ],
   "source": [
    "idx = (glas_df['glas_srtm_dh'] - glas_df['glas_srtm_dh'].mean()).abs() <= thresh\n",
    "glas_df_fltr = glas_df[idx]\n",
    "print(\"Number of points before filter:\", glas_df.shape[0])\n",
    "print(\"Number of points after filter:\", glas_df_fltr.shape[0])"
   ]
  },
  {
   "cell_type": "code",
   "execution_count": 29,
   "metadata": {},
   "outputs": [
    {
     "data": {
      "application/vnd.jupyter.widget-view+json": {
       "model_id": "fa324ccb17f64cc8b383129bf1ab48de",
       "version_major": 2,
       "version_minor": 0
      },
      "text/plain": [
       "FigureCanvasNbAgg()"
      ]
     },
     "metadata": {},
     "output_type": "display_data"
    }
   ],
   "source": [
    "clim = thresh\n",
    "f, axa = plt.subplots(1,2, figsize=(10,4))\n",
    "glas_df.plot(ax=axa[1], x='glas_z', y='glas_srtm_dh', kind='scatter', s=1, color='k', label='Outliers')\n",
    "glas_df_fltr.plot(ax=axa[0], x='lon', y='lat', kind='scatter', c='glas_srtm_dh', s=1, cmap='RdBu', vmin=-clim, vmax=clim)\n",
    "glas_df_fltr.plot(ax=axa[1], x='glas_z', y='glas_srtm_dh', kind='scatter', s=1, c='orange', label='Inliers')\n",
    "glas_df[~idx].plot(ax=axa[0], x='lon', y='lat', kind='scatter', color='k', s=1, legend=False)\n",
    "axa[1].axhline(0,color='k')\n",
    "plt.tight_layout()"
   ]
  },
  {
   "cell_type": "markdown",
   "metadata": {},
   "source": [
    "## Active remote sensing sanity check\n",
    "\n",
    "OK, we removed some outliers.  But there are still some big differences between the SRTM and GLAS elevation.  \n",
    "\n",
    "* Do you see systematic differences between the glas_z and dem_z values?\n",
    "* Any clues from the scatterplot? (e.g., do some tracks (north-south lines of points) display systematic bias?)\n",
    "* Brainstorm some ideas about what might be going on here.  Think about the nature of each sensor:\n",
    "    * ICESat was a Near-IR laser (1064 nm wavelength) with a big ground spot size (~70 m in diameter)\n",
    "        * Timestamps span different seasons between 2003-2009\n",
    "    * SRTM was a C-band radar (5.3 GHz, 5.6 cm wavelength) with approximately 30 m ground sample distance (pixel size)\n",
    "        * Timestamp was February 2000\n",
    "        * Data gaps (e.g., radar shadows, steep slopes) were filled with ASTER GDEM2 composite, which blends DEMs acquired over many years ~2000-2014\n",
    "* Consider different surfaces and how the laser/radar footprint might be affected:\n",
    "    * Flat bedrock surface\n",
    "    * Dry sand dunes\n",
    "    * Steep montain topography like the Front Range in Colorado  \n",
    "    * Dense vegetation of the Hoh Rainforest in Olympic National Park"
   ]
  },
  {
   "cell_type": "markdown",
   "metadata": {},
   "source": [
    "# Geopandas\n",
    "\n",
    "pandas is great, but what if we want to do some geospatial operations - like compute the intersection between Point and Polygon features?\n",
    "\n",
    "Enter Geopandas - all the great things about pandas, plus geo! (http://geopandas.org/).\n",
    "\n",
    ">\"GeoPandas is an open source project to make working with geospatial data in python easier. GeoPandas extends the datatypes used by pandas to allow spatial operations on geometric types. Geometric operations are performed by shapely. Geopandas further depends on fiona for file access and descartes and matplotlib for plotting.\"\n",
    "\n",
    ">\"GeoPandas enables you to easily do operations in python that would otherwise require a spatial database such as PostGIS.\"\n",
    "\n",
    "Under the hood, GeoPandas is pandas plus some other core geospatial packages:\n",
    "* `shapely` for geometry operations (https://shapely.readthedocs.io/en/stable/manual.html)\n",
    "* `fiona` for reading/writing GIS file formats (https://fiona.readthedocs.io/en/latest/manual.html)\n",
    "* `pyproj` for projections and coordinate system transformations (http://pyproj4.github.io/pyproj/stable/)\n",
    "\n",
    "Under those hoods are lower-level geospatial libraries (GEOS, GDAL/OGR, PROJ4) that provide a foundation for most GIS software (open-source and commercial).  I encourage you to explore these - I guarantee you will learn something valuable.\n",
    "\n",
    "For now, let's explore some basic geopandas functionality."
   ]
  },
  {
   "cell_type": "markdown",
   "metadata": {},
   "source": [
    "## Convert pandas `DataFrame` to geopandas `GeoDataFrame`\n",
    "To do this, we need to create a new column containing standardized `geometry` objects (e.g., `Point`, `Polygon`) for each record in the DataFrame. \n",
    "\n",
    "https://geopandas.readthedocs.io/en/latest/gallery/create_geopandas_from_pandas.html"
   ]
  },
  {
   "cell_type": "markdown",
   "metadata": {},
   "source": [
    "### Create a new geometry column containing (x,y) tuples for each record"
   ]
  },
  {
   "cell_type": "code",
   "execution_count": 30,
   "metadata": {},
   "outputs": [],
   "source": [
    "glas_df['geometry'] = list(zip(glas_df['lon'], glas_df['lat']))"
   ]
  },
  {
   "cell_type": "code",
   "execution_count": 31,
   "metadata": {},
   "outputs": [
    {
     "data": {
      "text/html": [
       "<div>\n",
       "<style scoped>\n",
       "    .dataframe tbody tr th:only-of-type {\n",
       "        vertical-align: middle;\n",
       "    }\n",
       "\n",
       "    .dataframe tbody tr th {\n",
       "        vertical-align: top;\n",
       "    }\n",
       "\n",
       "    .dataframe thead th {\n",
       "        text-align: right;\n",
       "    }\n",
       "</style>\n",
       "<table border=\"1\" class=\"dataframe\">\n",
       "  <thead>\n",
       "    <tr style=\"text-align: right;\">\n",
       "      <th></th>\n",
       "      <th>decyear</th>\n",
       "      <th>ordinal</th>\n",
       "      <th>lat</th>\n",
       "      <th>lon</th>\n",
       "      <th>glas_z</th>\n",
       "      <th>dem_z</th>\n",
       "      <th>dem_z_std</th>\n",
       "      <th>lulc</th>\n",
       "      <th>glas_srtm_dh</th>\n",
       "      <th>glas_srtm_dt</th>\n",
       "      <th>glas_srtm_dhdt</th>\n",
       "      <th>geometry</th>\n",
       "    </tr>\n",
       "  </thead>\n",
       "  <tbody>\n",
       "    <tr>\n",
       "      <th>0</th>\n",
       "      <td>2003.139571</td>\n",
       "      <td>731266.943345</td>\n",
       "      <td>44.157897</td>\n",
       "      <td>-105.356562</td>\n",
       "      <td>1398.51</td>\n",
       "      <td>1400.52</td>\n",
       "      <td>0.33</td>\n",
       "      <td>31</td>\n",
       "      <td>-2.01</td>\n",
       "      <td>3.027571</td>\n",
       "      <td>-0.663899</td>\n",
       "      <td>(-105.35656200000001, 44.157897)</td>\n",
       "    </tr>\n",
       "    <tr>\n",
       "      <th>1</th>\n",
       "      <td>2003.139571</td>\n",
       "      <td>731266.943346</td>\n",
       "      <td>44.150175</td>\n",
       "      <td>-105.358116</td>\n",
       "      <td>1387.11</td>\n",
       "      <td>1384.64</td>\n",
       "      <td>0.43</td>\n",
       "      <td>31</td>\n",
       "      <td>2.47</td>\n",
       "      <td>3.027571</td>\n",
       "      <td>0.815836</td>\n",
       "      <td>(-105.358116, 44.150175)</td>\n",
       "    </tr>\n",
       "    <tr>\n",
       "      <th>2</th>\n",
       "      <td>2003.139571</td>\n",
       "      <td>731266.943347</td>\n",
       "      <td>44.148632</td>\n",
       "      <td>-105.358427</td>\n",
       "      <td>1392.83</td>\n",
       "      <td>1383.49</td>\n",
       "      <td>0.28</td>\n",
       "      <td>31</td>\n",
       "      <td>9.34</td>\n",
       "      <td>3.027571</td>\n",
       "      <td>3.084982</td>\n",
       "      <td>(-105.358427, 44.148632)</td>\n",
       "    </tr>\n",
       "    <tr>\n",
       "      <th>3</th>\n",
       "      <td>2003.139571</td>\n",
       "      <td>731266.943347</td>\n",
       "      <td>44.147087</td>\n",
       "      <td>-105.358738</td>\n",
       "      <td>1384.24</td>\n",
       "      <td>1382.85</td>\n",
       "      <td>0.84</td>\n",
       "      <td>31</td>\n",
       "      <td>1.39</td>\n",
       "      <td>3.027571</td>\n",
       "      <td>0.459114</td>\n",
       "      <td>(-105.35873799999999, 44.147087)</td>\n",
       "    </tr>\n",
       "    <tr>\n",
       "      <th>4</th>\n",
       "      <td>2003.139571</td>\n",
       "      <td>731266.943347</td>\n",
       "      <td>44.145542</td>\n",
       "      <td>-105.359048</td>\n",
       "      <td>1369.21</td>\n",
       "      <td>1380.24</td>\n",
       "      <td>1.73</td>\n",
       "      <td>31</td>\n",
       "      <td>-11.03</td>\n",
       "      <td>3.027571</td>\n",
       "      <td>-3.643185</td>\n",
       "      <td>(-105.359048, 44.145542)</td>\n",
       "    </tr>\n",
       "  </tbody>\n",
       "</table>\n",
       "</div>"
      ],
      "text/plain": [
       "       decyear        ordinal        lat         lon   glas_z    dem_z  \\\n",
       "0  2003.139571  731266.943345  44.157897 -105.356562  1398.51  1400.52   \n",
       "1  2003.139571  731266.943346  44.150175 -105.358116  1387.11  1384.64   \n",
       "2  2003.139571  731266.943347  44.148632 -105.358427  1392.83  1383.49   \n",
       "3  2003.139571  731266.943347  44.147087 -105.358738  1384.24  1382.85   \n",
       "4  2003.139571  731266.943347  44.145542 -105.359048  1369.21  1380.24   \n",
       "\n",
       "   dem_z_std  lulc  glas_srtm_dh  glas_srtm_dt  glas_srtm_dhdt  \\\n",
       "0       0.33    31         -2.01      3.027571       -0.663899   \n",
       "1       0.43    31          2.47      3.027571        0.815836   \n",
       "2       0.28    31          9.34      3.027571        3.084982   \n",
       "3       0.84    31          1.39      3.027571        0.459114   \n",
       "4       1.73    31        -11.03      3.027571       -3.643185   \n",
       "\n",
       "                           geometry  \n",
       "0  (-105.35656200000001, 44.157897)  \n",
       "1          (-105.358116, 44.150175)  \n",
       "2          (-105.358427, 44.148632)  \n",
       "3  (-105.35873799999999, 44.147087)  \n",
       "4          (-105.359048, 44.145542)  "
      ]
     },
     "execution_count": 31,
     "metadata": {},
     "output_type": "execute_result"
    }
   ],
   "source": [
    "glas_df.head()"
   ]
  },
  {
   "cell_type": "markdown",
   "metadata": {},
   "source": [
    "### Create new shapely Point geometry objects from the (lon,lat) tuple\n",
    "Can do this as `Point(lon, lat)`, but let's use Pandas `apply` function to apply to the entire column"
   ]
  },
  {
   "cell_type": "code",
   "execution_count": 32,
   "metadata": {},
   "outputs": [],
   "source": [
    "glas_df['geometry'] = glas_df['geometry'].apply(Point)"
   ]
  },
  {
   "cell_type": "code",
   "execution_count": 33,
   "metadata": {},
   "outputs": [
    {
     "data": {
      "text/html": [
       "<div>\n",
       "<style scoped>\n",
       "    .dataframe tbody tr th:only-of-type {\n",
       "        vertical-align: middle;\n",
       "    }\n",
       "\n",
       "    .dataframe tbody tr th {\n",
       "        vertical-align: top;\n",
       "    }\n",
       "\n",
       "    .dataframe thead th {\n",
       "        text-align: right;\n",
       "    }\n",
       "</style>\n",
       "<table border=\"1\" class=\"dataframe\">\n",
       "  <thead>\n",
       "    <tr style=\"text-align: right;\">\n",
       "      <th></th>\n",
       "      <th>decyear</th>\n",
       "      <th>ordinal</th>\n",
       "      <th>lat</th>\n",
       "      <th>lon</th>\n",
       "      <th>glas_z</th>\n",
       "      <th>dem_z</th>\n",
       "      <th>dem_z_std</th>\n",
       "      <th>lulc</th>\n",
       "      <th>glas_srtm_dh</th>\n",
       "      <th>glas_srtm_dt</th>\n",
       "      <th>glas_srtm_dhdt</th>\n",
       "      <th>geometry</th>\n",
       "    </tr>\n",
       "  </thead>\n",
       "  <tbody>\n",
       "    <tr>\n",
       "      <th>0</th>\n",
       "      <td>2003.139571</td>\n",
       "      <td>731266.943345</td>\n",
       "      <td>44.157897</td>\n",
       "      <td>-105.356562</td>\n",
       "      <td>1398.51</td>\n",
       "      <td>1400.52</td>\n",
       "      <td>0.33</td>\n",
       "      <td>31</td>\n",
       "      <td>-2.01</td>\n",
       "      <td>3.027571</td>\n",
       "      <td>-0.663899</td>\n",
       "      <td>POINT (-105.356562 44.157897)</td>\n",
       "    </tr>\n",
       "    <tr>\n",
       "      <th>1</th>\n",
       "      <td>2003.139571</td>\n",
       "      <td>731266.943346</td>\n",
       "      <td>44.150175</td>\n",
       "      <td>-105.358116</td>\n",
       "      <td>1387.11</td>\n",
       "      <td>1384.64</td>\n",
       "      <td>0.43</td>\n",
       "      <td>31</td>\n",
       "      <td>2.47</td>\n",
       "      <td>3.027571</td>\n",
       "      <td>0.815836</td>\n",
       "      <td>POINT (-105.358116 44.150175)</td>\n",
       "    </tr>\n",
       "    <tr>\n",
       "      <th>2</th>\n",
       "      <td>2003.139571</td>\n",
       "      <td>731266.943347</td>\n",
       "      <td>44.148632</td>\n",
       "      <td>-105.358427</td>\n",
       "      <td>1392.83</td>\n",
       "      <td>1383.49</td>\n",
       "      <td>0.28</td>\n",
       "      <td>31</td>\n",
       "      <td>9.34</td>\n",
       "      <td>3.027571</td>\n",
       "      <td>3.084982</td>\n",
       "      <td>POINT (-105.358427 44.148632)</td>\n",
       "    </tr>\n",
       "    <tr>\n",
       "      <th>3</th>\n",
       "      <td>2003.139571</td>\n",
       "      <td>731266.943347</td>\n",
       "      <td>44.147087</td>\n",
       "      <td>-105.358738</td>\n",
       "      <td>1384.24</td>\n",
       "      <td>1382.85</td>\n",
       "      <td>0.84</td>\n",
       "      <td>31</td>\n",
       "      <td>1.39</td>\n",
       "      <td>3.027571</td>\n",
       "      <td>0.459114</td>\n",
       "      <td>POINT (-105.358738 44.147087)</td>\n",
       "    </tr>\n",
       "    <tr>\n",
       "      <th>4</th>\n",
       "      <td>2003.139571</td>\n",
       "      <td>731266.943347</td>\n",
       "      <td>44.145542</td>\n",
       "      <td>-105.359048</td>\n",
       "      <td>1369.21</td>\n",
       "      <td>1380.24</td>\n",
       "      <td>1.73</td>\n",
       "      <td>31</td>\n",
       "      <td>-11.03</td>\n",
       "      <td>3.027571</td>\n",
       "      <td>-3.643185</td>\n",
       "      <td>POINT (-105.359048 44.145542)</td>\n",
       "    </tr>\n",
       "  </tbody>\n",
       "</table>\n",
       "</div>"
      ],
      "text/plain": [
       "       decyear        ordinal        lat         lon   glas_z    dem_z  \\\n",
       "0  2003.139571  731266.943345  44.157897 -105.356562  1398.51  1400.52   \n",
       "1  2003.139571  731266.943346  44.150175 -105.358116  1387.11  1384.64   \n",
       "2  2003.139571  731266.943347  44.148632 -105.358427  1392.83  1383.49   \n",
       "3  2003.139571  731266.943347  44.147087 -105.358738  1384.24  1382.85   \n",
       "4  2003.139571  731266.943347  44.145542 -105.359048  1369.21  1380.24   \n",
       "\n",
       "   dem_z_std  lulc  glas_srtm_dh  glas_srtm_dt  glas_srtm_dhdt  \\\n",
       "0       0.33    31         -2.01      3.027571       -0.663899   \n",
       "1       0.43    31          2.47      3.027571        0.815836   \n",
       "2       0.28    31          9.34      3.027571        3.084982   \n",
       "3       0.84    31          1.39      3.027571        0.459114   \n",
       "4       1.73    31        -11.03      3.027571       -3.643185   \n",
       "\n",
       "                        geometry  \n",
       "0  POINT (-105.356562 44.157897)  \n",
       "1  POINT (-105.358116 44.150175)  \n",
       "2  POINT (-105.358427 44.148632)  \n",
       "3  POINT (-105.358738 44.147087)  \n",
       "4  POINT (-105.359048 44.145542)  "
      ]
     },
     "execution_count": 33,
     "metadata": {},
     "output_type": "execute_result"
    }
   ],
   "source": [
    "glas_df.head()"
   ]
  },
  {
   "cell_type": "markdown",
   "metadata": {},
   "source": [
    "### Now create new GeoDataFrame object, passing the updated Pandas DataFrame\n",
    "Define coordinate reference system (4326 is geographic lat/lon on WGS84 Ellispoid)  \n",
    "Note different variable name (`glas_gdf` vs earlier `glas_df`)"
   ]
  },
  {
   "cell_type": "code",
   "execution_count": 34,
   "metadata": {},
   "outputs": [],
   "source": [
    "glas_gdf = gpd.GeoDataFrame(glas_df, crs={'init' :'epsg:4326'})"
   ]
  },
  {
   "cell_type": "code",
   "execution_count": 35,
   "metadata": {},
   "outputs": [
    {
     "data": {
      "text/html": [
       "<div>\n",
       "<style scoped>\n",
       "    .dataframe tbody tr th:only-of-type {\n",
       "        vertical-align: middle;\n",
       "    }\n",
       "\n",
       "    .dataframe tbody tr th {\n",
       "        vertical-align: top;\n",
       "    }\n",
       "\n",
       "    .dataframe thead th {\n",
       "        text-align: right;\n",
       "    }\n",
       "</style>\n",
       "<table border=\"1\" class=\"dataframe\">\n",
       "  <thead>\n",
       "    <tr style=\"text-align: right;\">\n",
       "      <th></th>\n",
       "      <th>decyear</th>\n",
       "      <th>ordinal</th>\n",
       "      <th>lat</th>\n",
       "      <th>lon</th>\n",
       "      <th>glas_z</th>\n",
       "      <th>dem_z</th>\n",
       "      <th>dem_z_std</th>\n",
       "      <th>lulc</th>\n",
       "      <th>glas_srtm_dh</th>\n",
       "      <th>glas_srtm_dt</th>\n",
       "      <th>glas_srtm_dhdt</th>\n",
       "      <th>geometry</th>\n",
       "    </tr>\n",
       "  </thead>\n",
       "  <tbody>\n",
       "    <tr>\n",
       "      <th>0</th>\n",
       "      <td>2003.139571</td>\n",
       "      <td>731266.943345</td>\n",
       "      <td>44.157897</td>\n",
       "      <td>-105.356562</td>\n",
       "      <td>1398.51</td>\n",
       "      <td>1400.52</td>\n",
       "      <td>0.33</td>\n",
       "      <td>31</td>\n",
       "      <td>-2.01</td>\n",
       "      <td>3.027571</td>\n",
       "      <td>-0.663899</td>\n",
       "      <td>POINT (-105.356562 44.157897)</td>\n",
       "    </tr>\n",
       "    <tr>\n",
       "      <th>1</th>\n",
       "      <td>2003.139571</td>\n",
       "      <td>731266.943346</td>\n",
       "      <td>44.150175</td>\n",
       "      <td>-105.358116</td>\n",
       "      <td>1387.11</td>\n",
       "      <td>1384.64</td>\n",
       "      <td>0.43</td>\n",
       "      <td>31</td>\n",
       "      <td>2.47</td>\n",
       "      <td>3.027571</td>\n",
       "      <td>0.815836</td>\n",
       "      <td>POINT (-105.358116 44.150175)</td>\n",
       "    </tr>\n",
       "    <tr>\n",
       "      <th>2</th>\n",
       "      <td>2003.139571</td>\n",
       "      <td>731266.943347</td>\n",
       "      <td>44.148632</td>\n",
       "      <td>-105.358427</td>\n",
       "      <td>1392.83</td>\n",
       "      <td>1383.49</td>\n",
       "      <td>0.28</td>\n",
       "      <td>31</td>\n",
       "      <td>9.34</td>\n",
       "      <td>3.027571</td>\n",
       "      <td>3.084982</td>\n",
       "      <td>POINT (-105.358427 44.148632)</td>\n",
       "    </tr>\n",
       "    <tr>\n",
       "      <th>3</th>\n",
       "      <td>2003.139571</td>\n",
       "      <td>731266.943347</td>\n",
       "      <td>44.147087</td>\n",
       "      <td>-105.358738</td>\n",
       "      <td>1384.24</td>\n",
       "      <td>1382.85</td>\n",
       "      <td>0.84</td>\n",
       "      <td>31</td>\n",
       "      <td>1.39</td>\n",
       "      <td>3.027571</td>\n",
       "      <td>0.459114</td>\n",
       "      <td>POINT (-105.358738 44.147087)</td>\n",
       "    </tr>\n",
       "    <tr>\n",
       "      <th>4</th>\n",
       "      <td>2003.139571</td>\n",
       "      <td>731266.943347</td>\n",
       "      <td>44.145542</td>\n",
       "      <td>-105.359048</td>\n",
       "      <td>1369.21</td>\n",
       "      <td>1380.24</td>\n",
       "      <td>1.73</td>\n",
       "      <td>31</td>\n",
       "      <td>-11.03</td>\n",
       "      <td>3.027571</td>\n",
       "      <td>-3.643185</td>\n",
       "      <td>POINT (-105.359048 44.145542)</td>\n",
       "    </tr>\n",
       "  </tbody>\n",
       "</table>\n",
       "</div>"
      ],
      "text/plain": [
       "       decyear        ordinal        lat         lon   glas_z    dem_z  \\\n",
       "0  2003.139571  731266.943345  44.157897 -105.356562  1398.51  1400.52   \n",
       "1  2003.139571  731266.943346  44.150175 -105.358116  1387.11  1384.64   \n",
       "2  2003.139571  731266.943347  44.148632 -105.358427  1392.83  1383.49   \n",
       "3  2003.139571  731266.943347  44.147087 -105.358738  1384.24  1382.85   \n",
       "4  2003.139571  731266.943347  44.145542 -105.359048  1369.21  1380.24   \n",
       "\n",
       "   dem_z_std  lulc  glas_srtm_dh  glas_srtm_dt  glas_srtm_dhdt  \\\n",
       "0       0.33    31         -2.01      3.027571       -0.663899   \n",
       "1       0.43    31          2.47      3.027571        0.815836   \n",
       "2       0.28    31          9.34      3.027571        3.084982   \n",
       "3       0.84    31          1.39      3.027571        0.459114   \n",
       "4       1.73    31        -11.03      3.027571       -3.643185   \n",
       "\n",
       "                        geometry  \n",
       "0  POINT (-105.356562 44.157897)  \n",
       "1  POINT (-105.358116 44.150175)  \n",
       "2  POINT (-105.358427 44.148632)  \n",
       "3  POINT (-105.358738 44.147087)  \n",
       "4  POINT (-105.359048 44.145542)  "
      ]
     },
     "execution_count": 35,
     "metadata": {},
     "output_type": "execute_result"
    }
   ],
   "source": [
    "glas_gdf.head()"
   ]
  },
  {
   "cell_type": "code",
   "execution_count": 36,
   "metadata": {},
   "outputs": [
    {
     "data": {
      "text/plain": [
       "geopandas.geodataframe.GeoDataFrame"
      ]
     },
     "execution_count": 36,
     "metadata": {},
     "output_type": "execute_result"
    }
   ],
   "source": [
    "type(glas_gdf)"
   ]
  },
  {
   "cell_type": "code",
   "execution_count": 37,
   "metadata": {},
   "outputs": [
    {
     "data": {
      "text/plain": [
       "pandas.core.frame.DataFrame"
      ]
     },
     "execution_count": 37,
     "metadata": {},
     "output_type": "execute_result"
    }
   ],
   "source": [
    "type(glas_df)"
   ]
  },
  {
   "cell_type": "markdown",
   "metadata": {},
   "source": [
    "## Create a quick 2D scatterplot\n",
    "\n",
    "Like a Pandas DataFrame, a GeoDataFrame has convenience plotting function that is built on matlplotlib"
   ]
  },
  {
   "cell_type": "code",
   "execution_count": 38,
   "metadata": {},
   "outputs": [
    {
     "data": {
      "application/vnd.jupyter.widget-view+json": {
       "model_id": "2a02886a1fb4405d8f673ae6a4aa1807",
       "version_major": 2,
       "version_minor": 0
      },
      "text/plain": [
       "FigureCanvasNbAgg()"
      ]
     },
     "metadata": {},
     "output_type": "display_data"
    }
   ],
   "source": [
    "glas_gdf.plot();"
   ]
  },
  {
   "cell_type": "markdown",
   "metadata": {},
   "source": [
    "OK, looks like a scatterplot.  But let's plot the elevation values with a color ramp.  \n",
    "To do this, just specify the column name as the first argument to `plot`:"
   ]
  },
  {
   "cell_type": "code",
   "execution_count": 39,
   "metadata": {},
   "outputs": [
    {
     "data": {
      "application/vnd.jupyter.widget-view+json": {
       "model_id": "678a91c9aaa341bc9f3903c3caac9561",
       "version_major": 2,
       "version_minor": 0
      },
      "text/plain": [
       "FigureCanvasNbAgg()"
      ]
     },
     "metadata": {},
     "output_type": "display_data"
    }
   ],
   "source": [
    "glas_gdf.plot('glas_z', markersize=1, cmap='inferno', legend=True);"
   ]
  },
  {
   "cell_type": "markdown",
   "metadata": {},
   "source": [
    "# RGI glacier polygons\n",
    "\n",
    "Let's grab some glacier outline poygons from the Randolph Glacier Inventory (RGI) v6.0: https://www.glims.org/RGI/"
   ]
  },
  {
   "cell_type": "code",
   "execution_count": 40,
   "metadata": {},
   "outputs": [
    {
     "name": "stdout",
     "output_type": "stream",
     "text": [
      "--2019-06-20 16:42:07--  https://www.glims.org/RGI/rgi60_files/02_rgi60_WesternCanadaUS.zip\n",
      "Resolving www.glims.org (www.glims.org)... 128.138.135.43\n",
      "Connecting to www.glims.org (www.glims.org)|128.138.135.43|:443... connected.\n",
      "HTTP request sent, awaiting response... 200 OK\n",
      "Length: 20937343 (20M) [application/zip]\n",
      "Saving to: ‘02_rgi60_WesternCanadaUS.zip’\n",
      "\n",
      "02_rgi60_WesternCan 100%[===================>]  19.97M  4.47MB/s    in 5.5s    \n",
      "\n",
      "2019-06-20 16:42:13 (3.65 MB/s) - ‘02_rgi60_WesternCanadaUS.zip’ saved [20937343/20937343]\n",
      "\n"
     ]
    }
   ],
   "source": [
    "#Fetch the zip file for Region 02 (Western North America)\n",
    "#Use the wget command (the -nc is \"no-clobber\", so will not overwrite existing file)\n",
    "!wget -nc https://www.glims.org/RGI/rgi60_files/02_rgi60_WesternCanadaUS.zip"
   ]
  },
  {
   "cell_type": "code",
   "execution_count": 41,
   "metadata": {},
   "outputs": [
    {
     "name": "stdout",
     "output_type": "stream",
     "text": [
      "Archive:  02_rgi60_WesternCanadaUS.zip\n",
      "  inflating: rgi/02_rgi60_WesternCanadaUS.dbf  \n",
      "  inflating: rgi/02_rgi60_WesternCanadaUS.prj  \n",
      "  inflating: rgi/02_rgi60_WesternCanadaUS.shp  \n",
      "  inflating: rgi/02_rgi60_WesternCanadaUS.shx  \n",
      "  inflating: rgi/02_rgi60_WesternCanadaUS_hypso.csv  \n"
     ]
    }
   ],
   "source": [
    "#Extract to rgi subdirectory\n",
    "!unzip -n -d rgi 02_rgi60_WesternCanadaUS.zip"
   ]
  },
  {
   "cell_type": "code",
   "execution_count": 42,
   "metadata": {},
   "outputs": [],
   "source": [
    "#Specify the shapefile filename\n",
    "rgi_fn = 'rgi/02_rgi60_WesternCanadaUS.shp'"
   ]
  },
  {
   "cell_type": "markdown",
   "metadata": {},
   "source": [
    "## Load RGI shapefile using Geopandas"
   ]
  },
  {
   "cell_type": "code",
   "execution_count": 43,
   "metadata": {},
   "outputs": [],
   "source": [
    "rgi_gdf = gpd.read_file(rgi_fn)"
   ]
  },
  {
   "cell_type": "markdown",
   "metadata": {},
   "source": [
    "That's it!"
   ]
  },
  {
   "cell_type": "code",
   "execution_count": 44,
   "metadata": {},
   "outputs": [],
   "source": [
    "#By default a new integer index is created.  Let's just use the RGI ID as our index\n",
    "rgi_gdf = rgi_gdf.set_index('RGIId')"
   ]
  },
  {
   "cell_type": "markdown",
   "metadata": {},
   "source": [
    "## Inspect the RGI GeoDataFrame\n",
    "Note the geometry type is POLYGON"
   ]
  },
  {
   "cell_type": "code",
   "execution_count": 45,
   "metadata": {},
   "outputs": [
    {
     "data": {
      "text/html": [
       "<div>\n",
       "<style scoped>\n",
       "    .dataframe tbody tr th:only-of-type {\n",
       "        vertical-align: middle;\n",
       "    }\n",
       "\n",
       "    .dataframe tbody tr th {\n",
       "        vertical-align: top;\n",
       "    }\n",
       "\n",
       "    .dataframe thead th {\n",
       "        text-align: right;\n",
       "    }\n",
       "</style>\n",
       "<table border=\"1\" class=\"dataframe\">\n",
       "  <thead>\n",
       "    <tr style=\"text-align: right;\">\n",
       "      <th></th>\n",
       "      <th>GLIMSId</th>\n",
       "      <th>BgnDate</th>\n",
       "      <th>EndDate</th>\n",
       "      <th>CenLon</th>\n",
       "      <th>CenLat</th>\n",
       "      <th>O1Region</th>\n",
       "      <th>O2Region</th>\n",
       "      <th>Area</th>\n",
       "      <th>Zmin</th>\n",
       "      <th>Zmax</th>\n",
       "      <th>...</th>\n",
       "      <th>Aspect</th>\n",
       "      <th>Lmax</th>\n",
       "      <th>Status</th>\n",
       "      <th>Connect</th>\n",
       "      <th>Form</th>\n",
       "      <th>TermType</th>\n",
       "      <th>Surging</th>\n",
       "      <th>Linkages</th>\n",
       "      <th>Name</th>\n",
       "      <th>geometry</th>\n",
       "    </tr>\n",
       "    <tr>\n",
       "      <th>RGIId</th>\n",
       "      <th></th>\n",
       "      <th></th>\n",
       "      <th></th>\n",
       "      <th></th>\n",
       "      <th></th>\n",
       "      <th></th>\n",
       "      <th></th>\n",
       "      <th></th>\n",
       "      <th></th>\n",
       "      <th></th>\n",
       "      <th></th>\n",
       "      <th></th>\n",
       "      <th></th>\n",
       "      <th></th>\n",
       "      <th></th>\n",
       "      <th></th>\n",
       "      <th></th>\n",
       "      <th></th>\n",
       "      <th></th>\n",
       "      <th></th>\n",
       "      <th></th>\n",
       "    </tr>\n",
       "  </thead>\n",
       "  <tbody>\n",
       "    <tr>\n",
       "      <th>RGI60-02.00001</th>\n",
       "      <td>G238765E49002N</td>\n",
       "      <td>20049999</td>\n",
       "      <td>20069999</td>\n",
       "      <td>-121.235</td>\n",
       "      <td>49.0019</td>\n",
       "      <td>2</td>\n",
       "      <td>4</td>\n",
       "      <td>0.073</td>\n",
       "      <td>1938</td>\n",
       "      <td>2135</td>\n",
       "      <td>...</td>\n",
       "      <td>345</td>\n",
       "      <td>304</td>\n",
       "      <td>0</td>\n",
       "      <td>0</td>\n",
       "      <td>0</td>\n",
       "      <td>0</td>\n",
       "      <td>0</td>\n",
       "      <td>9</td>\n",
       "      <td>None</td>\n",
       "      <td>POLYGON ((-121.237179 49.00120000000004, -121....</td>\n",
       "    </tr>\n",
       "    <tr>\n",
       "      <th>RGI60-02.00002</th>\n",
       "      <td>G238410E49162N</td>\n",
       "      <td>20049999</td>\n",
       "      <td>20069999</td>\n",
       "      <td>-121.590</td>\n",
       "      <td>49.1617</td>\n",
       "      <td>2</td>\n",
       "      <td>4</td>\n",
       "      <td>0.262</td>\n",
       "      <td>1726</td>\n",
       "      <td>2105</td>\n",
       "      <td>...</td>\n",
       "      <td>6</td>\n",
       "      <td>817</td>\n",
       "      <td>0</td>\n",
       "      <td>0</td>\n",
       "      <td>0</td>\n",
       "      <td>0</td>\n",
       "      <td>0</td>\n",
       "      <td>9</td>\n",
       "      <td>None</td>\n",
       "      <td>POLYGON ((-121.5911819999999 49.15867800000007...</td>\n",
       "    </tr>\n",
       "    <tr>\n",
       "      <th>RGI60-02.00003</th>\n",
       "      <td>G238791E49163N</td>\n",
       "      <td>20049999</td>\n",
       "      <td>20069999</td>\n",
       "      <td>-121.209</td>\n",
       "      <td>49.1627</td>\n",
       "      <td>2</td>\n",
       "      <td>4</td>\n",
       "      <td>0.307</td>\n",
       "      <td>2002</td>\n",
       "      <td>2309</td>\n",
       "      <td>...</td>\n",
       "      <td>100</td>\n",
       "      <td>478</td>\n",
       "      <td>0</td>\n",
       "      <td>0</td>\n",
       "      <td>0</td>\n",
       "      <td>0</td>\n",
       "      <td>0</td>\n",
       "      <td>9</td>\n",
       "      <td>None</td>\n",
       "      <td>POLYGON ((-121.207506 49.16608200000007, -121....</td>\n",
       "    </tr>\n",
       "    <tr>\n",
       "      <th>RGI60-02.00004</th>\n",
       "      <td>G238399E49166N</td>\n",
       "      <td>20049999</td>\n",
       "      <td>20069999</td>\n",
       "      <td>-121.601</td>\n",
       "      <td>49.1657</td>\n",
       "      <td>2</td>\n",
       "      <td>4</td>\n",
       "      <td>0.184</td>\n",
       "      <td>1563</td>\n",
       "      <td>1834</td>\n",
       "      <td>...</td>\n",
       "      <td>15</td>\n",
       "      <td>376</td>\n",
       "      <td>0</td>\n",
       "      <td>0</td>\n",
       "      <td>0</td>\n",
       "      <td>0</td>\n",
       "      <td>0</td>\n",
       "      <td>9</td>\n",
       "      <td>None</td>\n",
       "      <td>POLYGON ((-121.5965409999999 49.16728500000005...</td>\n",
       "    </tr>\n",
       "    <tr>\n",
       "      <th>RGI60-02.00005</th>\n",
       "      <td>G238389E49167N</td>\n",
       "      <td>20049999</td>\n",
       "      <td>20069999</td>\n",
       "      <td>-121.611</td>\n",
       "      <td>49.1666</td>\n",
       "      <td>2</td>\n",
       "      <td>4</td>\n",
       "      <td>0.274</td>\n",
       "      <td>1668</td>\n",
       "      <td>2101</td>\n",
       "      <td>...</td>\n",
       "      <td>50</td>\n",
       "      <td>676</td>\n",
       "      <td>0</td>\n",
       "      <td>0</td>\n",
       "      <td>0</td>\n",
       "      <td>0</td>\n",
       "      <td>0</td>\n",
       "      <td>9</td>\n",
       "      <td>None</td>\n",
       "      <td>POLYGON ((-121.6079999999999 49.16802400000006...</td>\n",
       "    </tr>\n",
       "  </tbody>\n",
       "</table>\n",
       "<p>5 rows × 22 columns</p>\n",
       "</div>"
      ],
      "text/plain": [
       "                       GLIMSId   BgnDate   EndDate   CenLon   CenLat O1Region  \\\n",
       "RGIId                                                                           \n",
       "RGI60-02.00001  G238765E49002N  20049999  20069999 -121.235  49.0019        2   \n",
       "RGI60-02.00002  G238410E49162N  20049999  20069999 -121.590  49.1617        2   \n",
       "RGI60-02.00003  G238791E49163N  20049999  20069999 -121.209  49.1627        2   \n",
       "RGI60-02.00004  G238399E49166N  20049999  20069999 -121.601  49.1657        2   \n",
       "RGI60-02.00005  G238389E49167N  20049999  20069999 -121.611  49.1666        2   \n",
       "\n",
       "               O2Region   Area  Zmin  Zmax  ...  Aspect  Lmax  Status  \\\n",
       "RGIId                                       ...                         \n",
       "RGI60-02.00001        4  0.073  1938  2135  ...     345   304       0   \n",
       "RGI60-02.00002        4  0.262  1726  2105  ...       6   817       0   \n",
       "RGI60-02.00003        4  0.307  2002  2309  ...     100   478       0   \n",
       "RGI60-02.00004        4  0.184  1563  1834  ...      15   376       0   \n",
       "RGI60-02.00005        4  0.274  1668  2101  ...      50   676       0   \n",
       "\n",
       "                Connect  Form  TermType  Surging  Linkages  Name  \\\n",
       "RGIId                                                              \n",
       "RGI60-02.00001        0     0         0        0         9  None   \n",
       "RGI60-02.00002        0     0         0        0         9  None   \n",
       "RGI60-02.00003        0     0         0        0         9  None   \n",
       "RGI60-02.00004        0     0         0        0         9  None   \n",
       "RGI60-02.00005        0     0         0        0         9  None   \n",
       "\n",
       "                                                         geometry  \n",
       "RGIId                                                              \n",
       "RGI60-02.00001  POLYGON ((-121.237179 49.00120000000004, -121....  \n",
       "RGI60-02.00002  POLYGON ((-121.5911819999999 49.15867800000007...  \n",
       "RGI60-02.00003  POLYGON ((-121.207506 49.16608200000007, -121....  \n",
       "RGI60-02.00004  POLYGON ((-121.5965409999999 49.16728500000005...  \n",
       "RGI60-02.00005  POLYGON ((-121.6079999999999 49.16802400000006...  \n",
       "\n",
       "[5 rows x 22 columns]"
      ]
     },
     "execution_count": 45,
     "metadata": {},
     "output_type": "execute_result"
    }
   ],
   "source": [
    "rgi_gdf.head()"
   ]
  },
  {
   "cell_type": "markdown",
   "metadata": {},
   "source": [
    "## Create a quick plot"
   ]
  },
  {
   "cell_type": "code",
   "execution_count": 46,
   "metadata": {},
   "outputs": [
    {
     "data": {
      "application/vnd.jupyter.widget-view+json": {
       "model_id": "8b05e6c3be5148848a05cb05139cb327",
       "version_major": 2,
       "version_minor": 0
      },
      "text/plain": [
       "FigureCanvasNbAgg()"
      ]
     },
     "metadata": {},
     "output_type": "display_data"
    }
   ],
   "source": [
    "rgi_gdf.plot();"
   ]
  },
  {
   "cell_type": "markdown",
   "metadata": {},
   "source": [
    "## Load and plot state polygons for context\n"
   ]
  },
  {
   "cell_type": "markdown",
   "metadata": {},
   "source": [
    "Hmmm, let's see.  Two choices:\n",
    "1. We could go to ESRI or the U.S. Census website, identify and download a shapefile, unzip 4+ files, copy/paste the appropriate \\*.shp filename into the notebook.  Wait, how can I download on a remote server?  OK, maybe run something like `wget http://...`, unzip, provide absolute path  \n",
    "*- OR -*\n",
    "2. Give geopandas a url that points to a GeoJSON file somewhere on the web, and read dynamically\n",
    "\n",
    "Yeah, let's go with #2"
   ]
  },
  {
   "cell_type": "markdown",
   "metadata": {},
   "source": [
    "Let's use the US States 5M GeoJSON here: http://eric.clst.org/tech/usgeojson/\n",
    "\n",
    "We've heard GeoJSON mentioned a few times this week.  It's a great format.  If you are unfamiliar: https://en.wikipedia.org/wiki/GeoJSON"
   ]
  },
  {
   "cell_type": "code",
   "execution_count": 48,
   "metadata": {},
   "outputs": [],
   "source": [
    "#1:5000000 scale polygons\n",
    "states_url = 'http://eric.clst.org/assets/wiki/uploads/Stuff/gz_2010_us_040_00_5m.json'\n",
    "#1:500000 scale polygons (larger file, more vertices)\n",
    "#states_url = 'http://eric.clst.org/assets/wiki/uploads/Stuff/gz_2010_us_040_00_500k.json'"
   ]
  },
  {
   "cell_type": "code",
   "execution_count": 49,
   "metadata": {},
   "outputs": [],
   "source": [
    "states_gdf = gpd.read_file(states_url)"
   ]
  },
  {
   "cell_type": "markdown",
   "metadata": {},
   "source": [
    "### Inspect State GeoDataFrame\n",
    "Note that some geometry entries are tuples of POLYGON objects - these are states with islands or rings"
   ]
  },
  {
   "cell_type": "code",
   "execution_count": 50,
   "metadata": {},
   "outputs": [
    {
     "data": {
      "text/html": [
       "<div>\n",
       "<style scoped>\n",
       "    .dataframe tbody tr th:only-of-type {\n",
       "        vertical-align: middle;\n",
       "    }\n",
       "\n",
       "    .dataframe tbody tr th {\n",
       "        vertical-align: top;\n",
       "    }\n",
       "\n",
       "    .dataframe thead th {\n",
       "        text-align: right;\n",
       "    }\n",
       "</style>\n",
       "<table border=\"1\" class=\"dataframe\">\n",
       "  <thead>\n",
       "    <tr style=\"text-align: right;\">\n",
       "      <th></th>\n",
       "      <th>GEO_ID</th>\n",
       "      <th>STATE</th>\n",
       "      <th>NAME</th>\n",
       "      <th>LSAD</th>\n",
       "      <th>CENSUSAREA</th>\n",
       "      <th>geometry</th>\n",
       "    </tr>\n",
       "  </thead>\n",
       "  <tbody>\n",
       "    <tr>\n",
       "      <th>0</th>\n",
       "      <td>0400000US01</td>\n",
       "      <td>01</td>\n",
       "      <td>Alabama</td>\n",
       "      <td></td>\n",
       "      <td>50645.326</td>\n",
       "      <td>(POLYGON ((-88.124658 30.28364, -88.0868119999...</td>\n",
       "    </tr>\n",
       "    <tr>\n",
       "      <th>1</th>\n",
       "      <td>0400000US02</td>\n",
       "      <td>02</td>\n",
       "      <td>Alaska</td>\n",
       "      <td></td>\n",
       "      <td>570640.950</td>\n",
       "      <td>(POLYGON ((-166.10574 53.988606, -166.075283 5...</td>\n",
       "    </tr>\n",
       "    <tr>\n",
       "      <th>2</th>\n",
       "      <td>0400000US04</td>\n",
       "      <td>04</td>\n",
       "      <td>Arizona</td>\n",
       "      <td></td>\n",
       "      <td>113594.084</td>\n",
       "      <td>POLYGON ((-112.538593 37.000674, -112.534545 3...</td>\n",
       "    </tr>\n",
       "    <tr>\n",
       "      <th>3</th>\n",
       "      <td>0400000US05</td>\n",
       "      <td>05</td>\n",
       "      <td>Arkansas</td>\n",
       "      <td></td>\n",
       "      <td>52035.477</td>\n",
       "      <td>POLYGON ((-94.042964 33.019219, -94.043036 33....</td>\n",
       "    </tr>\n",
       "    <tr>\n",
       "      <th>4</th>\n",
       "      <td>0400000US06</td>\n",
       "      <td>06</td>\n",
       "      <td>California</td>\n",
       "      <td></td>\n",
       "      <td>155779.220</td>\n",
       "      <td>(POLYGON ((-122.421439 37.869969, -122.421341 ...</td>\n",
       "    </tr>\n",
       "  </tbody>\n",
       "</table>\n",
       "</div>"
      ],
      "text/plain": [
       "        GEO_ID STATE        NAME LSAD  CENSUSAREA  \\\n",
       "0  0400000US01    01     Alabama        50645.326   \n",
       "1  0400000US02    02      Alaska       570640.950   \n",
       "2  0400000US04    04     Arizona       113594.084   \n",
       "3  0400000US05    05    Arkansas        52035.477   \n",
       "4  0400000US06    06  California       155779.220   \n",
       "\n",
       "                                            geometry  \n",
       "0  (POLYGON ((-88.124658 30.28364, -88.0868119999...  \n",
       "1  (POLYGON ((-166.10574 53.988606, -166.075283 5...  \n",
       "2  POLYGON ((-112.538593 37.000674, -112.534545 3...  \n",
       "3  POLYGON ((-94.042964 33.019219, -94.043036 33....  \n",
       "4  (POLYGON ((-122.421439 37.869969, -122.421341 ...  "
      ]
     },
     "execution_count": 50,
     "metadata": {},
     "output_type": "execute_result"
    }
   ],
   "source": [
    "states_gdf.head()"
   ]
  },
  {
   "cell_type": "markdown",
   "metadata": {},
   "source": [
    "### Update our quick plot of RGI polygons"
   ]
  },
  {
   "cell_type": "code",
   "execution_count": 51,
   "metadata": {},
   "outputs": [
    {
     "data": {
      "application/vnd.jupyter.widget-view+json": {
       "model_id": "3ff98f3eb7374972953b1af1f85369a6",
       "version_major": 2,
       "version_minor": 0
      },
      "text/plain": [
       "FigureCanvasNbAgg()"
      ]
     },
     "metadata": {},
     "output_type": "display_data"
    },
    {
     "data": {
      "text/plain": [
       "<matplotlib.axes._subplots.AxesSubplot at 0x7f5a31b99978>"
      ]
     },
     "execution_count": 51,
     "metadata": {},
     "output_type": "execute_result"
    }
   ],
   "source": [
    "world = gpd.read_file(gpd.datasets.get_path('naturalearth_lowres'))\n",
    "ax = world.plot(alpha=0.2)\n",
    "states_gdf.plot(ax=ax, facecolor='none', edgecolor='0.5', linewidth=0.5)\n",
    "rgi_gdf.plot(ax=ax, edgecolor='k', linewidth=0.5)"
   ]
  },
  {
   "cell_type": "markdown",
   "metadata": {},
   "source": [
    "## Clip RGI polygons to CONUS\n",
    "GeoPandas makes spatial selection easy.  \n",
    "\n",
    "We'll discuss two options: 1) using a bounding box, and 2) using a polygon."
   ]
  },
  {
   "cell_type": "markdown",
   "metadata": {},
   "source": [
    "### 1. Bounding box"
   ]
  },
  {
   "cell_type": "code",
   "execution_count": 52,
   "metadata": {},
   "outputs": [
    {
     "data": {
      "text/plain": [
       "array([-124.482406,   34.999455, -104.052336,   48.999727])"
      ]
     },
     "execution_count": 52,
     "metadata": {},
     "output_type": "execute_result"
    }
   ],
   "source": [
    "glas_gdf.total_bounds"
   ]
  },
  {
   "cell_type": "markdown",
   "metadata": {},
   "source": [
    "#### Define min/max variables for each dimension"
   ]
  },
  {
   "cell_type": "code",
   "execution_count": 53,
   "metadata": {},
   "outputs": [],
   "source": [
    "xmin, ymin, xmax, ymax = glas_gdf.total_bounds"
   ]
  },
  {
   "cell_type": "markdown",
   "metadata": {},
   "source": [
    "#### Create new GeoDataFrame from output of simple spatial filter with GeoPandas `cx` function"
   ]
  },
  {
   "cell_type": "code",
   "execution_count": 54,
   "metadata": {},
   "outputs": [],
   "source": [
    "rgi_gdf_conus = rgi_gdf.cx[xmin:xmax, ymin:ymax]"
   ]
  },
  {
   "cell_type": "markdown",
   "metadata": {},
   "source": [
    "#### Quick plot to verify"
   ]
  },
  {
   "cell_type": "code",
   "execution_count": 55,
   "metadata": {},
   "outputs": [
    {
     "data": {
      "application/vnd.jupyter.widget-view+json": {
       "model_id": "72a4c301bcc7407b9545b3d6703e9ce1",
       "version_major": 2,
       "version_minor": 0
      },
      "text/plain": [
       "FigureCanvasNbAgg()"
      ]
     },
     "metadata": {},
     "output_type": "display_data"
    }
   ],
   "source": [
    "rgi_gdf_conus.plot(edgecolor='k');"
   ]
  },
  {
   "cell_type": "markdown",
   "metadata": {},
   "source": [
    "### 2. Clip points to arbitrary Polygon geometry\n",
    "\n",
    "Let's define a Polygon around our area of interest (the GLAS points) \n",
    "\n",
    "To do this, we'll first take the union of our ~65K GLAS points, and then compute the convex hull\n",
    "\n",
    "This will return a Polygon geometry object, which renders nicely in the Jupyter notebook"
   ]
  },
  {
   "cell_type": "code",
   "execution_count": 56,
   "metadata": {},
   "outputs": [],
   "source": [
    "glas_gdf_chull = glas_gdf.unary_union.convex_hull"
   ]
  },
  {
   "cell_type": "code",
   "execution_count": 57,
   "metadata": {},
   "outputs": [
    {
     "data": {
      "text/plain": [
       "shapely.geometry.polygon.Polygon"
      ]
     },
     "execution_count": 57,
     "metadata": {},
     "output_type": "execute_result"
    }
   ],
   "source": [
    "#Check the type\n",
    "type(glas_gdf_chull)"
   ]
  },
  {
   "cell_type": "markdown",
   "metadata": {},
   "source": [
    "#### Preview geometry\n",
    "Note that geometry objects (points, lines, polygons, etc.) will render directly in the Jupyter notebook!  Great for quick previews."
   ]
  },
  {
   "cell_type": "code",
   "execution_count": 58,
   "metadata": {},
   "outputs": [
    {
     "data": {
      "image/svg+xml": [
       "<svg xmlns=\"http://www.w3.org/2000/svg\" xmlns:xlink=\"http://www.w3.org/1999/xlink\" width=\"100.0\" height=\"100.0\" viewBox=\"-125.29960880000002 34.18225219999999 22.064475600000023 15.63467760000001\" preserveAspectRatio=\"xMinYMin meet\"><g transform=\"matrix(1,0,0,-1,0,83.99918199999999)\"><path fill-rule=\"evenodd\" fill=\"#66cc99\" stroke=\"#555555\" stroke-width=\"0.44128951200000044\" opacity=\"0.6\" d=\"M -119.459819,34.999455 L -119.87231200000001,35.00575 L -120.896355,36.024209 L -123.523499,39.117069 L -124.36082900000001,40.338738 L -124.36338400000001,40.343677 L -124.367958,40.381397 L -124.37769499999999,40.489467 L -124.48240600000001,47.674555 L -124.47997,48.329878 L -123.05421499999999,48.975885999999996 L -122.790044,48.982369 L -121.554057,48.998647999999996 L -121.475035,48.999427000000004 L -121.18181200000001,48.999727 L -120.17959599999999,48.999334000000005 L -113.776866,48.99425 L -112.675973,48.981798 L -111.90608999999999,48.937306 L -109.003477,47.889021 L -106.171209,45.958121000000006 L -105.526468,44.987974 L -105.217304,44.450540000000004 L -104.118225,41.927228 L -104.052336,39.281164000000004 L -104.19483100000001,38.043192 L -105.255683,37.027087 L -105.25720700000001,37.025655 L -107.21336699999999,36.002261 L -117.009879,35.031163 L -117.38448700000001,35.00265 L -119.459819,34.999455 z\" /></g></svg>"
      ],
      "text/plain": [
       "<shapely.geometry.polygon.Polygon at 0x7f5a4dc504e0>"
      ]
     },
     "execution_count": 58,
     "metadata": {},
     "output_type": "execute_result"
    }
   ],
   "source": [
    "glas_gdf_chull"
   ]
  },
  {
   "cell_type": "markdown",
   "metadata": {},
   "source": [
    "#### Compute intersection between all RGI polygons and the convex hull\n",
    "Use the GeoDataFrame `intersects()` function.  \n",
    "This will return a Boolean DataSeries, True if points intersect the polygon, False if they do not"
   ]
  },
  {
   "cell_type": "code",
   "execution_count": 59,
   "metadata": {},
   "outputs": [],
   "source": [
    "rgi_gdf_idx = rgi_gdf.intersects(glas_gdf_chull)"
   ]
  },
  {
   "cell_type": "code",
   "execution_count": 60,
   "metadata": {},
   "outputs": [
    {
     "data": {
      "text/plain": [
       "RGIId\n",
       "RGI60-02.00001    False\n",
       "RGI60-02.00002    False\n",
       "RGI60-02.00003    False\n",
       "RGI60-02.00004    False\n",
       "RGI60-02.00005    False\n",
       "dtype: bool"
      ]
     },
     "execution_count": 60,
     "metadata": {},
     "output_type": "execute_result"
    }
   ],
   "source": [
    "rgi_gdf_idx.head()"
   ]
  },
  {
   "cell_type": "markdown",
   "metadata": {},
   "source": [
    "#### Extract records with True for the intersection"
   ]
  },
  {
   "cell_type": "code",
   "execution_count": 61,
   "metadata": {},
   "outputs": [
    {
     "name": "stdout",
     "output_type": "stream",
     "text": [
      "Number of RGI polygons before: 18855\n",
      "Number of RGI polygons after: 5149\n"
     ]
    }
   ],
   "source": [
    "print(\"Number of RGI polygons before:\",rgi_gdf.shape[0])\n",
    "rgi_gdf_conus = rgi_gdf[rgi_gdf_idx]\n",
    "print(\"Number of RGI polygons after:\", rgi_gdf_conus.shape[0])"
   ]
  },
  {
   "cell_type": "markdown",
   "metadata": {},
   "source": [
    "#### Quick plot to verify\n",
    "Note latitude range"
   ]
  },
  {
   "cell_type": "code",
   "execution_count": 62,
   "metadata": {},
   "outputs": [
    {
     "data": {
      "application/vnd.jupyter.widget-view+json": {
       "model_id": "37fc281851784755a33a7b04034f07a5",
       "version_major": 2,
       "version_minor": 0
      },
      "text/plain": [
       "FigureCanvasNbAgg()"
      ]
     },
     "metadata": {},
     "output_type": "display_data"
    },
    {
     "data": {
      "text/plain": [
       "<matplotlib.axes._subplots.AxesSubplot at 0x7f5a4e149748>"
      ]
     },
     "execution_count": 62,
     "metadata": {},
     "output_type": "execute_result"
    }
   ],
   "source": [
    "rgi_gdf_conus.plot(edgecolor='k')"
   ]
  },
  {
   "cell_type": "markdown",
   "metadata": {},
   "source": [
    "# Projection"
   ]
  },
  {
   "cell_type": "markdown",
   "metadata": {},
   "source": [
    "All of the above examples used standard geodetic lat/lon (EPSG:4326).  This is fine for global analyses and basic visualization.  But as you know, the width of a degree of longitude varies with latitude (~111 km near equator, ~0 m near pole), so we have a scaling problem.\n",
    "\n",
    "So we need to choose a map projection that is appropriate for our data.  This decision is important for visualization, but is also critical for precise quantitative analysis.  For example, if you want to compute volume change, you should use an equal-area projection.  If you want to calculate true distances between two points, you should use an equidistant projection.  \n",
    "\n",
    "https://www.axismaps.com/guide/general/map-projections/"
   ]
  },
  {
   "cell_type": "markdown",
   "metadata": {},
   "source": [
    "## Define a projection for CONUS\n",
    "\n",
    "Let's use a custom Albers Equal Area projection to minimize distoration over the full spatial extent of our GLAS points\n",
    "\n",
    "To do this, we'll define a PROJ4 string (https://proj.org/usage/quickstart.html?highlight=definition), which can be interpreted by most Python geopackages (like `pyproj`).\n",
    "\n",
    "The Albers Equal Area projection requires two standard parallels: https://proj.org/operations/projections/aea.html.  We'll use a center lat/lon here."
   ]
  },
  {
   "cell_type": "code",
   "execution_count": 63,
   "metadata": {},
   "outputs": [],
   "source": [
    "conus_aea_proj4 = '+proj=aea +lat_1=37.31 +lat_2=46.69 +lat_0=42.00 +lon_0=-114.27 +ellps=WGS84 +units=m +no_defs'"
   ]
  },
  {
   "cell_type": "markdown",
   "metadata": {},
   "source": [
    "## Reproject the GLAS points\n",
    "\n",
    "This is simple with the GeoDataFrame `to_crs()` method, which uses pyproj under the hood.\n",
    "\n",
    "We'll store as a new GeoDataFrame."
   ]
  },
  {
   "cell_type": "code",
   "execution_count": 64,
   "metadata": {},
   "outputs": [],
   "source": [
    "glas_gdf_aea = glas_gdf.to_crs(conus_aea_proj4)"
   ]
  },
  {
   "cell_type": "markdown",
   "metadata": {},
   "source": [
    "## Check the updated geometry\n",
    "Note the change in coordinates"
   ]
  },
  {
   "cell_type": "code",
   "execution_count": 65,
   "metadata": {},
   "outputs": [
    {
     "data": {
      "text/html": [
       "<div>\n",
       "<style scoped>\n",
       "    .dataframe tbody tr th:only-of-type {\n",
       "        vertical-align: middle;\n",
       "    }\n",
       "\n",
       "    .dataframe tbody tr th {\n",
       "        vertical-align: top;\n",
       "    }\n",
       "\n",
       "    .dataframe thead th {\n",
       "        text-align: right;\n",
       "    }\n",
       "</style>\n",
       "<table border=\"1\" class=\"dataframe\">\n",
       "  <thead>\n",
       "    <tr style=\"text-align: right;\">\n",
       "      <th></th>\n",
       "      <th>decyear</th>\n",
       "      <th>ordinal</th>\n",
       "      <th>lat</th>\n",
       "      <th>lon</th>\n",
       "      <th>glas_z</th>\n",
       "      <th>dem_z</th>\n",
       "      <th>dem_z_std</th>\n",
       "      <th>lulc</th>\n",
       "      <th>glas_srtm_dh</th>\n",
       "      <th>glas_srtm_dt</th>\n",
       "      <th>glas_srtm_dhdt</th>\n",
       "      <th>geometry</th>\n",
       "    </tr>\n",
       "  </thead>\n",
       "  <tbody>\n",
       "    <tr>\n",
       "      <th>0</th>\n",
       "      <td>2003.139571</td>\n",
       "      <td>731266.943345</td>\n",
       "      <td>44.157897</td>\n",
       "      <td>-105.356562</td>\n",
       "      <td>1398.51</td>\n",
       "      <td>1400.52</td>\n",
       "      <td>0.33</td>\n",
       "      <td>31</td>\n",
       "      <td>-2.01</td>\n",
       "      <td>3.027571</td>\n",
       "      <td>-0.663899</td>\n",
       "      <td>POINT (709799.202481625 277341.4644630185)</td>\n",
       "    </tr>\n",
       "    <tr>\n",
       "      <th>1</th>\n",
       "      <td>2003.139571</td>\n",
       "      <td>731266.943346</td>\n",
       "      <td>44.150175</td>\n",
       "      <td>-105.358116</td>\n",
       "      <td>1387.11</td>\n",
       "      <td>1384.64</td>\n",
       "      <td>0.43</td>\n",
       "      <td>31</td>\n",
       "      <td>2.47</td>\n",
       "      <td>3.027571</td>\n",
       "      <td>0.815836</td>\n",
       "      <td>POINT (709764.9868479106 276472.8763755658)</td>\n",
       "    </tr>\n",
       "    <tr>\n",
       "      <th>2</th>\n",
       "      <td>2003.139571</td>\n",
       "      <td>731266.943347</td>\n",
       "      <td>44.148632</td>\n",
       "      <td>-105.358427</td>\n",
       "      <td>1392.83</td>\n",
       "      <td>1383.49</td>\n",
       "      <td>0.28</td>\n",
       "      <td>31</td>\n",
       "      <td>9.34</td>\n",
       "      <td>3.027571</td>\n",
       "      <td>3.084982</td>\n",
       "      <td>POINT (709758.1079927931 276299.311774242)</td>\n",
       "    </tr>\n",
       "    <tr>\n",
       "      <th>3</th>\n",
       "      <td>2003.139571</td>\n",
       "      <td>731266.943347</td>\n",
       "      <td>44.147087</td>\n",
       "      <td>-105.358738</td>\n",
       "      <td>1384.24</td>\n",
       "      <td>1382.85</td>\n",
       "      <td>0.84</td>\n",
       "      <td>31</td>\n",
       "      <td>1.39</td>\n",
       "      <td>3.027571</td>\n",
       "      <td>0.459114</td>\n",
       "      <td>POINT (709751.2509753814 276125.5253733542)</td>\n",
       "    </tr>\n",
       "    <tr>\n",
       "      <th>4</th>\n",
       "      <td>2003.139571</td>\n",
       "      <td>731266.943347</td>\n",
       "      <td>44.145542</td>\n",
       "      <td>-105.359048</td>\n",
       "      <td>1369.21</td>\n",
       "      <td>1380.24</td>\n",
       "      <td>1.73</td>\n",
       "      <td>31</td>\n",
       "      <td>-11.03</td>\n",
       "      <td>3.027571</td>\n",
       "      <td>-3.643185</td>\n",
       "      <td>POINT (709744.4720842609 275951.747074242)</td>\n",
       "    </tr>\n",
       "  </tbody>\n",
       "</table>\n",
       "</div>"
      ],
      "text/plain": [
       "       decyear        ordinal        lat         lon   glas_z    dem_z  \\\n",
       "0  2003.139571  731266.943345  44.157897 -105.356562  1398.51  1400.52   \n",
       "1  2003.139571  731266.943346  44.150175 -105.358116  1387.11  1384.64   \n",
       "2  2003.139571  731266.943347  44.148632 -105.358427  1392.83  1383.49   \n",
       "3  2003.139571  731266.943347  44.147087 -105.358738  1384.24  1382.85   \n",
       "4  2003.139571  731266.943347  44.145542 -105.359048  1369.21  1380.24   \n",
       "\n",
       "   dem_z_std  lulc  glas_srtm_dh  glas_srtm_dt  glas_srtm_dhdt  \\\n",
       "0       0.33    31         -2.01      3.027571       -0.663899   \n",
       "1       0.43    31          2.47      3.027571        0.815836   \n",
       "2       0.28    31          9.34      3.027571        3.084982   \n",
       "3       0.84    31          1.39      3.027571        0.459114   \n",
       "4       1.73    31        -11.03      3.027571       -3.643185   \n",
       "\n",
       "                                      geometry  \n",
       "0   POINT (709799.202481625 277341.4644630185)  \n",
       "1  POINT (709764.9868479106 276472.8763755658)  \n",
       "2   POINT (709758.1079927931 276299.311774242)  \n",
       "3  POINT (709751.2509753814 276125.5253733542)  \n",
       "4   POINT (709744.4720842609 275951.747074242)  "
      ]
     },
     "execution_count": 65,
     "metadata": {},
     "output_type": "execute_result"
    }
   ],
   "source": [
    "glas_gdf_aea.head()"
   ]
  },
  {
   "cell_type": "markdown",
   "metadata": {},
   "source": [
    "## Plot the projected points"
   ]
  },
  {
   "cell_type": "code",
   "execution_count": 66,
   "metadata": {},
   "outputs": [
    {
     "data": {
      "application/vnd.jupyter.widget-view+json": {
       "model_id": "9ff8bc7d8a10475ab1d8d64473e17311",
       "version_major": 2,
       "version_minor": 0
      },
      "text/plain": [
       "FigureCanvasNbAgg()"
      ]
     },
     "metadata": {},
     "output_type": "display_data"
    }
   ],
   "source": [
    "f, axa = plt.subplots(1,2, figsize=(9,4))\n",
    "glas_gdf.plot(ax=axa[0], column='glas_z', cmap='inferno', markersize=1, legend=True)\n",
    "axa[0].set_title('WGS84')\n",
    "glas_gdf_aea.plot(ax=axa[1], column='glas_z', cmap='inferno', markersize=1, legend=True)\n",
    "axa[1].set_title('Albers Equal-area')\n",
    "plt.tight_layout()"
   ]
  },
  {
   "cell_type": "markdown",
   "metadata": {},
   "source": [
    "## OK, great, but what did we just do?\n",
    "\n",
    "Under the hood, GeoPandas used the pyproj library (a Python API for PROJ) to transform each point from one coordinate system to another coordinate system.  \n",
    "\n",
    "You've all done this kind of thing before: https://en.wikipedia.org/wiki/List_of_common_coordinate_transformations\n",
    "\n",
    "In 2D, transforming (x,y) coordinates between different projections (e.g., WGS84 vs. Albers Equal Area) on the same reference ellipsoid is pretty straightforward.  Things start to get more complicated when you include different ellipsoid models, horizontal/vertical datums, etc.  Oh, also the Earth's surface is not static - plate tectonics make everything more complicated, as time becomes important, and transformations must include a \"kinematic\" component.  \n",
    "\n",
    "Fortunately, the PROJ library (https://proj4.org/about.html) has generalized much of the complicated math for geodetic coordinate transformations.  It's been under development since the 1980s, and our understanding of the Earth's shape and plate motions has changed dramatically in that time period.  So, still pretty complicated, and there are different levels of support/sophistication in the tools/libraries that use PROJ (like fiona or GeoPandas).\n",
    "\n",
    "We aren't going to get into the details here, but feel free to take a look at the Transformations section here to get a sense of how this is actually accomplished: https://proj4.org/operations/index.html"
   ]
  },
  {
   "cell_type": "markdown",
   "metadata": {},
   "source": [
    "# Combined plot"
   ]
  },
  {
   "cell_type": "code",
   "execution_count": 67,
   "metadata": {},
   "outputs": [],
   "source": [
    "bbox = glas_gdf_aea.total_bounds"
   ]
  },
  {
   "cell_type": "code",
   "execution_count": 68,
   "metadata": {},
   "outputs": [],
   "source": [
    "# Reproject the state and RGI polygons\n",
    "states_gdf_aea = states_gdf.to_crs(conus_aea_proj4)\n",
    "rgi_gdf_conus_aea = rgi_gdf_conus.to_crs(conus_aea_proj4)"
   ]
  },
  {
   "cell_type": "code",
   "execution_count": 69,
   "metadata": {},
   "outputs": [
    {
     "data": {
      "application/vnd.jupyter.widget-view+json": {
       "model_id": "328e706ec42a49cfb71ef63c1140e8af",
       "version_major": 2,
       "version_minor": 0
      },
      "text/plain": [
       "FigureCanvasNbAgg()"
      ]
     },
     "metadata": {},
     "output_type": "display_data"
    },
    {
     "data": {
      "text/plain": [
       "(-772261.0866023174, 808966.8211379822)"
      ]
     },
     "execution_count": 69,
     "metadata": {},
     "output_type": "execute_result"
    }
   ],
   "source": [
    "ax = states_gdf_aea.plot(edgecolor='k', facecolor='none', lw=0.5)\n",
    "rgi_gdf_conus_aea.plot(ax=ax, edgecolor='k', lw=0.5, alpha=0.5)\n",
    "glas_gdf_aea.plot(ax=ax, column='glas_z', cmap='inferno', markersize=0.1, legend=True)\n",
    "#glas_gdf_aea.plot(ax=ax, column='decyear', cmap='inferno', markersize=1, legend=True)\n",
    "ax.set_xlim(bbox[[0,2]])\n",
    "ax.set_ylim(bbox[[1,3]])"
   ]
  },
  {
   "cell_type": "markdown",
   "metadata": {},
   "source": [
    "# Hexbin plots\n",
    "\n",
    "Hexbin plots are great for visualizing spatial distribution of binned point density or other metric (e.g., bin median). \n",
    "\n",
    "They are preferable over a standard square/rectangular grid: https://pro.arcgis.com/en/pro-app/tool-reference/spatial-statistics/h-whyhexagons.htm\n",
    "\n",
    "Here are some resources on generating hexbins using Python and matplotlib:\n",
    "* https://matplotlib.org/api/_as_gen/matplotlib.pyplot.hexbin.html\n",
    "* http://darribas.org/gds15/content/labs/lab_09.html\n",
    "\n",
    "Note: an equal-area projection is also a good idea for a hexbin plot."
   ]
  },
  {
   "cell_type": "code",
   "execution_count": 76,
   "metadata": {},
   "outputs": [],
   "source": [
    "nbins = 40"
   ]
  },
  {
   "cell_type": "code",
   "execution_count": 77,
   "metadata": {},
   "outputs": [],
   "source": [
    "#To calculate number of bins dynamically with specified bin spacing in meters\n",
    "#bin_width = 27000 #meters\n",
    "#nbins_x = int(np.ceil(np.abs(bbox[2] - bbox[0])/bin_width))\n",
    "#nbins_y = int(np.ceil(np.abs(bbox[3] - bbox[1])/bin_width))\n",
    "#print(nbins_x, nbins_y)\n",
    "#nbins = nbins_x"
   ]
  },
  {
   "cell_type": "code",
   "execution_count": 78,
   "metadata": {},
   "outputs": [
    {
     "data": {
      "application/vnd.jupyter.widget-view+json": {
       "model_id": "64ef8dbd5d9441a686ca83b7fa5063e3",
       "version_major": 2,
       "version_minor": 0
      },
      "text/plain": [
       "FigureCanvasNbAgg()"
      ]
     },
     "metadata": {},
     "output_type": "display_data"
    }
   ],
   "source": [
    "f,ax = plt.subplots(figsize=(8,6))\n",
    "hb = ax.hexbin(glas_gdf_aea.geometry.x, glas_gdf_aea.geometry.y, gridsize=nbins, cmap='inferno', bins='log', alpha=0.6, mincnt=1)\n",
    "plt.colorbar(hb, label='Point Count')\n",
    "states_gdf_aea.plot(ax=ax, facecolor='none', edgecolor='black');\n",
    "ax.set_xlim(bbox[[0,2]]);\n",
    "ax.set_ylim(bbox[[1,3]]);\n",
    "ax.set_title('GLAS Bin Point Count');"
   ]
  },
  {
   "cell_type": "code",
   "execution_count": 79,
   "metadata": {},
   "outputs": [
    {
     "data": {
      "application/vnd.jupyter.widget-view+json": {
       "model_id": "04572c7d5a384eccbb051b9a5f110918",
       "version_major": 2,
       "version_minor": 0
      },
      "text/plain": [
       "FigureCanvasNbAgg()"
      ]
     },
     "metadata": {},
     "output_type": "display_data"
    }
   ],
   "source": [
    "f,ax = plt.subplots(figsize=(8,6))\n",
    "hb = ax.hexbin(glas_gdf_aea.geometry.x, glas_gdf_aea.geometry.y, C=glas_gdf_aea['glas_z'], \\\n",
    "               reduce_C_function=np.median, gridsize=nbins, cmap='inferno', alpha=0.6)\n",
    "plt.colorbar(hb, ax=ax, label='Elevation (m HAE)')\n",
    "states_gdf_aea.plot(ax=ax, facecolor='none', edgecolor='black');\n",
    "ax.set_xlim(bbox[[0,2]]);\n",
    "ax.set_ylim(bbox[[1,3]]);\n",
    "ax.set_title('GLAS Bin Median Elevation');"
   ]
  },
  {
   "cell_type": "markdown",
   "metadata": {},
   "source": [
    "# Part 2: Analysis of (apparent) elevation change over CONUS glaciers\n",
    "\n",
    "Let's try to consider the following:\n",
    "\n",
    "*Can we identify CONUS glacier surface elevation change that occurred between SRTM (2000) and GLAS (2003-2009) data collection?*"
   ]
  },
  {
   "cell_type": "markdown",
   "metadata": {},
   "source": [
    "## Merge GLAS points with RGI polygons\n",
    "Earlier, we selected RGI polygons using a bounding box, and then did a simple intersection with a polygon.  \n",
    "\n",
    "Now, let's find the GLAS points that intersect **each** RGI glacier polygon.  \n",
    "\n",
    "One approach would be to loop through each glacier polygon, and do an intersection operation like we did with the convex hull.  But this is inefficient, and won't scale well.  It is much more efficient to do a spatial join between the points and the polygons with the intersection operator.  \n",
    "\n",
    "You all probably learned how to perform a join or spatial join in a GIS.  So, do we need to open ArcMap or QGIS here?  Do we need a full-fledged spatial database like PostGIS?  No!  GeoPandas has you covered.\n",
    "\n",
    "http://geopandas.org/reference/geopandas.sjoin.html#geopandas.sjoin"
   ]
  },
  {
   "cell_type": "markdown",
   "metadata": {},
   "source": [
    "### To simplify, let's isolate relevant columns in RGI GeoDataFrame"
   ]
  },
  {
   "cell_type": "code",
   "execution_count": 80,
   "metadata": {},
   "outputs": [
    {
     "data": {
      "text/plain": [
       "Index(['decyear', 'ordinal', 'lat', 'lon', 'glas_z', 'dem_z', 'dem_z_std',\n",
       "       'lulc', 'glas_srtm_dh', 'glas_srtm_dt', 'glas_srtm_dhdt', 'geometry'],\n",
       "      dtype='object')"
      ]
     },
     "execution_count": 80,
     "metadata": {},
     "output_type": "execute_result"
    }
   ],
   "source": [
    "glas_gdf_aea.columns"
   ]
  },
  {
   "cell_type": "code",
   "execution_count": 81,
   "metadata": {},
   "outputs": [
    {
     "data": {
      "text/plain": [
       "Index(['GLIMSId', 'BgnDate', 'EndDate', 'CenLon', 'CenLat', 'O1Region',\n",
       "       'O2Region', 'Area', 'Zmin', 'Zmax', 'Zmed', 'Slope', 'Aspect', 'Lmax',\n",
       "       'Status', 'Connect', 'Form', 'TermType', 'Surging', 'Linkages', 'Name',\n",
       "       'geometry'],\n",
       "      dtype='object')"
      ]
     },
     "execution_count": 81,
     "metadata": {},
     "output_type": "execute_result"
    }
   ],
   "source": [
    "rgi_gdf_conus_aea.columns"
   ]
  },
  {
   "cell_type": "code",
   "execution_count": 82,
   "metadata": {},
   "outputs": [],
   "source": [
    "#Just use these columns from RGI\n",
    "rgi_col = ['Area','Name','geometry']"
   ]
  },
  {
   "cell_type": "markdown",
   "metadata": {},
   "source": [
    "## Perform the spatial join\n",
    "We'll use the intersection operation, and only return points that actually intersect glacier polygons.  Let's store this in a new GeoDataFrame."
   ]
  },
  {
   "cell_type": "code",
   "execution_count": 83,
   "metadata": {},
   "outputs": [],
   "source": [
    "glas_gdf_aea_rgi = gpd.sjoin(glas_gdf_aea, rgi_gdf_conus_aea[rgi_col], op='intersects', how='inner')"
   ]
  },
  {
   "cell_type": "code",
   "execution_count": 84,
   "metadata": {},
   "outputs": [],
   "source": [
    "#The join uses \"index_right\" for the RGI index column name.  Let's rename to RGIId\n",
    "glas_gdf_aea_rgi = glas_gdf_aea_rgi.rename(columns={\"index_right\": \"RGIId\"})"
   ]
  },
  {
   "cell_type": "code",
   "execution_count": 85,
   "metadata": {},
   "outputs": [
    {
     "data": {
      "text/html": [
       "<div>\n",
       "<style scoped>\n",
       "    .dataframe tbody tr th:only-of-type {\n",
       "        vertical-align: middle;\n",
       "    }\n",
       "\n",
       "    .dataframe tbody tr th {\n",
       "        vertical-align: top;\n",
       "    }\n",
       "\n",
       "    .dataframe thead th {\n",
       "        text-align: right;\n",
       "    }\n",
       "</style>\n",
       "<table border=\"1\" class=\"dataframe\">\n",
       "  <thead>\n",
       "    <tr style=\"text-align: right;\">\n",
       "      <th></th>\n",
       "      <th>decyear</th>\n",
       "      <th>ordinal</th>\n",
       "      <th>lat</th>\n",
       "      <th>lon</th>\n",
       "      <th>glas_z</th>\n",
       "      <th>dem_z</th>\n",
       "      <th>dem_z_std</th>\n",
       "      <th>lulc</th>\n",
       "      <th>glas_srtm_dh</th>\n",
       "      <th>glas_srtm_dt</th>\n",
       "      <th>glas_srtm_dhdt</th>\n",
       "      <th>geometry</th>\n",
       "      <th>RGIId</th>\n",
       "      <th>Area</th>\n",
       "      <th>Name</th>\n",
       "    </tr>\n",
       "  </thead>\n",
       "  <tbody>\n",
       "    <tr>\n",
       "      <th>1032</th>\n",
       "      <td>2003.162887</td>\n",
       "      <td>731275.453606</td>\n",
       "      <td>48.672276</td>\n",
       "      <td>-121.532290</td>\n",
       "      <td>1798.45</td>\n",
       "      <td>1791.25</td>\n",
       "      <td>5.63</td>\n",
       "      <td>12</td>\n",
       "      <td>7.20</td>\n",
       "      <td>3.050887</td>\n",
       "      <td>2.359970</td>\n",
       "      <td>POINT (-536290.6968751887 765027.7300854146)</td>\n",
       "      <td>RGI60-02.17369</td>\n",
       "      <td>2.819</td>\n",
       "      <td>Noisy Creek Glacier</td>\n",
       "    </tr>\n",
       "    <tr>\n",
       "      <th>5393</th>\n",
       "      <td>2003.753883</td>\n",
       "      <td>731491.167315</td>\n",
       "      <td>48.669686</td>\n",
       "      <td>-121.525707</td>\n",
       "      <td>1826.79</td>\n",
       "      <td>1832.08</td>\n",
       "      <td>8.82</td>\n",
       "      <td>12</td>\n",
       "      <td>-5.29</td>\n",
       "      <td>3.641883</td>\n",
       "      <td>-1.452545</td>\n",
       "      <td>POINT (-535829.9284047344 764700.7641614984)</td>\n",
       "      <td>RGI60-02.17369</td>\n",
       "      <td>2.819</td>\n",
       "      <td>Noisy Creek Glacier</td>\n",
       "    </tr>\n",
       "    <tr>\n",
       "      <th>5394</th>\n",
       "      <td>2003.753883</td>\n",
       "      <td>731491.167315</td>\n",
       "      <td>48.671225</td>\n",
       "      <td>-121.526056</td>\n",
       "      <td>1795.05</td>\n",
       "      <td>1795.39</td>\n",
       "      <td>3.60</td>\n",
       "      <td>12</td>\n",
       "      <td>-0.34</td>\n",
       "      <td>3.641883</td>\n",
       "      <td>-0.093358</td>\n",
       "      <td>POINT (-535841.2584876922 764872.8200801831)</td>\n",
       "      <td>RGI60-02.17369</td>\n",
       "      <td>2.819</td>\n",
       "      <td>Noisy Creek Glacier</td>\n",
       "    </tr>\n",
       "    <tr>\n",
       "      <th>5395</th>\n",
       "      <td>2003.753883</td>\n",
       "      <td>731491.167315</td>\n",
       "      <td>48.672763</td>\n",
       "      <td>-121.526408</td>\n",
       "      <td>1768.91</td>\n",
       "      <td>1768.20</td>\n",
       "      <td>3.47</td>\n",
       "      <td>12</td>\n",
       "      <td>0.71</td>\n",
       "      <td>3.641883</td>\n",
       "      <td>0.194954</td>\n",
       "      <td>POINT (-535852.8175845263 765044.7837475365)</td>\n",
       "      <td>RGI60-02.17369</td>\n",
       "      <td>2.819</td>\n",
       "      <td>Noisy Creek Glacier</td>\n",
       "    </tr>\n",
       "    <tr>\n",
       "      <th>5396</th>\n",
       "      <td>2003.753883</td>\n",
       "      <td>731491.167316</td>\n",
       "      <td>48.674303</td>\n",
       "      <td>-121.526762</td>\n",
       "      <td>1745.11</td>\n",
       "      <td>1745.54</td>\n",
       "      <td>3.98</td>\n",
       "      <td>12</td>\n",
       "      <td>-0.43</td>\n",
       "      <td>3.641883</td>\n",
       "      <td>-0.118071</td>\n",
       "      <td>POINT (-535864.5039730374 765216.9800739347)</td>\n",
       "      <td>RGI60-02.17369</td>\n",
       "      <td>2.819</td>\n",
       "      <td>Noisy Creek Glacier</td>\n",
       "    </tr>\n",
       "  </tbody>\n",
       "</table>\n",
       "</div>"
      ],
      "text/plain": [
       "          decyear        ordinal        lat         lon   glas_z    dem_z  \\\n",
       "1032  2003.162887  731275.453606  48.672276 -121.532290  1798.45  1791.25   \n",
       "5393  2003.753883  731491.167315  48.669686 -121.525707  1826.79  1832.08   \n",
       "5394  2003.753883  731491.167315  48.671225 -121.526056  1795.05  1795.39   \n",
       "5395  2003.753883  731491.167315  48.672763 -121.526408  1768.91  1768.20   \n",
       "5396  2003.753883  731491.167316  48.674303 -121.526762  1745.11  1745.54   \n",
       "\n",
       "      dem_z_std  lulc  glas_srtm_dh  glas_srtm_dt  glas_srtm_dhdt  \\\n",
       "1032       5.63    12          7.20      3.050887        2.359970   \n",
       "5393       8.82    12         -5.29      3.641883       -1.452545   \n",
       "5394       3.60    12         -0.34      3.641883       -0.093358   \n",
       "5395       3.47    12          0.71      3.641883        0.194954   \n",
       "5396       3.98    12         -0.43      3.641883       -0.118071   \n",
       "\n",
       "                                          geometry           RGIId   Area  \\\n",
       "1032  POINT (-536290.6968751887 765027.7300854146)  RGI60-02.17369  2.819   \n",
       "5393  POINT (-535829.9284047344 764700.7641614984)  RGI60-02.17369  2.819   \n",
       "5394  POINT (-535841.2584876922 764872.8200801831)  RGI60-02.17369  2.819   \n",
       "5395  POINT (-535852.8175845263 765044.7837475365)  RGI60-02.17369  2.819   \n",
       "5396  POINT (-535864.5039730374 765216.9800739347)  RGI60-02.17369  2.819   \n",
       "\n",
       "                     Name  \n",
       "1032  Noisy Creek Glacier  \n",
       "5393  Noisy Creek Glacier  \n",
       "5394  Noisy Creek Glacier  \n",
       "5395  Noisy Creek Glacier  \n",
       "5396  Noisy Creek Glacier  "
      ]
     },
     "execution_count": 85,
     "metadata": {},
     "output_type": "execute_result"
    }
   ],
   "source": [
    "glas_gdf_aea_rgi.head()"
   ]
  },
  {
   "cell_type": "markdown",
   "metadata": {},
   "source": [
    "## Check number of records"
   ]
  },
  {
   "cell_type": "code",
   "execution_count": 86,
   "metadata": {},
   "outputs": [
    {
     "name": "stdout",
     "output_type": "stream",
     "text": [
      "Number of RGI polygons before: 5149\n",
      "Number of GLAS points before: 65236\n",
      "Number of GLAS points that intersect RGI polygons: 822\n"
     ]
    }
   ],
   "source": [
    "print(\"Number of RGI polygons before:\", rgi_gdf_conus_aea.shape[0])\n",
    "print(\"Number of GLAS points before:\", glas_gdf_aea.shape[0])\n",
    "print(\"Number of GLAS points that intersect RGI polygons:\", glas_gdf_aea_rgi.shape[0])"
   ]
  },
  {
   "cell_type": "markdown",
   "metadata": {},
   "source": [
    "## Check number of GLAS points per RGI polygon"
   ]
  },
  {
   "cell_type": "code",
   "execution_count": 87,
   "metadata": {},
   "outputs": [
    {
     "data": {
      "text/plain": [
       "RGI60-02.14588    49\n",
       "RGI60-02.13805    45\n",
       "RGI60-02.17727    43\n",
       "RGI60-02.14005    33\n",
       "RGI60-02.14103    30\n",
       "Name: RGIId, dtype: int64"
      ]
     },
     "execution_count": 87,
     "metadata": {},
     "output_type": "execute_result"
    }
   ],
   "source": [
    "glas_gdf_aea_rgi['RGIId'].value_counts().head()"
   ]
  },
  {
   "cell_type": "markdown",
   "metadata": {},
   "source": [
    "## Which glacier has the greatest number of points?\n",
    "\n",
    "Some notes on indexing and selecting from Pandas DataFrame: http://pandas.pydata.org/pandas-docs/stable/user_guide/indexing.html\n",
    "\n",
    "https://www.shanelynn.ie/select-pandas-dataframe-rows-and-columns-using-iloc-loc-and-ix/\n",
    "\n",
    "Here we'll use the `loc` function to pull out the record for the RGIId key with the highest point count."
   ]
  },
  {
   "cell_type": "code",
   "execution_count": 88,
   "metadata": {},
   "outputs": [
    {
     "name": "stdout",
     "output_type": "stream",
     "text": [
      "RGI60-02.14588\n"
     ]
    }
   ],
   "source": [
    "label = glas_gdf_aea_rgi['RGIId'].value_counts().index[0]\n",
    "print(label)"
   ]
  },
  {
   "cell_type": "code",
   "execution_count": 89,
   "metadata": {},
   "outputs": [
    {
     "data": {
      "text/plain": [
       "'Swift Glacier WA'"
      ]
     },
     "execution_count": 89,
     "metadata": {},
     "output_type": "execute_result"
    }
   ],
   "source": [
    "rgi_gdf_conus_aea.loc[label]['Name']"
   ]
  },
  {
   "cell_type": "code",
   "execution_count": 90,
   "metadata": {},
   "outputs": [
    {
     "data": {
      "text/plain": [
       "GLIMSId                                        G237815E46186N\n",
       "BgnDate                                              19809999\n",
       "EndDate                                              -9999999\n",
       "CenLon                                               -122.185\n",
       "CenLat                                                46.1858\n",
       "O1Region                                                    2\n",
       "O2Region                                                    4\n",
       "Area                                                    0.327\n",
       "Zmin                                                     1990\n",
       "Zmax                                                     2484\n",
       "Zmed                                                     2261\n",
       "Slope                                                    25.9\n",
       "Aspect                                                    157\n",
       "Lmax                                                     1088\n",
       "Status                                                      0\n",
       "Connect                                                     0\n",
       "Form                                                        0\n",
       "TermType                                                    0\n",
       "Surging                                                     0\n",
       "Linkages                                                    9\n",
       "Name                                         Swift Glacier WA\n",
       "geometry    POLYGON ((-609637.2321523846 494657.9701951775...\n",
       "Name: RGI60-02.14588, dtype: object"
      ]
     },
     "execution_count": 90,
     "metadata": {},
     "output_type": "execute_result"
    }
   ],
   "source": [
    "rgi_gdf_conus_aea.loc[label]"
   ]
  },
  {
   "cell_type": "code",
   "execution_count": 91,
   "metadata": {},
   "outputs": [
    {
     "data": {
      "image/svg+xml": [
       "<svg xmlns=\"http://www.w3.org/2000/svg\" xmlns:xlink=\"http://www.w3.org/1999/xlink\" width=\"300\" height=\"300\" viewBox=\"-610080.2866292003 493772.3315497151 582.536549336277 1134.4040567764896\" preserveAspectRatio=\"xMinYMin meet\"><g transform=\"matrix(1,0,0,-1,0,988679.0671562066)\"><path fill-rule=\"evenodd\" fill=\"#66cc99\" stroke=\"#555555\" stroke-width=\"7.562693711843264\" opacity=\"0.6\" d=\"M -609637.2321523846,494657.9701951775 L -609635.4418541203,494651.27831593604 L -609632.2846097893,494633.5135555587 L -609623.3137617885,494553.0593087468 L -609619.2896060338,494523.7328733816 L -609617.8069405869,494511.7966208398 L -609610.5567657789,494476.1608921352 L -609604.1620929941,494426.6262169574 L -609603.1571417702,494380.52073268127 L -609599.6034702994,494331.27804948215 L -609598.5984535532,494285.1723004035 L -609599.0549556952,494224.8411474052 L -609594.916756672,494181.28852723056 L -609595.5834873653,494146.85528760165 L -609593.9939733127,494106.4397056389 L -609577.3224793433,494073.0997415014 L -609564.3690511384,494031.5164204288 L -609557.4492590473,494021.74048726406 L -609554.812131957,494015.97981547564 L -609545.6127390899,493969.5905112046 L -609542.831980888,493940.0436225275 L -609539.7650449298,493918.714484461 L -609541.0136719594,493896.80084406125 L -609545.297591624,493875.078031557 L -609551.1239189791,493857.4632480772 L -609556.0646539077,493848.0108683348 L -609559.8979880755,493841.2377951505 L -609570.9937733217,493831.3371901292 L -609582.8622632539,493823.30638235284 L -609593.2683890533,493818.5255678719 L -609601.6640756462,493816.38512546994 L -609611.8866926918,493814.3465147809 L -609629.646074074,493818.04193475825 L -609639.1293928301,493822.0790235783 L -609670.9742606829,493846.68025269714 L -609709.7913644724,493867.7700994492 L -609721.1107644571,493875.9201820045 L -609736.26103732,493886.46847821167 L -609752.5336568017,493902.31490975636 L -609764.4108119964,493915.6665526315 L -609772.1153830668,493927.54902791436 L -609780.3987422332,493944.322148933 L -609787.6742305191,493962.275549554 L -609798.2420188143,494015.632243454 L -609804.9998099097,494036.58751906833 L -609815.3091422479,494063.6350747761 L -609825.5289201863,494083.0111719453 L -609838.5803972696,494101.34192423755 L -609853.0549262045,494116.76568265277 L -609883.4896582583,494144.2762956671 L -609908.8671631655,494160.7745068198 L -609914.293034773,494166.3697881034 L -609917.8577509669,494171.8153115733 L -609922.4022550571,494185.2717446407 L -609926.0248219249,494198.97800019773 L -609935.5800897253,494262.3510245528 L -609940.4240795298,494275.8350339261 L -609943.3441836758,494286.15869849833 L -609948.7772642791,494299.97643183166 L -609955.5048656109,494312.6961690672 L -609986.8215456153,494362.00506479875 L -609998.3664544813,494384.55362965044 L -610007.2675009813,494405.36093313695 L -610026.7284976953,494479.82622477977 L -610034.3096422419,494514.910874709 L -610038.2716641346,494536.59114847175 L -610037.0180676926,494558.53788170265 L -610032.965411679,494605.0706129237 L -610032.0747204478,494648.85966034915 L -610027.6902972286,494691.5361770987 L -610015.0750998429,494730.4916649759 L -610005.8855698189,494764.04894902284 L -609999.5370395012,494797.89820743207 L -609992.896131148,494834.5924838561 L -609988.301406516,494851.37106114934 L -609978.316907337,494864.72064142575 L -609956.1735019726,494856.6949181874 L -609922.6661008263,494847.5012373884 L -609880.3433540139,494840.27685150795 L -609831.461762464,494841.00380883476 L -609791.6878059573,494836.9163954701 L -609757.0111881812,494839.1031588466 L -609728.3088435491,494839.02856904344 L -609710.7603651002,494814.2241322916 L -609689.2836022922,494771.76514483005 L -609672.3197165794,494741.27052453964 L -609657.904510046,494713.9129351803 L -609646.0380394518,494689.6923626804 L -609642.4022339828,494669.1927630663 L -609637.2321523846,494657.9701951775 z\" /></g></svg>"
      ],
      "text/plain": [
       "<shapely.geometry.polygon.Polygon at 0x7f5a4b7c2f98>"
      ]
     },
     "execution_count": 91,
     "metadata": {},
     "output_type": "execute_result"
    }
   ],
   "source": [
    "rgi_gdf_conus_aea.loc[label].geometry"
   ]
  },
  {
   "cell_type": "markdown",
   "metadata": {},
   "source": [
    "## ipyleaflet plot\n",
    "\n",
    "OK, great, but where is this glacier?  Let's plot on an interactive ipyleaflet map.\n",
    "\n",
    "Note that leaflet uses tiled basemaps: https://en.wikipedia.org/wiki/Tiled_web_map \n",
    "\n",
    "Default projection is Web Mercator (EPSG:3857): https://en.wikipedia.org/wiki/Web_Mercator_projection.  This works well for lower latitudes, but not the polar regions.  I know QGIS can reproject tiled basemaps on the fly - I haven't tested with ipyleaflet.\n",
    "\n",
    "FYI, `folium` provides similar functionality outside of the iPython/Jupyter stack: https://python-visualization.github.io/folium/"
   ]
  },
  {
   "cell_type": "code",
   "execution_count": 92,
   "metadata": {},
   "outputs": [],
   "source": [
    "from ipyleaflet import Map, Marker, basemaps"
   ]
  },
  {
   "cell_type": "code",
   "execution_count": 93,
   "metadata": {},
   "outputs": [
    {
     "data": {
      "text/plain": [
       "dict_keys(['OpenStreetMap', 'OpenTopoMap', 'OpenMapSurfer', 'Hydda', 'Esri', 'HikeBike', 'MtbMap', 'CartoDB', 'NASAGIBS', 'Strava', 'Stamen'])"
      ]
     },
     "execution_count": 93,
     "metadata": {},
     "output_type": "execute_result"
    }
   ],
   "source": [
    "#Look at all of the basemap options!\n",
    "basemaps.keys()"
   ]
  },
  {
   "cell_type": "code",
   "execution_count": 98,
   "metadata": {},
   "outputs": [
    {
     "data": {
      "application/vnd.jupyter.widget-view+json": {
       "model_id": "16e214788e564389845f9acca2373585",
       "version_major": 2,
       "version_minor": 0
      },
      "text/plain": [
       "Map(basemap={'url': 'http://stamen-tiles-a.a.ssl.fastly.net/terrain/{z}/{x}/{y}.png', 'attribution': 'Map tile…"
      ]
     },
     "metadata": {},
     "output_type": "display_data"
    }
   ],
   "source": [
    "center = (rgi_gdf_conus_aea.loc[label]['CenLat'], rgi_gdf_conus_aea.loc[label]['CenLon'])\n",
    "basemap = basemaps.Stamen.Terrain\n",
    "m = Map(center=center, zoom=12, basemap=basemap)\n",
    "#label=rgi_gdf_conus_aea.loc[label]['Name']\n",
    "marker = Marker(location=center, draggable=True)\n",
    "m.add_layer(marker);\n",
    "display(m)"
   ]
  },
  {
   "cell_type": "markdown",
   "metadata": {},
   "source": [
    "## Plot points and RGI polygons, Zoom in on WA state"
   ]
  },
  {
   "cell_type": "code",
   "execution_count": 99,
   "metadata": {},
   "outputs": [
    {
     "data": {
      "application/vnd.jupyter.widget-view+json": {
       "model_id": "23f7a53cdd1e462f9da5da8dfc34e58f",
       "version_major": 2,
       "version_minor": 0
      },
      "text/plain": [
       "FigureCanvasNbAgg()"
      ]
     },
     "metadata": {},
     "output_type": "display_data"
    }
   ],
   "source": [
    "clim = (-3.0, 3.0)\n",
    "ax=states_gdf_aea.plot(facecolor='none', edgecolor='black');\n",
    "rgi_gdf_conus_aea.plot(ax=ax, edgecolor='k', lw=0.5, alpha=0.1);\n",
    "glas_gdf_aea.plot(ax=ax, column='glas_srtm_dhdt', cmap='RdBu', markersize=1, legend=True, vmin=clim[0], vmax=clim[1])\n",
    "ax.set_xlim(bbox[[0,2]]);\n",
    "ax.set_ylim(bbox[[1,3]]);"
   ]
  },
  {
   "cell_type": "markdown",
   "metadata": {},
   "source": [
    "## Groupby and Aggregate\n",
    "\n",
    "OK, so we know that our sampling isn't great and our dh/dt values are noisy.  But we're here to learn some core concepts and tools, so let's compute some statistics for each glacier anyway.  Hopefully you'll see the value of these operations, and be able to reproduce when you do have a good sample.\n",
    "\n",
    "We can use the Pandas Groupby functionality to group GLAS points for each RGI polygon, and then aggregate using different functions (e.g., mean, std) for different attributes (e.g., 'glas_z', 'glas_srtm_dhdt').\n",
    "\n",
    "This concept can feel a bit abstract at first, but it is very powerful.  \n",
    "\n",
    "https://pandas.pydata.org/pandas-docs/stable/user_guide/groupby.html"
   ]
  },
  {
   "cell_type": "code",
   "execution_count": 100,
   "metadata": {},
   "outputs": [
    {
     "data": {
      "text/html": [
       "<div>\n",
       "<style scoped>\n",
       "    .dataframe tbody tr th:only-of-type {\n",
       "        vertical-align: middle;\n",
       "    }\n",
       "\n",
       "    .dataframe tbody tr th {\n",
       "        vertical-align: top;\n",
       "    }\n",
       "\n",
       "    .dataframe thead th {\n",
       "        text-align: right;\n",
       "    }\n",
       "</style>\n",
       "<table border=\"1\" class=\"dataframe\">\n",
       "  <thead>\n",
       "    <tr style=\"text-align: right;\">\n",
       "      <th></th>\n",
       "      <th>decyear</th>\n",
       "      <th>ordinal</th>\n",
       "      <th>lat</th>\n",
       "      <th>lon</th>\n",
       "      <th>glas_z</th>\n",
       "      <th>dem_z</th>\n",
       "      <th>dem_z_std</th>\n",
       "      <th>lulc</th>\n",
       "      <th>glas_srtm_dh</th>\n",
       "      <th>glas_srtm_dt</th>\n",
       "      <th>glas_srtm_dhdt</th>\n",
       "      <th>geometry</th>\n",
       "      <th>RGIId</th>\n",
       "      <th>Area</th>\n",
       "      <th>Name</th>\n",
       "    </tr>\n",
       "  </thead>\n",
       "  <tbody>\n",
       "    <tr>\n",
       "      <th>1032</th>\n",
       "      <td>2003.162887</td>\n",
       "      <td>731275.453606</td>\n",
       "      <td>48.672276</td>\n",
       "      <td>-121.532290</td>\n",
       "      <td>1798.45</td>\n",
       "      <td>1791.25</td>\n",
       "      <td>5.63</td>\n",
       "      <td>12</td>\n",
       "      <td>7.20</td>\n",
       "      <td>3.050887</td>\n",
       "      <td>2.359970</td>\n",
       "      <td>POINT (-536290.6968751887 765027.7300854146)</td>\n",
       "      <td>RGI60-02.17369</td>\n",
       "      <td>2.819</td>\n",
       "      <td>Noisy Creek Glacier</td>\n",
       "    </tr>\n",
       "    <tr>\n",
       "      <th>5393</th>\n",
       "      <td>2003.753883</td>\n",
       "      <td>731491.167315</td>\n",
       "      <td>48.669686</td>\n",
       "      <td>-121.525707</td>\n",
       "      <td>1826.79</td>\n",
       "      <td>1832.08</td>\n",
       "      <td>8.82</td>\n",
       "      <td>12</td>\n",
       "      <td>-5.29</td>\n",
       "      <td>3.641883</td>\n",
       "      <td>-1.452545</td>\n",
       "      <td>POINT (-535829.9284047344 764700.7641614984)</td>\n",
       "      <td>RGI60-02.17369</td>\n",
       "      <td>2.819</td>\n",
       "      <td>Noisy Creek Glacier</td>\n",
       "    </tr>\n",
       "    <tr>\n",
       "      <th>5394</th>\n",
       "      <td>2003.753883</td>\n",
       "      <td>731491.167315</td>\n",
       "      <td>48.671225</td>\n",
       "      <td>-121.526056</td>\n",
       "      <td>1795.05</td>\n",
       "      <td>1795.39</td>\n",
       "      <td>3.60</td>\n",
       "      <td>12</td>\n",
       "      <td>-0.34</td>\n",
       "      <td>3.641883</td>\n",
       "      <td>-0.093358</td>\n",
       "      <td>POINT (-535841.2584876922 764872.8200801831)</td>\n",
       "      <td>RGI60-02.17369</td>\n",
       "      <td>2.819</td>\n",
       "      <td>Noisy Creek Glacier</td>\n",
       "    </tr>\n",
       "    <tr>\n",
       "      <th>5395</th>\n",
       "      <td>2003.753883</td>\n",
       "      <td>731491.167315</td>\n",
       "      <td>48.672763</td>\n",
       "      <td>-121.526408</td>\n",
       "      <td>1768.91</td>\n",
       "      <td>1768.20</td>\n",
       "      <td>3.47</td>\n",
       "      <td>12</td>\n",
       "      <td>0.71</td>\n",
       "      <td>3.641883</td>\n",
       "      <td>0.194954</td>\n",
       "      <td>POINT (-535852.8175845263 765044.7837475365)</td>\n",
       "      <td>RGI60-02.17369</td>\n",
       "      <td>2.819</td>\n",
       "      <td>Noisy Creek Glacier</td>\n",
       "    </tr>\n",
       "    <tr>\n",
       "      <th>5396</th>\n",
       "      <td>2003.753883</td>\n",
       "      <td>731491.167316</td>\n",
       "      <td>48.674303</td>\n",
       "      <td>-121.526762</td>\n",
       "      <td>1745.11</td>\n",
       "      <td>1745.54</td>\n",
       "      <td>3.98</td>\n",
       "      <td>12</td>\n",
       "      <td>-0.43</td>\n",
       "      <td>3.641883</td>\n",
       "      <td>-0.118071</td>\n",
       "      <td>POINT (-535864.5039730374 765216.9800739347)</td>\n",
       "      <td>RGI60-02.17369</td>\n",
       "      <td>2.819</td>\n",
       "      <td>Noisy Creek Glacier</td>\n",
       "    </tr>\n",
       "  </tbody>\n",
       "</table>\n",
       "</div>"
      ],
      "text/plain": [
       "          decyear        ordinal        lat         lon   glas_z    dem_z  \\\n",
       "1032  2003.162887  731275.453606  48.672276 -121.532290  1798.45  1791.25   \n",
       "5393  2003.753883  731491.167315  48.669686 -121.525707  1826.79  1832.08   \n",
       "5394  2003.753883  731491.167315  48.671225 -121.526056  1795.05  1795.39   \n",
       "5395  2003.753883  731491.167315  48.672763 -121.526408  1768.91  1768.20   \n",
       "5396  2003.753883  731491.167316  48.674303 -121.526762  1745.11  1745.54   \n",
       "\n",
       "      dem_z_std  lulc  glas_srtm_dh  glas_srtm_dt  glas_srtm_dhdt  \\\n",
       "1032       5.63    12          7.20      3.050887        2.359970   \n",
       "5393       8.82    12         -5.29      3.641883       -1.452545   \n",
       "5394       3.60    12         -0.34      3.641883       -0.093358   \n",
       "5395       3.47    12          0.71      3.641883        0.194954   \n",
       "5396       3.98    12         -0.43      3.641883       -0.118071   \n",
       "\n",
       "                                          geometry           RGIId   Area  \\\n",
       "1032  POINT (-536290.6968751887 765027.7300854146)  RGI60-02.17369  2.819   \n",
       "5393  POINT (-535829.9284047344 764700.7641614984)  RGI60-02.17369  2.819   \n",
       "5394  POINT (-535841.2584876922 764872.8200801831)  RGI60-02.17369  2.819   \n",
       "5395  POINT (-535852.8175845263 765044.7837475365)  RGI60-02.17369  2.819   \n",
       "5396  POINT (-535864.5039730374 765216.9800739347)  RGI60-02.17369  2.819   \n",
       "\n",
       "                     Name  \n",
       "1032  Noisy Creek Glacier  \n",
       "5393  Noisy Creek Glacier  \n",
       "5394  Noisy Creek Glacier  \n",
       "5395  Noisy Creek Glacier  \n",
       "5396  Noisy Creek Glacier  "
      ]
     },
     "execution_count": 100,
     "metadata": {},
     "output_type": "execute_result"
    }
   ],
   "source": [
    "glas_gdf_aea_rgi.head()"
   ]
  },
  {
   "cell_type": "code",
   "execution_count": 101,
   "metadata": {},
   "outputs": [
    {
     "data": {
      "text/plain": [
       "<pandas.core.groupby.generic.DataFrameGroupBy object at 0x7f5a491589e8>"
      ]
     },
     "execution_count": 101,
     "metadata": {},
     "output_type": "execute_result"
    }
   ],
   "source": [
    "glas_gdf_aea_rgi.groupby('RGIId')"
   ]
  },
  {
   "cell_type": "markdown",
   "metadata": {},
   "source": [
    "Hmmm.  Nothing happened.  Ah, we need a function to perform the aggregation over the grouped data!  How about taking the mean?"
   ]
  },
  {
   "cell_type": "code",
   "execution_count": 102,
   "metadata": {},
   "outputs": [
    {
     "data": {
      "text/html": [
       "<div>\n",
       "<style scoped>\n",
       "    .dataframe tbody tr th:only-of-type {\n",
       "        vertical-align: middle;\n",
       "    }\n",
       "\n",
       "    .dataframe tbody tr th {\n",
       "        vertical-align: top;\n",
       "    }\n",
       "\n",
       "    .dataframe thead th {\n",
       "        text-align: right;\n",
       "    }\n",
       "</style>\n",
       "<table border=\"1\" class=\"dataframe\">\n",
       "  <thead>\n",
       "    <tr style=\"text-align: right;\">\n",
       "      <th></th>\n",
       "      <th>decyear</th>\n",
       "      <th>ordinal</th>\n",
       "      <th>lat</th>\n",
       "      <th>lon</th>\n",
       "      <th>glas_z</th>\n",
       "      <th>dem_z</th>\n",
       "      <th>dem_z_std</th>\n",
       "      <th>lulc</th>\n",
       "      <th>glas_srtm_dh</th>\n",
       "      <th>glas_srtm_dt</th>\n",
       "      <th>glas_srtm_dhdt</th>\n",
       "      <th>Area</th>\n",
       "    </tr>\n",
       "    <tr>\n",
       "      <th>RGIId</th>\n",
       "      <th></th>\n",
       "      <th></th>\n",
       "      <th></th>\n",
       "      <th></th>\n",
       "      <th></th>\n",
       "      <th></th>\n",
       "      <th></th>\n",
       "      <th></th>\n",
       "      <th></th>\n",
       "      <th></th>\n",
       "      <th></th>\n",
       "      <th></th>\n",
       "    </tr>\n",
       "  </thead>\n",
       "  <tbody>\n",
       "    <tr>\n",
       "      <th>RGI60-02.13741</th>\n",
       "      <td>2006.804160</td>\n",
       "      <td>732605.690871</td>\n",
       "      <td>44.151589</td>\n",
       "      <td>-121.766834</td>\n",
       "      <td>2367.762500</td>\n",
       "      <td>2365.713333</td>\n",
       "      <td>6.960833</td>\n",
       "      <td>13.583333</td>\n",
       "      <td>2.049167</td>\n",
       "      <td>6.692160</td>\n",
       "      <td>0.313717</td>\n",
       "      <td>0.808</td>\n",
       "    </tr>\n",
       "    <tr>\n",
       "      <th>RGI60-02.13756</th>\n",
       "      <td>2007.420252</td>\n",
       "      <td>732830.677869</td>\n",
       "      <td>44.154302</td>\n",
       "      <td>-121.766221</td>\n",
       "      <td>2334.240000</td>\n",
       "      <td>2327.524286</td>\n",
       "      <td>10.122857</td>\n",
       "      <td>22.857143</td>\n",
       "      <td>6.715714</td>\n",
       "      <td>7.308252</td>\n",
       "      <td>0.780945</td>\n",
       "      <td>0.074</td>\n",
       "    </tr>\n",
       "    <tr>\n",
       "      <th>RGI60-02.13761</th>\n",
       "      <td>2007.762265</td>\n",
       "      <td>732955.226789</td>\n",
       "      <td>44.163874</td>\n",
       "      <td>-121.767570</td>\n",
       "      <td>2577.600000</td>\n",
       "      <td>2566.260000</td>\n",
       "      <td>25.190000</td>\n",
       "      <td>31.000000</td>\n",
       "      <td>11.340000</td>\n",
       "      <td>7.650265</td>\n",
       "      <td>1.482302</td>\n",
       "      <td>0.104</td>\n",
       "    </tr>\n",
       "    <tr>\n",
       "      <th>RGI60-02.13769</th>\n",
       "      <td>2007.910226</td>\n",
       "      <td>733009.488093</td>\n",
       "      <td>44.169898</td>\n",
       "      <td>-121.769604</td>\n",
       "      <td>2710.566667</td>\n",
       "      <td>2714.436667</td>\n",
       "      <td>20.210000</td>\n",
       "      <td>24.666667</td>\n",
       "      <td>-3.870000</td>\n",
       "      <td>7.798226</td>\n",
       "      <td>-0.500506</td>\n",
       "      <td>0.051</td>\n",
       "    </tr>\n",
       "    <tr>\n",
       "      <th>RGI60-02.13770</th>\n",
       "      <td>2004.766882</td>\n",
       "      <td>731861.678773</td>\n",
       "      <td>44.175493</td>\n",
       "      <td>-121.774264</td>\n",
       "      <td>2453.932500</td>\n",
       "      <td>2452.617500</td>\n",
       "      <td>11.110000</td>\n",
       "      <td>26.250000</td>\n",
       "      <td>1.315000</td>\n",
       "      <td>4.654882</td>\n",
       "      <td>0.282499</td>\n",
       "      <td>0.144</td>\n",
       "    </tr>\n",
       "  </tbody>\n",
       "</table>\n",
       "</div>"
      ],
      "text/plain": [
       "                    decyear        ordinal        lat         lon  \\\n",
       "RGIId                                                               \n",
       "RGI60-02.13741  2006.804160  732605.690871  44.151589 -121.766834   \n",
       "RGI60-02.13756  2007.420252  732830.677869  44.154302 -121.766221   \n",
       "RGI60-02.13761  2007.762265  732955.226789  44.163874 -121.767570   \n",
       "RGI60-02.13769  2007.910226  733009.488093  44.169898 -121.769604   \n",
       "RGI60-02.13770  2004.766882  731861.678773  44.175493 -121.774264   \n",
       "\n",
       "                     glas_z        dem_z  dem_z_std       lulc  glas_srtm_dh  \\\n",
       "RGIId                                                                          \n",
       "RGI60-02.13741  2367.762500  2365.713333   6.960833  13.583333      2.049167   \n",
       "RGI60-02.13756  2334.240000  2327.524286  10.122857  22.857143      6.715714   \n",
       "RGI60-02.13761  2577.600000  2566.260000  25.190000  31.000000     11.340000   \n",
       "RGI60-02.13769  2710.566667  2714.436667  20.210000  24.666667     -3.870000   \n",
       "RGI60-02.13770  2453.932500  2452.617500  11.110000  26.250000      1.315000   \n",
       "\n",
       "                glas_srtm_dt  glas_srtm_dhdt   Area  \n",
       "RGIId                                                \n",
       "RGI60-02.13741      6.692160        0.313717  0.808  \n",
       "RGI60-02.13756      7.308252        0.780945  0.074  \n",
       "RGI60-02.13761      7.650265        1.482302  0.104  \n",
       "RGI60-02.13769      7.798226       -0.500506  0.051  \n",
       "RGI60-02.13770      4.654882        0.282499  0.144  "
      ]
     },
     "execution_count": 102,
     "metadata": {},
     "output_type": "execute_result"
    }
   ],
   "source": [
    "glas_gdf_aea_rgi.groupby('RGIId').mean().head()"
   ]
  },
  {
   "cell_type": "code",
   "execution_count": 103,
   "metadata": {},
   "outputs": [
    {
     "data": {
      "text/html": [
       "<div>\n",
       "<style scoped>\n",
       "    .dataframe tbody tr th:only-of-type {\n",
       "        vertical-align: middle;\n",
       "    }\n",
       "\n",
       "    .dataframe tbody tr th {\n",
       "        vertical-align: top;\n",
       "    }\n",
       "\n",
       "    .dataframe thead th {\n",
       "        text-align: right;\n",
       "    }\n",
       "</style>\n",
       "<table border=\"1\" class=\"dataframe\">\n",
       "  <thead>\n",
       "    <tr style=\"text-align: right;\">\n",
       "      <th></th>\n",
       "      <th>decyear</th>\n",
       "      <th>ordinal</th>\n",
       "      <th>lat</th>\n",
       "      <th>lon</th>\n",
       "      <th>glas_z</th>\n",
       "      <th>dem_z</th>\n",
       "      <th>dem_z_std</th>\n",
       "      <th>lulc</th>\n",
       "      <th>glas_srtm_dh</th>\n",
       "      <th>glas_srtm_dt</th>\n",
       "      <th>glas_srtm_dhdt</th>\n",
       "      <th>Area</th>\n",
       "    </tr>\n",
       "    <tr>\n",
       "      <th>RGIId</th>\n",
       "      <th></th>\n",
       "      <th></th>\n",
       "      <th></th>\n",
       "      <th></th>\n",
       "      <th></th>\n",
       "      <th></th>\n",
       "      <th></th>\n",
       "      <th></th>\n",
       "      <th></th>\n",
       "      <th></th>\n",
       "      <th></th>\n",
       "      <th></th>\n",
       "    </tr>\n",
       "  </thead>\n",
       "  <tbody>\n",
       "    <tr>\n",
       "      <th>RGI60-02.13741</th>\n",
       "      <td>1.703625e+00</td>\n",
       "      <td>6.222345e+02</td>\n",
       "      <td>0.000853</td>\n",
       "      <td>0.001719</td>\n",
       "      <td>44.709595</td>\n",
       "      <td>43.881115</td>\n",
       "      <td>2.712035</td>\n",
       "      <td>5.484828</td>\n",
       "      <td>4.940891</td>\n",
       "      <td>1.703625e+00</td>\n",
       "      <td>0.712847</td>\n",
       "      <td>0.0</td>\n",
       "    </tr>\n",
       "    <tr>\n",
       "      <th>RGI60-02.13756</th>\n",
       "      <td>1.503702e+00</td>\n",
       "      <td>5.492444e+02</td>\n",
       "      <td>0.000745</td>\n",
       "      <td>0.000745</td>\n",
       "      <td>40.594923</td>\n",
       "      <td>31.964334</td>\n",
       "      <td>4.571855</td>\n",
       "      <td>10.155927</td>\n",
       "      <td>10.503861</td>\n",
       "      <td>1.503702e+00</td>\n",
       "      <td>1.156264</td>\n",
       "      <td>0.0</td>\n",
       "    </tr>\n",
       "    <tr>\n",
       "      <th>RGI60-02.13761</th>\n",
       "      <td>NaN</td>\n",
       "      <td>NaN</td>\n",
       "      <td>NaN</td>\n",
       "      <td>NaN</td>\n",
       "      <td>NaN</td>\n",
       "      <td>NaN</td>\n",
       "      <td>NaN</td>\n",
       "      <td>NaN</td>\n",
       "      <td>NaN</td>\n",
       "      <td>NaN</td>\n",
       "      <td>NaN</td>\n",
       "      <td>NaN</td>\n",
       "    </tr>\n",
       "    <tr>\n",
       "      <th>RGI60-02.13769</th>\n",
       "      <td>7.932583e-01</td>\n",
       "      <td>2.899536e+02</td>\n",
       "      <td>0.000459</td>\n",
       "      <td>0.000719</td>\n",
       "      <td>54.160927</td>\n",
       "      <td>55.814523</td>\n",
       "      <td>2.307878</td>\n",
       "      <td>10.969655</td>\n",
       "      <td>2.148046</td>\n",
       "      <td>7.932583e-01</td>\n",
       "      <td>0.293306</td>\n",
       "      <td>0.0</td>\n",
       "    </tr>\n",
       "    <tr>\n",
       "      <th>RGI60-02.13770</th>\n",
       "      <td>1.500006e-08</td>\n",
       "      <td>4.941568e-07</td>\n",
       "      <td>0.002656</td>\n",
       "      <td>0.000467</td>\n",
       "      <td>172.569776</td>\n",
       "      <td>170.142339</td>\n",
       "      <td>6.031479</td>\n",
       "      <td>9.500000</td>\n",
       "      <td>3.755640</td>\n",
       "      <td>1.499995e-08</td>\n",
       "      <td>0.806818</td>\n",
       "      <td>0.0</td>\n",
       "    </tr>\n",
       "  </tbody>\n",
       "</table>\n",
       "</div>"
      ],
      "text/plain": [
       "                     decyear       ordinal       lat       lon      glas_z  \\\n",
       "RGIId                                                                        \n",
       "RGI60-02.13741  1.703625e+00  6.222345e+02  0.000853  0.001719   44.709595   \n",
       "RGI60-02.13756  1.503702e+00  5.492444e+02  0.000745  0.000745   40.594923   \n",
       "RGI60-02.13761           NaN           NaN       NaN       NaN         NaN   \n",
       "RGI60-02.13769  7.932583e-01  2.899536e+02  0.000459  0.000719   54.160927   \n",
       "RGI60-02.13770  1.500006e-08  4.941568e-07  0.002656  0.000467  172.569776   \n",
       "\n",
       "                     dem_z  dem_z_std       lulc  glas_srtm_dh  glas_srtm_dt  \\\n",
       "RGIId                                                                          \n",
       "RGI60-02.13741   43.881115   2.712035   5.484828      4.940891  1.703625e+00   \n",
       "RGI60-02.13756   31.964334   4.571855  10.155927     10.503861  1.503702e+00   \n",
       "RGI60-02.13761         NaN        NaN        NaN           NaN           NaN   \n",
       "RGI60-02.13769   55.814523   2.307878  10.969655      2.148046  7.932583e-01   \n",
       "RGI60-02.13770  170.142339   6.031479   9.500000      3.755640  1.499995e-08   \n",
       "\n",
       "                glas_srtm_dhdt  Area  \n",
       "RGIId                                 \n",
       "RGI60-02.13741        0.712847   0.0  \n",
       "RGI60-02.13756        1.156264   0.0  \n",
       "RGI60-02.13761             NaN   NaN  \n",
       "RGI60-02.13769        0.293306   0.0  \n",
       "RGI60-02.13770        0.806818   0.0  "
      ]
     },
     "execution_count": 103,
     "metadata": {},
     "output_type": "execute_result"
    }
   ],
   "source": [
    "glas_gdf_aea_rgi.groupby('RGIId').std().head()"
   ]
  },
  {
   "cell_type": "markdown",
   "metadata": {},
   "source": [
    "## Define a more sophisticated aggregation function\n",
    "\n",
    "A dictionary of fields and functions can be used to compute a set of summary statistics for relevant columns"
   ]
  },
  {
   "cell_type": "code",
   "execution_count": 104,
   "metadata": {},
   "outputs": [],
   "source": [
    "agg_func = {'Name':'first',\n",
    "            'Area':'first', \n",
    "            'glas_z':['mean', 'median', 'std'],\n",
    "            'glas_srtm_dhdt':['count','mean', 'median', 'std']}"
   ]
  },
  {
   "cell_type": "code",
   "execution_count": 105,
   "metadata": {},
   "outputs": [],
   "source": [
    "glas_gdf_aea_rgi_agg = glas_gdf_aea_rgi.groupby('RGIId').agg(agg_func)"
   ]
  },
  {
   "cell_type": "code",
   "execution_count": 106,
   "metadata": {},
   "outputs": [
    {
     "data": {
      "text/html": [
       "<div>\n",
       "<style scoped>\n",
       "    .dataframe tbody tr th:only-of-type {\n",
       "        vertical-align: middle;\n",
       "    }\n",
       "\n",
       "    .dataframe tbody tr th {\n",
       "        vertical-align: top;\n",
       "    }\n",
       "\n",
       "    .dataframe thead tr th {\n",
       "        text-align: left;\n",
       "    }\n",
       "\n",
       "    .dataframe thead tr:last-of-type th {\n",
       "        text-align: right;\n",
       "    }\n",
       "</style>\n",
       "<table border=\"1\" class=\"dataframe\">\n",
       "  <thead>\n",
       "    <tr>\n",
       "      <th></th>\n",
       "      <th>Name</th>\n",
       "      <th>Area</th>\n",
       "      <th colspan=\"3\" halign=\"left\">glas_z</th>\n",
       "      <th colspan=\"4\" halign=\"left\">glas_srtm_dhdt</th>\n",
       "    </tr>\n",
       "    <tr>\n",
       "      <th></th>\n",
       "      <th>first</th>\n",
       "      <th>first</th>\n",
       "      <th>mean</th>\n",
       "      <th>median</th>\n",
       "      <th>std</th>\n",
       "      <th>count</th>\n",
       "      <th>mean</th>\n",
       "      <th>median</th>\n",
       "      <th>std</th>\n",
       "    </tr>\n",
       "    <tr>\n",
       "      <th>RGIId</th>\n",
       "      <th></th>\n",
       "      <th></th>\n",
       "      <th></th>\n",
       "      <th></th>\n",
       "      <th></th>\n",
       "      <th></th>\n",
       "      <th></th>\n",
       "      <th></th>\n",
       "      <th></th>\n",
       "    </tr>\n",
       "  </thead>\n",
       "  <tbody>\n",
       "    <tr>\n",
       "      <th>RGI60-02.13741</th>\n",
       "      <td>Hayden Glacier OR</td>\n",
       "      <td>0.808</td>\n",
       "      <td>2367.762500</td>\n",
       "      <td>2351.530</td>\n",
       "      <td>44.709595</td>\n",
       "      <td>12</td>\n",
       "      <td>0.313717</td>\n",
       "      <td>0.521908</td>\n",
       "      <td>0.712847</td>\n",
       "    </tr>\n",
       "    <tr>\n",
       "      <th>RGI60-02.13756</th>\n",
       "      <td>OR</td>\n",
       "      <td>0.074</td>\n",
       "      <td>2334.240000</td>\n",
       "      <td>2309.530</td>\n",
       "      <td>40.594923</td>\n",
       "      <td>7</td>\n",
       "      <td>0.780945</td>\n",
       "      <td>0.488872</td>\n",
       "      <td>1.156264</td>\n",
       "    </tr>\n",
       "    <tr>\n",
       "      <th>RGI60-02.13761</th>\n",
       "      <td>Thayer Glacier OR</td>\n",
       "      <td>0.104</td>\n",
       "      <td>2577.600000</td>\n",
       "      <td>2577.600</td>\n",
       "      <td>NaN</td>\n",
       "      <td>1</td>\n",
       "      <td>1.482302</td>\n",
       "      <td>1.482302</td>\n",
       "      <td>NaN</td>\n",
       "    </tr>\n",
       "    <tr>\n",
       "      <th>RGI60-02.13769</th>\n",
       "      <td>Villard Glacier OR</td>\n",
       "      <td>0.051</td>\n",
       "      <td>2710.566667</td>\n",
       "      <td>2689.840</td>\n",
       "      <td>54.160927</td>\n",
       "      <td>3</td>\n",
       "      <td>-0.500506</td>\n",
       "      <td>-0.549968</td>\n",
       "      <td>0.293306</td>\n",
       "    </tr>\n",
       "    <tr>\n",
       "      <th>RGI60-02.13770</th>\n",
       "      <td>Linn Glacier OR</td>\n",
       "      <td>0.144</td>\n",
       "      <td>2453.932500</td>\n",
       "      <td>2394.325</td>\n",
       "      <td>172.569776</td>\n",
       "      <td>4</td>\n",
       "      <td>0.282499</td>\n",
       "      <td>0.585407</td>\n",
       "      <td>0.806818</td>\n",
       "    </tr>\n",
       "  </tbody>\n",
       "</table>\n",
       "</div>"
      ],
      "text/plain": [
       "                              Name   Area       glas_z                        \\\n",
       "                             first  first         mean    median         std   \n",
       "RGIId                                                                          \n",
       "RGI60-02.13741   Hayden Glacier OR  0.808  2367.762500  2351.530   44.709595   \n",
       "RGI60-02.13756                  OR  0.074  2334.240000  2309.530   40.594923   \n",
       "RGI60-02.13761   Thayer Glacier OR  0.104  2577.600000  2577.600         NaN   \n",
       "RGI60-02.13769  Villard Glacier OR  0.051  2710.566667  2689.840   54.160927   \n",
       "RGI60-02.13770     Linn Glacier OR  0.144  2453.932500  2394.325  172.569776   \n",
       "\n",
       "               glas_srtm_dhdt                                \n",
       "                        count      mean    median       std  \n",
       "RGIId                                                        \n",
       "RGI60-02.13741             12  0.313717  0.521908  0.712847  \n",
       "RGI60-02.13756              7  0.780945  0.488872  1.156264  \n",
       "RGI60-02.13761              1  1.482302  1.482302       NaN  \n",
       "RGI60-02.13769              3 -0.500506 -0.549968  0.293306  \n",
       "RGI60-02.13770              4  0.282499  0.585407  0.806818  "
      ]
     },
     "execution_count": 106,
     "metadata": {},
     "output_type": "execute_result"
    }
   ],
   "source": [
    "glas_gdf_aea_rgi_agg.head()"
   ]
  },
  {
   "cell_type": "code",
   "execution_count": 107,
   "metadata": {},
   "outputs": [],
   "source": [
    "# We don't need the multi-index here\n",
    "glas_gdf_aea_rgi_agg.columns = ['_'.join(col).rstrip('_') for col in glas_gdf_aea_rgi_agg.columns.values]"
   ]
  },
  {
   "cell_type": "code",
   "execution_count": 108,
   "metadata": {},
   "outputs": [
    {
     "data": {
      "text/html": [
       "<div>\n",
       "<style scoped>\n",
       "    .dataframe tbody tr th:only-of-type {\n",
       "        vertical-align: middle;\n",
       "    }\n",
       "\n",
       "    .dataframe tbody tr th {\n",
       "        vertical-align: top;\n",
       "    }\n",
       "\n",
       "    .dataframe thead th {\n",
       "        text-align: right;\n",
       "    }\n",
       "</style>\n",
       "<table border=\"1\" class=\"dataframe\">\n",
       "  <thead>\n",
       "    <tr style=\"text-align: right;\">\n",
       "      <th></th>\n",
       "      <th>Name_first</th>\n",
       "      <th>Area_first</th>\n",
       "      <th>glas_z_mean</th>\n",
       "      <th>glas_z_median</th>\n",
       "      <th>glas_z_std</th>\n",
       "      <th>glas_srtm_dhdt_count</th>\n",
       "      <th>glas_srtm_dhdt_mean</th>\n",
       "      <th>glas_srtm_dhdt_median</th>\n",
       "      <th>glas_srtm_dhdt_std</th>\n",
       "    </tr>\n",
       "    <tr>\n",
       "      <th>RGIId</th>\n",
       "      <th></th>\n",
       "      <th></th>\n",
       "      <th></th>\n",
       "      <th></th>\n",
       "      <th></th>\n",
       "      <th></th>\n",
       "      <th></th>\n",
       "      <th></th>\n",
       "      <th></th>\n",
       "    </tr>\n",
       "  </thead>\n",
       "  <tbody>\n",
       "    <tr>\n",
       "      <th>RGI60-02.13741</th>\n",
       "      <td>Hayden Glacier OR</td>\n",
       "      <td>0.808</td>\n",
       "      <td>2367.762500</td>\n",
       "      <td>2351.530</td>\n",
       "      <td>44.709595</td>\n",
       "      <td>12</td>\n",
       "      <td>0.313717</td>\n",
       "      <td>0.521908</td>\n",
       "      <td>0.712847</td>\n",
       "    </tr>\n",
       "    <tr>\n",
       "      <th>RGI60-02.13756</th>\n",
       "      <td>OR</td>\n",
       "      <td>0.074</td>\n",
       "      <td>2334.240000</td>\n",
       "      <td>2309.530</td>\n",
       "      <td>40.594923</td>\n",
       "      <td>7</td>\n",
       "      <td>0.780945</td>\n",
       "      <td>0.488872</td>\n",
       "      <td>1.156264</td>\n",
       "    </tr>\n",
       "    <tr>\n",
       "      <th>RGI60-02.13761</th>\n",
       "      <td>Thayer Glacier OR</td>\n",
       "      <td>0.104</td>\n",
       "      <td>2577.600000</td>\n",
       "      <td>2577.600</td>\n",
       "      <td>NaN</td>\n",
       "      <td>1</td>\n",
       "      <td>1.482302</td>\n",
       "      <td>1.482302</td>\n",
       "      <td>NaN</td>\n",
       "    </tr>\n",
       "    <tr>\n",
       "      <th>RGI60-02.13769</th>\n",
       "      <td>Villard Glacier OR</td>\n",
       "      <td>0.051</td>\n",
       "      <td>2710.566667</td>\n",
       "      <td>2689.840</td>\n",
       "      <td>54.160927</td>\n",
       "      <td>3</td>\n",
       "      <td>-0.500506</td>\n",
       "      <td>-0.549968</td>\n",
       "      <td>0.293306</td>\n",
       "    </tr>\n",
       "    <tr>\n",
       "      <th>RGI60-02.13770</th>\n",
       "      <td>Linn Glacier OR</td>\n",
       "      <td>0.144</td>\n",
       "      <td>2453.932500</td>\n",
       "      <td>2394.325</td>\n",
       "      <td>172.569776</td>\n",
       "      <td>4</td>\n",
       "      <td>0.282499</td>\n",
       "      <td>0.585407</td>\n",
       "      <td>0.806818</td>\n",
       "    </tr>\n",
       "  </tbody>\n",
       "</table>\n",
       "</div>"
      ],
      "text/plain": [
       "                        Name_first  Area_first  glas_z_mean  glas_z_median  \\\n",
       "RGIId                                                                        \n",
       "RGI60-02.13741   Hayden Glacier OR       0.808  2367.762500       2351.530   \n",
       "RGI60-02.13756                  OR       0.074  2334.240000       2309.530   \n",
       "RGI60-02.13761   Thayer Glacier OR       0.104  2577.600000       2577.600   \n",
       "RGI60-02.13769  Villard Glacier OR       0.051  2710.566667       2689.840   \n",
       "RGI60-02.13770     Linn Glacier OR       0.144  2453.932500       2394.325   \n",
       "\n",
       "                glas_z_std  glas_srtm_dhdt_count  glas_srtm_dhdt_mean  \\\n",
       "RGIId                                                                   \n",
       "RGI60-02.13741   44.709595                    12             0.313717   \n",
       "RGI60-02.13756   40.594923                     7             0.780945   \n",
       "RGI60-02.13761         NaN                     1             1.482302   \n",
       "RGI60-02.13769   54.160927                     3            -0.500506   \n",
       "RGI60-02.13770  172.569776                     4             0.282499   \n",
       "\n",
       "                glas_srtm_dhdt_median  glas_srtm_dhdt_std  \n",
       "RGIId                                                      \n",
       "RGI60-02.13741               0.521908            0.712847  \n",
       "RGI60-02.13756               0.488872            1.156264  \n",
       "RGI60-02.13761               1.482302                 NaN  \n",
       "RGI60-02.13769              -0.549968            0.293306  \n",
       "RGI60-02.13770               0.585407            0.806818  "
      ]
     },
     "execution_count": 108,
     "metadata": {},
     "output_type": "execute_result"
    }
   ],
   "source": [
    "glas_gdf_aea_rgi_agg.head()"
   ]
  },
  {
   "cell_type": "code",
   "execution_count": 109,
   "metadata": {},
   "outputs": [],
   "source": [
    "glas_gdf_aea_rgi_agg['glas_pt_density'] = glas_gdf_aea_rgi_agg['glas_srtm_dhdt_count']/glas_gdf_aea_rgi_agg['Area_first']"
   ]
  },
  {
   "cell_type": "markdown",
   "metadata": {},
   "source": [
    "## Wait a minute, what happened to our polygon geometry?\n",
    "\n",
    "This was a casualty of our initial spatial join, as we preserved the Point geometry for each GLAS record, not the RGI geometry.\n",
    "\n",
    "Let's create a new GeoDataFrame, adding the original RGI geometry to the aggregated statistics.\n",
    "\n",
    "Since both DataFrames have the same Index (RGIId), Pandas will automatically join with corresponding records."
   ]
  },
  {
   "cell_type": "code",
   "execution_count": 110,
   "metadata": {},
   "outputs": [
    {
     "data": {
      "text/plain": [
       "RGIId\n",
       "RGI60-02.13700    POLYGON ((733183.8562791409 -182439.9539486785...\n",
       "RGI60-02.13701    POLYGON ((733108.950973706 -183368.1988575285,...\n",
       "RGI60-02.13702    POLYGON ((733034.5516035394 -180342.9573478426...\n",
       "RGI60-02.13703    POLYGON ((731622.1793600245 -179141.0037190297...\n",
       "RGI60-02.13704    POLYGON ((730885.0062104709 -178746.0156964659...\n",
       "Name: geometry, dtype: object"
      ]
     },
     "execution_count": 110,
     "metadata": {},
     "output_type": "execute_result"
    }
   ],
   "source": [
    "rgi_gdf_conus_aea['geometry'].head()"
   ]
  },
  {
   "cell_type": "code",
   "execution_count": 111,
   "metadata": {},
   "outputs": [],
   "source": [
    "glas_gdf_aea_rgi_agg_gdf = gpd.GeoDataFrame(glas_gdf_aea_rgi_agg, geometry=rgi_gdf_conus_aea['geometry'])"
   ]
  },
  {
   "cell_type": "code",
   "execution_count": 112,
   "metadata": {},
   "outputs": [
    {
     "data": {
      "text/html": [
       "<div>\n",
       "<style scoped>\n",
       "    .dataframe tbody tr th:only-of-type {\n",
       "        vertical-align: middle;\n",
       "    }\n",
       "\n",
       "    .dataframe tbody tr th {\n",
       "        vertical-align: top;\n",
       "    }\n",
       "\n",
       "    .dataframe thead th {\n",
       "        text-align: right;\n",
       "    }\n",
       "</style>\n",
       "<table border=\"1\" class=\"dataframe\">\n",
       "  <thead>\n",
       "    <tr style=\"text-align: right;\">\n",
       "      <th></th>\n",
       "      <th>Name_first</th>\n",
       "      <th>Area_first</th>\n",
       "      <th>glas_z_mean</th>\n",
       "      <th>glas_z_median</th>\n",
       "      <th>glas_z_std</th>\n",
       "      <th>glas_srtm_dhdt_count</th>\n",
       "      <th>glas_srtm_dhdt_mean</th>\n",
       "      <th>glas_srtm_dhdt_median</th>\n",
       "      <th>glas_srtm_dhdt_std</th>\n",
       "      <th>glas_pt_density</th>\n",
       "      <th>geometry</th>\n",
       "    </tr>\n",
       "    <tr>\n",
       "      <th>RGIId</th>\n",
       "      <th></th>\n",
       "      <th></th>\n",
       "      <th></th>\n",
       "      <th></th>\n",
       "      <th></th>\n",
       "      <th></th>\n",
       "      <th></th>\n",
       "      <th></th>\n",
       "      <th></th>\n",
       "      <th></th>\n",
       "      <th></th>\n",
       "    </tr>\n",
       "  </thead>\n",
       "  <tbody>\n",
       "    <tr>\n",
       "      <th>RGI60-02.13741</th>\n",
       "      <td>Hayden Glacier OR</td>\n",
       "      <td>0.808</td>\n",
       "      <td>2367.762500</td>\n",
       "      <td>2351.530</td>\n",
       "      <td>44.709595</td>\n",
       "      <td>12</td>\n",
       "      <td>0.313717</td>\n",
       "      <td>0.521908</td>\n",
       "      <td>0.712847</td>\n",
       "      <td>14.851485</td>\n",
       "      <td>POLYGON ((-598133.6174021332 265564.6568703279...</td>\n",
       "    </tr>\n",
       "    <tr>\n",
       "      <th>RGI60-02.13756</th>\n",
       "      <td>OR</td>\n",
       "      <td>0.074</td>\n",
       "      <td>2334.240000</td>\n",
       "      <td>2309.530</td>\n",
       "      <td>40.594923</td>\n",
       "      <td>7</td>\n",
       "      <td>0.780945</td>\n",
       "      <td>0.488872</td>\n",
       "      <td>1.156264</td>\n",
       "      <td>94.594595</td>\n",
       "      <td>POLYGON ((-597218.1615705864 266082.6795769816...</td>\n",
       "    </tr>\n",
       "    <tr>\n",
       "      <th>RGI60-02.13761</th>\n",
       "      <td>Thayer Glacier OR</td>\n",
       "      <td>0.104</td>\n",
       "      <td>2577.600000</td>\n",
       "      <td>2577.600</td>\n",
       "      <td>NaN</td>\n",
       "      <td>1</td>\n",
       "      <td>1.482302</td>\n",
       "      <td>1.482302</td>\n",
       "      <td>NaN</td>\n",
       "      <td>9.615385</td>\n",
       "      <td>POLYGON ((-596960.0799126084 266987.2218985451...</td>\n",
       "    </tr>\n",
       "    <tr>\n",
       "      <th>RGI60-02.13769</th>\n",
       "      <td>Villard Glacier OR</td>\n",
       "      <td>0.051</td>\n",
       "      <td>2710.566667</td>\n",
       "      <td>2689.840</td>\n",
       "      <td>54.160927</td>\n",
       "      <td>3</td>\n",
       "      <td>-0.500506</td>\n",
       "      <td>-0.549968</td>\n",
       "      <td>0.293306</td>\n",
       "      <td>58.823529</td>\n",
       "      <td>POLYGON ((-597525.68864642 267742.8300522462, ...</td>\n",
       "    </tr>\n",
       "    <tr>\n",
       "      <th>RGI60-02.13770</th>\n",
       "      <td>Linn Glacier OR</td>\n",
       "      <td>0.144</td>\n",
       "      <td>2453.932500</td>\n",
       "      <td>2394.325</td>\n",
       "      <td>172.569776</td>\n",
       "      <td>4</td>\n",
       "      <td>0.282499</td>\n",
       "      <td>0.585407</td>\n",
       "      <td>0.806818</td>\n",
       "      <td>27.777778</td>\n",
       "      <td>POLYGON ((-597605.7763857148 268593.7655254385...</td>\n",
       "    </tr>\n",
       "  </tbody>\n",
       "</table>\n",
       "</div>"
      ],
      "text/plain": [
       "                        Name_first  Area_first  glas_z_mean  glas_z_median  \\\n",
       "RGIId                                                                        \n",
       "RGI60-02.13741   Hayden Glacier OR       0.808  2367.762500       2351.530   \n",
       "RGI60-02.13756                  OR       0.074  2334.240000       2309.530   \n",
       "RGI60-02.13761   Thayer Glacier OR       0.104  2577.600000       2577.600   \n",
       "RGI60-02.13769  Villard Glacier OR       0.051  2710.566667       2689.840   \n",
       "RGI60-02.13770     Linn Glacier OR       0.144  2453.932500       2394.325   \n",
       "\n",
       "                glas_z_std  glas_srtm_dhdt_count  glas_srtm_dhdt_mean  \\\n",
       "RGIId                                                                   \n",
       "RGI60-02.13741   44.709595                    12             0.313717   \n",
       "RGI60-02.13756   40.594923                     7             0.780945   \n",
       "RGI60-02.13761         NaN                     1             1.482302   \n",
       "RGI60-02.13769   54.160927                     3            -0.500506   \n",
       "RGI60-02.13770  172.569776                     4             0.282499   \n",
       "\n",
       "                glas_srtm_dhdt_median  glas_srtm_dhdt_std  glas_pt_density  \\\n",
       "RGIId                                                                        \n",
       "RGI60-02.13741               0.521908            0.712847        14.851485   \n",
       "RGI60-02.13756               0.488872            1.156264        94.594595   \n",
       "RGI60-02.13761               1.482302                 NaN         9.615385   \n",
       "RGI60-02.13769              -0.549968            0.293306        58.823529   \n",
       "RGI60-02.13770               0.585407            0.806818        27.777778   \n",
       "\n",
       "                                                         geometry  \n",
       "RGIId                                                              \n",
       "RGI60-02.13741  POLYGON ((-598133.6174021332 265564.6568703279...  \n",
       "RGI60-02.13756  POLYGON ((-597218.1615705864 266082.6795769816...  \n",
       "RGI60-02.13761  POLYGON ((-596960.0799126084 266987.2218985451...  \n",
       "RGI60-02.13769  POLYGON ((-597525.68864642 267742.8300522462, ...  \n",
       "RGI60-02.13770  POLYGON ((-597605.7763857148 268593.7655254385...  "
      ]
     },
     "execution_count": 112,
     "metadata": {},
     "output_type": "execute_result"
    }
   ],
   "source": [
    "glas_gdf_aea_rgi_agg_gdf.head()"
   ]
  },
  {
   "cell_type": "markdown",
   "metadata": {},
   "source": [
    "# Let's make some final maps"
   ]
  },
  {
   "cell_type": "markdown",
   "metadata": {},
   "source": [
    "## Import some other useful mapping packages\n",
    "\n",
    "`matplotlib-scalebar` adds a dynamic scalebar to matplotlib axes\n",
    "\n",
    "`contextily` downloads and statically renders basemap tiles"
   ]
  },
  {
   "cell_type": "code",
   "execution_count": 113,
   "metadata": {},
   "outputs": [],
   "source": [
    "from matplotlib_scalebar.scalebar import ScaleBar\n",
    "import contextily as ctx"
   ]
  },
  {
   "cell_type": "code",
   "execution_count": 114,
   "metadata": {},
   "outputs": [],
   "source": [
    "def add_basemap(ax, zoom, url='http://tile.stamen.com/terrain/tileZ/tileX/tileY.png'):\n",
    "    xmin, xmax, ymin, ymax = ax.axis()\n",
    "    #Prepare the context basemap tiles\n",
    "    basemap, extent = ctx.bounds2img(xmin, ymin, xmax, ymax, zoom=zoom, url=url)\n",
    "    #Add the basemap to axes\n",
    "    ax.imshow(basemap, extent=extent, interpolation='bilinear')\n",
    "    #Restore original x/y limits\n",
    "    ax.axis((xmin, xmax, ymin, ymax))\n",
    "    #Create a scalebar object, with scaling factor of 1.0 px, since we're using projected coordinate system with unit 1 m\n",
    "    scalebar = ScaleBar(1.0)\n",
    "    #Add scalebar to axes\n",
    "    ax.add_artist(scalebar)"
   ]
  },
  {
   "cell_type": "code",
   "execution_count": 115,
   "metadata": {},
   "outputs": [],
   "source": [
    "#Convert to web mercator (EPSG:3857) to match format of tiled basemap\n",
    "glas_gdf_aea_rgi_agg_gdf_wm = glas_gdf_aea_rgi_agg_gdf.to_crs(epsg=3857)\n",
    "glas_gdf_aea_rgi_wm = glas_gdf_aea_rgi.to_crs(epsg=3857)\n",
    "rgi_gdf_conus_aea_wm = rgi_gdf_conus_aea.to_crs(epsg=3857)\n",
    "states_gdf_aea_wm = states_gdf.to_crs(epsg=3857)"
   ]
  },
  {
   "cell_type": "code",
   "execution_count": 116,
   "metadata": {},
   "outputs": [
    {
     "data": {
      "application/vnd.jupyter.widget-view+json": {
       "model_id": "eb8fc13c8408408eb4e866553bef5e26",
       "version_major": 2,
       "version_minor": 0
      },
      "text/plain": [
       "FigureCanvasNbAgg()"
      ]
     },
     "metadata": {},
     "output_type": "display_data"
    }
   ],
   "source": [
    "clim = (-5.0, 5.0)\n",
    "f, axa = plt.subplots(1,2, figsize=(10,4), sharex=True, sharey=True)\n",
    "\n",
    "rgi_gdf_conus_aea_wm.plot(ax=axa[0], edgecolor='k', facecolor='w', lw=0.5, alpha=0.2);\n",
    "glas_gdf_aea_rgi_agg_gdf_wm.plot(ax=axa[0],column='glas_srtm_dhdt_count', cmap='inferno', edgecolor='k', lw=0.5, legend=True)\n",
    "axa[0].set_title('Number of GLAS shots per RGI Polygon')\n",
    "add_basemap(axa[0], zoom=5)\n",
    "\n",
    "glas_gdf_aea_rgi_agg_gdf_wm.plot(ax=axa[1],column='glas_srtm_dhdt_median', cmap='RdBu', edgecolor='k', lw=0.5, vmin=clim[0], vmax=clim[1], legend=True)\n",
    "axa[1].set_title('Median SRTM to GLAS dh/dt (m/yr)')\n",
    "glas_gdf_aea_rgi_wm.plot(ax=axa[1],column='glas_srtm_dhdt', cmap='RdBu', markersize=5, edgecolor='0.5', lw=0.5, vmin=clim[0], vmax=clim[1])\n",
    "states_gdf_aea_wm.plot(ax=axa[1], edgecolor='k', facecolor='none', lw=0.5)\n",
    "\n",
    "plt.tight_layout()"
   ]
  },
  {
   "cell_type": "markdown",
   "metadata": {},
   "source": [
    "## Zoom to North Cascades"
   ]
  },
  {
   "cell_type": "markdown",
   "metadata": {},
   "source": [
    "# Can we extract any additional insight from the reduced data?"
   ]
  },
  {
   "cell_type": "markdown",
   "metadata": {},
   "source": [
    "## Point density vs. Glacier Area\n",
    "\n",
    "Do we see more valid GLAS points over bigger glaciers?"
   ]
  },
  {
   "cell_type": "code",
   "execution_count": 117,
   "metadata": {},
   "outputs": [
    {
     "data": {
      "application/vnd.jupyter.widget-view+json": {
       "model_id": "ee1ec9ff5ac84b3b8c8f7b380756bb63",
       "version_major": 2,
       "version_minor": 0
      },
      "text/plain": [
       "FigureCanvasNbAgg()"
      ]
     },
     "metadata": {},
     "output_type": "display_data"
    },
    {
     "data": {
      "text/plain": [
       "Text(0.5, 0, 'Glacier Area (km^2)')"
      ]
     },
     "execution_count": 117,
     "metadata": {},
     "output_type": "execute_result"
    }
   ],
   "source": [
    "f, ax = plt.subplots()\n",
    "ax.scatter(glas_gdf_aea_rgi_agg_gdf['Area_first'], glas_gdf_aea_rgi_agg_gdf['glas_srtm_dhdt_count'])\n",
    "ax.set_ylabel('Number of GLAS shots')\n",
    "ax.set_xlabel('Glacier Area (km^2)')"
   ]
  },
  {
   "cell_type": "markdown",
   "metadata": {},
   "source": [
    "## Median dh/dt vs. Glacier Area\n",
    "\n",
    "Do we see less elevation change over bigger glaciers?"
   ]
  },
  {
   "cell_type": "code",
   "execution_count": null,
   "metadata": {},
   "outputs": [],
   "source": [
    "f, ax = plt.subplots()\n",
    "ax.scatter(glas_gdf_aea_rgi_agg_gdf['Area_first'], glas_gdf_aea_rgi_agg_gdf['glas_srtm_dhdt_median'])\n",
    "ax.set_xlabel('Glacier Area (km^2)')\n",
    "ax.set_ylabel('Median SRTM - GLAS dh/dt (m/yr)')\n",
    "ax.axhline(0, color='k')"
   ]
  },
  {
   "cell_type": "markdown",
   "metadata": {},
   "source": [
    "## Median dh/dt vs. Glacier Elevation\n",
    "\n",
    "Do we see greater elevation loss at lower elevations?"
   ]
  },
  {
   "cell_type": "code",
   "execution_count": null,
   "metadata": {},
   "outputs": [],
   "source": [
    "f, ax = plt.subplots()\n",
    "ax.scatter(glas_gdf_aea_rgi_agg_gdf['glas_z_median'], glas_gdf_aea_rgi_agg_gdf['glas_srtm_dhdt_median'])\n",
    "ax.set_xlabel('Median Glacier Elevation (m HAE)')\n",
    "ax.set_ylabel('Median SRTM - GLAS dh/dt (m/yr)')\n",
    "ax.axhline(0, color='k')"
   ]
  },
  {
   "cell_type": "markdown",
   "metadata": {},
   "source": [
    "## Conclusion:\n",
    "\n",
    "### ¯\\\\_(ツ)_/¯"
   ]
  },
  {
   "cell_type": "markdown",
   "metadata": {},
   "source": [
    "## Save output as GIS-ready file\n",
    "\n",
    "The workflows we're developing with Jupyter Notebooks are intended to be all-inclusive and reproducible - they start by reading raw data and end with final results.\n",
    "\n",
    "But sometimes you want to write out geospatial data for analysis in a GUI-based GIS (QGIS, ArcMap) to share with colleagues"
   ]
  },
  {
   "cell_type": "markdown",
   "metadata": {},
   "source": [
    "## How to choose a format?\n",
    "Under the hood, geopandas uses the `fiona` package for reading/writing vector data\n",
    "\n",
    "`fiona.supported_drivers`\n",
    "\n",
    "```\n",
    "{'ARCGEN': 'r',\n",
    " 'AeronavFAA': 'r',\n",
    " 'BNA': 'raw',\n",
    " 'CSV': 'raw',\n",
    " 'DGN': 'raw',\n",
    " 'DXF': 'raw',\n",
    " 'ESRI Shapefile': 'raw',\n",
    " 'GML': 'raw',\n",
    " 'GPKG': 'rw',\n",
    " 'GPSTrackMaker': 'raw',\n",
    " 'GPX': 'raw',\n",
    " 'GeoJSON': 'rw',\n",
    " 'Idrisi': 'r',\n",
    " 'MapInfo File': 'raw',\n",
    " 'OpenFileGDB': 'r',\n",
    " 'PCIDSK': 'r',\n",
    " 'S57': 'r',\n",
    " 'SEGY': 'r',\n",
    " 'SUA': 'r'}\n",
    " ```\n",
    "\n",
    "* You've all used shapefiles in the past.  Please stop.  This is a legacy format, though it is still widely used.\n",
    "* http://switchfromshapefile.org/\n",
    "* Better options these days are Geopackage (GPKG) when spatial index is required, and GeoJSON for most cases - both should be supported by any respectable GIS\n",
    "* Let's use geopackage for this exercise\n",
    "* Now that you've made an informed decision, pick a filename and use the Geopandas `to_file()` method\n",
    "    * Make sure you properly specify filename with extension and the `driver` option\n",
    "    * Note: Writing out may take a minute, and may produce an intermediate '.gpkg-journal' file"
   ]
  },
  {
   "cell_type": "code",
   "execution_count": null,
   "metadata": {},
   "outputs": [],
   "source": [
    "glas_gdf_aea_rgi_agg_gdf.shape"
   ]
  },
  {
   "cell_type": "code",
   "execution_count": null,
   "metadata": {},
   "outputs": [],
   "source": [
    "glas_gdf_aea_rgi_agg_gdf.head()"
   ]
  },
  {
   "cell_type": "code",
   "execution_count": null,
   "metadata": {},
   "outputs": [],
   "source": [
    "out_fn='./conus_glas_gdf_aea_rgi_agg.gpkg'\n",
    "glas_gdf_aea_rgi_agg_gdf.to_file(out_fn, driver='GPKG')\n",
    "\n",
    "#out_fn='./conus_glas_gdf_aea_rgi_agg.geojson'\n",
    "#glas_gdf_aea_rgi_agg_gdf.to_file(out_fn, driver='GeoJSON')"
   ]
  },
  {
   "cell_type": "markdown",
   "metadata": {},
   "source": [
    "## :tada:\n",
    "\n",
    "You can now directly load this gpkg file in any GIS, without defining a coordinate system or dealing with your original csv.  \n",
    "\n",
    "Try it! Right-click on file in the file browser (left side of the JupyterLab interface) -> Download.  Then open in QGIS on your local machine.\n",
    "\n",
    "You can also load this file directly into geopandas in the future using the `read_file()` method, without having to do any of the processing above."
   ]
  },
  {
   "cell_type": "markdown",
   "metadata": {},
   "source": [
    "# So, what if we actually had a decent GLAS sample of CONUS glaciers?\n",
    "\n",
    "## Estimate glacier mass balance\n",
    "\n",
    "We could have estimated mass balance for each glacier polygon using the mean dh/dt, glacier area, and a standard bulk density (850 kg/m3, Huss, 2013).  Could then perform a secondary aggregation to compile statistics for mountain ranges, watersheds, etc.\n",
    "\n",
    "With sparse sample, probably best to bin points to derive dh/dt vs. elevation curves, then combine with observed glacier hypsometry to estimate mass balance for glacier polygons.  This can work, but need to be careful about spatial variability.  Some good papers on this for HMA and other regions led by Andy Kaab and Alex Gardner."
   ]
  },
  {
   "cell_type": "markdown",
   "metadata": {},
   "source": [
    "# Final thoughts\n",
    "\n",
    "GLAS was not the right tool for small, low-latitude CONUS glaciers.  We kind of knew this would be the case before we started, but hey, it's worth a look.\n",
    "\n",
    "The concepts and approaches presented here can be applied to larger glaciers or ice caps, especially at higher latitudes.  One could modify to repeat for all RGI regions.\n",
    "\n",
    "We started with an existing csv of culled points here.  One could repeat with a similarly processed subset of ATL06 points using the workflows presented earlier this week.  This will provide a longer time period to evaluate noisy elevation measurements.  Replacing void-filled SRTM with another reference DEM is also needed (e.g., the timestamped USGS NED).\n",
    "\n",
    "Note that the core tools presented here have Dask integration (https://dask.org/) to allow you to chunk and process larger-than-memory datasets with minimal modification to the code."
   ]
  },
  {
   "cell_type": "markdown",
   "metadata": {},
   "source": [
    "# Appendix A: Distortion in Polar Stereographic Projections"
   ]
  },
  {
   "cell_type": "markdown",
   "metadata": {},
   "source": [
    "\"The [polar stereographic] projection is defined on the entire sphere, except at one point: the projection point. Where it is defined, the mapping is smooth and bijective. It is conformal, meaning that it preserves angles at which curves meet. It is neither isometric nor area-preserving: that is, it preserves neither distances nor the areas of figures.\" [Wikipedia]\n",
    "\n",
    "Most of you are probably using polar stereographic projections, likely the standard EPSG:3031 or EPSG:3413 projections for Antarctica and Greenland, respectively.  These are designed to minimize distortion near the latitude of true scale (71°S for Antarctica and 70°N for Greenland).  This means that area and distance distortion will increase as you move away from this latitude.  So areas or distances measured near the pole will not be equivalent to areas or distances measured on the Antarctic Peninsula.  The difference isn't huge, but is nontrivial (~1-2% for Antarctica I believe).  See https://nsidc.org/data/polar-stereo/ps_grids.html for more details.\n",
    "\n",
    "The figures here might help illustrate: https://en.wikipedia.org/wiki/Stereographic_projection#Properties\n",
    "\n",
    "Let's try to illustrate this nuanced, but often overlooked issue."
   ]
  },
  {
   "cell_type": "markdown",
   "metadata": {},
   "source": [
    "## Tissot's Indicatrix for polar stereographic projection\n",
    "\n",
    "Let's use the classic Tissot's Indicatrix plots to show map distortion.\n",
    "\n",
    "https://en.wikipedia.org/wiki/Tissot%27s_indicatrix"
   ]
  },
  {
   "cell_type": "code",
   "execution_count": 118,
   "metadata": {},
   "outputs": [],
   "source": [
    "import cartopy\n",
    "import cartopy.crs as ccrs\n",
    "\n",
    "#Cartopy implementation of EPSG:3031 and EPSG:3413\n",
    "crs_3031 = ccrs.SouthPolarStereo(true_scale_latitude=-71)\n",
    "crs_3413 = ccrs.NorthPolarStereo(central_longitude=-45, true_scale_latitude=70)\n",
    "\n",
    "#Circle locations\n",
    "lons = range(-180, 180, 30)\n",
    "lats = range(-90, 91, 10)\n",
    "#Radius of circles\n",
    "rad = 400"
   ]
  },
  {
   "cell_type": "code",
   "execution_count": 119,
   "metadata": {},
   "outputs": [
    {
     "data": {
      "application/vnd.jupyter.widget-view+json": {
       "model_id": "30e25be8373c48b8a4b4f96968dd71d1",
       "version_major": 2,
       "version_minor": 0
      },
      "text/plain": [
       "FigureCanvasNbAgg()"
      ]
     },
     "metadata": {},
     "output_type": "display_data"
    }
   ],
   "source": [
    "fig = plt.figure(figsize=(10,5))\n",
    "ax1 = plt.subplot(1, 2, 1, projection=crs_3413)\n",
    "ax1.coastlines()\n",
    "ax1.gridlines(ylocs=[70,],color='r')\n",
    "ax1.tissot(facecolor='orange', edgecolor='0.5', alpha=0.4, rad_km=rad, lons=lons, lats=lats)\n",
    "ax1.set_title('EPSG:3413')\n",
    "\n",
    "ax2 = plt.subplot(1, 2, 2, projection=crs_3031)\n",
    "ax2.coastlines()\n",
    "ax2.gridlines(ylocs=[-71,],color='r')\n",
    "ax2.tissot(facecolor='orange', edgecolor='0.5', alpha=0.4, rad_km=rad, lons=lons, lats=lats)\n",
    "ax2.set_title('EPSG:3031')\n",
    "ax2.set_extent([-180, 180, -90, -50], ccrs.PlateCarree())\n",
    "\n",
    "#There is a bug in cartopy extent when central_longitude is not 0\n",
    "#Get extent in projected crs (x0, x1, y0, y1)\n",
    "extent_3413 = ax2.get_extent()\n",
    "ax1.set_extent(extent_3413, crs_3413)\n",
    "plt.tight_layout()"
   ]
  },
  {
   "cell_type": "markdown",
   "metadata": {},
   "source": [
    "## OK, cool plot bro.  But why does this matter?\n",
    "\n",
    "Note the size of the circles in the corners and over the pole, relative to the circles near the latitude of true scale (red line).  While it is unlikely that you'll use this projection to look at mid-latitude regions, you can see the difference in area distortion over the ~20° of latitude between North and South Greenland.\n",
    "\n",
    "Say you generated amazing elevation difference grids for all of the Greenland ice sheet using ICESat and ICESat-2 crossovers, and you used the EPSG:3413 projection.  Say the grids have a posting (grid cell size) of 120 m.  Imagine didividing the above plots into grid cells.  You'll end up with more grid cells over the circles at lower latitudes (e.g., South Greenland) and fewer grid cells over circles at high latitudes (e.g., North Greenland).  \n",
    "\n",
    "Let's assume you then integrate your dh/dt values to compute volume change of the Greenland ice sheet by summing dh/dt values for all grid cells in each catchment.  Let's assume all grid cells have the same -1.0 m/yr value.  The integrated estimates for the catchments in South Greenland will have more grid cells, resulting in larger apparent negative volume change!"
   ]
  },
  {
   "cell_type": "markdown",
   "metadata": {},
   "source": [
    "## Let's compare with an equal-area projection\n",
    "Lambert Azimuthal Equal-Area is not a bad choice for the polar regions"
   ]
  },
  {
   "cell_type": "code",
   "execution_count": 120,
   "metadata": {},
   "outputs": [],
   "source": [
    "#Cartopy implementation of EPSG:3031 and EPSG:3413\n",
    "#crs_slaea = ccrs.LambertAzimuthalEqualArea(central_longitude=0.0, central_latitude=-90.0)\n",
    "crs_nlaea = ccrs.LambertAzimuthalEqualArea(central_longitude=-45.0, central_latitude=90.0)\n",
    "\n",
    "#Specify locations of Tissot's Indicatrix\n",
    "lons = range(-180, 180, 30)\n",
    "lats = range(-90, 91, 10)\n",
    "rad = 400"
   ]
  },
  {
   "cell_type": "code",
   "execution_count": 121,
   "metadata": {},
   "outputs": [],
   "source": [
    "#Add a 100 km grid\n",
    "dx = 100000\n",
    "xgrid = np.arange(extent_3413[0], extent_3413[1]+dx, dx)\n",
    "ygrid = np.arange(extent_3413[2], extent_3413[3]+dx, dx)"
   ]
  },
  {
   "cell_type": "code",
   "execution_count": 122,
   "metadata": {},
   "outputs": [
    {
     "data": {
      "application/vnd.jupyter.widget-view+json": {
       "model_id": "b9b6a80817af447b8f3cbb6d066f955e",
       "version_major": 2,
       "version_minor": 0
      },
      "text/plain": [
       "FigureCanvasNbAgg()"
      ]
     },
     "metadata": {},
     "output_type": "display_data"
    }
   ],
   "source": [
    "fig = plt.figure(figsize=(10,5))\n",
    "ax1 = plt.subplot(1, 2, 1, projection=crs_3413)\n",
    "ax1.coastlines()\n",
    "ax1.tissot(facecolor='orange', edgecolor='0.5', alpha=0.4, rad_km=rad, lons=lons, lats=lats)\n",
    "ax1.set_title('EPSG:3413')\n",
    "#ax1.gridlines(crs=ccrs.PlateCarree(), ylocs=lats)\n",
    "ax1.gridlines(crs=crs_3413, xlocs=xgrid, ylocs=ygrid)\n",
    "ax1.gridlines(ylocs=[70,],color='r')\n",
    "\n",
    "ax2 = plt.subplot(1, 2, 2, projection=crs_nlaea)\n",
    "ax2.coastlines()\n",
    "ax2.tissot(facecolor='orange', edgecolor='0.5', alpha=0.4, rad_km=rad, lons=lons, lats=lats)\n",
    "ax2.set_title('Lambert Azimuthal Equal-Area')\n",
    "ax2.set_extent([-180, 180, 50, 90], ccrs.PlateCarree())\n",
    "#ax2.gridlines(crs=ccrs.PlateCarree(), ylocs=lats)\n",
    "ax2.gridlines(crs=crs_nlaea, xlocs=xgrid, ylocs=ygrid)\n",
    "\n",
    "#ax1.set_extent(extent_3413, crs_3413)\n",
    "#ax2.set_extent(extent_3413, crs_3413)\n",
    "\n",
    "gr_extent = [-1.4E6,1.4E6,-3.7E6,-5.3E5]\n",
    "ax1.set_extent(gr_extent, crs_3413)\n",
    "ax2.set_extent(gr_extent, crs_3413)"
   ]
  },
  {
   "cell_type": "markdown",
   "metadata": {},
   "source": [
    "## Bonus: the \"Flat Earth\" Projection: Azimuthal Equidistant"
   ]
  },
  {
   "cell_type": "markdown",
   "metadata": {},
   "source": [
    "![Azimuthal Equidistant](https://upload.wikimedia.org/wikipedia/commons/2/2f/Flat_earth.png)\n",
    "\n",
    ">An azimuthal equidistant projection of the entire spherical Earth. A rendered picture of the Flat Earth model. The white around the outside of the globe is thought to be an 'Ice Wall', preventing people from falling off the surface of the earth. [Wikipedia]\n",
    "\n",
    "So, those of you who have been to the South Pole, can you help me understand how this works?"
   ]
  },
  {
   "cell_type": "markdown",
   "metadata": {},
   "source": [
    "# Appendix B: Sampling a raster at points\n",
    "\n",
    "This is something that is surprisingly common, but may not be simple to implement.  Let's discuss a few options:\n",
    "1. Simple `rasterio` sampling with integer indices using nearest neighbor\n",
    "2. Statistics extracted for a circular window around each point location\n",
    "3. NumPy array indices, affine/geotransform between pixel and map coordinates, and NumPy/SciPy interpolation"
   ]
  },
  {
   "cell_type": "markdown",
   "metadata": {},
   "source": [
    "Download sample 90-m SRTM DEM over WA state:  \n",
    "`aws s3 cp s3://pangeo-data-upload-oregon/icesat2/geospatial-analysis/wa_srtm_90m_full_proj.tif .`"
   ]
  },
  {
   "cell_type": "markdown",
   "metadata": {},
   "source": [
    "## 1. Rasterio sampling"
   ]
  },
  {
   "cell_type": "code",
   "execution_count": null,
   "metadata": {},
   "outputs": [],
   "source": [
    "import os\n",
    "import rasterio as rio"
   ]
  },
  {
   "cell_type": "markdown",
   "metadata": {},
   "source": [
    "### Open the file with rasterio\n",
    "\n",
    "https://rasterio.readthedocs.io/en/stable/"
   ]
  },
  {
   "cell_type": "code",
   "execution_count": null,
   "metadata": {},
   "outputs": [],
   "source": [
    "srtm_fn = 'wa_srtm_90m_full_proj.tif'"
   ]
  },
  {
   "cell_type": "code",
   "execution_count": null,
   "metadata": {},
   "outputs": [],
   "source": [
    "#This is rasterio Dataset object\n",
    "src_proj = rio.open(srtm_fn)"
   ]
  },
  {
   "cell_type": "code",
   "execution_count": null,
   "metadata": {},
   "outputs": [],
   "source": [
    "print(src_proj.profile)"
   ]
  },
  {
   "cell_type": "markdown",
   "metadata": {},
   "source": [
    "### Read band 1 as a NumPy array"
   ]
  },
  {
   "cell_type": "code",
   "execution_count": null,
   "metadata": {},
   "outputs": [],
   "source": [
    "srtm_proj = src_proj.read(1).astype(float)"
   ]
  },
  {
   "cell_type": "code",
   "execution_count": null,
   "metadata": {},
   "outputs": [],
   "source": [
    "srtm_proj"
   ]
  },
  {
   "cell_type": "markdown",
   "metadata": {},
   "source": [
    "### Set nodata values to np.nan"
   ]
  },
  {
   "cell_type": "code",
   "execution_count": null,
   "metadata": {},
   "outputs": [],
   "source": [
    "srtm_proj[srtm_proj==src_proj.nodata] = np.nan"
   ]
  },
  {
   "cell_type": "code",
   "execution_count": null,
   "metadata": {},
   "outputs": [],
   "source": [
    "srtm_proj"
   ]
  },
  {
   "cell_type": "markdown",
   "metadata": {},
   "source": [
    "### Plot to verify"
   ]
  },
  {
   "cell_type": "code",
   "execution_count": null,
   "metadata": {},
   "outputs": [],
   "source": [
    "f, ax = plt.subplots()\n",
    "plt.imshow(srtm_proj)"
   ]
  },
  {
   "cell_type": "markdown",
   "metadata": {},
   "source": [
    "### Reproject points to match raster"
   ]
  },
  {
   "cell_type": "code",
   "execution_count": null,
   "metadata": {},
   "outputs": [],
   "source": [
    "#Raster CRS is UTM 10N (EPSG:32610)\n",
    "src_proj.crs"
   ]
  },
  {
   "cell_type": "code",
   "execution_count": null,
   "metadata": {},
   "outputs": [],
   "source": [
    "glas_gdf_utm = glas_gdf_aea.to_crs(src_proj.crs)"
   ]
  },
  {
   "cell_type": "code",
   "execution_count": null,
   "metadata": {},
   "outputs": [],
   "source": [
    "glas_gdf_utm.plot()"
   ]
  },
  {
   "cell_type": "markdown",
   "metadata": {},
   "source": [
    "### Clip points to raster extent"
   ]
  },
  {
   "cell_type": "code",
   "execution_count": null,
   "metadata": {},
   "outputs": [],
   "source": [
    "xmin, ymin, xmax, ymax = src_proj.bounds"
   ]
  },
  {
   "cell_type": "code",
   "execution_count": null,
   "metadata": {},
   "outputs": [],
   "source": [
    "glas_gdf_utm_wa = glas_gdf_utm.cx[xmin:xmax, ymin:ymax]"
   ]
  },
  {
   "cell_type": "code",
   "execution_count": null,
   "metadata": {},
   "outputs": [],
   "source": [
    "glas_gdf_utm.shape[0]"
   ]
  },
  {
   "cell_type": "code",
   "execution_count": null,
   "metadata": {},
   "outputs": [],
   "source": [
    "glas_gdf_utm_wa.shape[0]"
   ]
  },
  {
   "cell_type": "code",
   "execution_count": null,
   "metadata": {},
   "outputs": [],
   "source": [
    "glas_gdf_utm_wa.plot()"
   ]
  },
  {
   "cell_type": "markdown",
   "metadata": {},
   "source": [
    "### Create tuples of coordinates from Point geometry in GeoDataFrame"
   ]
  },
  {
   "cell_type": "code",
   "execution_count": null,
   "metadata": {},
   "outputs": [],
   "source": [
    "glas_coord = [(pt.x, pt.y) for pt in glas_gdf_utm_wa.geometry]\n",
    "glas_coord[0:3]"
   ]
  },
  {
   "cell_type": "markdown",
   "metadata": {},
   "source": [
    "### Sample the raster"
   ]
  },
  {
   "cell_type": "code",
   "execution_count": null,
   "metadata": {},
   "outputs": [],
   "source": [
    "srtm_sample = list((src_proj.sample(glas_coord, 1)))"
   ]
  },
  {
   "cell_type": "code",
   "execution_count": null,
   "metadata": {},
   "outputs": [],
   "source": [
    "srtm_sample[0:3]"
   ]
  },
  {
   "cell_type": "markdown",
   "metadata": {},
   "source": [
    "### Convert to 1D NumPy array"
   ]
  },
  {
   "cell_type": "code",
   "execution_count": null,
   "metadata": {},
   "outputs": [],
   "source": [
    "srtm_sample_elev = np.squeeze(srtm_sample).astype(float)"
   ]
  },
  {
   "cell_type": "code",
   "execution_count": null,
   "metadata": {},
   "outputs": [],
   "source": [
    "srtm_sample_elev"
   ]
  },
  {
   "cell_type": "markdown",
   "metadata": {},
   "source": [
    "### Set nodata to NaN"
   ]
  },
  {
   "cell_type": "code",
   "execution_count": null,
   "metadata": {},
   "outputs": [],
   "source": [
    "srtm_sample_elev[srtm_sample_elev == src_proj.nodata] = np.nan"
   ]
  },
  {
   "cell_type": "code",
   "execution_count": null,
   "metadata": {},
   "outputs": [],
   "source": [
    "srtm_sample_elev"
   ]
  },
  {
   "cell_type": "markdown",
   "metadata": {},
   "source": [
    "### Add to the GeoDataFrame"
   ]
  },
  {
   "cell_type": "code",
   "execution_count": null,
   "metadata": {},
   "outputs": [],
   "source": [
    "glas_gdf_utm_wa['srtm_90m_z_rio'] = srtm_sample_elev"
   ]
  },
  {
   "cell_type": "code",
   "execution_count": null,
   "metadata": {},
   "outputs": [],
   "source": [
    "glas_gdf_utm_wa.head()"
   ]
  },
  {
   "cell_type": "markdown",
   "metadata": {},
   "source": [
    "## 2. Local window sample\n",
    "\n",
    "https://github.com/dshean/demcoreg/blob/master/demcoreg/sample_raster_at_pts.py\n",
    "\n",
    "https://github.com/dshean/pygeotools/blob/master/pygeotools/lib/geolib.py#L1019"
   ]
  },
  {
   "cell_type": "markdown",
   "metadata": {},
   "source": [
    "### Grab latest dev version of pygeotools repo"
   ]
  },
  {
   "cell_type": "code",
   "execution_count": null,
   "metadata": {},
   "outputs": [],
   "source": [
    "!git clone https://github.com/dshean/pygeotools.git"
   ]
  },
  {
   "cell_type": "code",
   "execution_count": null,
   "metadata": {},
   "outputs": [],
   "source": [
    "!cd pygeotools; pip install -e ."
   ]
  },
  {
   "cell_type": "code",
   "execution_count": null,
   "metadata": {},
   "outputs": [],
   "source": [
    "from pygeotools.lib import geolib"
   ]
  },
  {
   "cell_type": "code",
   "execution_count": null,
   "metadata": {},
   "outputs": [],
   "source": [
    "geolib.sample?"
   ]
  },
  {
   "cell_type": "code",
   "execution_count": 3,
   "metadata": {},
   "outputs": [],
   "source": [
    "#This doesn't play nicely with rasterio\n",
    "#https://rasterio.readthedocs.io/en/stable/topics/switch.html\n",
    "#from osgeo import gdal\n",
    "#ds = gdal.Open(srtm_fn)"
   ]
  },
  {
   "cell_type": "code",
   "execution_count": null,
   "metadata": {},
   "outputs": [],
   "source": [
    "#geolib.sample(ds, glas_gdf_utm_wa.geometry.x.values, glas_gdf_utm_wa.geometry.y.values, pad=2, circ=True)"
   ]
  },
  {
   "cell_type": "markdown",
   "metadata": {},
   "source": [
    "## Generate shaded relief map for visualization"
   ]
  },
  {
   "cell_type": "code",
   "execution_count": null,
   "metadata": {},
   "outputs": [],
   "source": [
    "hs_fn = os.path.splitext(srtm_fn)[0]+'_hs.tif'\n",
    "!gdaldem hillshade $srtm_fn $hs_fn"
   ]
  },
  {
   "cell_type": "code",
   "execution_count": null,
   "metadata": {},
   "outputs": [],
   "source": [
    "hs_proj = rio.open(hs_fn)\n",
    "hs = hs_proj.read(1).astype(float)"
   ]
  },
  {
   "cell_type": "code",
   "execution_count": null,
   "metadata": {},
   "outputs": [],
   "source": [
    "hs[hs==hs_proj.nodata] = np.nan"
   ]
  },
  {
   "cell_type": "markdown",
   "metadata": {},
   "source": [
    "## Plot sample over hillshade"
   ]
  },
  {
   "cell_type": "code",
   "execution_count": null,
   "metadata": {},
   "outputs": [],
   "source": [
    "import rasterio.plot\n",
    "f, ax = plt.subplots()\n",
    "ax.imshow(hs, cmap='gray', extent=rio.plot.plotting_extent(hs_proj))\n",
    "glas_gdf_utm_wa.plot('srtm_90m_z_rio', ax=ax, edgecolor='w', cmap='inferno')"
   ]
  },
  {
   "cell_type": "markdown",
   "metadata": {},
   "source": [
    "## Notes on sampling coarse rasters or noisy rasters at integer pixel locations\n",
    "* The rasterio approach is efficient, but it uses \"nearest neighbor\" approach to extract the elevation value for the grid cell that contains the point, regradless of where the point falls within the grid cell (center vs. corner)\n",
    "* But our grid cells can be big (~90x90 m for the SRTM3 data)\n",
    "* A better approach would be to use bilinear or bicubic sampling, to interpolate the elevatoin value at the point coordinates\n",
    "* Another approach uses pixels within some radius of the point location, then computes stats (e.g., median elevation)\n",
    "    * https://github.com/dshean/pygeotools/blob/master/pygeotools/lib/geolib.py#L1019\n",
    "    * https://www.earthdatascience.org/courses/earth-analytics-python/lidar-remote-sensing-uncertainty/extract-data-from-raster/"
   ]
  },
  {
   "cell_type": "markdown",
   "metadata": {},
   "source": [
    "# Appendix C: Elevation Point Query APIs\n",
    "\n",
    "New functions in pygeotools geolib\n",
    "\n",
    "Query USGS NED and Open Elevation APIs for lat/lon coordinates  \n",
    "Query NGS geoid offset API for datum conversions"
   ]
  },
  {
   "cell_type": "code",
   "execution_count": null,
   "metadata": {},
   "outputs": [],
   "source": [
    "lat = glas_gdf_utm_wa.iloc[0:5]['lat'].values\n",
    "lon = glas_gdf_utm_wa.iloc[0:5]['lon'].values"
   ]
  },
  {
   "cell_type": "code",
   "execution_count": null,
   "metadata": {},
   "outputs": [],
   "source": [
    "ned_z = geolib.get_HAE(lon, lat)"
   ]
  },
  {
   "cell_type": "code",
   "execution_count": null,
   "metadata": {},
   "outputs": [],
   "source": [
    "ned_z"
   ]
  },
  {
   "cell_type": "code",
   "execution_count": null,
   "metadata": {},
   "outputs": [],
   "source": [
    "temp = glas_gdf_utm_wa.iloc[0:5][['glas_z', 'dem_z']]"
   ]
  },
  {
   "cell_type": "code",
   "execution_count": null,
   "metadata": {},
   "outputs": [],
   "source": [
    "temp['ned_z'] = ned_z"
   ]
  },
  {
   "cell_type": "code",
   "execution_count": null,
   "metadata": {},
   "outputs": [],
   "source": [
    "temp"
   ]
  }
 ],
 "metadata": {
  "kernelspec": {
   "display_name": "Python 3",
   "language": "python",
   "name": "python3"
  },
  "language_info": {
   "codemirror_mode": {
    "name": "ipython",
    "version": 3
   },
   "file_extension": ".py",
   "mimetype": "text/x-python",
   "name": "python",
   "nbconvert_exporter": "python",
   "pygments_lexer": "ipython3",
   "version": "3.6.7"
  }
 },
 "nbformat": 4,
 "nbformat_minor": 2
}
