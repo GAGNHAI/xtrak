{
 "cells": [
  {
   "cell_type": "markdown",
   "metadata": {},
   "source": [
    "## Code to find intersections of ICESat-2 and ATM data\n",
    "\n",
    "**by Allison Chartrand**\n",
    "\n",
    "**June 2019 ICESat-2 Hackweek**\n"
   ]
  },
  {
   "cell_type": "code",
   "execution_count": 1,
   "metadata": {},
   "outputs": [],
   "source": [
    "#IMPORT PACKAGES\n",
    "import os\n",
    "import glob\n",
    "import pandas as pd\n",
    "import csv\n",
    "import numpy as np\n",
    "import math\n",
    "import matplotlib.pyplot as plt\n",
    "import pyproj\n",
    "from scipy.spatial import distance"
   ]
  },
  {
   "cell_type": "markdown",
   "metadata": {},
   "source": [
    "Code to extract single tracks of IceSat-2 data"
   ]
  },
  {
   "cell_type": "code",
   "execution_count": 2,
   "metadata": {},
   "outputs": [],
   "source": [
    "ATL06data = pd.read_csv('../extractData/IceSat2ZachData')"
   ]
  },
  {
   "cell_type": "code",
   "execution_count": 3,
   "metadata": {},
   "outputs": [
    {
     "data": {
      "text/plain": [
       "array(['gt3r', 'gt1l', 'gt1r', 'gt2l', 'gt2r', 'gt3l'], dtype=object)"
      ]
     },
     "execution_count": 3,
     "metadata": {},
     "output_type": "execute_result"
    }
   ],
   "source": [
    "ATL06data['track'].unique()"
   ]
  },
  {
   "cell_type": "code",
   "execution_count": 4,
   "metadata": {},
   "outputs": [
    {
     "data": {
      "text/plain": [
       "array(['2019-01-04 12:24:25', '2019-02-15 10:09:55',\n",
       "       '2018-10-29 05:05:08', '2019-01-16 01:09:49',\n",
       "       '2018-11-23 03:49:31', '2018-12-10 02:50:30',\n",
       "       '2018-12-19 12:57:40', '2019-01-08 01:26:37',\n",
       "       '2018-11-20 14:21:44', '2018-12-26 02:17:13',\n",
       "       '2019-02-17 23:37:46', '2018-11-16 14:30:09',\n",
       "       '2018-11-27 03:41:06', '2018-12-27 12:41:01',\n",
       "       '2018-10-21 05:21:45', '2018-12-23 12:49:22',\n",
       "       '2018-10-22 15:45:34', '2018-12-14 02:42:09',\n",
       "       '2018-12-15 13:05:59', '2019-01-20 01:01:33',\n",
       "       '2018-12-18 02:33:52', '2019-01-13 11:42:01',\n",
       "       '2019-01-29 11:08:55', '2018-11-15 04:06:22',\n",
       "       '2018-11-19 03:57:57', '2018-12-02 13:56:37',\n",
       "       '2018-10-17 05:30:05', '2019-01-17 11:33:37',\n",
       "       '2018-10-25 05:13:27', '2018-10-30 15:28:58',\n",
       "       '2019-01-21 11:25:25', '2019-02-13 23:46:06',\n",
       "       '2018-10-26 15:37:16', '2019-01-28 00:45:05',\n",
       "       '2019-01-12 01:18:14', '2018-12-30 02:08:55',\n",
       "       '2019-01-25 11:17:11', '2018-12-31 12:32:45',\n",
       "       '2018-12-22 02:25:33', '2018-11-28 14:04:55',\n",
       "       '2019-02-02 11:00:37', '2019-02-19 10:01:34',\n",
       "       '2018-11-24 14:13:17', '2018-10-18 15:53:52',\n",
       "       '2019-02-09 23:54:28', '2018-11-11 04:14:44',\n",
       "       '2019-02-23 09:53:16', '2019-01-24 00:53:21'], dtype=object)"
      ]
     },
     "execution_count": 4,
     "metadata": {},
     "output_type": "execute_result"
    }
   ],
   "source": [
    "ATL06data.date.unique()"
   ]
  },
  {
   "cell_type": "markdown",
   "metadata": {},
   "source": [
    "Define dataframe for output"
   ]
  },
  {
   "cell_type": "code",
   "execution_count": 5,
   "metadata": {},
   "outputs": [
    {
     "name": "stdout",
     "output_type": "stream",
     "text": [
      "Empty DataFrame\n",
      "Columns: [dist_along, ATM_elev, idx_ATM, z_ATL06, t_ATL06, idx_ATL06, gt_ATL06]\n",
      "Index: []\n"
     ]
    },
    {
     "data": {
      "text/html": [
       "<div>\n",
       "<style scoped>\n",
       "    .dataframe tbody tr th:only-of-type {\n",
       "        vertical-align: middle;\n",
       "    }\n",
       "\n",
       "    .dataframe tbody tr th {\n",
       "        vertical-align: top;\n",
       "    }\n",
       "\n",
       "    .dataframe thead th {\n",
       "        text-align: right;\n",
       "    }\n",
       "</style>\n",
       "<table border=\"1\" class=\"dataframe\">\n",
       "  <thead>\n",
       "    <tr style=\"text-align: right;\">\n",
       "      <th></th>\n",
       "      <th>lon</th>\n",
       "      <th>lat</th>\n",
       "      <th>h</th>\n",
       "      <th>track</th>\n",
       "      <th>date</th>\n",
       "      <th>x</th>\n",
       "      <th>y</th>\n",
       "    </tr>\n",
       "  </thead>\n",
       "  <tbody>\n",
       "    <tr>\n",
       "      <th>0</th>\n",
       "      <td>-22.520585</td>\n",
       "      <td>78.700068</td>\n",
       "      <td>579.33765</td>\n",
       "      <td>gt3r</td>\n",
       "      <td>2019-01-04 12:24:25</td>\n",
       "      <td>469494.782922</td>\n",
       "      <td>-1.134613e+06</td>\n",
       "    </tr>\n",
       "    <tr>\n",
       "      <th>1</th>\n",
       "      <td>-22.520755</td>\n",
       "      <td>78.700244</td>\n",
       "      <td>579.03015</td>\n",
       "      <td>gt3r</td>\n",
       "      <td>2019-01-04 12:24:25</td>\n",
       "      <td>469484.057930</td>\n",
       "      <td>-1.134597e+06</td>\n",
       "    </tr>\n",
       "    <tr>\n",
       "      <th>2</th>\n",
       "      <td>-22.520925</td>\n",
       "      <td>78.700420</td>\n",
       "      <td>578.78815</td>\n",
       "      <td>gt3r</td>\n",
       "      <td>2019-01-04 12:24:25</td>\n",
       "      <td>469473.331404</td>\n",
       "      <td>-1.134581e+06</td>\n",
       "    </tr>\n",
       "    <tr>\n",
       "      <th>3</th>\n",
       "      <td>-22.521094</td>\n",
       "      <td>78.700596</td>\n",
       "      <td>578.57214</td>\n",
       "      <td>gt3r</td>\n",
       "      <td>2019-01-04 12:24:25</td>\n",
       "      <td>469462.614457</td>\n",
       "      <td>-1.134564e+06</td>\n",
       "    </tr>\n",
       "    <tr>\n",
       "      <th>4</th>\n",
       "      <td>-22.521264</td>\n",
       "      <td>78.700773</td>\n",
       "      <td>578.33830</td>\n",
       "      <td>gt3r</td>\n",
       "      <td>2019-01-04 12:24:25</td>\n",
       "      <td>469451.884907</td>\n",
       "      <td>-1.134548e+06</td>\n",
       "    </tr>\n",
       "  </tbody>\n",
       "</table>\n",
       "</div>"
      ],
      "text/plain": [
       "         lon        lat          h track                 date              x  \\\n",
       "0 -22.520585  78.700068  579.33765  gt3r  2019-01-04 12:24:25  469494.782922   \n",
       "1 -22.520755  78.700244  579.03015  gt3r  2019-01-04 12:24:25  469484.057930   \n",
       "2 -22.520925  78.700420  578.78815  gt3r  2019-01-04 12:24:25  469473.331404   \n",
       "3 -22.521094  78.700596  578.57214  gt3r  2019-01-04 12:24:25  469462.614457   \n",
       "4 -22.521264  78.700773  578.33830  gt3r  2019-01-04 12:24:25  469451.884907   \n",
       "\n",
       "              y  \n",
       "0 -1.134613e+06  \n",
       "1 -1.134597e+06  \n",
       "2 -1.134581e+06  \n",
       "3 -1.134564e+06  \n",
       "4 -1.134548e+06  "
      ]
     },
     "execution_count": 5,
     "metadata": {},
     "output_type": "execute_result"
    }
   ],
   "source": [
    "Intersections = {'dist_along':[],'ATM_elev':[],'idx_ATM':[],'z_ATL06':[],'t_ATL06':[],'idx_ATL06':[],'gt_ATL06':[]}\n",
    "Intersections = pd.DataFrame(data = Intersections)\n",
    "\n",
    "print(Intersections.head())\n",
    "ATL06data.head()"
   ]
  },
  {
   "cell_type": "markdown",
   "metadata": {},
   "source": [
    "Define nearest neighbor algorithm"
   ]
  },
  {
   "cell_type": "code",
   "execution_count": 6,
   "metadata": {},
   "outputs": [],
   "source": [
    "def closest_node(node, nodes):\n",
    "    closest_index = distance.cdist([node], nodes).argmin()\n",
    "    closest_dist = np.min(distance.cdist([node], nodes,'euclidean'))\n",
    "    return closest_index, closest_dist"
   ]
  },
  {
   "cell_type": "markdown",
   "metadata": {},
   "source": [
    "Get target points from ATM csv and put into dataframe"
   ]
  },
  {
   "cell_type": "code",
   "execution_count": 7,
   "metadata": {},
   "outputs": [
    {
     "data": {
      "text/html": [
       "<div>\n",
       "<style scoped>\n",
       "    .dataframe tbody tr th:only-of-type {\n",
       "        vertical-align: middle;\n",
       "    }\n",
       "\n",
       "    .dataframe tbody tr th {\n",
       "        vertical-align: top;\n",
       "    }\n",
       "\n",
       "    .dataframe thead th {\n",
       "        text-align: right;\n",
       "    }\n",
       "</style>\n",
       "<table border=\"1\" class=\"dataframe\">\n",
       "  <thead>\n",
       "    <tr style=\"text-align: right;\">\n",
       "      <th></th>\n",
       "      <th>ATM_lat</th>\n",
       "      <th>ATM_long</th>\n",
       "      <th>PS_x</th>\n",
       "      <th>PS_y</th>\n",
       "      <th>ATM_elev</th>\n",
       "      <th>dist_along</th>\n",
       "    </tr>\n",
       "  </thead>\n",
       "  <tbody>\n",
       "    <tr>\n",
       "      <th>0</th>\n",
       "      <td>79.212155</td>\n",
       "      <td>334.848567</td>\n",
       "      <td>397916.203061</td>\n",
       "      <td>-1.102322e+06</td>\n",
       "      <td>891.6397</td>\n",
       "      <td>0.000000</td>\n",
       "    </tr>\n",
       "    <tr>\n",
       "      <th>1</th>\n",
       "      <td>79.212039</td>\n",
       "      <td>334.850146</td>\n",
       "      <td>397950.884957</td>\n",
       "      <td>-1.102323e+06</td>\n",
       "      <td>891.4861</td>\n",
       "      <td>34.695014</td>\n",
       "    </tr>\n",
       "    <tr>\n",
       "      <th>2</th>\n",
       "      <td>79.211923</td>\n",
       "      <td>334.851724</td>\n",
       "      <td>397985.547970</td>\n",
       "      <td>-1.102324e+06</td>\n",
       "      <td>891.3228</td>\n",
       "      <td>69.371314</td>\n",
       "    </tr>\n",
       "    <tr>\n",
       "      <th>3</th>\n",
       "      <td>79.211808</td>\n",
       "      <td>334.853304</td>\n",
       "      <td>398020.212712</td>\n",
       "      <td>-1.102325e+06</td>\n",
       "      <td>891.1725</td>\n",
       "      <td>104.046285</td>\n",
       "    </tr>\n",
       "    <tr>\n",
       "      <th>4</th>\n",
       "      <td>79.211692</td>\n",
       "      <td>334.854884</td>\n",
       "      <td>398054.914911</td>\n",
       "      <td>-1.102326e+06</td>\n",
       "      <td>891.0138</td>\n",
       "      <td>138.761317</td>\n",
       "    </tr>\n",
       "  </tbody>\n",
       "</table>\n",
       "</div>"
      ],
      "text/plain": [
       "     ATM_lat    ATM_long           PS_x          PS_y  ATM_elev  dist_along\n",
       "0  79.212155  334.848567  397916.203061 -1.102322e+06  891.6397    0.000000\n",
       "1  79.212039  334.850146  397950.884957 -1.102323e+06  891.4861   34.695014\n",
       "2  79.211923  334.851724  397985.547970 -1.102324e+06  891.3228   69.371314\n",
       "3  79.211808  334.853304  398020.212712 -1.102325e+06  891.1725  104.046285\n",
       "4  79.211692  334.854884  398054.914911 -1.102326e+06  891.0138  138.761317"
      ]
     },
     "execution_count": 7,
     "metadata": {},
     "output_type": "execute_result"
    }
   ],
   "source": [
    "ATMdata = pd.read_csv('~/xtrak/data/ATMprof_20190418.csv')\n",
    "\n",
    "tpoints = ATMdata[['PS_x','PS_y']].copy()\n",
    "tpoints = tpoints.values\n",
    "ATMdata.head()"
   ]
  },
  {
   "cell_type": "markdown",
   "metadata": {},
   "source": [
    "Make an empty dataframe for intersections\n",
    "Get query points from ATL06 csv and put into dataframe\n",
    "Loop through unique dates and ground tracks and find the closest point between each ground track and the flowline\n",
    "Store intersection along-flow distance, z_ATM, z_ATL06 and other helpful data in Intersections dataframe"
   ]
  },
  {
   "cell_type": "code",
   "execution_count": 8,
   "metadata": {},
   "outputs": [],
   "source": [
    "Intersections = {'dist_along':[],'ATM_elev':[],'idx_ATM':[],'z_ATL06':[],'t_ATL06':[],'idx_ATL06':[],'gt_ATL06':[]}\n",
    "Intersections = pd.DataFrame(data = Intersections)\n",
    "i = 0\n",
    "for day in ATL06data.date.unique():\n",
    "\n",
    "    for tr in ATL06data.track.unique():\n",
    "        close_idx = []\n",
    "        min_dist = []\n",
    "        AddDatarow = []\n",
    "\n",
    "        #dfTran is a single radar transect\n",
    "        dfTran = ATL06data.query('date == @day & track == @tr')\n",
    "        if dfTran.shape[0] == 0:\n",
    "            continue\n",
    "            \n",
    "        \n",
    "        qpoints = dfTran[['x','y']].copy()\n",
    "        qpoints = qpoints.values\n",
    "\n",
    "        \n",
    "        for j in range(len(tpoints)):\n",
    "            close_idxT,min_distT = closest_node(tpoints[j,:], qpoints)\n",
    "            close_idx = np.append(close_idx,[close_idxT])\n",
    "            min_dist = np.append(min_dist,[min_distT])\n",
    "        if min(min_dist) > 1000:\n",
    "            continue\n",
    "        \n",
    "        tpt_idx = np.argmin(min_dist)\n",
    "        qpt_idx = int(close_idx[tpt_idx])\n",
    "        dfTran_idx = dfTran.loc[dfTran['date'] == day].index[0]\n",
    "        qpt_idx = qpt_idx+dfTran_idx\n",
    "        \n",
    "        AddDatarow = {'dist_along':[ATMdata.loc[tpt_idx,'dist_along']],\n",
    "                      'ATM_elev':[ATMdata.loc[tpt_idx,'ATM_elev']],\n",
    "                      'idx_ATM':[tpt_idx],\n",
    "                      'z_ATL06':[dfTran.loc[qpt_idx,'h']],\n",
    "                      't_ATL06':[dfTran.loc[qpt_idx,'date']],\n",
    "                      'idx_ATL06':[qpt_idx],\n",
    "                      'gt_ATL06':[dfTran.loc[qpt_idx,'track']]}\n",
    "        AddDatarow = pd.DataFrame(data = AddDatarow)\n",
    "        Intersections = Intersections.append(AddDatarow)\n",
    "        "
   ]
  },
  {
   "cell_type": "code",
   "execution_count": 9,
   "metadata": {},
   "outputs": [
    {
     "name": "stdout",
     "output_type": "stream",
     "text": [
      "       dist_along  ATM_elev  idx_ATM     z_ATL06              t_ATL06  \\\n",
      "0   125293.549537   36.6189   3399.0   35.714657  2019-02-15 10:09:55   \n",
      "0   125388.182985   35.0684   3402.0   34.106010  2019-02-15 10:09:55   \n",
      "0    96217.510032   88.3644   2580.0   66.844490  2019-01-16 01:09:49   \n",
      "0   102715.054408   30.4860   2761.0   29.333950  2019-01-16 01:09:49   \n",
      "0   102652.754159   33.3447   2759.0   38.831944  2019-01-16 01:09:49   \n",
      "0    99520.169480   30.0488   2662.0   74.656880  2019-01-16 01:09:49   \n",
      "0    99425.209764   29.2814   2659.0   74.915375  2019-01-16 01:09:49   \n",
      "0    96311.339018   91.5448   2583.0   69.498950  2019-01-16 01:09:49   \n",
      "0    66750.738279  431.6262   1748.0  429.581600  2018-11-23 03:49:31   \n",
      "0    73145.188827  248.8764   1939.0  246.065860  2018-11-23 03:49:31   \n",
      "0    73077.151360  249.9702   1937.0  247.515430  2018-11-23 03:49:31   \n",
      "0    69947.598270  318.5833   1844.0  307.515300  2018-11-23 03:49:31   \n",
      "0    69881.896892  319.3689   1842.0  309.190640  2018-11-23 03:49:31   \n",
      "0    66750.738279  431.6262   1748.0  430.344850  2018-11-23 03:49:31   \n",
      "0   120880.598714   43.9099   3258.0   69.145004  2018-12-10 02:50:30   \n",
      "0   127480.010096   28.7838   3468.0   50.862710  2018-12-10 02:50:30   \n",
      "0   127416.248525   28.6938   3466.0   50.822540  2018-12-10 02:50:30   \n",
      "0   124253.075102   40.9501   3366.0   64.758320  2018-12-10 02:50:30   \n",
      "0   124158.660330   40.3880   3363.0   63.104088  2018-12-10 02:50:30   \n",
      "0   120942.871413   46.0298   3260.0   69.299430  2018-12-10 02:50:30   \n",
      "0   123686.929592   42.5021   3348.0   41.334366  2018-12-19 12:57:40   \n",
      "0   117157.798550   28.3613   3162.0   27.553015  2018-12-19 12:57:40   \n",
      "0   117252.040218   28.2579   3165.0   27.640165  2018-12-19 12:57:40   \n",
      "0   120724.810983   47.8902   3253.0   44.749780  2018-12-19 12:57:40   \n",
      "0   120724.810983   47.8902   3253.0   46.555380  2018-12-19 12:57:40   \n",
      "0   123624.153848   41.8342   3346.0   40.448956  2018-12-19 12:57:40   \n",
      "0   118255.684728   42.1054   3197.0   40.369537  2018-11-20 14:21:44   \n",
      "0   111755.262061   28.4812   3021.0   27.417034  2018-11-20 14:21:44   \n",
      "0   111848.627661   28.4530   3024.0   27.389229  2018-11-20 14:21:44   \n",
      "0   114997.346208   40.7487   3100.0   28.837654  2018-11-20 14:21:44   \n",
      "..            ...       ...      ...         ...                  ...   \n",
      "0    98513.579320   64.5335   2630.0   28.682940  2018-11-24 14:13:17   \n",
      "0   101715.230370   28.6108   2731.0   49.376200  2018-11-24 14:13:17   \n",
      "0   122622.959615   44.7680   3314.0   43.139470  2018-10-18 15:53:52   \n",
      "0   122685.347575   42.9764   3316.0   42.044100  2018-10-18 15:53:52   \n",
      "0   125829.732109   36.7893   3416.0   36.352860  2018-10-18 15:53:52   \n",
      "0   125892.855741   33.7749   3418.0   32.122726  2018-10-18 15:53:52   \n",
      "0   118130.345156   41.5506   3193.0   40.337795  2019-02-09 23:54:28   \n",
      "0   124757.212122   38.0955   3382.0   36.870480  2019-02-09 23:54:28   \n",
      "0   124662.619262   38.5051   3379.0   37.682053  2019-02-09 23:54:28   \n",
      "0   121440.668195   47.0928   3276.0   46.470333  2019-02-09 23:54:28   \n",
      "0   121378.501551   45.7420   3274.0   44.875840  2019-02-09 23:54:28   \n",
      "0   118193.004275   41.9904   3195.0   40.892963  2019-02-09 23:54:28   \n",
      "0   115286.478086   41.4782   3109.0   28.140985  2018-11-11 04:14:44   \n",
      "0   121969.226220   45.6641   3293.0   44.822670  2018-11-11 04:14:44   \n",
      "0   121875.941570   46.3157   3290.0   45.282104  2018-11-11 04:14:44   \n",
      "0   118694.376833   38.0408   3211.0   36.449170  2018-11-11 04:14:44   \n",
      "0   118631.685285   41.2187   3209.0   40.542816  2018-11-11 04:14:44   \n",
      "0   115382.584397   27.6940   3112.0   39.291030  2018-11-11 04:14:44   \n",
      "0    99078.008380   39.3139   2648.0   49.138790  2019-02-23 09:53:16   \n",
      "0    92280.614175   89.3741   2457.0   95.123740  2019-02-23 09:53:16   \n",
      "0    92374.767116   94.1363   2460.0   89.300255  2019-02-23 09:53:16   \n",
      "0    95622.548028   36.7582   2562.0   79.589990  2019-02-23 09:53:16   \n",
      "0    95685.309056   35.8412   2564.0   77.574570  2019-02-23 09:53:16   \n",
      "0    98983.567383   44.5583   2645.0   49.533512  2019-02-23 09:53:16   \n",
      "0    64045.033989  430.9634   1693.0  428.267100  2019-01-24 00:53:21   \n",
      "0    70509.570228  308.8483   1861.0  305.853200  2019-01-24 00:53:21   \n",
      "0    70443.094619  309.6008   1859.0  307.780460  2019-01-24 00:53:21   \n",
      "0    67303.150425  417.4145   1764.0  418.527100  2019-01-24 00:53:21   \n",
      "0    67234.728345  419.2389   1762.0  421.288900  2019-01-24 00:53:21   \n",
      "0    64117.081249  428.9731   1695.0  425.276180  2019-01-24 00:53:21   \n",
      "\n",
      "    idx_ATL06 gt_ATL06  \n",
      "0      1578.0     gt1l  \n",
      "0      4933.0     gt1r  \n",
      "0     39471.0     gt3r  \n",
      "0     19993.0     gt1l  \n",
      "0     23915.0     gt1r  \n",
      "0     27843.0     gt2l  \n",
      "0     31758.0     gt2r  \n",
      "0     35601.0     gt3l  \n",
      "0     62801.0     gt3r  \n",
      "0     43123.0     gt1l  \n",
      "0     47071.0     gt1r  \n",
      "0     50989.0     gt2l  \n",
      "0     54929.0     gt2r  \n",
      "0     58825.0     gt3l  \n",
      "0     76475.0     gt3r  \n",
      "0     64514.0     gt1l  \n",
      "0     65899.0     gt1r  \n",
      "0     68113.0     gt2l  \n",
      "0     70344.0     gt2r  \n",
      "0     73404.0     gt3l  \n",
      "0     98535.0     gt3r  \n",
      "0     78968.0     gt1l  \n",
      "0     82915.0     gt1r  \n",
      "0     86864.0     gt2l  \n",
      "0     90831.0     gt2r  \n",
      "0     94703.0     gt3l  \n",
      "0    124263.0     gt3r  \n",
      "0    104434.0     gt1l  \n",
      "0    108392.0     gt1r  \n",
      "0    112374.0     gt2l  \n",
      "..        ...      ...  \n",
      "0    606192.0     gt2r  \n",
      "0    610111.0     gt3l  \n",
      "0    617767.0     gt1l  \n",
      "0    621070.0     gt1r  \n",
      "0    624014.0     gt2l  \n",
      "0    626689.0     gt2r  \n",
      "0    648791.0     gt3r  \n",
      "0    633445.0     gt1l  \n",
      "0    635526.0     gt1r  \n",
      "0    638427.0     gt2l  \n",
      "0    641333.0     gt2r  \n",
      "0    645055.0     gt3l  \n",
      "0    669480.0     gt3r  \n",
      "0    651543.0     gt1l  \n",
      "0    654325.0     gt1r  \n",
      "0    657924.0     gt2l  \n",
      "0    661529.0     gt2r  \n",
      "0    665515.0     gt3l  \n",
      "0    691352.0     gt3r  \n",
      "0    671951.0     gt1l  \n",
      "0    675849.0     gt1r  \n",
      "0    679719.0     gt2l  \n",
      "0    683577.0     gt2r  \n",
      "0    687443.0     gt3l  \n",
      "0    716129.0     gt3r  \n",
      "0    696456.0     gt1l  \n",
      "0    700379.0     gt1r  \n",
      "0    704250.0     gt2l  \n",
      "0    708210.0     gt2r  \n",
      "0    712147.0     gt3l  \n",
      "\n",
      "[188 rows x 7 columns]\n"
     ]
    }
   ],
   "source": [
    "print(Intersections)\n"
   ]
  },
  {
   "cell_type": "code",
   "execution_count": 10,
   "metadata": {},
   "outputs": [],
   "source": [
    "\n",
    "Intersections.to_csv('~/xtrak/extractData/Intersections_ATM20180418.csv',index=False)"
   ]
  },
  {
   "cell_type": "code",
   "execution_count": 14,
   "metadata": {},
   "outputs": [
    {
     "data": {
      "text/plain": [
       "[<matplotlib.lines.Line2D at 0x7fb005269c50>]"
      ]
     },
     "execution_count": 14,
     "metadata": {},
     "output_type": "execute_result"
    },
    {
     "data": {
      "image/png": "[encoded data removed]",
      "text/plain": [
       "<Figure size 432x288 with 1 Axes>"
      ]
     },
     "metadata": {
      "needs_background": "light"
     },
     "output_type": "display_data"
    }
   ],
   "source": [
    "fig = plt.figure\n",
    "plt.plot(Intersections['dist_along']/1000,Intersections['z_ATL06'],'.')\n",
    "plt.plot(Intersections['dist_along']/1000,Intersections['ATM_elev'],'*')\n"
   ]
  }
 ],
 "metadata": {
  "kernelspec": {
   "display_name": "Python 3",
   "language": "python",
   "name": "python3"
  },
  "language_info": {
   "codemirror_mode": {
    "name": "ipython",
    "version": 3
   },
   "file_extension": ".py",
   "mimetype": "text/x-python",
   "name": "python",
   "nbconvert_exporter": "python",
   "pygments_lexer": "ipython3",
   "version": "3.6.7"
  }
 },
 "nbformat": 4,
 "nbformat_minor": 2
}
