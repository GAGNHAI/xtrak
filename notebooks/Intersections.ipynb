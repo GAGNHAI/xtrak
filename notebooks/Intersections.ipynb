{
 "cells": [
  {
   "cell_type": "markdown",
   "metadata": {},
   "source": [
    "## Code to find intersections of ICESat-2 and ATM data\n",
    "\n",
    "**by Allison Chartrand**\n",
    "\n",
    "**June 2019 ICESat-2 Hackweek**\n"
   ]
  },
  {
   "cell_type": "code",
   "execution_count": 1,
   "metadata": {},
   "outputs": [],
   "source": [
    "#IMPORT PACKAGES\n",
    "import os\n",
    "import glob\n",
    "import pandas as pd\n",
    "import csv\n",
    "import numpy as np\n",
    "import math\n",
    "import matplotlib.pyplot as plt\n",
    "import pyproj\n",
    "from scipy.spatial import distance"
   ]
  },
  {
   "cell_type": "markdown",
   "metadata": {},
   "source": [
    "Code to extract single tracks of IceSat-2 data"
   ]
  },
  {
   "cell_type": "code",
   "execution_count": 2,
   "metadata": {},
   "outputs": [],
   "source": [
    "ATL06data = pd.read_csv('../extractData/IceSat2ZachData')"
   ]
  },
  {
   "cell_type": "code",
   "execution_count": 3,
   "metadata": {},
   "outputs": [
    {
     "data": {
      "text/plain": [
       "array(['gt3r', 'gt1l', 'gt1r', 'gt2l', 'gt2r', 'gt3l'], dtype=object)"
      ]
     },
     "execution_count": 3,
     "metadata": {},
     "output_type": "execute_result"
    }
   ],
   "source": [
    "ATL06data['track'].unique()"
   ]
  },
  {
   "cell_type": "code",
   "execution_count": 4,
   "metadata": {},
   "outputs": [
    {
     "data": {
      "text/plain": [
       "array(['2019-01-04 12:24:25', '2019-02-15 10:09:55',\n",
       "       '2018-10-29 05:05:08', '2019-01-16 01:09:49',\n",
       "       '2018-11-23 03:49:31', '2018-12-10 02:50:30',\n",
       "       '2018-12-19 12:57:40', '2019-01-08 01:26:37',\n",
       "       '2018-11-20 14:21:44', '2018-12-26 02:17:13',\n",
       "       '2019-02-17 23:37:46', '2018-11-16 14:30:09',\n",
       "       '2018-11-27 03:41:06', '2018-12-27 12:41:01',\n",
       "       '2018-10-21 05:21:45', '2018-12-23 12:49:22',\n",
       "       '2018-10-22 15:45:34', '2018-12-14 02:42:09',\n",
       "       '2018-12-15 13:05:59', '2019-01-20 01:01:33',\n",
       "       '2018-12-18 02:33:52', '2019-01-13 11:42:01',\n",
       "       '2019-01-29 11:08:55', '2018-11-15 04:06:22',\n",
       "       '2018-11-19 03:57:57', '2018-12-02 13:56:37',\n",
       "       '2018-10-17 05:30:05', '2019-01-17 11:33:37',\n",
       "       '2018-10-25 05:13:27', '2018-10-30 15:28:58',\n",
       "       '2019-01-21 11:25:25', '2019-02-13 23:46:06',\n",
       "       '2018-10-26 15:37:16', '2019-01-28 00:45:05',\n",
       "       '2019-01-12 01:18:14', '2018-12-30 02:08:55',\n",
       "       '2019-01-25 11:17:11', '2018-12-31 12:32:45',\n",
       "       '2018-12-22 02:25:33', '2018-11-28 14:04:55',\n",
       "       '2019-02-02 11:00:37', '2019-02-19 10:01:34',\n",
       "       '2018-11-24 14:13:17', '2018-10-18 15:53:52',\n",
       "       '2019-02-09 23:54:28', '2018-11-11 04:14:44',\n",
       "       '2019-02-23 09:53:16', '2019-01-24 00:53:21'], dtype=object)"
      ]
     },
     "execution_count": 4,
     "metadata": {},
     "output_type": "execute_result"
    }
   ],
   "source": [
    "ATL06data.date.unique()"
   ]
  },
  {
   "cell_type": "markdown",
   "metadata": {},
   "source": [
    "Define dataframe for output"
   ]
  },
  {
   "cell_type": "code",
   "execution_count": 61,
   "metadata": {},
   "outputs": [
    {
     "name": "stdout",
     "output_type": "stream",
     "text": [
      "Empty DataFrame\n",
      "Columns: [Flow_dist_ATM, z_ATM, idx_ATM, z_ATL06, t_ATL06, idx_ATL06, gt_ATL06]\n",
      "Index: []\n"
     ]
    },
    {
     "data": {
      "text/html": [
       "<div>\n",
       "<style scoped>\n",
       "    .dataframe tbody tr th:only-of-type {\n",
       "        vertical-align: middle;\n",
       "    }\n",
       "\n",
       "    .dataframe tbody tr th {\n",
       "        vertical-align: top;\n",
       "    }\n",
       "\n",
       "    .dataframe thead th {\n",
       "        text-align: right;\n",
       "    }\n",
       "</style>\n",
       "<table border=\"1\" class=\"dataframe\">\n",
       "  <thead>\n",
       "    <tr style=\"text-align: right;\">\n",
       "      <th></th>\n",
       "      <th>lon</th>\n",
       "      <th>lat</th>\n",
       "      <th>h</th>\n",
       "      <th>track</th>\n",
       "      <th>date</th>\n",
       "      <th>x</th>\n",
       "      <th>y</th>\n",
       "    </tr>\n",
       "  </thead>\n",
       "  <tbody>\n",
       "    <tr>\n",
       "      <th>0</th>\n",
       "      <td>-22.520585</td>\n",
       "      <td>78.700068</td>\n",
       "      <td>579.33765</td>\n",
       "      <td>gt3r</td>\n",
       "      <td>2019-01-04 12:24:25</td>\n",
       "      <td>469494.782922</td>\n",
       "      <td>-1.134613e+06</td>\n",
       "    </tr>\n",
       "    <tr>\n",
       "      <th>1</th>\n",
       "      <td>-22.520755</td>\n",
       "      <td>78.700244</td>\n",
       "      <td>579.03015</td>\n",
       "      <td>gt3r</td>\n",
       "      <td>2019-01-04 12:24:25</td>\n",
       "      <td>469484.057930</td>\n",
       "      <td>-1.134597e+06</td>\n",
       "    </tr>\n",
       "    <tr>\n",
       "      <th>2</th>\n",
       "      <td>-22.520925</td>\n",
       "      <td>78.700420</td>\n",
       "      <td>578.78815</td>\n",
       "      <td>gt3r</td>\n",
       "      <td>2019-01-04 12:24:25</td>\n",
       "      <td>469473.331404</td>\n",
       "      <td>-1.134581e+06</td>\n",
       "    </tr>\n",
       "    <tr>\n",
       "      <th>3</th>\n",
       "      <td>-22.521094</td>\n",
       "      <td>78.700596</td>\n",
       "      <td>578.57214</td>\n",
       "      <td>gt3r</td>\n",
       "      <td>2019-01-04 12:24:25</td>\n",
       "      <td>469462.614457</td>\n",
       "      <td>-1.134564e+06</td>\n",
       "    </tr>\n",
       "    <tr>\n",
       "      <th>4</th>\n",
       "      <td>-22.521264</td>\n",
       "      <td>78.700773</td>\n",
       "      <td>578.33830</td>\n",
       "      <td>gt3r</td>\n",
       "      <td>2019-01-04 12:24:25</td>\n",
       "      <td>469451.884907</td>\n",
       "      <td>-1.134548e+06</td>\n",
       "    </tr>\n",
       "  </tbody>\n",
       "</table>\n",
       "</div>"
      ],
      "text/plain": [
       "         lon        lat          h track                 date              x  \\\n",
       "0 -22.520585  78.700068  579.33765  gt3r  2019-01-04 12:24:25  469494.782922   \n",
       "1 -22.520755  78.700244  579.03015  gt3r  2019-01-04 12:24:25  469484.057930   \n",
       "2 -22.520925  78.700420  578.78815  gt3r  2019-01-04 12:24:25  469473.331404   \n",
       "3 -22.521094  78.700596  578.57214  gt3r  2019-01-04 12:24:25  469462.614457   \n",
       "4 -22.521264  78.700773  578.33830  gt3r  2019-01-04 12:24:25  469451.884907   \n",
       "\n",
       "              y  \n",
       "0 -1.134613e+06  \n",
       "1 -1.134597e+06  \n",
       "2 -1.134581e+06  \n",
       "3 -1.134564e+06  \n",
       "4 -1.134548e+06  "
      ]
     },
     "execution_count": 61,
     "metadata": {},
     "output_type": "execute_result"
    }
   ],
   "source": [
    "Intersections = {'Flow_dist_ATM':[],'z_ATM':[],'idx_ATM':[],'z_ATL06':[],'t_ATL06':[],'idx_ATL06':[],'gt_ATL06':[]}\n",
    "Intersections = pd.DataFrame(data = Intersections)\n",
    "\n",
    "print(Intersections.head())\n",
    "ATL06data.head()"
   ]
  },
  {
   "cell_type": "markdown",
   "metadata": {},
   "source": [
    "Define nearest neighbor algorithm"
   ]
  },
  {
   "cell_type": "code",
   "execution_count": 6,
   "metadata": {},
   "outputs": [],
   "source": [
    "def closest_node(node, nodes):\n",
    "    closest_index = distance.cdist([node], nodes).argmin()\n",
    "    closest_dist = np.min(distance.cdist([node], nodes,'euclidean'))\n",
    "    return closest_index, closest_dist"
   ]
  },
  {
   "cell_type": "markdown",
   "metadata": {},
   "source": [
    "Get target points from ATM csv and put into dataframe"
   ]
  },
  {
   "cell_type": "code",
   "execution_count": 78,
   "metadata": {},
   "outputs": [
    {
     "data": {
      "text/html": [
       "<div>\n",
       "<style scoped>\n",
       "    .dataframe tbody tr th:only-of-type {\n",
       "        vertical-align: middle;\n",
       "    }\n",
       "\n",
       "    .dataframe tbody tr th {\n",
       "        vertical-align: top;\n",
       "    }\n",
       "\n",
       "    .dataframe thead th {\n",
       "        text-align: right;\n",
       "    }\n",
       "</style>\n",
       "<table border=\"1\" class=\"dataframe\">\n",
       "  <thead>\n",
       "    <tr style=\"text-align: right;\">\n",
       "      <th></th>\n",
       "      <th>ATM_long</th>\n",
       "      <th>ATM_lat</th>\n",
       "      <th>PS_x</th>\n",
       "      <th>PS_y</th>\n",
       "      <th>ATM_elev</th>\n",
       "      <th>dist_along</th>\n",
       "    </tr>\n",
       "  </thead>\n",
       "  <tbody>\n",
       "    <tr>\n",
       "      <th>0</th>\n",
       "      <td>334.846721</td>\n",
       "      <td>79.211271</td>\n",
       "      <td>397913.477068</td>\n",
       "      <td>-1.102426e+06</td>\n",
       "      <td>891.4235</td>\n",
       "      <td>0.000000</td>\n",
       "    </tr>\n",
       "    <tr>\n",
       "      <th>1</th>\n",
       "      <td>334.848221</td>\n",
       "      <td>79.211989</td>\n",
       "      <td>397915.704090</td>\n",
       "      <td>-1.102342e+06</td>\n",
       "      <td>891.6056</td>\n",
       "      <td>84.231835</td>\n",
       "    </tr>\n",
       "    <tr>\n",
       "      <th>2</th>\n",
       "      <td>334.849722</td>\n",
       "      <td>79.212707</td>\n",
       "      <td>397917.946244</td>\n",
       "      <td>-1.102257e+06</td>\n",
       "      <td>891.7156</td>\n",
       "      <td>168.470291</td>\n",
       "    </tr>\n",
       "    <tr>\n",
       "      <th>3</th>\n",
       "      <td>334.848567</td>\n",
       "      <td>79.212155</td>\n",
       "      <td>397916.203061</td>\n",
       "      <td>-1.102322e+06</td>\n",
       "      <td>891.6397</td>\n",
       "      <td>233.240595</td>\n",
       "    </tr>\n",
       "    <tr>\n",
       "      <th>4</th>\n",
       "      <td>334.848296</td>\n",
       "      <td>79.211153</td>\n",
       "      <td>397948.158670</td>\n",
       "      <td>-1.102427e+06</td>\n",
       "      <td>891.1921</td>\n",
       "      <td>342.853729</td>\n",
       "    </tr>\n",
       "  </tbody>\n",
       "</table>\n",
       "</div>"
      ],
      "text/plain": [
       "     ATM_long    ATM_lat           PS_x          PS_y  ATM_elev  dist_along\n",
       "0  334.846721  79.211271  397913.477068 -1.102426e+06  891.4235    0.000000\n",
       "1  334.848221  79.211989  397915.704090 -1.102342e+06  891.6056   84.231835\n",
       "2  334.849722  79.212707  397917.946244 -1.102257e+06  891.7156  168.470291\n",
       "3  334.848567  79.212155  397916.203061 -1.102322e+06  891.6397  233.240595\n",
       "4  334.848296  79.211153  397948.158670 -1.102427e+06  891.1921  342.853729"
      ]
     },
     "execution_count": 78,
     "metadata": {},
     "output_type": "execute_result"
    }
   ],
   "source": [
    "ATMdata = pd.read_csv('~/xtrak/extractData/atmZach04_18_19.csv')\n",
    "\n",
    "tpoints = ATMdata[['PS_x','PS_y']].copy()\n",
    "tpoints = tpoints.values\n",
    "ATMdata.head()"
   ]
  },
  {
   "cell_type": "markdown",
   "metadata": {},
   "source": [
    "Make an empty dataframe for intersections\n",
    "Get query points from ATL06 csv and put into dataframe\n",
    "Loop through unique dates and ground tracks and find the closest point between each ground track and the flowline\n",
    "Store intersection along-flow distance, z_ATM, z_ATL06 and other helpful data in Intersections dataframe"
   ]
  },
  {
   "cell_type": "code",
   "execution_count": 119,
   "metadata": {},
   "outputs": [
    {
     "name": "stdout",
     "output_type": "stream",
     "text": [
      "(3377, 2)\n",
      "the query index is  1572\n",
      "(3361, 2)\n",
      "the query index is  4940\n",
      "(3875, 2)\n",
      "the query index is  39466\n",
      "(3922, 2)\n",
      "the query index is  19988\n",
      "(3929, 2)\n",
      "the query index is  23922\n",
      "(3919, 2)\n",
      "the query index is  27843\n",
      "(3905, 2)\n",
      "the query index is  31765\n",
      "(3862, 2)\n",
      "the query index is  35608\n",
      "(3977, 2)\n",
      "the query index is  62805\n",
      "(3940, 2)\n",
      "the query index is  43123\n",
      "(3949, 2)\n",
      "the query index is  47065\n",
      "(3935, 2)\n",
      "the query index is  50987\n",
      "(3944, 2)\n",
      "the query index is  54929\n",
      "(3964, 2)\n",
      "the query index is  58829\n",
      "(3070, 2)\n",
      "the query index is  76481\n",
      "(1364, 2)\n",
      "the query index is  64521\n",
      "(1384, 2)\n",
      "the query index is  65906\n",
      "(2211, 2)\n",
      "the query index is  68102\n",
      "(2229, 2)\n",
      "the query index is  70344\n",
      "(3049, 2)\n",
      "the query index is  73398\n",
      "(3837, 2)\n",
      "the query index is  98538\n",
      "(3944, 2)\n",
      "the query index is  78975\n",
      "(3950, 2)\n",
      "the query index is  82908\n",
      "(3964, 2)\n",
      "the query index is  86858\n",
      "(3965, 2)\n",
      "the query index is  90825\n",
      "(3855, 2)\n",
      "the query index is  94698\n",
      "(3956, 2)\n",
      "the query index is  124271\n",
      "(3963, 2)\n",
      "the query index is  104427\n",
      "(3958, 2)\n",
      "the query index is  108379\n",
      "(3955, 2)\n",
      "the query index is  112374\n",
      "(3963, 2)\n",
      "the query index is  116326\n",
      "(3958, 2)\n",
      "the query index is  120302\n",
      "(3630, 2)\n",
      "the query index is  129281\n",
      "(3613, 2)\n",
      "the query index is  132909\n",
      "(2773, 2)\n",
      "the query index is  136479\n",
      "(2755, 2)\n",
      "the query index is  139245\n"
     ]
    }
   ],
   "source": [
    "Intersections = {'Flow_dist_ATM':[],'z_ATM':[],'idx_ATM':[],'z_ATL06':[],'t_ATL06':[],'idx_ATL06':[],'gt_ATL06':[]}\n",
    "Intersections = pd.DataFrame(data = Intersections)\n",
    "i = 0\n",
    "for day in ATL06data.date.unique()[0:10]:\n",
    "\n",
    "    for tr in ATL06data.track.unique():\n",
    "        close_idx = []\n",
    "        min_dist = []\n",
    "        AddDatarow = []\n",
    "\n",
    "        #dfTran is a single radar transect\n",
    "        dfTran = ATL06data.query('date == @day & track == @tr')\n",
    "        if dfTran.shape[0] == 0:\n",
    "            continue\n",
    "            \n",
    "        \n",
    "        qpoints = dfTran[['x','y']].copy()\n",
    "        qpoints = qpoints.values\n",
    "\n",
    "        \n",
    "        for j in range(len(tpoints)):\n",
    "            close_idxT,min_distT = closest_node(tpoints[j,:], qpoints)\n",
    "            close_idx = np.append(close_idx,[close_idxT])\n",
    "            min_dist = np.append(min_dist,[min_distT])\n",
    "        if min(min_dist) > 1000:\n",
    "            continue\n",
    "        \n",
    "        tpt_idx = np.argmin(min_dist)\n",
    "        qpt_idx = int(close_idx[tpt_idx])\n",
    "        dfTran_idx = dfTran.loc[dfTran['date'] == day].index[0]\n",
    "        qpt_idx = qpt_idx+dfTran_idx\n",
    "        \n",
    "        AddDatarow = {'Flow_dist_ATM':[ATMdata.loc[tpt_idx,'dist_along']],\n",
    "                      'z_ATM':[ATMdata.loc[tpt_idx,'ATM_elev']],\n",
    "                      'idx_ATM':[tpt_idx],\n",
    "                      'z_ATL06':[dfTran.loc[qpt_idx,'h']],\n",
    "                      't_ATL06':[dfTran.loc[qpt_idx,'date']],\n",
    "                      'idx_ATL06':[qpt_idx],\n",
    "                      'gt_ATL06':[dfTran.loc[qpt_idx,'track']]}\n",
    "        AddDatarow = pd.DataFrame(data = AddDatarow)\n",
    "        Intersections = Intersections.append(AddDatarow)\n",
    "        "
   ]
  },
  {
   "cell_type": "code",
   "execution_count": 117,
   "metadata": {},
   "outputs": [
    {
     "name": "stdout",
     "output_type": "stream",
     "text": [
      "   Flow_dist_ATM     z_ATM  idx_ATM     z_ATL06              t_ATL06  \\\n",
      "0   1.437161e+06   36.0352  13645.0   35.310593  2019-02-15 10:09:55   \n",
      "0   1.437877e+06   35.7798  13651.0   35.218838  2019-02-15 10:09:55   \n",
      "0   1.008148e+06   87.1343  10346.0   69.219765  2019-01-16 01:09:49   \n",
      "0   1.102527e+06   57.8883  11073.0   27.613283  2019-01-16 01:09:49   \n",
      "0   1.101290e+06   29.4266  11063.0   42.196710  2019-01-16 01:09:49   \n",
      "0   1.050723e+06   30.0488  10675.0   74.656880  2019-01-16 01:09:49   \n",
      "0   1.048440e+06   57.6435  10656.0   56.679836  2019-01-16 01:09:49   \n",
      "0   1.009318e+06   90.1790  10356.0   69.153725  2019-01-16 01:09:49   \n",
      "0   5.854236e+05  433.0671   6992.0  430.857500  2018-11-23 03:49:31   \n",
      "0   6.794339e+05  248.8764   7759.0  246.065860  2018-11-23 03:49:31   \n",
      "0   6.778121e+05  245.0844   7749.0  241.688610  2018-11-23 03:49:31   \n",
      "0   6.268962e+05  319.5400   7378.0  309.104580  2018-11-23 03:49:31   \n",
      "0   6.259390e+05  319.3689   7371.0  309.190640  2018-11-23 03:49:31   \n",
      "0   5.854236e+05  433.0671   6992.0  431.069500  2018-11-23 03:49:31   \n",
      "0   1.367188e+06   44.6228  13073.0   68.628840  2018-12-10 02:50:30   \n",
      "0   1.471138e+06   28.7607  13917.0   50.926030  2018-12-10 02:50:30   \n",
      "0   1.469691e+06   28.6991  13905.0   50.848537  2018-12-10 02:50:30   \n",
      "0   1.421330e+06   41.6943  13515.0   64.964850  2018-12-10 02:50:30   \n",
      "0   1.419541e+06   40.3880  13500.0   63.104088  2018-12-10 02:50:30   \n",
      "0   1.369282e+06   47.1150  13091.0   69.293090  2018-12-10 02:50:30   \n",
      "0   1.411715e+06   42.4778  13438.0   41.322230  2018-12-19 12:57:40   \n",
      "0   1.321630e+06   28.2802  12695.0   27.567230  2018-12-19 12:57:40   \n",
      "0   1.322891e+06   28.3174  12705.0   27.632350  2018-12-19 12:57:40   \n",
      "0   1.365322e+06   47.3236  13057.0   46.596886  2018-12-19 12:57:40   \n",
      "0   1.365322e+06   47.3236  13057.0   46.545090  2018-12-19 12:57:40   \n",
      "0   1.410602e+06   42.2644  13429.0   41.133785  2018-12-19 12:57:40   \n",
      "0   1.338351e+06   43.4828  12835.0   41.798267  2018-11-20 14:21:44   \n",
      "0   1.241996e+06   28.9409  12116.0   27.269846  2018-11-20 14:21:44   \n",
      "0   1.243480e+06   28.5888  12127.0   27.115260  2018-11-20 14:21:44   \n",
      "0   1.282651e+06   40.7487  12430.0   28.837654  2018-11-20 14:21:44   \n",
      "0   1.283669e+06   41.6378  12437.0   39.092400  2018-11-20 14:21:44   \n",
      "0   1.337185e+06   41.2818  12825.0   39.608147  2018-11-20 14:21:44   \n",
      "0   5.500580e+05  484.9620   6597.0  483.297880  2018-12-26 02:17:13   \n",
      "0   5.494893e+05  488.8093   6590.0  487.441860  2018-12-26 02:17:13   \n",
      "0   5.197342e+05  544.7047   6244.0  541.905460  2018-12-26 02:17:13   \n",
      "0   5.188671e+05  542.8212   6234.0  539.619750  2018-12-26 02:17:13   \n",
      "\n",
      "   idx_ATL06 gt_ATL06  \n",
      "0     1572.0     gt1l  \n",
      "0     4940.0     gt1r  \n",
      "0    39466.0     gt3r  \n",
      "0    19988.0     gt1l  \n",
      "0    23922.0     gt1r  \n",
      "0    27843.0     gt2l  \n",
      "0    31765.0     gt2r  \n",
      "0    35608.0     gt3l  \n",
      "0    62805.0     gt3r  \n",
      "0    43123.0     gt1l  \n",
      "0    47065.0     gt1r  \n",
      "0    50987.0     gt2l  \n",
      "0    54929.0     gt2r  \n",
      "0    58829.0     gt3l  \n",
      "0    76481.0     gt3r  \n",
      "0    64521.0     gt1l  \n",
      "0    65906.0     gt1r  \n",
      "0    68102.0     gt2l  \n",
      "0    70344.0     gt2r  \n",
      "0    73398.0     gt3l  \n",
      "0    98538.0     gt3r  \n",
      "0    78975.0     gt1l  \n",
      "0    82908.0     gt1r  \n",
      "0    86858.0     gt2l  \n",
      "0    90825.0     gt2r  \n",
      "0    94698.0     gt3l  \n",
      "0   124271.0     gt3r  \n",
      "0   104427.0     gt1l  \n",
      "0   108379.0     gt1r  \n",
      "0   112374.0     gt2l  \n",
      "0   116326.0     gt2r  \n",
      "0   120302.0     gt3l  \n",
      "0   129281.0     gt1l  \n",
      "0   132909.0     gt1r  \n",
      "0   136479.0     gt2l  \n",
      "0   139245.0     gt2r  \n"
     ]
    },
    {
     "data": {
      "text/plain": [
       "[<matplotlib.lines.Line2D at 0x7f7da4380da0>]"
      ]
     },
     "execution_count": 117,
     "metadata": {},
     "output_type": "execute_result"
    },
    {
     "data": {
      "image/png": "[encoded data removed]",
      "text/plain": [
       "<Figure size 432x288 with 1 Axes>"
      ]
     },
     "metadata": {
      "needs_background": "light"
     },
     "output_type": "display_data"
    }
   ],
   "source": [
    "print(Intersections)\n"
   ]
  },
  {
   "cell_type": "code",
   "execution_count": 118,
   "metadata": {},
   "outputs": [],
   "source": [
    "\n",
    "Intersections.to_csv('~/xtrak/extractData/Intersections.csv',index=False)"
   ]
  }
 ],
 "metadata": {
  "kernelspec": {
   "display_name": "Python 3",
   "language": "python",
   "name": "python3"
  },
  "language_info": {
   "codemirror_mode": {
    "name": "ipython",
    "version": 3
   },
   "file_extension": ".py",
   "mimetype": "text/x-python",
   "name": "python",
   "nbconvert_exporter": "python",
   "pygments_lexer": "ipython3",
   "version": "3.6.7"
  }
 },
 "nbformat": 4,
 "nbformat_minor": 2
}
