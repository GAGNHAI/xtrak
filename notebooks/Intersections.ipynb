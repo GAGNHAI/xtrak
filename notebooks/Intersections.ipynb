{
 "cells": [
  {
   "cell_type": "markdown",
   "metadata": {},
   "source": [
    "## Code to find intersections of ICESat-2 and ATM data\n",
    "\n",
    "**by Allison Chartrand**\n",
    "\n",
    "**June 2019 ICESat-2 Hackweek**\n"
   ]
  },
  {
   "cell_type": "code",
   "execution_count": 2,
   "metadata": {},
   "outputs": [],
   "source": [
    "#IMPORT PACKAGES\n",
    "import os\n",
    "import glob\n",
    "import pandas as pd\n",
    "import csv\n",
    "import numpy as np\n",
    "import math\n",
    "import matplotlib.pyplot as plt\n",
    "import pyproj\n",
    "from scipy.spatial import distance"
   ]
  },
  {
   "cell_type": "markdown",
   "metadata": {},
   "source": [
    "Code to extract single tracks of IceSat-2 data"
   ]
  },
  {
   "cell_type": "code",
   "execution_count": 67,
   "metadata": {},
   "outputs": [],
   "source": [
    "ATL06data = pd.read_csv('../extractData/IceSat2ZachData')"
   ]
  },
  {
   "cell_type": "code",
   "execution_count": 62,
   "metadata": {},
   "outputs": [
    {
     "data": {
      "text/plain": [
       "array(['gt3r', 'gt1l', 'gt1r', 'gt2l', 'gt2r', 'gt3l'], dtype=object)"
      ]
     },
     "execution_count": 62,
     "metadata": {},
     "output_type": "execute_result"
    }
   ],
   "source": [
    "ATL06data['track'].unique()"
   ]
  },
  {
   "cell_type": "code",
   "execution_count": 63,
   "metadata": {},
   "outputs": [
    {
     "data": {
      "text/plain": [
       "array(['2019-01-04 12:24:25', '2019-02-15 10:09:55',\n",
       "       '2018-10-29 05:05:08', '2019-01-16 01:09:49',\n",
       "       '2018-11-23 03:49:31', '2018-12-10 02:50:30',\n",
       "       '2018-12-19 12:57:40', '2019-01-08 01:26:37',\n",
       "       '2018-11-20 14:21:44', '2018-12-26 02:17:13',\n",
       "       '2019-02-17 23:37:46', '2018-11-16 14:30:09',\n",
       "       '2018-11-27 03:41:06', '2018-12-27 12:41:01',\n",
       "       '2018-10-21 05:21:45', '2018-12-23 12:49:22',\n",
       "       '2018-10-22 15:45:34', '2018-12-14 02:42:09',\n",
       "       '2018-12-15 13:05:59', '2019-01-20 01:01:33',\n",
       "       '2018-12-18 02:33:52', '2019-01-13 11:42:01',\n",
       "       '2019-01-29 11:08:55', '2018-11-15 04:06:22',\n",
       "       '2018-11-19 03:57:57', '2018-12-02 13:56:37',\n",
       "       '2018-10-17 05:30:05', '2019-01-17 11:33:37',\n",
       "       '2018-10-25 05:13:27', '2018-10-30 15:28:58',\n",
       "       '2019-01-21 11:25:25', '2019-02-13 23:46:06',\n",
       "       '2018-10-26 15:37:16', '2019-01-28 00:45:05',\n",
       "       '2019-01-12 01:18:14', '2018-12-30 02:08:55',\n",
       "       '2019-01-25 11:17:11', '2018-12-31 12:32:45',\n",
       "       '2018-12-22 02:25:33', '2018-11-28 14:04:55',\n",
       "       '2019-02-02 11:00:37', '2019-02-19 10:01:34',\n",
       "       '2018-11-24 14:13:17', '2018-10-18 15:53:52',\n",
       "       '2019-02-09 23:54:28', '2018-11-11 04:14:44',\n",
       "       '2019-02-23 09:53:16', '2019-01-24 00:53:21'], dtype=object)"
      ]
     },
     "execution_count": 63,
     "metadata": {},
     "output_type": "execute_result"
    }
   ],
   "source": [
    "ATL06data.date.unique()"
   ]
  },
  {
   "cell_type": "markdown",
   "metadata": {},
   "source": [
    "Define dataframe for output"
   ]
  },
  {
   "cell_type": "code",
   "execution_count": 68,
   "metadata": {},
   "outputs": [
    {
     "data": {
      "text/html": [
       "<div>\n",
       "<style scoped>\n",
       "    .dataframe tbody tr th:only-of-type {\n",
       "        vertical-align: middle;\n",
       "    }\n",
       "\n",
       "    .dataframe tbody tr th {\n",
       "        vertical-align: top;\n",
       "    }\n",
       "\n",
       "    .dataframe thead th {\n",
       "        text-align: right;\n",
       "    }\n",
       "</style>\n",
       "<table border=\"1\" class=\"dataframe\">\n",
       "  <thead>\n",
       "    <tr style=\"text-align: right;\">\n",
       "      <th></th>\n",
       "      <th>Flow_dist_ATM</th>\n",
       "      <th>z_ATM</th>\n",
       "      <th>idx_ATM</th>\n",
       "      <th>z_ATL06</th>\n",
       "      <th>t_ATL06</th>\n",
       "      <th>idx_ATL06</th>\n",
       "    </tr>\n",
       "  </thead>\n",
       "  <tbody>\n",
       "  </tbody>\n",
       "</table>\n",
       "</div>"
      ],
      "text/plain": [
       "Empty DataFrame\n",
       "Columns: [Flow_dist_ATM, z_ATM, idx_ATM, z_ATL06, t_ATL06, idx_ATL06]\n",
       "Index: []"
      ]
     },
     "execution_count": 68,
     "metadata": {},
     "output_type": "execute_result"
    }
   ],
   "source": [
    "Intersections = {'Flow_dist_ATM':[],'z_ATM':[],'idx_ATM':[],'z_ATL06':[],'t_ATL06':[],'idx_ATL06':[]}\n",
    "Intersections = pd.DataFrame(data = Intersections)\n",
    "\n",
    "Intersections.head()"
   ]
  },
  {
   "cell_type": "markdown",
   "metadata": {},
   "source": [
    "Define nearest neighbor algorithm"
   ]
  },
  {
   "cell_type": "code",
   "execution_count": 69,
   "metadata": {},
   "outputs": [],
   "source": [
    "def closest_node(node, nodes):\n",
    "    closest_index = distance.cdist([node], nodes).argmin()\n",
    "    closest_dist = np.min(distance.cdist([node], nodes,'euclidean'))\n",
    "    return closest_index, closest_dist"
   ]
  },
  {
   "cell_type": "markdown",
   "metadata": {},
   "source": [
    "Get target points from ATM csv and put into dataframe"
   ]
  },
  {
   "cell_type": "code",
   "execution_count": 70,
   "metadata": {},
   "outputs": [],
   "source": [
    "ATMdata = pd.read_csv('~/xtrak/extractData/atmZach04_18_19.csv')\n",
    "\n",
    "tpoints = ATMdata[['PS_x','PS_y']].copy()\n",
    "tpoints = tpoints.values\n"
   ]
  },
  {
   "cell_type": "markdown",
   "metadata": {},
   "source": [
    "Get query points from ATL06 csv and put into dataframe"
   ]
  },
  {
   "cell_type": "code",
   "execution_count": null,
   "metadata": {},
   "outputs": [],
   "source": []
  },
  {
   "cell_type": "code",
   "execution_count": 76,
   "metadata": {},
   "outputs": [],
   "source": [
    "i = 0\n",
    "for day in ATL06data.date.unique()[0:4]:\n",
    "    for tr in ATL06data.track.unique():\n",
    "        #dfTran is a single radar transect\n",
    "        dfTran = ATL06data.query('date == @day & track == @tr')\n",
    "        if dfTran.shape[0] == 0:\n",
    "            continue\n",
    "        dfTran.head()    \n",
    "        qpoints = dfTran[['x','y']].copy()\n",
    "        qpoints = qpoints.values\n",
    "        close_idx = []\n",
    "        min_dist = []\n",
    "        for j in range(len(tpoints)):\n",
    "            close_idxT,min_distT = closest_node(tpoints[i,:], qpoints)\n",
    "            close_idx = np.append(close_idx,[close_idxT])\n",
    "            min_dist = np.append(min_dist,[min_distT])\n",
    "\n",
    "        tpt_idx = np.argmin(min_dist)\n",
    "        qpt_idx = int(close_idx[tpt_idx])\n",
    "        AddDatarow = {'Flow_dist_ATM':[ATMdata.loc[tpt_idx,'dist_along']],\n",
    "                      'z_ATM':[ATMdata.loc[tpt_idx,'ATM_elev']],\n",
    "                      'idx_ATM':[tpt_idx],\n",
    "                      'z_ATL06':[ATL06data.loc[qpt_idx,'h']],\n",
    "                      't_ATL06':[ATL06data.loc[qpt_idx,'date']],\n",
    "                      'idx_ATL06':[qpt_idx]}\n",
    "        AddDatarow = pd.DataFrame(data = AddDatarow)\n",
    "        Intersections.append(AddDatarow)\n",
    "        print(AddDatarow)"
   ]
  },
  {
   "cell_type": "code",
   "execution_count": 77,
   "metadata": {},
   "outputs": [
    {
     "data": {
      "text/html": [
       "<div>\n",
       "<style scoped>\n",
       "    .dataframe tbody tr th:only-of-type {\n",
       "        vertical-align: middle;\n",
       "    }\n",
       "\n",
       "    .dataframe tbody tr th {\n",
       "        vertical-align: top;\n",
       "    }\n",
       "\n",
       "    .dataframe thead th {\n",
       "        text-align: right;\n",
       "    }\n",
       "</style>\n",
       "<table border=\"1\" class=\"dataframe\">\n",
       "  <thead>\n",
       "    <tr style=\"text-align: right;\">\n",
       "      <th></th>\n",
       "      <th>Flow_dist_ATM</th>\n",
       "      <th>z_ATM</th>\n",
       "      <th>idx_ATM</th>\n",
       "      <th>z_ATL06</th>\n",
       "      <th>t_ATL06</th>\n",
       "      <th>idx_ATL06</th>\n",
       "    </tr>\n",
       "  </thead>\n",
       "  <tbody>\n",
       "  </tbody>\n",
       "</table>\n",
       "</div>"
      ],
      "text/plain": [
       "Empty DataFrame\n",
       "Columns: [Flow_dist_ATM, z_ATM, idx_ATM, z_ATL06, t_ATL06, idx_ATL06]\n",
       "Index: []"
      ]
     },
     "execution_count": 77,
     "metadata": {},
     "output_type": "execute_result"
    }
   ],
   "source": [
    "Intersections.head()"
   ]
  },
  {
   "cell_type": "code",
   "execution_count": 52,
   "metadata": {},
   "outputs": [],
   "source": [
    "\n",
    "\n",
    "\n",
    "Intersections.to_csv(index=False)"
   ]
  },
  {
   "cell_type": "code",
   "execution_count": null,
   "metadata": {},
   "outputs": [],
   "source": []
  }
 ],
 "metadata": {
  "kernelspec": {
   "display_name": "Python 3",
   "language": "python",
   "name": "python3"
  },
  "language_info": {
   "codemirror_mode": {
    "name": "ipython",
    "version": 3
   },
   "file_extension": ".py",
   "mimetype": "text/x-python",
   "name": "python",
   "nbconvert_exporter": "python",
   "pygments_lexer": "ipython3",
   "version": "3.6.7"
  }
 },
 "nbformat": 4,
 "nbformat_minor": 2
}
