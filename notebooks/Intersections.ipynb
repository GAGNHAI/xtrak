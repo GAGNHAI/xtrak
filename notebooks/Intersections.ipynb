{
 "cells": [
  {
   "cell_type": "markdown",
   "metadata": {},
   "source": [
    "## Code to work with ATM data along the flowline of Zachariae Isstrom\n",
    "\n",
    "**by Jukes Liu**\n",
    "\n",
    "**June 2019 ICESat-2 Hackweek**\n"
   ]
  },
  {
   "cell_type": "code",
   "execution_count": 2,
   "metadata": {},
   "outputs": [],
   "source": [
    "#IMPORT PACKAGES\n",
    "import os\n",
    "import glob\n",
    "import pandas as pd\n",
    "import csv\n",
    "import numpy as np\n",
    "import math\n",
    "import matplotlib.pyplot as plt\n",
    "import pyproj\n",
    "from scipy.spatial import distance"
   ]
  },
  {
   "cell_type": "markdown",
   "metadata": {},
   "source": [
    "Plot the elevation profile along the flowline:"
   ]
  },
  {
   "cell_type": "code",
   "execution_count": 6,
   "metadata": {},
   "outputs": [
    {
     "data": {
      "application/vnd.jupyter.widget-view+json": {
       "model_id": "",
       "version_major": 2,
       "version_minor": 0
      },
      "text/plain": [
       "FigureCanvasNbAgg()"
      ]
     },
     "metadata": {},
     "output_type": "display_data"
    }
   ],
   "source": [
    "%matplotlib widget\n",
    "\n",
    "plt.plot(dist_along, ATM_elev)\n",
    "plt.ylabel('Elevation (m)')\n",
    "plt.xlabel('distance along flow (km)')\n",
    "plt.title('Elevation along flowline of Zachariae Isstrom')\n",
    "plt.show()"
   ]
  },
  {
   "cell_type": "markdown",
   "metadata": {},
   "source": [
    "Plot the horizontal footprint with elevation color coded:"
   ]
  },
  {
   "cell_type": "code",
   "execution_count": 7,
   "metadata": {},
   "outputs": [
    {
     "data": {
      "application/vnd.jupyter.widget-view+json": {
       "model_id": "6de48d143b8149149e982e5fc952f2b9",
       "version_major": 2,
       "version_minor": 0
      },
      "text/plain": [
       "FigureCanvasNbAgg()"
      ]
     },
     "metadata": {},
     "output_type": "display_data"
    }
   ],
   "source": [
    "%matplotlib widget\n",
    "\n",
    "plt.scatter(ATM_long, ATM_lat, c=ATM_elev,cmap='plasma')\n",
    "plt.ylabel('Latitude (deg)')\n",
    "plt.xlabel('Longitude (deg)')\n",
    "plt.title('ATM flyover along Zachariae Isstrom')\n",
    "plt.colorbar(fraction=0.0320, pad=0.02, label='Elevation (m)')\n",
    "plt.show()"
   ]
  },
  {
   "cell_type": "markdown",
   "metadata": {},
   "source": [
    "Final data extracted into arrays:\n",
    "+ ATM_long: longitude of elev points\n",
    "+ ATM_lat: latitude of elev points\n",
    "+ PS_x: x-coords of elev points in Greenland Polar Stereo\n",
    "+ PS_y: y-coords of elev points in Greenland Polar Stereo\n",
    "+ ATM_elev: elevation points with z in meters\n",
    "+ dist_along: distance along the flowline in km\n",
    "\n",
    "...and recombined into a dataframe:"
   ]
  },
  {
   "cell_type": "code",
   "execution_count": 8,
   "metadata": {},
   "outputs": [
    {
     "name": "stdout",
     "output_type": "stream",
     "text": [
      "     ATM_long    ATM_lat           PS_x          PS_y  ATM_elev  dist_along\n",
      "0  334.846721  79.211271  397913.477068 -1.102426e+06  891.4235    0.000000\n",
      "1  334.848221  79.211989  397915.704090 -1.102342e+06  891.6056   84.231835\n",
      "2  334.849722  79.212707  397917.946244 -1.102257e+06  891.7156  168.470291\n",
      "3  334.848567  79.212155  397916.203061 -1.102322e+06  891.6397  233.240595\n",
      "4  334.848296  79.211153  397948.158670 -1.102427e+06  891.1921  342.853729\n"
     ]
    }
   ],
   "source": [
    "variables = [ATM_long, ATM_lat, PS_x, PS_y, ATM_elev, dist_along]\n",
    "indices = ['ATM_long', \"ATM_lat\", \"PS_x\", \"PS_y\", \"ATM_elev\", \"dist_along\"]\n",
    "\n",
    "#create DataFrame from these variables\n",
    "final_data = pd.DataFrame(variables)\n",
    "final_data = final_data.transpose()\n",
    "final_data.columns = indices\n",
    "print(final_data.head())"
   ]
  },
  {
   "cell_type": "markdown",
   "metadata": {},
   "source": [
    "Get target points from ATM csv and put into dataframe"
   ]
  },
  {
   "cell_type": "code",
   "execution_count": 14,
   "metadata": {},
   "outputs": [
    {
     "name": "stdout",
     "output_type": "stream",
     "text": [
      "[[  397913.47706814 -1102425.77908309]\n",
      " [  397915.70409007 -1102341.5766936 ]\n",
      " [  397917.94624422 -1102257.36808201]\n",
      " [  397916.20306121 -1102322.11492441]\n",
      " [  397948.15866962 -1102426.96662082]]\n"
     ]
    },
    {
     "data": {
      "text/plain": [
       "(13921, 2)"
      ]
     },
     "execution_count": 14,
     "metadata": {},
     "output_type": "execute_result"
    }
   ],
   "source": [
    "ATM = pd.read_csv(file)\n",
    "\n",
    "\n",
    "tpoints = final_data[['PS_x','PS_y']].copy()\n",
    "tpoints = tpoints.values\n",
    "\n",
    "\n",
    "# print(tpoints[0:5])\n",
    "\n",
    "\n"
   ]
  },
  {
   "cell_type": "markdown",
   "metadata": {},
   "source": [
    "Get query points from ATL06 csv and put into dataframe"
   ]
  },
  {
   "cell_type": "code",
   "execution_count": 100,
   "metadata": {},
   "outputs": [
    {
     "name": "stdout",
     "output_type": "stream",
     "text": [
      "[[ 79.4 -23.1]\n",
      " [ 79.2 -22.6]\n",
      " [ 79.1 -22.4]\n",
      " [ 79.  -22.1]\n",
      " [ 78.8 -21.6]\n",
      " [ 78.6 -21.1]]\n",
      "<class 'numpy.ndarray'>\n",
      "(6, 2)\n"
     ]
    }
   ],
   "source": [
    "ATL06 = pd.read_csv(file)\n",
    "\n",
    "qpoints = ATL06[['x','y']].copy()\n",
    "qpoints = qpoints.values\n"
   ]
  },
  {
   "cell_type": "code",
   "execution_count": 30,
   "metadata": {},
   "outputs": [
    {
     "data": {
      "text/html": [
       "<div>\n",
       "<style scoped>\n",
       "    .dataframe tbody tr th:only-of-type {\n",
       "        vertical-align: middle;\n",
       "    }\n",
       "\n",
       "    .dataframe tbody tr th {\n",
       "        vertical-align: top;\n",
       "    }\n",
       "\n",
       "    .dataframe thead th {\n",
       "        text-align: right;\n",
       "    }\n",
       "</style>\n",
       "<table border=\"1\" class=\"dataframe\">\n",
       "  <thead>\n",
       "    <tr style=\"text-align: right;\">\n",
       "      <th></th>\n",
       "      <th>Flow_dist_ATM</th>\n",
       "      <th>idx_ATM</th>\n",
       "      <th>z_ATM</th>\n",
       "      <th>z_ATL06</th>\n",
       "      <th>t_ATL06</th>\n",
       "      <th>idx_ATL06</th>\n",
       "    </tr>\n",
       "  </thead>\n",
       "  <tbody>\n",
       "  </tbody>\n",
       "</table>\n",
       "</div>"
      ],
      "text/plain": [
       "Empty DataFrame\n",
       "Columns: [Flow_dist_ATM, idx_ATM, z_ATM, z_ATL06, t_ATL06, idx_ATL06]\n",
       "Index: []"
      ]
     },
     "execution_count": 30,
     "metadata": {},
     "output_type": "execute_result"
    }
   ],
   "source": [
    "Intersections = {'Flow_dist_ATM':[],'z_ATM':[],'idx_ATM':[],'z_ATL06':[],'t_ATL06':[],'idx_ATL06':[]}\n",
    "Intersections = pd.DataFrame(data = Intersections)\n",
    "\n",
    "Intersections.head()"
   ]
  },
  {
   "cell_type": "code",
   "execution_count": 104,
   "metadata": {},
   "outputs": [
    {
     "name": "stdout",
     "output_type": "stream",
     "text": [
      "1\n",
      "2\n"
     ]
    }
   ],
   "source": [
    "def closest_node(node, nodes):\n",
    "    closest_index = distance.cdist([node], nodes).argmin()\n",
    "    closest_dist = np.min(distance.cdist([node], nodes,'euclidean'))\n",
    "    return closest_index, closest_dist\n",
    "\n",
    "close_idx = []\n",
    "min_dist = []\n",
    "for i in range(len(tpoints)):\n",
    "    close_idxT,min_distT = closest_node(tpoints[i,:], qpoints)\n",
    "    close_idx = np.append(close_idx,[close_idxT])\n",
    "    min_dist = np.append(min_dist,[min_distT])\n",
    "\n",
    "tpt_idx = np.argmin(min_dist)\n",
    "qpt_idx = int(close_idx[tpt_idx])\n",
    "print(tpt_idx)\n",
    "print(qpt_idx)\n",
    "\n",
    "AddDatarow = ['Flow_dist_ATM':[ATMdata.loc[tpt_idx,'dist_along']],\n",
    "       'z_ATM':[ATMdata.loc[tpt_idx,'ATM_elev']],\n",
    "       'idx_ATM':[tpt_idx],\n",
    "       'z_ATL06':[ATL06data.loc[qpt_idx,'z']],\n",
    "       't_ATL06':[ATL06data.loc[qpt_idx,'t']],\n",
    "       'idx_ATL06':[qpt_idx]]"
   ]
  },
  {
   "cell_type": "code",
   "execution_count": 52,
   "metadata": {},
   "outputs": [],
   "source": [
    "Intersections.append(AddDatarow)\n",
    "\n",
    "\n",
    "Intersections.to_csv(index=False)"
   ]
  },
  {
   "cell_type": "code",
   "execution_count": null,
   "metadata": {},
   "outputs": [],
   "source": []
  }
 ],
 "metadata": {
  "kernelspec": {
   "display_name": "Python 3",
   "language": "python",
   "name": "python3"
  },
  "language_info": {
   "codemirror_mode": {
    "name": "ipython",
    "version": 3
   },
   "file_extension": ".py",
   "mimetype": "text/x-python",
   "name": "python",
   "nbconvert_exporter": "python",
   "pygments_lexer": "ipython3",
   "version": "3.6.7"
  }
 },
 "nbformat": 4,
 "nbformat_minor": 2
}
