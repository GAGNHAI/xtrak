{
 "cells": [
  {
   "cell_type": "markdown",
   "metadata": {},
   "source": [
    "## Code to find intersections of ICESat-2 and ATM data\n",
    "\n",
    "**by Allison Chartrand**\n",
    "\n",
    "**June 2019 ICESat-2 Hackweek**\n"
   ]
  },
  {
   "cell_type": "code",
   "execution_count": 1,
   "metadata": {},
   "outputs": [],
   "source": [
    "#IMPORT PACKAGES\n",
    "import os\n",
    "import glob\n",
    "import pandas as pd\n",
    "import csv\n",
    "import numpy as np\n",
    "import math\n",
    "import matplotlib.pyplot as plt\n",
    "import pyproj\n",
    "from scipy.spatial import distance"
   ]
  },
  {
   "cell_type": "markdown",
   "metadata": {},
   "source": [
    "Code to extract single tracks of IceSat-2 data"
   ]
  },
  {
   "cell_type": "code",
   "execution_count": 38,
   "metadata": {},
   "outputs": [],
   "source": [
    "ATL06data = pd.read_csv('../data_prod/IceSat2ZachData',parse_dates=[4])"
   ]
  },
  {
   "cell_type": "code",
   "execution_count": 3,
   "metadata": {},
   "outputs": [
    {
     "data": {
      "text/plain": [
       "array(['gt3r', 'gt1l', 'gt1r', 'gt2l', 'gt2r', 'gt3l'], dtype=object)"
      ]
     },
     "execution_count": 3,
     "metadata": {},
     "output_type": "execute_result"
    }
   ],
   "source": [
    "ATL06data['track'].unique()"
   ]
  },
  {
   "cell_type": "code",
   "execution_count": 39,
   "metadata": {},
   "outputs": [
    {
     "data": {
      "text/plain": [
       "array(['2019-01-04T12:24:25.000000000', '2019-02-15T10:09:55.000000000',\n",
       "       '2018-10-29T05:05:08.000000000', '2019-01-16T01:09:49.000000000',\n",
       "       '2018-11-23T03:49:31.000000000', '2018-12-10T02:50:30.000000000',\n",
       "       '2018-12-19T12:57:40.000000000', '2019-01-08T01:26:37.000000000',\n",
       "       '2018-11-20T14:21:44.000000000', '2018-12-26T02:17:13.000000000',\n",
       "       '2019-02-17T23:37:46.000000000', '2018-11-16T14:30:09.000000000',\n",
       "       '2018-11-27T03:41:06.000000000', '2018-12-27T12:41:01.000000000',\n",
       "       '2018-10-21T05:21:45.000000000', '2018-12-23T12:49:22.000000000',\n",
       "       '2018-10-22T15:45:34.000000000', '2018-12-14T02:42:09.000000000',\n",
       "       '2018-12-15T13:05:59.000000000', '2019-01-20T01:01:33.000000000',\n",
       "       '2018-12-18T02:33:52.000000000', '2019-01-13T11:42:01.000000000',\n",
       "       '2019-01-29T11:08:55.000000000', '2018-11-15T04:06:22.000000000',\n",
       "       '2018-11-19T03:57:57.000000000', '2018-12-02T13:56:37.000000000',\n",
       "       '2018-10-17T05:30:05.000000000', '2019-01-17T11:33:37.000000000',\n",
       "       '2018-10-25T05:13:27.000000000', '2018-10-30T15:28:58.000000000',\n",
       "       '2019-01-21T11:25:25.000000000', '2019-02-13T23:46:06.000000000',\n",
       "       '2018-10-26T15:37:16.000000000', '2019-01-28T00:45:05.000000000',\n",
       "       '2019-01-12T01:18:14.000000000', '2018-12-30T02:08:55.000000000',\n",
       "       '2019-01-25T11:17:11.000000000', '2018-12-31T12:32:45.000000000',\n",
       "       '2018-12-22T02:25:33.000000000', '2018-11-28T14:04:55.000000000',\n",
       "       '2019-02-02T11:00:37.000000000', '2019-02-19T10:01:34.000000000',\n",
       "       '2018-11-24T14:13:17.000000000', '2018-10-18T15:53:52.000000000',\n",
       "       '2019-02-09T23:54:28.000000000', '2018-11-11T04:14:44.000000000',\n",
       "       '2019-02-23T09:53:16.000000000', '2019-01-24T00:53:21.000000000'],\n",
       "      dtype='datetime64[ns]')"
      ]
     },
     "execution_count": 39,
     "metadata": {},
     "output_type": "execute_result"
    }
   ],
   "source": [
    "ATL06data.date.unique()"
   ]
  },
  {
   "cell_type": "markdown",
   "metadata": {},
   "source": [
    "Define nearest neighbor algorithm"
   ]
  },
  {
   "cell_type": "code",
   "execution_count": 6,
   "metadata": {},
   "outputs": [],
   "source": [
    "def closest_node(node, nodes):\n",
    "    closest_index = distance.cdist([node], nodes).argmin()\n",
    "    closest_dist = np.min(distance.cdist([node], nodes,'euclidean'))\n",
    "    return closest_index, closest_dist"
   ]
  },
  {
   "cell_type": "markdown",
   "metadata": {},
   "source": [
    "Get target points from ATM csv and put into dataframe"
   ]
  },
  {
   "cell_type": "code",
   "execution_count": 7,
   "metadata": {},
   "outputs": [
    {
     "data": {
      "text/html": [
       "<div>\n",
       "<style scoped>\n",
       "    .dataframe tbody tr th:only-of-type {\n",
       "        vertical-align: middle;\n",
       "    }\n",
       "\n",
       "    .dataframe tbody tr th {\n",
       "        vertical-align: top;\n",
       "    }\n",
       "\n",
       "    .dataframe thead th {\n",
       "        text-align: right;\n",
       "    }\n",
       "</style>\n",
       "<table border=\"1\" class=\"dataframe\">\n",
       "  <thead>\n",
       "    <tr style=\"text-align: right;\">\n",
       "      <th></th>\n",
       "      <th>ATM_lat</th>\n",
       "      <th>ATM_long</th>\n",
       "      <th>PS_x</th>\n",
       "      <th>PS_y</th>\n",
       "      <th>ATM_elev</th>\n",
       "      <th>dist_along</th>\n",
       "    </tr>\n",
       "  </thead>\n",
       "  <tbody>\n",
       "    <tr>\n",
       "      <th>0</th>\n",
       "      <td>79.212155</td>\n",
       "      <td>334.848567</td>\n",
       "      <td>397916.203061</td>\n",
       "      <td>-1.102322e+06</td>\n",
       "      <td>891.6397</td>\n",
       "      <td>0.000000</td>\n",
       "    </tr>\n",
       "    <tr>\n",
       "      <th>1</th>\n",
       "      <td>79.212039</td>\n",
       "      <td>334.850146</td>\n",
       "      <td>397950.884957</td>\n",
       "      <td>-1.102323e+06</td>\n",
       "      <td>891.4861</td>\n",
       "      <td>34.695014</td>\n",
       "    </tr>\n",
       "    <tr>\n",
       "      <th>2</th>\n",
       "      <td>79.211923</td>\n",
       "      <td>334.851724</td>\n",
       "      <td>397985.547970</td>\n",
       "      <td>-1.102324e+06</td>\n",
       "      <td>891.3228</td>\n",
       "      <td>69.371314</td>\n",
       "    </tr>\n",
       "    <tr>\n",
       "      <th>3</th>\n",
       "      <td>79.211808</td>\n",
       "      <td>334.853304</td>\n",
       "      <td>398020.212712</td>\n",
       "      <td>-1.102325e+06</td>\n",
       "      <td>891.1725</td>\n",
       "      <td>104.046285</td>\n",
       "    </tr>\n",
       "    <tr>\n",
       "      <th>4</th>\n",
       "      <td>79.211692</td>\n",
       "      <td>334.854884</td>\n",
       "      <td>398054.914911</td>\n",
       "      <td>-1.102326e+06</td>\n",
       "      <td>891.0138</td>\n",
       "      <td>138.761317</td>\n",
       "    </tr>\n",
       "  </tbody>\n",
       "</table>\n",
       "</div>"
      ],
      "text/plain": [
       "     ATM_lat    ATM_long           PS_x          PS_y  ATM_elev  dist_along\n",
       "0  79.212155  334.848567  397916.203061 -1.102322e+06  891.6397    0.000000\n",
       "1  79.212039  334.850146  397950.884957 -1.102323e+06  891.4861   34.695014\n",
       "2  79.211923  334.851724  397985.547970 -1.102324e+06  891.3228   69.371314\n",
       "3  79.211808  334.853304  398020.212712 -1.102325e+06  891.1725  104.046285\n",
       "4  79.211692  334.854884  398054.914911 -1.102326e+06  891.0138  138.761317"
      ]
     },
     "execution_count": 7,
     "metadata": {},
     "output_type": "execute_result"
    }
   ],
   "source": [
    "ATMdata = pd.read_csv('~/xtrak/data_prod/ATMprof_20180418.csv')\n",
    "\n",
    "tpoints = ATMdata[['PS_x','PS_y']].copy()\n",
    "tpoints = tpoints.values\n",
    "ATMdata.head()"
   ]
  },
  {
   "cell_type": "markdown",
   "metadata": {},
   "source": [
    "Make an empty dataframe for intersections\n",
    "Get query points from ATL06 csv and put into dataframe\n",
    "Loop through unique dates and ground tracks and find the closest point between each ground track and the flowline\n",
    "Store intersection along-flow distance, z_ATM, z_ATL06 and other helpful data in Intersections dataframe"
   ]
  },
  {
   "cell_type": "code",
   "execution_count": 74,
   "metadata": {},
   "outputs": [],
   "source": [
    "Intersections = {'dist_along':[],'ATM_elev':[],'idx_ATM':[],'z_ATL06':[],'t_ATL06':[],'idx_ATL06':[],'gt_ATL06':[]}\n",
    "Intersections = pd.DataFrame(data = Intersections)\n",
    "i = 0\n",
    "for day in ATL06data.date.unique():\n",
    "\n",
    "    for tr in ATL06data.track.unique():\n",
    "        close_idx = []\n",
    "        min_dist = []\n",
    "        AddDatarow = []\n",
    "\n",
    "        #dfTran is a single radar transect\n",
    "        dfTran = ATL06data.query('date == @day & track == @tr')\n",
    "        if dfTran.shape[0] == 0:\n",
    "            continue\n",
    "            \n",
    "        \n",
    "        qpoints = dfTran[['x','y']].copy()\n",
    "        qpoints = qpoints.values\n",
    "\n",
    "        \n",
    "        for j in range(len(tpoints)):\n",
    "            close_idxT,min_distT = closest_node(tpoints[j,:], qpoints)\n",
    "            close_idx = np.append(close_idx,[close_idxT])\n",
    "            min_dist = np.append(min_dist,[min_distT])\n",
    "        if min(min_dist) > 1000:\n",
    "            continue\n",
    "        \n",
    "        tpt_idx = np.argmin(min_dist)\n",
    "        qpt_idx = int(close_idx[tpt_idx])\n",
    "        dfTran_idx = dfTran.loc[dfTran['date'] == day].index[0]\n",
    "        qpt_idx = qpt_idx+dfTran_idx\n",
    "        \n",
    "        AddDatarow = {'dist_along':[ATMdata.loc[tpt_idx,'dist_along']],\n",
    "                      'ATM_elev':[ATMdata.loc[tpt_idx,'ATM_elev']],\n",
    "                      'idx_ATM':[tpt_idx],\n",
    "                      'z_ATL06':[dfTran.loc[qpt_idx,'h']],\n",
    "                      't_ATL06':[dfTran.loc[qpt_idx,'date']],\n",
    "                      'idx_ATL06':[qpt_idx],\n",
    "                      'gt_ATL06':[dfTran.loc[qpt_idx,'track']]}\n",
    "        AddDatarow = pd.DataFrame(data = AddDatarow)\n",
    "        Intersections = Intersections.append(AddDatarow,ignore_index=True)\n",
    "#         Intersections.reset_index(drop=True)\n",
    "        "
   ]
  },
  {
   "cell_type": "code",
   "execution_count": 75,
   "metadata": {},
   "outputs": [
    {
     "data": {
      "text/html": [
       "<div>\n",
       "<style scoped>\n",
       "    .dataframe tbody tr th:only-of-type {\n",
       "        vertical-align: middle;\n",
       "    }\n",
       "\n",
       "    .dataframe tbody tr th {\n",
       "        vertical-align: top;\n",
       "    }\n",
       "\n",
       "    .dataframe thead th {\n",
       "        text-align: right;\n",
       "    }\n",
       "</style>\n",
       "<table border=\"1\" class=\"dataframe\">\n",
       "  <thead>\n",
       "    <tr style=\"text-align: right;\">\n",
       "      <th></th>\n",
       "      <th>dist_along</th>\n",
       "      <th>ATM_elev</th>\n",
       "      <th>idx_ATM</th>\n",
       "      <th>z_ATL06</th>\n",
       "      <th>t_ATL06</th>\n",
       "      <th>idx_ATL06</th>\n",
       "      <th>gt_ATL06</th>\n",
       "    </tr>\n",
       "  </thead>\n",
       "  <tbody>\n",
       "    <tr>\n",
       "      <th>0</th>\n",
       "      <td>125293.549537</td>\n",
       "      <td>36.6189</td>\n",
       "      <td>3399.0</td>\n",
       "      <td>35.714657</td>\n",
       "      <td>2019-02-15 10:09:55</td>\n",
       "      <td>1578.0</td>\n",
       "      <td>gt1l</td>\n",
       "    </tr>\n",
       "    <tr>\n",
       "      <th>1</th>\n",
       "      <td>125388.182985</td>\n",
       "      <td>35.0684</td>\n",
       "      <td>3402.0</td>\n",
       "      <td>34.106010</td>\n",
       "      <td>2019-02-15 10:09:55</td>\n",
       "      <td>4933.0</td>\n",
       "      <td>gt1r</td>\n",
       "    </tr>\n",
       "    <tr>\n",
       "      <th>2</th>\n",
       "      <td>96217.510032</td>\n",
       "      <td>88.3644</td>\n",
       "      <td>2580.0</td>\n",
       "      <td>66.844490</td>\n",
       "      <td>2019-01-16 01:09:49</td>\n",
       "      <td>39471.0</td>\n",
       "      <td>gt3r</td>\n",
       "    </tr>\n",
       "    <tr>\n",
       "      <th>3</th>\n",
       "      <td>102715.054408</td>\n",
       "      <td>30.4860</td>\n",
       "      <td>2761.0</td>\n",
       "      <td>29.333950</td>\n",
       "      <td>2019-01-16 01:09:49</td>\n",
       "      <td>19993.0</td>\n",
       "      <td>gt1l</td>\n",
       "    </tr>\n",
       "    <tr>\n",
       "      <th>4</th>\n",
       "      <td>102652.754159</td>\n",
       "      <td>33.3447</td>\n",
       "      <td>2759.0</td>\n",
       "      <td>38.831944</td>\n",
       "      <td>2019-01-16 01:09:49</td>\n",
       "      <td>23915.0</td>\n",
       "      <td>gt1r</td>\n",
       "    </tr>\n",
       "  </tbody>\n",
       "</table>\n",
       "</div>"
      ],
      "text/plain": [
       "      dist_along  ATM_elev  idx_ATM    z_ATL06             t_ATL06  idx_ATL06  \\\n",
       "0  125293.549537   36.6189   3399.0  35.714657 2019-02-15 10:09:55     1578.0   \n",
       "1  125388.182985   35.0684   3402.0  34.106010 2019-02-15 10:09:55     4933.0   \n",
       "2   96217.510032   88.3644   2580.0  66.844490 2019-01-16 01:09:49    39471.0   \n",
       "3  102715.054408   30.4860   2761.0  29.333950 2019-01-16 01:09:49    19993.0   \n",
       "4  102652.754159   33.3447   2759.0  38.831944 2019-01-16 01:09:49    23915.0   \n",
       "\n",
       "  gt_ATL06  \n",
       "0     gt1l  \n",
       "1     gt1r  \n",
       "2     gt3r  \n",
       "3     gt1l  \n",
       "4     gt1r  "
      ]
     },
     "execution_count": 75,
     "metadata": {},
     "output_type": "execute_result"
    }
   ],
   "source": [
    "Intersections.head()\n"
   ]
  },
  {
   "cell_type": "code",
   "execution_count": 16,
   "metadata": {},
   "outputs": [],
   "source": [
    "%matplotlib widget"
   ]
  },
  {
   "cell_type": "code",
   "execution_count": 100,
   "metadata": {},
   "outputs": [
    {
     "data": {
      "application/vnd.jupyter.widget-view+json": {
       "model_id": "86f1481ac07d49c6babe563b75867b02",
       "version_major": 2,
       "version_minor": 0
      },
      "text/plain": [
       "FigureCanvasNbAgg()"
      ]
     },
     "metadata": {},
     "output_type": "display_data"
    },
    {
     "data": {
      "text/plain": [
       "<matplotlib.colorbar.Colorbar at 0x7fafe0fd3e48>"
      ]
     },
     "execution_count": 100,
     "metadata": {},
     "output_type": "execute_result"
    }
   ],
   "source": [
    "\n",
    "f, ax = plt.subplots()\n",
    "plt.scatter(Intersections['dist_along']/1000,Intersections['z_ATL06'],c=Intersections['t_ATL06'])\n",
    "# ax.scatter(Intersections['dist_along']/1000,Intersections['z_ATL06'],Intersections['t_ATL06'])\n",
    "# ax.scatter(Intersections['dist_along']/1000,Intersections['z_ATL06'], c = Time,s=1)\n",
    "plt.plot(Intersections['dist_along']/1000,Intersections['ATM_elev'],'.')\n",
    "# cb = f.colorbar()\n",
    "plt.colorbar()\n",
    "\n",
    "# cb.ax.set_yticklabels(df.index.strftime('%b %Y'))"
   ]
  },
  {
   "cell_type": "code",
   "execution_count": 97,
   "metadata": {},
   "outputs": [],
   "source": [
    "plt.close('all')"
   ]
  },
  {
   "cell_type": "markdown",
   "metadata": {},
   "source": [
    "Save to file"
   ]
  },
  {
   "cell_type": "code",
   "execution_count": 10,
   "metadata": {},
   "outputs": [],
   "source": [
    "\n",
    "Intersections.to_csv('~/xtrak/data_prod/Intersections_ATM20180418.csv',index=False)"
   ]
  }
 ],
 "metadata": {
  "kernelspec": {
   "display_name": "Python 3",
   "language": "python",
   "name": "python3"
  },
  "language_info": {
   "codemirror_mode": {
    "name": "ipython",
    "version": 3
   },
   "file_extension": ".py",
   "mimetype": "text/x-python",
   "name": "python",
   "nbconvert_exporter": "python",
   "pygments_lexer": "ipython3",
   "version": "3.6.7"
  }
 },
 "nbformat": 4,
 "nbformat_minor": 2
}
