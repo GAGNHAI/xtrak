{
 "cells": [
  {
   "cell_type": "markdown",
   "metadata": {},
   "source": [
    "## Code to work with ATM data along the flowline of Zachariae Isstrom\n",
    "\n",
    "**by Jukes Liu**\n",
    "\n",
    "**June 2019 ICESat-2 Hackweek**\n"
   ]
  },
  {
   "cell_type": "code",
   "execution_count": 61,
   "metadata": {},
   "outputs": [],
   "source": [
    "#IMPORT PACKAGES\n",
    "import os\n",
    "import glob\n",
    "import pandas as pd\n",
    "import csv\n",
    "import numpy as np\n",
    "import math\n",
    "import matplotlib.pyplot as plt\n",
    "import pyproj\n",
    "import geopandas as gpd\n",
    "from shapely.geometry import Point, Polygon"
   ]
  },
  {
   "cell_type": "markdown",
   "metadata": {},
   "source": [
    "## Read in ATM elevation CSV files into dataframes and each variable into 1D arrays:"
   ]
  },
  {
   "cell_type": "code",
   "execution_count": 54,
   "metadata": {},
   "outputs": [],
   "source": [
    "filelist = glob.glob(\"../data/*.csv\")\n",
    "#filelist"
   ]
  },
  {
   "cell_type": "code",
   "execution_count": 53,
   "metadata": {},
   "outputs": [],
   "source": [
    "#get all the relevant csv files as a list and sort in order of the flight path\n",
    "filelist = glob.glob(\"../data/*2018*.csv\")\n",
    "filelist.sort(reverse=True)\n",
    "\n",
    "#test with first file in the filelist\n",
    "# filelist = [filelist[0]] \n",
    "\n",
    "#create an empty DataFrame to hold the stitched together ATM data along the profile\n",
    "df_total = pd.DataFrame()\n",
    "\n",
    "#for each csv file\n",
    "for file in filelist:\n",
    "    #print(file)\n",
    "    #read the csv file into a pandas DataFrame\n",
    "    csv_df = pd.read_csv(file, skiprows=9)\n",
    "    \n",
    "    #slice it to only keep Lat, Long, Ellipsoid Height\n",
    "    df_slice = csv_df.loc[:, csv_df.keys()[1]: csv_df.keys()[3]]\n",
    "    \n",
    "    #concatenate (join) it to the df_total\n",
    "    df_total = pd.concat([df_slice, df_total])\n",
    "\n",
    "#check that we have all the data properly stitched together:\n",
    "#print(df_total)\n",
    "\n",
    "#Read latitude from DataFrame into 1D array\n",
    "ATM_lat = df_total.loc[:, df_total.keys()[0]].values\n",
    "#print(ATM_lat)\n",
    "\n",
    "#Read longitude from DataFrame into 1D Array\n",
    "ATM_long = df_total.loc[:, df_total.keys()[1]].values\n",
    "#print(ATM_long)\n",
    "\n",
    "#Read elevation from DataFrame into 1D Array\n",
    "ATM_elev = df_total.loc[:, df_total.keys()[2]].values\n",
    "\n",
    "#check the elevation data:\n",
    "#for i in range(len(ATM_elev)):\n",
    "    #print(i, ATM_elev[i])"
   ]
  },
  {
   "cell_type": "markdown",
   "metadata": {},
   "source": [
    "## Reproject lat and long into Greenland Polar Stereo coordinates (ESPG: 3413)"
   ]
  },
  {
   "cell_type": "code",
   "execution_count": null,
   "metadata": {},
   "outputs": [],
   "source": [
    "#REPROJECT LAT LONG INTO GREENLAND POLAR STEREO(ESPG: 3413)\n",
    "\n",
    "#Coordinate transformation function written by Fernando Paolo:\n",
    "def transform_coord(proj1, proj2, x, y):\n",
    "    \"\"\"\n",
    "    Transform coordinates from proj1 to proj2 (EPSG num).\n",
    "\n",
    "    Example EPSG projs:\n",
    "        Geodetic (lon/lat): 4326\n",
    "        Polar Stereo AnIS (x/y): 3031\n",
    "        Polar Stereo GrIS (x/y): 3413\n",
    "    \"\"\"\n",
    "    # Set full EPSG projection strings\n",
    "    proj1 = pyproj.Proj(\"+init=EPSG:\"+str(proj1))\n",
    "    proj2 = pyproj.Proj(\"+init=EPSG:\"+str(proj2))\n",
    "    return pyproj.transform(proj1, proj2, x, y)  # convert\n",
    "\n",
    "#use the function to transform into Greenland Polar Stereo (PS_x, PS_y)\n",
    "PS_coords = transform_coord(4326, 3413, ATM_long, ATM_lat)\n",
    "PS_x = PS_coords[0]\n",
    "PS_y = PS_coords[1]\n",
    "print(PS_x)\n",
    "print(PS_y)"
   ]
  },
  {
   "cell_type": "markdown",
   "metadata": {},
   "source": [
    "## Calculate distance along the flowline:"
   ]
  },
  {
   "cell_type": "code",
   "execution_count": null,
   "metadata": {},
   "outputs": [],
   "source": [
    "#create an empty array to contain the distance along flow \n",
    "dist_along = np.empty(len(ATM_lat), dtype=float)\n",
    "\n",
    "#for each lat-long point:\n",
    "for i in range(len(ATM_lat)):\n",
    "    #for the first point, set distance along flow to 0 m\n",
    "    if i == 0:\n",
    "        dist_along[i] = 0.0\n",
    "    \n",
    "    #for all other subsequent points:\n",
    "    else:\n",
    "        #calculate distance from the last point\n",
    "        #in North PS, no conversion needed\n",
    "        x_diff = PS_x[i] - PS_x[i-1]\n",
    "        y_diff = PS_y[i] - PS_y[i-1]\n",
    "        #print(x_diff, y_diff)\n",
    "                \n",
    "        #calculate distance from the previous point using the distance formula:    \n",
    "        #in km using PS\n",
    "        dist_last = math.sqrt(((x_diff)**2)+((y_diff)**2))\n",
    "        #print(dist_last)\n",
    "        \n",
    "        #add it to the previous distance along the track to get the cumulative distance\n",
    "        dist_along[i] = dist_last + dist_along[i-1]\n",
    "\n",
    "    #check the array of distance along the track in meters:\n",
    "    print(dist_along[i], ATM_elev[i])"
   ]
  },
  {
   "cell_type": "markdown",
   "metadata": {},
   "source": [
    "## Final data extracted into arrays\n",
    "+ ATM_long: longitude of elev points\n",
    "+ ATM_lat: latitude of elev points\n",
    "+ PS_x: x-coords of elev points in Greenland Polar Stereo\n",
    "+ PS_y: y-coords of elev points in Greenland Polar Stereo\n",
    "+ ATM_elev: elevation points with z in meters\n",
    "+ dist_along: distance along the flowline in km\n",
    "\n",
    "## ...and recombined into a dataframe called final_data:"
   ]
  },
  {
   "cell_type": "code",
   "execution_count": 55,
   "metadata": {},
   "outputs": [
    {
     "name": "stdout",
     "output_type": "stream",
     "text": [
      "     ATM_long    ATM_lat           PS_x          PS_y  ATM_elev  dist_along\n",
      "0  334.846721  79.211271  397913.477068 -1.102426e+06  891.4235    0.000000\n",
      "1  334.848221  79.211989  397915.704090 -1.102342e+06  891.6056   84.231835\n",
      "2  334.849722  79.212707  397917.946244 -1.102257e+06  891.7156  168.470291\n",
      "3  334.848567  79.212155  397916.203061 -1.102322e+06  891.6397  233.240595\n",
      "4  334.848296  79.211153  397948.158670 -1.102427e+06  891.1921  342.853729\n"
     ]
    }
   ],
   "source": [
    "variables = [ATM_long, ATM_lat, PS_x, PS_y, ATM_elev, dist_along]\n",
    "indices = ['ATM_long', \"ATM_lat\", \"PS_x\", \"PS_y\", \"ATM_elev\", \"dist_along\"]\n",
    "\n",
    "#create DataFrame from these variables\n",
    "final_data = pd.DataFrame(variables)\n",
    "final_data = final_data.transpose()\n",
    "final_data.columns = indices\n",
    "print(final_data.head())\n",
    "\n",
    "#SAVE TO CSV\n",
    "final_data.to_csv('/home/jovyan/xtrak/data/ATMprof_20190418.csv',index=False)"
   ]
  },
  {
   "cell_type": "markdown",
   "metadata": {},
   "source": [
    "## Convert to GeoDataFrame"
   ]
  },
  {
   "cell_type": "code",
   "execution_count": 67,
   "metadata": {},
   "outputs": [
    {
     "data": {
      "text/html": [
       "<div>\n",
       "<style scoped>\n",
       "    .dataframe tbody tr th:only-of-type {\n",
       "        vertical-align: middle;\n",
       "    }\n",
       "\n",
       "    .dataframe tbody tr th {\n",
       "        vertical-align: top;\n",
       "    }\n",
       "\n",
       "    .dataframe thead th {\n",
       "        text-align: right;\n",
       "    }\n",
       "</style>\n",
       "<table border=\"1\" class=\"dataframe\">\n",
       "  <thead>\n",
       "    <tr style=\"text-align: right;\">\n",
       "      <th></th>\n",
       "      <th>ATM_long</th>\n",
       "      <th>ATM_lat</th>\n",
       "      <th>PS_x</th>\n",
       "      <th>PS_y</th>\n",
       "      <th>ATM_elev</th>\n",
       "      <th>dist_along</th>\n",
       "      <th>geometry</th>\n",
       "    </tr>\n",
       "  </thead>\n",
       "  <tbody>\n",
       "    <tr>\n",
       "      <th>0</th>\n",
       "      <td>334.846721</td>\n",
       "      <td>79.211271</td>\n",
       "      <td>397913.477068</td>\n",
       "      <td>-1.102426e+06</td>\n",
       "      <td>891.4235</td>\n",
       "      <td>0.000000</td>\n",
       "      <td>POINT (397913.4770681352 -1102425.779083087)</td>\n",
       "    </tr>\n",
       "    <tr>\n",
       "      <th>1</th>\n",
       "      <td>334.848221</td>\n",
       "      <td>79.211989</td>\n",
       "      <td>397915.704090</td>\n",
       "      <td>-1.102342e+06</td>\n",
       "      <td>891.6056</td>\n",
       "      <td>84.231835</td>\n",
       "      <td>POINT (397915.7040900742 -1102341.576693597)</td>\n",
       "    </tr>\n",
       "    <tr>\n",
       "      <th>2</th>\n",
       "      <td>334.849722</td>\n",
       "      <td>79.212707</td>\n",
       "      <td>397917.946244</td>\n",
       "      <td>-1.102257e+06</td>\n",
       "      <td>891.7156</td>\n",
       "      <td>168.470291</td>\n",
       "      <td>POINT (397917.9462442196 -1102257.36808201)</td>\n",
       "    </tr>\n",
       "    <tr>\n",
       "      <th>3</th>\n",
       "      <td>334.848567</td>\n",
       "      <td>79.212155</td>\n",
       "      <td>397916.203061</td>\n",
       "      <td>-1.102322e+06</td>\n",
       "      <td>891.6397</td>\n",
       "      <td>233.240595</td>\n",
       "      <td>POINT (397916.2030612105 -1102322.114924406)</td>\n",
       "    </tr>\n",
       "    <tr>\n",
       "      <th>4</th>\n",
       "      <td>334.848296</td>\n",
       "      <td>79.211153</td>\n",
       "      <td>397948.158670</td>\n",
       "      <td>-1.102427e+06</td>\n",
       "      <td>891.1921</td>\n",
       "      <td>342.853729</td>\n",
       "      <td>POINT (397948.1586696204 -1102426.96662082)</td>\n",
       "    </tr>\n",
       "  </tbody>\n",
       "</table>\n",
       "</div>"
      ],
      "text/plain": [
       "     ATM_long    ATM_lat           PS_x          PS_y  ATM_elev  dist_along  \\\n",
       "0  334.846721  79.211271  397913.477068 -1.102426e+06  891.4235    0.000000   \n",
       "1  334.848221  79.211989  397915.704090 -1.102342e+06  891.6056   84.231835   \n",
       "2  334.849722  79.212707  397917.946244 -1.102257e+06  891.7156  168.470291   \n",
       "3  334.848567  79.212155  397916.203061 -1.102322e+06  891.6397  233.240595   \n",
       "4  334.848296  79.211153  397948.158670 -1.102427e+06  891.1921  342.853729   \n",
       "\n",
       "                                       geometry  \n",
       "0  POINT (397913.4770681352 -1102425.779083087)  \n",
       "1  POINT (397915.7040900742 -1102341.576693597)  \n",
       "2   POINT (397917.9462442196 -1102257.36808201)  \n",
       "3  POINT (397916.2030612105 -1102322.114924406)  \n",
       "4   POINT (397948.1586696204 -1102426.96662082)  "
      ]
     },
     "execution_count": 67,
     "metadata": {},
     "output_type": "execute_result"
    }
   ],
   "source": [
    "#create new geometry column:\n",
    "final_data['geometry'] = list(zip(final_data['PS_x'], final_data['PS_y']))\n",
    "\n",
    "#create new shapely Point geometry objects \n",
    "final_data['geometry'] = final_data['geometry'].apply(Point)\n",
    "#final_data.head()\n",
    "\n",
    "#convert DataFrame to GeoDataFrame\n",
    "final_gdf = gpd.GeoDataFrame(final_data, crs={'init' :'epsg:3413'})\n",
    "\n",
    "final_gdf.head()"
   ]
  },
  {
   "cell_type": "markdown",
   "metadata": {},
   "source": [
    "## Plotting the data:"
   ]
  },
  {
   "cell_type": "code",
   "execution_count": 78,
   "metadata": {},
   "outputs": [
    {
     "data": {
      "application/vnd.jupyter.widget-view+json": {
       "model_id": "adfd0c3eed764ba39e67aca9ed3ce8bf",
       "version_major": 2,
       "version_minor": 0
      },
      "text/plain": [
       "FigureCanvasNbAgg()"
      ]
     },
     "metadata": {},
     "output_type": "display_data"
    },
    {
     "data": {
      "text/plain": [
       "<matplotlib.axes._subplots.AxesSubplot at 0x7ff399b457f0>"
      ]
     },
     "execution_count": 78,
     "metadata": {},
     "output_type": "execute_result"
    }
   ],
   "source": [
    "#2D plot with DataFrame:\n",
    "final_data.plot(x='dist_along', y='ATM_elev', kind='scatter', s=0.05) #c='ATM_elev', cmap='inferno')\n",
    "\n",
    "#plot with GeoDataFrame\n",
    "#final_gdf.plot();\n",
    "# fig = final_gdf.plot('ATM_elev', markersize=1, cmap='inferno', legend=True);\n",
    "\n",
    "#3D plot with DataFrame:\n",
    "# from mpl_toolkits.mplot3d import Axes3D\n",
    "# f = plt.figure()\n",
    "# ax3D = f.add_subplot(111, projection='3d')\n",
    "# sc = ax3D.scatter(final_data['PS_x'], final_data['PS_y'], final_data['ATM_elev'], c=final_data['ATM_elev'], s=1, cmap='inferno')\n",
    "# plt.colorbar(sc)\n",
    "# plt.show()"
   ]
  },
  {
   "cell_type": "code",
   "execution_count": null,
   "metadata": {},
   "outputs": [],
   "source": []
  }
 ],
 "metadata": {
  "kernelspec": {
   "display_name": "Python [conda env:root] *",
   "language": "python",
   "name": "conda-root-py"
  },
  "language_info": {
   "codemirror_mode": {
    "name": "ipython",
    "version": 3
   },
   "file_extension": ".py",
   "mimetype": "text/x-python",
   "name": "python",
   "nbconvert_exporter": "python",
   "pygments_lexer": "ipython3",
   "version": "3.6.7"
  }
 },
 "nbformat": 4,
 "nbformat_minor": 2
}
