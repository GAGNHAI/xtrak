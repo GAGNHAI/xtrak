{
 "cells": [
  {
   "cell_type": "markdown",
   "metadata": {},
   "source": [
    "Code to extract single tracks of IceSat-2 data"
   ]
  },
  {
   "cell_type": "code",
   "execution_count": 2,
   "metadata": {},
   "outputs": [],
   "source": [
    "import pandas as pd\n",
    "import numpy as np"
   ]
  },
  {
   "cell_type": "code",
   "execution_count": 3,
   "metadata": {},
   "outputs": [],
   "source": [
    "df = pd.read_csv('../extractData/IceSat2ZachData')"
   ]
  },
  {
   "cell_type": "code",
   "execution_count": 4,
   "metadata": {},
   "outputs": [
    {
     "data": {
      "text/plain": [
       "array(['gt3r', 'gt1l', 'gt1r', 'gt2l', 'gt2r', 'gt3l'], dtype=object)"
      ]
     },
     "execution_count": 4,
     "metadata": {},
     "output_type": "execute_result"
    }
   ],
   "source": [
    "df['track'].unique()"
   ]
  },
  {
   "cell_type": "code",
   "execution_count": 5,
   "metadata": {},
   "outputs": [
    {
     "data": {
      "text/plain": [
       "array(['2019-01-04 12:24:25', '2019-02-15 10:09:55',\n",
       "       '2018-10-29 05:05:08', '2019-01-16 01:09:49',\n",
       "       '2018-11-23 03:49:31', '2018-12-10 02:50:30',\n",
       "       '2018-12-19 12:57:40', '2019-01-08 01:26:37',\n",
       "       '2018-11-20 14:21:44', '2018-12-26 02:17:13',\n",
       "       '2019-02-17 23:37:46', '2018-11-16 14:30:09',\n",
       "       '2018-11-27 03:41:06', '2018-12-27 12:41:01',\n",
       "       '2018-10-21 05:21:45', '2018-12-23 12:49:22',\n",
       "       '2018-10-22 15:45:34', '2018-12-14 02:42:09',\n",
       "       '2018-12-15 13:05:59', '2019-01-20 01:01:33',\n",
       "       '2018-12-18 02:33:52', '2019-01-13 11:42:01',\n",
       "       '2019-01-29 11:08:55', '2018-11-15 04:06:22',\n",
       "       '2018-11-19 03:57:57', '2018-12-02 13:56:37',\n",
       "       '2018-10-17 05:30:05', '2019-01-17 11:33:37',\n",
       "       '2018-10-25 05:13:27', '2018-10-30 15:28:58',\n",
       "       '2019-01-21 11:25:25', '2019-02-13 23:46:06',\n",
       "       '2018-10-26 15:37:16', '2019-01-28 00:45:05',\n",
       "       '2019-01-12 01:18:14', '2018-12-30 02:08:55',\n",
       "       '2019-01-25 11:17:11', '2018-12-31 12:32:45',\n",
       "       '2018-12-22 02:25:33', '2018-11-28 14:04:55',\n",
       "       '2019-02-02 11:00:37', '2019-02-19 10:01:34',\n",
       "       '2018-11-24 14:13:17', '2018-10-18 15:53:52',\n",
       "       '2019-02-09 23:54:28', '2018-11-11 04:14:44',\n",
       "       '2019-02-23 09:53:16', '2019-01-24 00:53:21'], dtype=object)"
      ]
     },
     "execution_count": 5,
     "metadata": {},
     "output_type": "execute_result"
    }
   ],
   "source": [
    "df.date.unique()"
   ]
  },
  {
   "cell_type": "code",
   "execution_count": 7,
   "metadata": {},
   "outputs": [
    {
     "name": "stdout",
     "output_type": "stream",
     "text": [
      "2019-01-04 12:24:25\n",
      "gt3r\n",
      "2019-01-04 12:24:25\n",
      "gt3l\n",
      "2019-02-15 10:09:55\n",
      "gt3r\n",
      "2019-02-15 10:09:55\n",
      "gt1l\n",
      "2019-02-15 10:09:55\n",
      "gt1r\n",
      "2019-02-15 10:09:55\n",
      "gt2l\n",
      "2019-02-15 10:09:55\n",
      "gt2r\n",
      "2019-02-15 10:09:55\n",
      "gt3l\n"
     ]
    }
   ],
   "source": [
    "i = 0\n",
    "for day in df.date.unique()[0:2]:\n",
    "    for tr in df.track.unique():\n",
    "        #dfTran is a single radar transect\n",
    "        dfTran = df.query('date == @day & track == @tr')\n",
    "        if dfTran.shape[0] == 0:\n",
    "            continue\n",
    "            \n",
    "        print(day)\n",
    "        print(tr)\n",
    "\n"
   ]
  }
 ],
 "metadata": {
  "kernelspec": {
   "display_name": "Python 3",
   "language": "python",
   "name": "python3"
  },
  "language_info": {
   "codemirror_mode": {
    "name": "ipython",
    "version": 3
   },
   "file_extension": ".py",
   "mimetype": "text/x-python",
   "name": "python",
   "nbconvert_exporter": "python",
   "pygments_lexer": "ipython3",
   "version": "3.6.7"
  }
 },
 "nbformat": 4,
 "nbformat_minor": 2
}
