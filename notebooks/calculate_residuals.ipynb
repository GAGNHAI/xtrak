{
 "cells": [
  {
   "cell_type": "markdown",
   "metadata": {},
   "source": [
    "Find the residuals between ICESat-2 elevation measurements and a reference elevation (taken from IceBridge ATM flyover of Zachariae Isstrom)\n",
    "\n",
    "Taryn Black, ICESat-2 Hackweek, June 17-21 2019"
   ]
  },
  {
   "cell_type": "code",
   "execution_count": 40,
   "metadata": {},
   "outputs": [],
   "source": [
    "import numpy as np\n",
    "import pandas as pd\n",
    "import geopandas as gpd\n",
    "from shapely.geometry import Point, Polygon\n",
    "import matplotlib.pyplot as plt"
   ]
  },
  {
   "cell_type": "markdown",
   "metadata": {},
   "source": [
    "# Set data location info"
   ]
  },
  {
   "cell_type": "code",
   "execution_count": 42,
   "metadata": {},
   "outputs": [],
   "source": [
    "home_dir = \"/home/jovyan/xtrak/\"\n",
    "cross_file = \"data_prod/Intersections_ATM20180418.csv\""
   ]
  },
  {
   "cell_type": "markdown",
   "metadata": {},
   "source": [
    "# Load ICESat-2 crossover points\n",
    "\n",
    "ICESat-2 track points that were identified as crossing our OIB ATM reference track in Intersections.ipynb. This file contains both the ICESat-2 elevation data and the OIB ATM data at the crossover points."
   ]
  },
  {
   "cell_type": "code",
   "execution_count": 71,
   "metadata": {},
   "outputs": [
    {
     "data": {
      "text/html": [
       "<div>\n",
       "<style scoped>\n",
       "    .dataframe tbody tr th:only-of-type {\n",
       "        vertical-align: middle;\n",
       "    }\n",
       "\n",
       "    .dataframe tbody tr th {\n",
       "        vertical-align: top;\n",
       "    }\n",
       "\n",
       "    .dataframe thead th {\n",
       "        text-align: right;\n",
       "    }\n",
       "</style>\n",
       "<table border=\"1\" class=\"dataframe\">\n",
       "  <thead>\n",
       "    <tr style=\"text-align: right;\">\n",
       "      <th></th>\n",
       "      <th>dist_along</th>\n",
       "      <th>ATM_elev</th>\n",
       "      <th>idx_ATM</th>\n",
       "      <th>z_ATL06</th>\n",
       "      <th>t_ATL06</th>\n",
       "      <th>idx_ATL06</th>\n",
       "      <th>gt_ATL06</th>\n",
       "    </tr>\n",
       "  </thead>\n",
       "  <tbody>\n",
       "    <tr>\n",
       "      <th>0</th>\n",
       "      <td>125293.549537</td>\n",
       "      <td>36.6189</td>\n",
       "      <td>3399.0</td>\n",
       "      <td>35.714657</td>\n",
       "      <td>2019-02-15 10:09:55</td>\n",
       "      <td>1578.0</td>\n",
       "      <td>gt1l</td>\n",
       "    </tr>\n",
       "    <tr>\n",
       "      <th>1</th>\n",
       "      <td>125388.182985</td>\n",
       "      <td>35.0684</td>\n",
       "      <td>3402.0</td>\n",
       "      <td>34.106010</td>\n",
       "      <td>2019-02-15 10:09:55</td>\n",
       "      <td>4933.0</td>\n",
       "      <td>gt1r</td>\n",
       "    </tr>\n",
       "    <tr>\n",
       "      <th>2</th>\n",
       "      <td>96217.510032</td>\n",
       "      <td>88.3644</td>\n",
       "      <td>2580.0</td>\n",
       "      <td>66.844490</td>\n",
       "      <td>2019-01-16 01:09:49</td>\n",
       "      <td>39471.0</td>\n",
       "      <td>gt3r</td>\n",
       "    </tr>\n",
       "    <tr>\n",
       "      <th>3</th>\n",
       "      <td>102715.054408</td>\n",
       "      <td>30.4860</td>\n",
       "      <td>2761.0</td>\n",
       "      <td>29.333950</td>\n",
       "      <td>2019-01-16 01:09:49</td>\n",
       "      <td>19993.0</td>\n",
       "      <td>gt1l</td>\n",
       "    </tr>\n",
       "    <tr>\n",
       "      <th>4</th>\n",
       "      <td>102652.754159</td>\n",
       "      <td>33.3447</td>\n",
       "      <td>2759.0</td>\n",
       "      <td>38.831944</td>\n",
       "      <td>2019-01-16 01:09:49</td>\n",
       "      <td>23915.0</td>\n",
       "      <td>gt1r</td>\n",
       "    </tr>\n",
       "  </tbody>\n",
       "</table>\n",
       "</div>"
      ],
      "text/plain": [
       "      dist_along  ATM_elev  idx_ATM    z_ATL06             t_ATL06  idx_ATL06  \\\n",
       "0  125293.549537   36.6189   3399.0  35.714657 2019-02-15 10:09:55     1578.0   \n",
       "1  125388.182985   35.0684   3402.0  34.106010 2019-02-15 10:09:55     4933.0   \n",
       "2   96217.510032   88.3644   2580.0  66.844490 2019-01-16 01:09:49    39471.0   \n",
       "3  102715.054408   30.4860   2761.0  29.333950 2019-01-16 01:09:49    19993.0   \n",
       "4  102652.754159   33.3447   2759.0  38.831944 2019-01-16 01:09:49    23915.0   \n",
       "\n",
       "  gt_ATL06  \n",
       "0     gt1l  \n",
       "1     gt1r  \n",
       "2     gt3r  \n",
       "3     gt1l  \n",
       "4     gt1r  "
      ]
     },
     "execution_count": 71,
     "metadata": {},
     "output_type": "execute_result"
    }
   ],
   "source": [
    "cross_df = pd.read_csv(home_dir + cross_file, parse_dates=[4])\n",
    "\n",
    "cross_df.head()\n",
    "#cross_df.info()"
   ]
  },
  {
   "cell_type": "markdown",
   "metadata": {},
   "source": [
    "# Visual check of data\n",
    "\n",
    "Plot reference elevation profile and crossover data points."
   ]
  },
  {
   "cell_type": "code",
   "execution_count": 113,
   "metadata": {},
   "outputs": [
    {
     "ename": "SyntaxError",
     "evalue": "invalid syntax (<ipython-input-113-e305f7afe1f7>, line 4)",
     "output_type": "error",
     "traceback": [
      "\u001b[0;36m  File \u001b[0;32m\"<ipython-input-113-e305f7afe1f7>\"\u001b[0;36m, line \u001b[0;32m4\u001b[0m\n\u001b[0;31m    plt.scatter(cross_df['dist_along']/1000, cross_df['ATM_elev']/1000, c='black')\u001b[0m\n\u001b[0m      ^\u001b[0m\n\u001b[0;31mSyntaxError\u001b[0m\u001b[0;31m:\u001b[0m invalid syntax\n"
     ]
    }
   ],
   "source": [
    "%matplotlib widget\n",
    "\n",
    "plt.figure(figsize=(6,12)\n",
    "plt.scatter(cross_df['dist_along']/1000, cross_df['ATM_elev']/1000, c='black')\n",
    "plt.scatter(cross_df['dist_along']/1000, cross_df['z_ATL06']/1000, c=cross_df['t_ATL06'], s=12)\n",
    "plt.xlabel('Distance along track (km)')\n",
    "plt.ylabel('Elevation (m)')\n",
    "plt.colorbar(label='Time')\n",
    "plt.legend(['Reference track'])"
   ]
  },
  {
   "cell_type": "markdown",
   "metadata": {},
   "source": [
    "# Calculate residual between ICESat-2 track crossovers and reference elevation profile\n",
    "\n",
    "For each point in the ICESat-2 crossover dataframe `df_IS`, subtract it from the reference elevation at the same distance along-track."
   ]
  },
  {
   "cell_type": "code",
   "execution_count": null,
   "metadata": {},
   "outputs": [],
   "source": []
  }
 ],
 "metadata": {
  "kernelspec": {
   "display_name": "Python 3",
   "language": "python",
   "name": "python3"
  },
  "language_info": {
   "codemirror_mode": {
    "name": "ipython",
    "version": 3
   },
   "file_extension": ".py",
   "mimetype": "text/x-python",
   "name": "python",
   "nbconvert_exporter": "python",
   "pygments_lexer": "ipython3",
   "version": "3.6.7"
  }
 },
 "nbformat": 4,
 "nbformat_minor": 2
}
