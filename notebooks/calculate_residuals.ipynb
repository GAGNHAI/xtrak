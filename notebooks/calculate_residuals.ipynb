{
 "cells": [
  {
   "cell_type": "markdown",
   "metadata": {},
   "source": [
    "Find the residuals between ICESat-2 elevation measurements and a reference elevation (taken from IceBridge ATM flyover of Zachariae Isstrom)\n",
    "\n",
    "Taryn Black, ICESat-2 Hackweek, June 17-21 2019"
   ]
  },
  {
   "cell_type": "code",
   "execution_count": 1,
   "metadata": {},
   "outputs": [],
   "source": [
    "import numpy as np\n",
    "import pandas as pd\n",
    "from shapely.geometry import Point, Polygon\n",
    "import matplotlib.pyplot as plt"
   ]
  },
  {
   "cell_type": "markdown",
   "metadata": {},
   "source": [
    "# Set data location info"
   ]
  },
  {
   "cell_type": "code",
   "execution_count": 2,
   "metadata": {},
   "outputs": [],
   "source": [
    "home_dir = \"/home/jovyan/xtrak/\"\n",
    "cross_file = \"data_prod/Intersections_ATM20180418.csv\""
   ]
  },
  {
   "cell_type": "markdown",
   "metadata": {},
   "source": [
    "# Load ICESat-2 crossover points\n",
    "\n",
    "ICESat-2 track points that were identified as crossing our OIB ATM reference track in Intersections.ipynb. This file contains both the ICESat-2 elevation data and the OIB ATM data at the crossover points."
   ]
  },
  {
   "cell_type": "code",
   "execution_count": 3,
   "metadata": {},
   "outputs": [
    {
     "data": {
      "text/html": [
       "<div>\n",
       "<style scoped>\n",
       "    .dataframe tbody tr th:only-of-type {\n",
       "        vertical-align: middle;\n",
       "    }\n",
       "\n",
       "    .dataframe tbody tr th {\n",
       "        vertical-align: top;\n",
       "    }\n",
       "\n",
       "    .dataframe thead th {\n",
       "        text-align: right;\n",
       "    }\n",
       "</style>\n",
       "<table border=\"1\" class=\"dataframe\">\n",
       "  <thead>\n",
       "    <tr style=\"text-align: right;\">\n",
       "      <th></th>\n",
       "      <th>dist_along</th>\n",
       "      <th>ATM_elev</th>\n",
       "      <th>idx_ATM</th>\n",
       "      <th>z_ATL06</th>\n",
       "      <th>t_ATL06</th>\n",
       "      <th>idx_ATL06</th>\n",
       "      <th>gt_ATL06</th>\n",
       "    </tr>\n",
       "  </thead>\n",
       "  <tbody>\n",
       "    <tr>\n",
       "      <th>0</th>\n",
       "      <td>125293.549537</td>\n",
       "      <td>36.6189</td>\n",
       "      <td>3399.0</td>\n",
       "      <td>35.714657</td>\n",
       "      <td>2019-02-15 10:09:55</td>\n",
       "      <td>1578.0</td>\n",
       "      <td>gt1l</td>\n",
       "    </tr>\n",
       "    <tr>\n",
       "      <th>1</th>\n",
       "      <td>125388.182985</td>\n",
       "      <td>35.0684</td>\n",
       "      <td>3402.0</td>\n",
       "      <td>34.106010</td>\n",
       "      <td>2019-02-15 10:09:55</td>\n",
       "      <td>4933.0</td>\n",
       "      <td>gt1r</td>\n",
       "    </tr>\n",
       "    <tr>\n",
       "      <th>2</th>\n",
       "      <td>96217.510032</td>\n",
       "      <td>88.3644</td>\n",
       "      <td>2580.0</td>\n",
       "      <td>66.844490</td>\n",
       "      <td>2019-01-16 01:09:49</td>\n",
       "      <td>39471.0</td>\n",
       "      <td>gt3r</td>\n",
       "    </tr>\n",
       "    <tr>\n",
       "      <th>3</th>\n",
       "      <td>102715.054408</td>\n",
       "      <td>30.4860</td>\n",
       "      <td>2761.0</td>\n",
       "      <td>29.333950</td>\n",
       "      <td>2019-01-16 01:09:49</td>\n",
       "      <td>19993.0</td>\n",
       "      <td>gt1l</td>\n",
       "    </tr>\n",
       "    <tr>\n",
       "      <th>4</th>\n",
       "      <td>102652.754159</td>\n",
       "      <td>33.3447</td>\n",
       "      <td>2759.0</td>\n",
       "      <td>38.831944</td>\n",
       "      <td>2019-01-16 01:09:49</td>\n",
       "      <td>23915.0</td>\n",
       "      <td>gt1r</td>\n",
       "    </tr>\n",
       "  </tbody>\n",
       "</table>\n",
       "</div>"
      ],
      "text/plain": [
       "      dist_along  ATM_elev  idx_ATM    z_ATL06             t_ATL06  idx_ATL06  \\\n",
       "0  125293.549537   36.6189   3399.0  35.714657 2019-02-15 10:09:55     1578.0   \n",
       "1  125388.182985   35.0684   3402.0  34.106010 2019-02-15 10:09:55     4933.0   \n",
       "2   96217.510032   88.3644   2580.0  66.844490 2019-01-16 01:09:49    39471.0   \n",
       "3  102715.054408   30.4860   2761.0  29.333950 2019-01-16 01:09:49    19993.0   \n",
       "4  102652.754159   33.3447   2759.0  38.831944 2019-01-16 01:09:49    23915.0   \n",
       "\n",
       "  gt_ATL06  \n",
       "0     gt1l  \n",
       "1     gt1r  \n",
       "2     gt3r  \n",
       "3     gt1l  \n",
       "4     gt1r  "
      ]
     },
     "execution_count": 3,
     "metadata": {},
     "output_type": "execute_result"
    }
   ],
   "source": [
    "cross_df = pd.read_csv(home_dir + cross_file, parse_dates=[4])\n",
    "\n",
    "cross_df.head()\n",
    "#cross_df.info()"
   ]
  },
  {
   "cell_type": "markdown",
   "metadata": {},
   "source": [
    "# Visual check of data\n",
    "\n",
    "Plot reference elevation profile and crossover data points."
   ]
  },
  {
   "cell_type": "code",
   "execution_count": 4,
   "metadata": {},
   "outputs": [
    {
     "data": {
      "application/vnd.jupyter.widget-view+json": {
       "model_id": "120e3efe868b42e783bc50a8aea31001",
       "version_major": 2,
       "version_minor": 0
      },
      "text/plain": [
       "FigureCanvasNbAgg()"
      ]
     },
     "metadata": {},
     "output_type": "display_data"
    }
   ],
   "source": [
    "%matplotlib widget\n",
    "\n",
    "plt.figure(figsize=(12,8))\n",
    "ax1 = plt.scatter(cross_df['dist_along']/1000, cross_df['ATM_elev'], c='black')\n",
    "ax2 = plt.scatter(cross_df['dist_along']/1000, cross_df['z_ATL06'], c=cross_df['t_ATL06'], s=12)\n",
    "plt.xlabel('Distance along track (km)')\n",
    "plt.ylabel('Elevation (m)')\n",
    "plt.title('Elevation profiles from ATM and ICESat-2')\n",
    "plt.colorbar(label='Time')\n",
    "plt.legend(['Reference track']);"
   ]
  },
  {
   "cell_type": "markdown",
   "metadata": {},
   "source": [
    "# Calculate residual between ICESat-2 track crossovers and reference elevation profile\n",
    "\n",
    "For each point in the ICESat-2 crossover dataframe, subtract the reference elevation at the same distance along-track.\n",
    "\n",
    "$residual = z_{ICESat2} - z_{reference}$\n",
    "\n",
    "Thus, positive values indicate an increase in elevation compared to the reference track, and negative values indicate a decrease in elevation."
   ]
  },
  {
   "cell_type": "code",
   "execution_count": 5,
   "metadata": {},
   "outputs": [
    {
     "data": {
      "text/html": [
       "<div>\n",
       "<style scoped>\n",
       "    .dataframe tbody tr th:only-of-type {\n",
       "        vertical-align: middle;\n",
       "    }\n",
       "\n",
       "    .dataframe tbody tr th {\n",
       "        vertical-align: top;\n",
       "    }\n",
       "\n",
       "    .dataframe thead th {\n",
       "        text-align: right;\n",
       "    }\n",
       "</style>\n",
       "<table border=\"1\" class=\"dataframe\">\n",
       "  <thead>\n",
       "    <tr style=\"text-align: right;\">\n",
       "      <th></th>\n",
       "      <th>dist_along</th>\n",
       "      <th>ATM_elev</th>\n",
       "      <th>idx_ATM</th>\n",
       "      <th>z_ATL06</th>\n",
       "      <th>t_ATL06</th>\n",
       "      <th>idx_ATL06</th>\n",
       "      <th>gt_ATL06</th>\n",
       "      <th>residuals</th>\n",
       "    </tr>\n",
       "  </thead>\n",
       "  <tbody>\n",
       "    <tr>\n",
       "      <th>0</th>\n",
       "      <td>125293.549537</td>\n",
       "      <td>36.6189</td>\n",
       "      <td>3399.0</td>\n",
       "      <td>35.714657</td>\n",
       "      <td>2019-02-15 10:09:55</td>\n",
       "      <td>1578.0</td>\n",
       "      <td>gt1l</td>\n",
       "      <td>-0.904243</td>\n",
       "    </tr>\n",
       "    <tr>\n",
       "      <th>1</th>\n",
       "      <td>125388.182985</td>\n",
       "      <td>35.0684</td>\n",
       "      <td>3402.0</td>\n",
       "      <td>34.106010</td>\n",
       "      <td>2019-02-15 10:09:55</td>\n",
       "      <td>4933.0</td>\n",
       "      <td>gt1r</td>\n",
       "      <td>-0.962390</td>\n",
       "    </tr>\n",
       "    <tr>\n",
       "      <th>2</th>\n",
       "      <td>96217.510032</td>\n",
       "      <td>88.3644</td>\n",
       "      <td>2580.0</td>\n",
       "      <td>66.844490</td>\n",
       "      <td>2019-01-16 01:09:49</td>\n",
       "      <td>39471.0</td>\n",
       "      <td>gt3r</td>\n",
       "      <td>-21.519910</td>\n",
       "    </tr>\n",
       "    <tr>\n",
       "      <th>3</th>\n",
       "      <td>102715.054408</td>\n",
       "      <td>30.4860</td>\n",
       "      <td>2761.0</td>\n",
       "      <td>29.333950</td>\n",
       "      <td>2019-01-16 01:09:49</td>\n",
       "      <td>19993.0</td>\n",
       "      <td>gt1l</td>\n",
       "      <td>-1.152050</td>\n",
       "    </tr>\n",
       "    <tr>\n",
       "      <th>4</th>\n",
       "      <td>102652.754159</td>\n",
       "      <td>33.3447</td>\n",
       "      <td>2759.0</td>\n",
       "      <td>38.831944</td>\n",
       "      <td>2019-01-16 01:09:49</td>\n",
       "      <td>23915.0</td>\n",
       "      <td>gt1r</td>\n",
       "      <td>5.487244</td>\n",
       "    </tr>\n",
       "  </tbody>\n",
       "</table>\n",
       "</div>"
      ],
      "text/plain": [
       "      dist_along  ATM_elev  idx_ATM    z_ATL06             t_ATL06  idx_ATL06  \\\n",
       "0  125293.549537   36.6189   3399.0  35.714657 2019-02-15 10:09:55     1578.0   \n",
       "1  125388.182985   35.0684   3402.0  34.106010 2019-02-15 10:09:55     4933.0   \n",
       "2   96217.510032   88.3644   2580.0  66.844490 2019-01-16 01:09:49    39471.0   \n",
       "3  102715.054408   30.4860   2761.0  29.333950 2019-01-16 01:09:49    19993.0   \n",
       "4  102652.754159   33.3447   2759.0  38.831944 2019-01-16 01:09:49    23915.0   \n",
       "\n",
       "  gt_ATL06  residuals  \n",
       "0     gt1l  -0.904243  \n",
       "1     gt1r  -0.962390  \n",
       "2     gt3r -21.519910  \n",
       "3     gt1l  -1.152050  \n",
       "4     gt1r   5.487244  "
      ]
     },
     "execution_count": 5,
     "metadata": {},
     "output_type": "execute_result"
    }
   ],
   "source": [
    "cross_df['residuals'] = cross_df['z_ATL06'] - cross_df['ATM_elev']\n",
    "\n",
    "cross_df.head()"
   ]
  },
  {
   "cell_type": "markdown",
   "metadata": {},
   "source": [
    "Let's plot the residuals!"
   ]
  },
  {
   "cell_type": "code",
   "execution_count": 12,
   "metadata": {},
   "outputs": [
    {
     "data": {
      "application/vnd.jupyter.widget-view+json": {
       "model_id": "5dc6e3c147af494c90b3e2d221d93982",
       "version_major": 2,
       "version_minor": 0
      },
      "text/plain": [
       "FigureCanvasNbAgg()"
      ]
     },
     "metadata": {},
     "output_type": "display_data"
    }
   ],
   "source": [
    "plt.figure(figsize=(12,4))\n",
    "plt.scatter(cross_df['dist_along']/1000, cross_df['residuals'], c=cross_df['t_ATL06'])\n",
    "plt.axhline(0, color='k', lw=0.5)\n",
    "plt.xlabel('Distance along track (km)')\n",
    "plt.ylabel('Elevation (m)')\n",
    "plt.title('Elevation residuals \\n (+)=raised, (-)=lowered')\n",
    "plt.colorbar(label='Time');"
   ]
  },
  {
   "cell_type": "markdown",
   "metadata": {},
   "source": [
    "# Export dataframe to CSV\n",
    "\n",
    "Exported CSV file includes distance along track, ATM data (elevation, index), ATL06 data (elevation, index, time, groundtrack), and the residual (difference between ATL06 and ATM)."
   ]
  },
  {
   "cell_type": "code",
   "execution_count": 14,
   "metadata": {},
   "outputs": [],
   "source": [
    "cross_df.to_csv(home_dir + \"data_prod/residuals.csv\")"
   ]
  },
  {
   "cell_type": "markdown",
   "metadata": {},
   "source": [
    "# Residual statistics\n",
    "\n",
    "Let's further explore what's going on in our elevation data.\n",
    "\n",
    "## Variation in elevation changes, along-track\n",
    "\n",
    "Bin the residuals by distance along track, and look at the standard deviation of residual values in each bin, using a box plot. Why do this? We hypothesize that we will see more elevation variation near the terminus than farther up-flow."
   ]
  },
  {
   "cell_type": "code",
   "execution_count": 34,
   "metadata": {},
   "outputs": [
    {
     "name": "stdout",
     "output_type": "stream",
     "text": [
      "[ 50  60  70  80  90 100 110 120 130]\n"
     ]
    },
    {
     "data": {
      "text/html": [
       "<div>\n",
       "<style scoped>\n",
       "    .dataframe tbody tr th:only-of-type {\n",
       "        vertical-align: middle;\n",
       "    }\n",
       "\n",
       "    .dataframe tbody tr th {\n",
       "        vertical-align: top;\n",
       "    }\n",
       "\n",
       "    .dataframe thead th {\n",
       "        text-align: right;\n",
       "    }\n",
       "</style>\n",
       "<table border=\"1\" class=\"dataframe\">\n",
       "  <thead>\n",
       "    <tr style=\"text-align: right;\">\n",
       "      <th></th>\n",
       "      <th>dist_along</th>\n",
       "      <th>ATM_elev</th>\n",
       "      <th>idx_ATM</th>\n",
       "      <th>z_ATL06</th>\n",
       "      <th>t_ATL06</th>\n",
       "      <th>idx_ATL06</th>\n",
       "      <th>gt_ATL06</th>\n",
       "      <th>residuals</th>\n",
       "      <th>dist_binned</th>\n",
       "    </tr>\n",
       "  </thead>\n",
       "  <tbody>\n",
       "    <tr>\n",
       "      <th>0</th>\n",
       "      <td>125293.549537</td>\n",
       "      <td>36.6189</td>\n",
       "      <td>3399.0</td>\n",
       "      <td>35.714657</td>\n",
       "      <td>2019-02-15 10:09:55</td>\n",
       "      <td>1578.0</td>\n",
       "      <td>gt1l</td>\n",
       "      <td>-0.904243</td>\n",
       "      <td>(120, 130]</td>\n",
       "    </tr>\n",
       "    <tr>\n",
       "      <th>1</th>\n",
       "      <td>125388.182985</td>\n",
       "      <td>35.0684</td>\n",
       "      <td>3402.0</td>\n",
       "      <td>34.106010</td>\n",
       "      <td>2019-02-15 10:09:55</td>\n",
       "      <td>4933.0</td>\n",
       "      <td>gt1r</td>\n",
       "      <td>-0.962390</td>\n",
       "      <td>(120, 130]</td>\n",
       "    </tr>\n",
       "    <tr>\n",
       "      <th>2</th>\n",
       "      <td>96217.510032</td>\n",
       "      <td>88.3644</td>\n",
       "      <td>2580.0</td>\n",
       "      <td>66.844490</td>\n",
       "      <td>2019-01-16 01:09:49</td>\n",
       "      <td>39471.0</td>\n",
       "      <td>gt3r</td>\n",
       "      <td>-21.519910</td>\n",
       "      <td>(90, 100]</td>\n",
       "    </tr>\n",
       "    <tr>\n",
       "      <th>3</th>\n",
       "      <td>102715.054408</td>\n",
       "      <td>30.4860</td>\n",
       "      <td>2761.0</td>\n",
       "      <td>29.333950</td>\n",
       "      <td>2019-01-16 01:09:49</td>\n",
       "      <td>19993.0</td>\n",
       "      <td>gt1l</td>\n",
       "      <td>-1.152050</td>\n",
       "      <td>(100, 110]</td>\n",
       "    </tr>\n",
       "    <tr>\n",
       "      <th>4</th>\n",
       "      <td>102652.754159</td>\n",
       "      <td>33.3447</td>\n",
       "      <td>2759.0</td>\n",
       "      <td>38.831944</td>\n",
       "      <td>2019-01-16 01:09:49</td>\n",
       "      <td>23915.0</td>\n",
       "      <td>gt1r</td>\n",
       "      <td>5.487244</td>\n",
       "      <td>(100, 110]</td>\n",
       "    </tr>\n",
       "  </tbody>\n",
       "</table>\n",
       "</div>"
      ],
      "text/plain": [
       "      dist_along  ATM_elev  idx_ATM    z_ATL06             t_ATL06  idx_ATL06  \\\n",
       "0  125293.549537   36.6189   3399.0  35.714657 2019-02-15 10:09:55     1578.0   \n",
       "1  125388.182985   35.0684   3402.0  34.106010 2019-02-15 10:09:55     4933.0   \n",
       "2   96217.510032   88.3644   2580.0  66.844490 2019-01-16 01:09:49    39471.0   \n",
       "3  102715.054408   30.4860   2761.0  29.333950 2019-01-16 01:09:49    19993.0   \n",
       "4  102652.754159   33.3447   2759.0  38.831944 2019-01-16 01:09:49    23915.0   \n",
       "\n",
       "  gt_ATL06  residuals dist_binned  \n",
       "0     gt1l  -0.904243  (120, 130]  \n",
       "1     gt1r  -0.962390  (120, 130]  \n",
       "2     gt3r -21.519910   (90, 100]  \n",
       "3     gt1l  -1.152050  (100, 110]  \n",
       "4     gt1r   5.487244  (100, 110]  "
      ]
     },
     "execution_count": 34,
     "metadata": {},
     "output_type": "execute_result"
    }
   ],
   "source": [
    "bins = np.arange(50,140,10)\n",
    "print(bins)\n",
    "cross_df['dist_binned'] = pd.cut(cross_df['dist_along']/1000, bins)\n",
    "cross_df.head()"
   ]
  },
  {
   "cell_type": "code",
   "execution_count": 35,
   "metadata": {},
   "outputs": [
    {
     "data": {
      "text/html": [
       "<div>\n",
       "<style scoped>\n",
       "    .dataframe tbody tr th:only-of-type {\n",
       "        vertical-align: middle;\n",
       "    }\n",
       "\n",
       "    .dataframe tbody tr th {\n",
       "        vertical-align: top;\n",
       "    }\n",
       "\n",
       "    .dataframe thead th {\n",
       "        text-align: right;\n",
       "    }\n",
       "</style>\n",
       "<table border=\"1\" class=\"dataframe\">\n",
       "  <thead>\n",
       "    <tr style=\"text-align: right;\">\n",
       "      <th></th>\n",
       "      <th>dist_along</th>\n",
       "      <th>ATM_elev</th>\n",
       "      <th>idx_ATM</th>\n",
       "      <th>z_ATL06</th>\n",
       "      <th>idx_ATL06</th>\n",
       "      <th>residuals</th>\n",
       "    </tr>\n",
       "  </thead>\n",
       "  <tbody>\n",
       "    <tr>\n",
       "      <th>count</th>\n",
       "      <td>188.000000</td>\n",
       "      <td>188.000000</td>\n",
       "      <td>188.000000</td>\n",
       "      <td>188.000000</td>\n",
       "      <td>188.000000</td>\n",
       "      <td>188.000000</td>\n",
       "    </tr>\n",
       "    <tr>\n",
       "      <th>mean</th>\n",
       "      <td>95537.751622</td>\n",
       "      <td>142.674674</td>\n",
       "      <td>2557.500000</td>\n",
       "      <td>149.744321</td>\n",
       "      <td>365132.760638</td>\n",
       "      <td>7.069647</td>\n",
       "    </tr>\n",
       "    <tr>\n",
       "      <th>std</th>\n",
       "      <td>19736.138045</td>\n",
       "      <td>143.488752</td>\n",
       "      <td>552.391258</td>\n",
       "      <td>203.396865</td>\n",
       "      <td>205362.454985</td>\n",
       "      <td>128.404198</td>\n",
       "    </tr>\n",
       "    <tr>\n",
       "      <th>min</th>\n",
       "      <td>56862.936846</td>\n",
       "      <td>27.339600</td>\n",
       "      <td>1513.000000</td>\n",
       "      <td>26.104408</td>\n",
       "      <td>1578.000000</td>\n",
       "      <td>-60.585456</td>\n",
       "    </tr>\n",
       "    <tr>\n",
       "      <th>25%</th>\n",
       "      <td>80521.837482</td>\n",
       "      <td>37.727925</td>\n",
       "      <td>2133.000000</td>\n",
       "      <td>35.312495</td>\n",
       "      <td>193376.250000</td>\n",
       "      <td>-4.835666</td>\n",
       "    </tr>\n",
       "    <tr>\n",
       "      <th>50%</th>\n",
       "      <td>95369.899221</td>\n",
       "      <td>86.165900</td>\n",
       "      <td>2554.000000</td>\n",
       "      <td>76.361470</td>\n",
       "      <td>374275.500000</td>\n",
       "      <td>-1.262035</td>\n",
       "    </tr>\n",
       "    <tr>\n",
       "      <th>75%</th>\n",
       "      <td>112350.591643</td>\n",
       "      <td>251.812775</td>\n",
       "      <td>3040.000000</td>\n",
       "      <td>246.346338</td>\n",
       "      <td>541517.000000</td>\n",
       "      <td>0.203516</td>\n",
       "    </tr>\n",
       "    <tr>\n",
       "      <th>max</th>\n",
       "      <td>127480.010096</td>\n",
       "      <td>570.238000</td>\n",
       "      <td>3468.000000</td>\n",
       "      <td>2154.631000</td>\n",
       "      <td>716129.000000</td>\n",
       "      <td>1746.045800</td>\n",
       "    </tr>\n",
       "  </tbody>\n",
       "</table>\n",
       "</div>"
      ],
      "text/plain": [
       "          dist_along    ATM_elev      idx_ATM      z_ATL06      idx_ATL06  \\\n",
       "count     188.000000  188.000000   188.000000   188.000000     188.000000   \n",
       "mean    95537.751622  142.674674  2557.500000   149.744321  365132.760638   \n",
       "std     19736.138045  143.488752   552.391258   203.396865  205362.454985   \n",
       "min     56862.936846   27.339600  1513.000000    26.104408    1578.000000   \n",
       "25%     80521.837482   37.727925  2133.000000    35.312495  193376.250000   \n",
       "50%     95369.899221   86.165900  2554.000000    76.361470  374275.500000   \n",
       "75%    112350.591643  251.812775  3040.000000   246.346338  541517.000000   \n",
       "max    127480.010096  570.238000  3468.000000  2154.631000  716129.000000   \n",
       "\n",
       "         residuals  \n",
       "count   188.000000  \n",
       "mean      7.069647  \n",
       "std     128.404198  \n",
       "min     -60.585456  \n",
       "25%      -4.835666  \n",
       "50%      -1.262035  \n",
       "75%       0.203516  \n",
       "max    1746.045800  "
      ]
     },
     "execution_count": 35,
     "metadata": {},
     "output_type": "execute_result"
    }
   ],
   "source": [
    "cross_df.describe()"
   ]
  },
  {
   "cell_type": "code",
   "execution_count": 36,
   "metadata": {},
   "outputs": [
    {
     "data": {
      "application/vnd.jupyter.widget-view+json": {
       "model_id": "e85fee9a8bd5418194486f9795f1cf3c",
       "version_major": 2,
       "version_minor": 0
      },
      "text/plain": [
       "FigureCanvasNbAgg()"
      ]
     },
     "metadata": {},
     "output_type": "display_data"
    },
    {
     "data": {
      "text/plain": [
       "<matplotlib.axes._subplots.AxesSubplot at 0x7f38ae178cf8>"
      ]
     },
     "execution_count": 36,
     "metadata": {},
     "output_type": "execute_result"
    }
   ],
   "source": [
    "cross_df.boxplot(by='dist_binned', column='residuals')"
   ]
  },
  {
   "cell_type": "code",
   "execution_count": null,
   "metadata": {},
   "outputs": [],
   "source": []
  }
 ],
 "metadata": {
  "kernelspec": {
   "display_name": "Python 3",
   "language": "python",
   "name": "python3"
  },
  "language_info": {
   "codemirror_mode": {
    "name": "ipython",
    "version": 3
   },
   "file_extension": ".py",
   "mimetype": "text/x-python",
   "name": "python",
   "nbconvert_exporter": "python",
   "pygments_lexer": "ipython3",
   "version": "3.6.7"
  }
 },
 "nbformat": 4,
 "nbformat_minor": 2
}
