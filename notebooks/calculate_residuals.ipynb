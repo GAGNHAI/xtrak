{
 "cells": [
  {
   "cell_type": "markdown",
   "metadata": {},
   "source": [
    "Find the residuals between ICESat-2 elevation measurements and a reference elevation (taken from IceBridge ATM flyover of Zachariae Isstrom)\n",
    "\n",
    "Taryn Black, ICESat-2 Hackweek, June 17-21 2019"
   ]
  },
  {
   "cell_type": "code",
   "execution_count": 5,
   "metadata": {},
   "outputs": [],
   "source": [
    "import numpy as np\n",
    "import pandas as pd\n",
    "import matplotlib.pyplot as plt"
   ]
  },
  {
   "cell_type": "markdown",
   "metadata": {},
   "source": [
    "# Load reference elevation profile"
   ]
  },
  {
   "cell_type": "markdown",
   "metadata": {},
   "source": [
    "# Create synthetic crossover data\n",
    "\n",
    "These will eventually be replaced with real data.\n",
    "\n",
    "Create synthetic data, contained in a pandas dataframe.\n",
    "\n",
    "Elevation `elev` at a point that crosses the reference track at some distance `dist` and time `time`. Will not be the same length as reference elevations. `(dist, elev, time)`"
   ]
  },
  {
   "cell_type": "code",
   "execution_count": 14,
   "metadata": {},
   "outputs": [
    {
     "name": "stdout",
     "output_type": "stream",
     "text": [
      "         dist        elev       time\n",
      "0   49.825589  891.444790   1.000000\n",
      "1   24.576771  891.781423   2.816327\n",
      "2    8.700409  891.019448   4.632653\n",
      "3   49.166798  891.422956   6.448980\n",
      "4   23.766602  891.691152   8.265306\n",
      "5   21.446242  891.531011  10.081633\n",
      "6   13.871761  891.363745  11.897959\n",
      "7   40.951330  891.597546  13.714286\n",
      "8   47.449813  891.523164  15.530612\n",
      "9   32.035925  891.070640  17.346939\n",
      "10  18.634236  891.043600  19.163265\n",
      "11   6.012954  891.990893  20.979592\n",
      "12   1.451114  891.609444  22.795918\n",
      "13  17.827435  891.816667  24.612245\n",
      "14  24.184234  891.088686  26.428571\n",
      "15  29.708749  891.998570  28.244898\n",
      "16  10.909361  891.476449  30.061224\n",
      "17  30.972451  891.379105  31.877551\n",
      "18  48.359984  891.760071  33.693878\n",
      "19  49.664200  891.309842  35.510204\n",
      "20  41.188186  891.115872  37.326531\n",
      "21  21.253459  891.531394  39.142857\n",
      "22  20.244219  891.938646  40.959184\n",
      "23  21.341398  891.083594  42.775510\n",
      "24  43.748634  891.462860  44.591837\n",
      "25  13.151732  891.854268  46.408163\n",
      "26  42.640781  891.043885  48.224490\n",
      "27  35.872268  891.012540  50.040816\n",
      "28  20.861191  891.070800  51.857143\n",
      "29  13.601454  891.796093  53.673469\n",
      "30  32.645039  891.303442  55.489796\n",
      "31  23.285878  891.355535  57.306122\n",
      "32  49.169667  891.128434  59.122449\n",
      "33  13.915516  891.962325  60.938776\n",
      "34  45.092202  891.294434  62.755102\n",
      "35  27.249622  891.769089  64.571429\n",
      "36  21.790888  891.983302  66.387755\n",
      "37  45.026668  891.049567  68.204082\n",
      "38  21.462836  891.157889  70.020408\n",
      "39  37.527931  891.876970  71.836735\n",
      "40  17.665044  891.956691  73.653061\n",
      "41  48.676161  891.136353  75.469388\n",
      "42   8.182062  891.850163  77.285714\n",
      "43  32.013812  891.356811  79.102041\n",
      "44  44.773926  891.151569  80.918367\n",
      "45  45.405540  891.777103  82.734694\n",
      "46  29.924799  891.415782  84.551020\n",
      "47  10.468425  891.644194  86.367347\n",
      "48  15.817110  891.492317  88.183673\n",
      "49  21.613071  891.545471  90.000000\n"
     ]
    }
   ],
   "source": [
    "len = 50\n",
    "\n",
    "IS_synth = {\n",
    "            'dist': 50*np.random.random([len]),\n",
    "            'elev': 891 + np.random.random([len]),\n",
    "            'time': np.linspace(1, 90, num=len)\n",
    "}\n",
    "\n",
    "df_IS = pd.DataFrame(data=IS_synth)\n",
    "\n",
    "print(df_IS)"
   ]
  },
  {
   "cell_type": "code",
   "execution_count": null,
   "metadata": {},
   "outputs": [],
   "source": []
  }
 ],
 "metadata": {
  "kernelspec": {
   "display_name": "Python 3",
   "language": "python",
   "name": "python3"
  },
  "language_info": {
   "codemirror_mode": {
    "name": "ipython",
    "version": 3
   },
   "file_extension": ".py",
   "mimetype": "text/x-python",
   "name": "python",
   "nbconvert_exporter": "python",
   "pygments_lexer": "ipython3",
   "version": "3.6.7"
  }
 },
 "nbformat": 4,
 "nbformat_minor": 2
}
