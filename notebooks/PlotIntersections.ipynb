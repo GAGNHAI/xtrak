{
 "cells": [
  {
   "cell_type": "markdown",
   "metadata": {},
   "source": [
    "**Plotting Intersection points**\n"
   ]
  },
  {
   "cell_type": "code",
   "execution_count": 1,
   "metadata": {},
   "outputs": [],
   "source": [
    "#IMPORT PACKAGES\n",
    "import os\n",
    "import glob\n",
    "import pandas as pd\n",
    "import csv\n",
    "import numpy as np\n",
    "import math\n",
    "import matplotlib.pyplot as plt\n",
    "import pyproj\n",
    "from scipy.spatial import distance"
   ]
  },
  {
   "cell_type": "code",
   "execution_count": 2,
   "metadata": {},
   "outputs": [],
   "source": [
    "ATL06filename = '~/xtrak/data_prod/ZachISatData_wSmoooth.csv'\n",
    "ATM2014filename = '~/xtrak/data_prod/ATMproof_20140429_wSmooth_ac.csv'\n",
    "ATM2018filename = '~/xtrak/data_prod/ATMprof_2018_slopes_wSmooth.csv'\n",
    "\n",
    "InterX2014filename = '~/xtrak/data_prod/InterX_ATM2014_AllSmooth.csv'\n",
    "InterX2018filename = '~/xtrak/data_prod/InterX_ATM2018_AllSmooth.csv'"
   ]
  },
  {
   "cell_type": "code",
   "execution_count": 38,
   "metadata": {},
   "outputs": [
    {
     "data": {
      "text/html": [
       "<div>\n",
       "<style scoped>\n",
       "    .dataframe tbody tr th:only-of-type {\n",
       "        vertical-align: middle;\n",
       "    }\n",
       "\n",
       "    .dataframe tbody tr th {\n",
       "        vertical-align: top;\n",
       "    }\n",
       "\n",
       "    .dataframe thead th {\n",
       "        text-align: right;\n",
       "    }\n",
       "</style>\n",
       "<table border=\"1\" class=\"dataframe\">\n",
       "  <thead>\n",
       "    <tr style=\"text-align: right;\">\n",
       "      <th></th>\n",
       "      <th>lon</th>\n",
       "      <th>lat</th>\n",
       "      <th>h</th>\n",
       "      <th>track</th>\n",
       "      <th>date</th>\n",
       "      <th>x</th>\n",
       "      <th>y</th>\n",
       "      <th>hSm</th>\n",
       "      <th>hSupSm</th>\n",
       "    </tr>\n",
       "  </thead>\n",
       "  <tbody>\n",
       "    <tr>\n",
       "      <th>0</th>\n",
       "      <td>-22.520585</td>\n",
       "      <td>78.700068</td>\n",
       "      <td>579.33765</td>\n",
       "      <td>gt3r</td>\n",
       "      <td>2019-01-04 12:24:25</td>\n",
       "      <td>469494.782922</td>\n",
       "      <td>-1.134613e+06</td>\n",
       "      <td>NaN</td>\n",
       "      <td>NaN</td>\n",
       "    </tr>\n",
       "    <tr>\n",
       "      <th>1</th>\n",
       "      <td>-22.520755</td>\n",
       "      <td>78.700244</td>\n",
       "      <td>579.03015</td>\n",
       "      <td>gt3r</td>\n",
       "      <td>2019-01-04 12:24:25</td>\n",
       "      <td>469484.057930</td>\n",
       "      <td>-1.134597e+06</td>\n",
       "      <td>NaN</td>\n",
       "      <td>NaN</td>\n",
       "    </tr>\n",
       "    <tr>\n",
       "      <th>2</th>\n",
       "      <td>-22.520925</td>\n",
       "      <td>78.700420</td>\n",
       "      <td>578.78815</td>\n",
       "      <td>gt3r</td>\n",
       "      <td>2019-01-04 12:24:25</td>\n",
       "      <td>469473.331404</td>\n",
       "      <td>-1.134581e+06</td>\n",
       "      <td>NaN</td>\n",
       "      <td>NaN</td>\n",
       "    </tr>\n",
       "    <tr>\n",
       "      <th>3</th>\n",
       "      <td>-22.521094</td>\n",
       "      <td>78.700596</td>\n",
       "      <td>578.57214</td>\n",
       "      <td>gt3r</td>\n",
       "      <td>2019-01-04 12:24:25</td>\n",
       "      <td>469462.614457</td>\n",
       "      <td>-1.134564e+06</td>\n",
       "      <td>NaN</td>\n",
       "      <td>NaN</td>\n",
       "    </tr>\n",
       "    <tr>\n",
       "      <th>4</th>\n",
       "      <td>-22.521264</td>\n",
       "      <td>78.700773</td>\n",
       "      <td>578.33830</td>\n",
       "      <td>gt3r</td>\n",
       "      <td>2019-01-04 12:24:25</td>\n",
       "      <td>469451.884907</td>\n",
       "      <td>-1.134548e+06</td>\n",
       "      <td>NaN</td>\n",
       "      <td>NaN</td>\n",
       "    </tr>\n",
       "  </tbody>\n",
       "</table>\n",
       "</div>"
      ],
      "text/plain": [
       "         lon        lat          h track                date              x  \\\n",
       "0 -22.520585  78.700068  579.33765  gt3r 2019-01-04 12:24:25  469494.782922   \n",
       "1 -22.520755  78.700244  579.03015  gt3r 2019-01-04 12:24:25  469484.057930   \n",
       "2 -22.520925  78.700420  578.78815  gt3r 2019-01-04 12:24:25  469473.331404   \n",
       "3 -22.521094  78.700596  578.57214  gt3r 2019-01-04 12:24:25  469462.614457   \n",
       "4 -22.521264  78.700773  578.33830  gt3r 2019-01-04 12:24:25  469451.884907   \n",
       "\n",
       "              y  hSm  hSupSm  \n",
       "0 -1.134613e+06  NaN     NaN  \n",
       "1 -1.134597e+06  NaN     NaN  \n",
       "2 -1.134581e+06  NaN     NaN  \n",
       "3 -1.134564e+06  NaN     NaN  \n",
       "4 -1.134548e+06  NaN     NaN  "
      ]
     },
     "execution_count": 38,
     "metadata": {},
     "output_type": "execute_result"
    }
   ],
   "source": [
    "ATL06data = pd.read_csv(ATL06filename,parse_dates=[4])\n",
    "ATL06data.head()"
   ]
  },
  {
   "cell_type": "code",
   "execution_count": 3,
   "metadata": {},
   "outputs": [],
   "source": [
    "ATMdata2014 = pd.read_csv(ATM2014filename)\n",
    "ATMdata2018 = pd.read_csv(ATM2018filename)\n",
    "\n",
    "InterX2014 = pd.read_csv(InterX2014filename)\n",
    "InterX2018 = pd.read_csv(InterX2018filename)"
   ]
  },
  {
   "cell_type": "code",
   "execution_count": 7,
   "metadata": {},
   "outputs": [],
   "source": [
    "%matplotlib widget"
   ]
  },
  {
   "cell_type": "code",
   "execution_count": 8,
   "metadata": {},
   "outputs": [
    {
     "data": {
      "application/vnd.jupyter.widget-view+json": {
       "model_id": "896206d52976474fb84e2236bb25f583",
       "version_major": 2,
       "version_minor": 0
      },
      "text/plain": [
       "FigureCanvasNbAgg()"
      ]
     },
     "metadata": {},
     "output_type": "display_data"
    },
    {
     "data": {
      "text/plain": [
       "[<matplotlib.lines.Line2D at 0x7f4574cb4b70>]"
      ]
     },
     "execution_count": 8,
     "metadata": {},
     "output_type": "execute_result"
    }
   ],
   "source": [
    "f, ax = plt.subplots()\n",
    "plt.plot(ATMdata2014['PS_x']/1000,ATMdata2014['PS_y']/1000,linewidth=5.0)\n",
    "plt.plot(ATMdata2018['PS_x']/1000,ATMdata2018['PS_y']/1000)\n",
    "plt.plot(ATMdata2014.loc[InterX2014['idx_ATM'],'PS_x']/1000,ATMdata2014.loc[InterX2014['idx_ATM'],'PS_y']/1000,'*')\n",
    "plt.plot(ATMdata2018.loc[InterX2018['idx_ATM'],'PS_x']/1000,ATMdata2018.loc[InterX2018['idx_ATM'],'PS_y']/1000,'.')\n",
    "\n",
    "# ax.scatter(Intersections['dist_along']/1000,Intersections['z_ATL06'],Intersections['t_ATL06'])\n",
    "# ax.scatter(Intersections['dist_along']/1000,Intersections['z_ATL06'], c = Time,s=1)\n",
    "# plt.plot(Intersections['dist_along']/1000,Intersections['ATM_elev'],'.')\n",
    "# cb = f.colorbar()\n",
    "# plt.colorbar()"
   ]
  }
 ],
 "metadata": {
  "kernelspec": {
   "display_name": "Python 3",
   "language": "python",
   "name": "python3"
  },
  "language_info": {
   "codemirror_mode": {
    "name": "ipython",
    "version": 3
   },
   "file_extension": ".py",
   "mimetype": "text/x-python",
   "name": "python",
   "nbconvert_exporter": "python",
   "pygments_lexer": "ipython3",
   "version": "3.6.7"
  }
 },
 "nbformat": 4,
 "nbformat_minor": 2
}
