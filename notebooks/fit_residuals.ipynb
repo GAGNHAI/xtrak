{
 "cells": [
  {
   "cell_type": "code",
   "execution_count": 78,
   "metadata": {},
   "outputs": [],
   "source": [
    "import numpy as np\n",
    "import matplotlib.pyplot as plt\n",
    "\n",
    "from scipy import interpolate\n"
   ]
  },
  {
   "cell_type": "markdown",
   "metadata": {},
   "source": [
    "#### Create synthetic residuals that are a function of length along the profile `x`, and time `t`"
   ]
  },
  {
   "cell_type": "code",
   "execution_count": 184,
   "metadata": {},
   "outputs": [],
   "source": [
    "n_residuals = 30\n",
    "max_length = 50*1000 # m\n",
    "max_time = 100 # d\n",
    "max_off = 50 # m\n",
    "\n",
    "\n",
    "res = dict()\n",
    "res['x'] = max_length * np.random.rand(n_residuals) # m\n",
    "res['t'] = max_time * np.random.rand(n_residuals) # d\n",
    "\n",
    "noise = np.random.randn(n_residuals) * 5 # m\n",
    "\n",
    "off_scalar = max_off / (max_length*max_time)\n",
    "res['off'] = off_scalar * res['x']*res['t'] + noise # create the synthetic residuals, with noise"
   ]
  },
  {
   "cell_type": "markdown",
   "metadata": {},
   "source": [
    "#### Spatio-temporal (2-D) interpolation\n",
    "Right now, the radial basis functions seem to perform best"
   ]
  },
  {
   "cell_type": "code",
   "execution_count": 198,
   "metadata": {},
   "outputs": [],
   "source": [
    "# Create a mesh of the space and time variables\n",
    "grid_x, grid_t = np.mgrid[0:max_length:100j, \n",
    "                          0:max_time:100j] # create a grid from 0 to max_length and 0 to\n",
    "                                           #  max_time, with the j number of steps\n",
    "\n",
    "# # This griddata is too strict\n",
    "# grid_off = interpolate.griddata((res['x'], res['t']), res['off'], \n",
    "#                                 (grid_x, grid_t), method='cubic')\n",
    "\n",
    "# # tck = interpolate.bisplrep(res['x'], res['t'], res['off'], s=2)\n",
    "# # grid_off = interpolate.bisplev(grid_x[:,0], grid_t[0,:], tck)\n",
    "\n",
    "# # f = interpolate.interp2d(res['x'], res['t'], res['off'], kind='cubic')\n",
    "# # grid_off = f(grid_x[:,0], grid_t[0,:])\n",
    "\n",
    "# Radial basis functions\n",
    "x_stan = res['x']/max_length\n",
    "t_stan = res['t']/max_time\n",
    "rbf = interpolate.Rbf(x_stan, t_stan, res['off'], epsilon=.0001)\n",
    "grid_x_stan = grid_x/max_length\n",
    "grid_t_stan = grid_t/max_time\n",
    "grid_off = rbf(grid_x_stan, grid_t_stan)"
   ]
  },
  {
   "cell_type": "code",
   "execution_count": 199,
   "metadata": {},
   "outputs": [
    {
     "data": {
      "text/plain": [
       "0.0001"
      ]
     },
     "execution_count": 199,
     "metadata": {},
     "output_type": "execute_result"
    }
   ],
   "source": [
    "rbf.epsilon"
   ]
  },
  {
   "cell_type": "markdown",
   "metadata": {},
   "source": [
    "#### Plotting"
   ]
  },
  {
   "cell_type": "code",
   "execution_count": 200,
   "metadata": {},
   "outputs": [
    {
     "data": {
      "image/png": "[encoded data removed]",
      "text/plain": [
       "<Figure size 432x288 with 2 Axes>"
      ]
     },
     "metadata": {},
     "output_type": "display_data"
    }
   ],
   "source": [
    "plt.figure()\n",
    "plt.contourf(grid_x/1000, grid_t, (grid_off))\n",
    "plt.scatter(res['x']/1000, res['t'], c=res['off'], linewidth=.5, edgecolor='k')\n",
    "plt.xlabel('Profile Length (km)')\n",
    "plt.ylabel('Time (days)')\n",
    "plt.colorbar();\n",
    "plt.show()"
   ]
  },
  {
   "cell_type": "code",
   "execution_count": null,
   "metadata": {},
   "outputs": [],
   "source": []
  },
  {
   "cell_type": "code",
   "execution_count": null,
   "metadata": {},
   "outputs": [],
   "source": []
  }
 ],
 "metadata": {
  "kernelspec": {
   "display_name": "Python [default]",
   "language": "python",
   "name": "python3"
  },
  "language_info": {
   "codemirror_mode": {
    "name": "ipython",
    "version": 3
   },
   "file_extension": ".py",
   "mimetype": "text/x-python",
   "name": "python",
   "nbconvert_exporter": "python",
   "pygments_lexer": "ipython3",
   "version": "3.6.7"
  }
 },
 "nbformat": 4,
 "nbformat_minor": 2
}
