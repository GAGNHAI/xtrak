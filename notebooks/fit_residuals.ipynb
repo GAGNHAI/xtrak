{
 "cells": [
  {
   "cell_type": "markdown",
   "metadata": {},
   "source": [
    "## `fit_residuals.ipynb`\n",
    "Notebook by Tim Bartholomaus, June 18, 2019\n",
    "\n",
    "Goal of notebook is to plot residuals between a reference profile/surface as a function of space and time, and then fit a smooth, interpolated surface through these residuals.\n",
    "\n",
    "Residuals are expected in a dictionary, `res` with keys `\"x\"`, `\"t\"`, and `\"off\"`, in which `x` is position along the profile, `t` is the relative time of the residual measurement, and `off` is the measured offset between the ICESat-2 measurement and the reference surface elevation."
   ]
  },
  {
   "cell_type": "code",
   "execution_count": 17,
   "metadata": {},
   "outputs": [],
   "source": [
    "import numpy as np\n",
    "import matplotlib.pyplot as plt\n",
    "import pandas as pd\n",
    "\n",
    "from scipy import interpolate\n",
    "\n",
    "import sys\n",
    "sys.path.insert(0, '~/gridding/notebook')\n",
    "# import utils\n",
    "\n",
    "# print(sys.path)"
   ]
  },
  {
   "cell_type": "code",
   "execution_count": 2,
   "metadata": {},
   "outputs": [
    {
     "name": "stdout",
     "output_type": "stream",
     "text": [
      "['~/gridding/notebook', '/srv/conda/lib/python36.zip', '/srv/conda/lib/python3.6', '/srv/conda/lib/python3.6/lib-dynload', '', '/srv/conda/lib/python3.6/site-packages', '/srv/conda/lib/python3.6/site-packages/IPython/extensions', '/home/jovyan/.ipython']\n"
     ]
    }
   ],
   "source": [
    "print(sys.path)"
   ]
  },
  {
   "cell_type": "markdown",
   "metadata": {},
   "source": [
    "#### Create synthetic residuals that are a function of length along the profile `x`, and time `t`"
   ]
  },
  {
   "cell_type": "code",
   "execution_count": 3,
   "metadata": {},
   "outputs": [],
   "source": [
    "# n_residuals = 30\n",
    "# max_length = 50*1000 # m\n",
    "# max_time = 100 # d\n",
    "# max_off = 100 # m\n",
    "\n",
    "\n",
    "# res = dict()\n",
    "# res['x'] = max_length * np.random.rand(n_residuals) # m\n",
    "# res['t'] = max_time * np.random.rand(n_residuals) # d\n",
    "\n",
    "# noise = np.random.randn(n_residuals) * 20 # m\n",
    "\n",
    "# off_scalar = max_off / (max_length*max_time)\n",
    "# res['off'] = off_scalar * res['x']*res['t'] + noise # create the synthetic residuals, with noise"
   ]
  },
  {
   "cell_type": "markdown",
   "metadata": {},
   "source": [
    "#### Read in measured residuals that are a function of length along the profile `x`, and time `t`"
   ]
  },
  {
   "cell_type": "code",
   "execution_count": 115,
   "metadata": {},
   "outputs": [
    {
     "data": {
      "text/html": [
       "<div>\n",
       "<style scoped>\n",
       "    .dataframe tbody tr th:only-of-type {\n",
       "        vertical-align: middle;\n",
       "    }\n",
       "\n",
       "    .dataframe tbody tr th {\n",
       "        vertical-align: top;\n",
       "    }\n",
       "\n",
       "    .dataframe thead th {\n",
       "        text-align: right;\n",
       "    }\n",
       "</style>\n",
       "<table border=\"1\" class=\"dataframe\">\n",
       "  <thead>\n",
       "    <tr style=\"text-align: right;\">\n",
       "      <th></th>\n",
       "      <th>x</th>\n",
       "      <th>ATM_elev</th>\n",
       "      <th>idx_ATM</th>\n",
       "      <th>z_ATL06</th>\n",
       "      <th>t_ATL06</th>\n",
       "      <th>idx_ATL06</th>\n",
       "      <th>gt_ATL06</th>\n",
       "      <th>off</th>\n",
       "      <th>t</th>\n",
       "      <th>t_days</th>\n",
       "    </tr>\n",
       "  </thead>\n",
       "  <tbody>\n",
       "    <tr>\n",
       "      <th>0</th>\n",
       "      <td>125293.549537</td>\n",
       "      <td>36.6189</td>\n",
       "      <td>3399.0</td>\n",
       "      <td>35.714657</td>\n",
       "      <td>2019-02-15 10:09:55</td>\n",
       "      <td>1578.0</td>\n",
       "      <td>gt1l</td>\n",
       "      <td>-0.904243</td>\n",
       "      <td>303 days 10:09:55</td>\n",
       "      <td>303.0</td>\n",
       "    </tr>\n",
       "    <tr>\n",
       "      <th>1</th>\n",
       "      <td>125388.182985</td>\n",
       "      <td>35.0684</td>\n",
       "      <td>3402.0</td>\n",
       "      <td>34.106010</td>\n",
       "      <td>2019-02-15 10:09:55</td>\n",
       "      <td>4933.0</td>\n",
       "      <td>gt1r</td>\n",
       "      <td>-0.962390</td>\n",
       "      <td>303 days 10:09:55</td>\n",
       "      <td>303.0</td>\n",
       "    </tr>\n",
       "    <tr>\n",
       "      <th>2</th>\n",
       "      <td>96217.510032</td>\n",
       "      <td>88.3644</td>\n",
       "      <td>2580.0</td>\n",
       "      <td>66.844490</td>\n",
       "      <td>2019-01-16 01:09:49</td>\n",
       "      <td>39471.0</td>\n",
       "      <td>gt3r</td>\n",
       "      <td>-21.519910</td>\n",
       "      <td>273 days 01:09:49</td>\n",
       "      <td>273.0</td>\n",
       "    </tr>\n",
       "    <tr>\n",
       "      <th>3</th>\n",
       "      <td>102715.054408</td>\n",
       "      <td>30.4860</td>\n",
       "      <td>2761.0</td>\n",
       "      <td>29.333950</td>\n",
       "      <td>2019-01-16 01:09:49</td>\n",
       "      <td>19993.0</td>\n",
       "      <td>gt1l</td>\n",
       "      <td>-1.152050</td>\n",
       "      <td>273 days 01:09:49</td>\n",
       "      <td>273.0</td>\n",
       "    </tr>\n",
       "    <tr>\n",
       "      <th>4</th>\n",
       "      <td>102652.754159</td>\n",
       "      <td>33.3447</td>\n",
       "      <td>2759.0</td>\n",
       "      <td>38.831944</td>\n",
       "      <td>2019-01-16 01:09:49</td>\n",
       "      <td>23915.0</td>\n",
       "      <td>gt1r</td>\n",
       "      <td>5.487244</td>\n",
       "      <td>273 days 01:09:49</td>\n",
       "      <td>273.0</td>\n",
       "    </tr>\n",
       "  </tbody>\n",
       "</table>\n",
       "</div>"
      ],
      "text/plain": [
       "               x  ATM_elev  idx_ATM    z_ATL06             t_ATL06  idx_ATL06  \\\n",
       "0  125293.549537   36.6189   3399.0  35.714657 2019-02-15 10:09:55     1578.0   \n",
       "1  125388.182985   35.0684   3402.0  34.106010 2019-02-15 10:09:55     4933.0   \n",
       "2   96217.510032   88.3644   2580.0  66.844490 2019-01-16 01:09:49    39471.0   \n",
       "3  102715.054408   30.4860   2761.0  29.333950 2019-01-16 01:09:49    19993.0   \n",
       "4  102652.754159   33.3447   2759.0  38.831944 2019-01-16 01:09:49    23915.0   \n",
       "\n",
       "  gt_ATL06        off                 t  t_days  \n",
       "0     gt1l  -0.904243 303 days 10:09:55   303.0  \n",
       "1     gt1r  -0.962390 303 days 10:09:55   303.0  \n",
       "2     gt3r -21.519910 273 days 01:09:49   273.0  \n",
       "3     gt1l  -1.152050 273 days 01:09:49   273.0  \n",
       "4     gt1r   5.487244 273 days 01:09:49   273.0  "
      ]
     },
     "execution_count": 115,
     "metadata": {},
     "output_type": "execute_result"
    }
   ],
   "source": [
    "atm_date = '2014-04-29'\n",
    "atm_date = '2018-04-18'\n",
    "\n",
    "data_prod_path = '../data_prod/'\n",
    "# intersections_filename = 'Intersections_ATM20180418.csv'\n",
    "intersections_filename = 'Intersections_ATM'+atm_date[0:4] + atm_date[5:7] + atm_date[8:10] + '.csv'\n",
    "res = pd.read_csv(data_prod_path + intersections_filename, parse_dates=[4]) \n",
    "\n",
    "# res.dtypes\n",
    "\n",
    "res['off'] = res['z_ATL06'] - res['ATM_elev']\n",
    "res['t'] = res['t_ATL06'] - pd.to_datetime(atm_date)\n",
    "res['t_days'] = res['t'].astype('timedelta64[D]')\n",
    "res.rename(columns={'dist_along': \"x\"}, inplace=True)\n",
    "\n",
    "\n",
    "res.head()\n",
    "# res.columns\n",
    "\n",
    "# pd.to_datetime(atm_date)"
   ]
  },
  {
   "cell_type": "code",
   "execution_count": null,
   "metadata": {},
   "outputs": [],
   "source": []
  },
  {
   "cell_type": "code",
   "execution_count": 109,
   "metadata": {},
   "outputs": [],
   "source": [
    "\n",
    "# n_residuals = 30\n",
    "# max_length = 50*1000 # m\n",
    "# max_time = 100 # d\n",
    "# max_off = 100 # m\n",
    "\n",
    "\n",
    "# res = dict()\n",
    "# res['x'] = max_length * np.random.rand(n_residuals) # m\n",
    "# res['t'] = max_time * np.random.rand(n_residuals) # d\n",
    "\n",
    "# noise = np.random.randn(n_residuals) * 20 # m\n",
    "\n",
    "# off_scalar = max_off / (max_length*max_time)\n",
    "# res['off'] = off_scalar * res['x']*res['t'] + noise # create the synthetic residuals, with noise"
   ]
  },
  {
   "cell_type": "markdown",
   "metadata": {},
   "source": [
    "#### Spatio-temporal (2-D) interpolation\n",
    "Right now, the radial basis functions seem to perform best"
   ]
  },
  {
   "cell_type": "code",
   "execution_count": 10,
   "metadata": {},
   "outputs": [],
   "source": [
    "# Create a mesh of the space and time variables\n",
    "grid_x, grid_t = np.mgrid[0:max_length:100j, \n",
    "                          0:max_time:100j] # create a grid from 0 to max_length and 0 to\n",
    "                                           #  max_time, with the j number of steps\n",
    "\n",
    "# This griddata is too strict\n",
    "grid_off = interpolate.griddata((res['x'], res['t']), res['off'], \n",
    "                                (grid_x, grid_t), method='cubic')\n",
    "\n",
    "# # tck = interpolate.bisplrep(res['x'], res['t'], res['off'], s=2)\n",
    "# # grid_off = interpolate.bisplev(grid_x[:,0], grid_t[0,:], tck)\n",
    "\n",
    "# # f = interpolate.interp2d(res['x'], res['t'], res['off'], kind='cubic')\n",
    "# # grid_off = f(grid_x[:,0], grid_t[0,:])\n",
    "\n",
    "# Radial basis functions\n",
    "x_stan = res['x']/max_length\n",
    "t_stan = res['t']/max_time\n",
    "rbf = interpolate.Rbf(x_stan, t_stan, res['off'], epsilon=.01)\n",
    "        # epsilon defines the stiffness of the fitting routine. High values are stiff surfaces\n",
    "grid_x_stan = grid_x/max_length\n",
    "grid_t_stan = grid_t/max_time\n",
    "grid_off = rbf(grid_x_stan, grid_t_stan)\n",
    "\n",
    "\n",
    "# # Kriging\n",
    "# # Function does not like NaN's, so lets remove them\n",
    "# # xp, yp, zp = x[~np.isnan(z)], y[~np.isnan(z)], z[~np.isnan(z)]\n",
    "# Run kriging interpolator, with 1 m RMSE noise added to the diagonal (np.ones(xp.shape)*1)\n",
    "# grid_off_lsc, e_lsc = utils.lscip(res['x'], res['t'], res['off'], np.ones(res['x'].shape)*1, grid_x, grid_t, n=10, d=1e3, a=25e3)[0:2]"
   ]
  },
  {
   "cell_type": "code",
   "execution_count": 89,
   "metadata": {},
   "outputs": [
    {
     "ename": "AttributeError",
     "evalue": "'Series' object has no attribute 'to_datetime64'",
     "output_type": "error",
     "traceback": [
      "\u001b[0;31m---------------------------------------------------------------------------\u001b[0m",
      "\u001b[0;31mAttributeError\u001b[0m                            Traceback (most recent call last)",
      "\u001b[0;32m<ipython-input-89-62f07d007c59>\u001b[0m in \u001b[0;36m<module>\u001b[0;34m\u001b[0m\n\u001b[1;32m      1\u001b[0m \u001b[0mrbf\u001b[0m\u001b[0;34m.\u001b[0m\u001b[0mepsilon\u001b[0m\u001b[0;34m\u001b[0m\u001b[0;34m\u001b[0m\u001b[0m\n\u001b[1;32m      2\u001b[0m \u001b[0;34m\u001b[0m\u001b[0m\n\u001b[0;32m----> 3\u001b[0;31m \u001b[0mres\u001b[0m\u001b[0;34m[\u001b[0m\u001b[0;34m't'\u001b[0m\u001b[0;34m]\u001b[0m\u001b[0;34m.\u001b[0m\u001b[0mto_datetime64\u001b[0m\u001b[0;34m(\u001b[0m\u001b[0;34m)\u001b[0m\u001b[0;31m# .astype('np.datetime64['d']')\u001b[0m\u001b[0;34m\u001b[0m\u001b[0;34m\u001b[0m\u001b[0m\n\u001b[0m",
      "\u001b[0;32m/srv/conda/lib/python3.6/site-packages/pandas/core/generic.py\u001b[0m in \u001b[0;36m__getattr__\u001b[0;34m(self, name)\u001b[0m\n\u001b[1;32m   5065\u001b[0m             \u001b[0;32mif\u001b[0m \u001b[0mself\u001b[0m\u001b[0;34m.\u001b[0m\u001b[0m_info_axis\u001b[0m\u001b[0;34m.\u001b[0m\u001b[0m_can_hold_identifiers_and_holds_name\u001b[0m\u001b[0;34m(\u001b[0m\u001b[0mname\u001b[0m\u001b[0;34m)\u001b[0m\u001b[0;34m:\u001b[0m\u001b[0;34m\u001b[0m\u001b[0;34m\u001b[0m\u001b[0m\n\u001b[1;32m   5066\u001b[0m                 \u001b[0;32mreturn\u001b[0m \u001b[0mself\u001b[0m\u001b[0;34m[\u001b[0m\u001b[0mname\u001b[0m\u001b[0;34m]\u001b[0m\u001b[0;34m\u001b[0m\u001b[0;34m\u001b[0m\u001b[0m\n\u001b[0;32m-> 5067\u001b[0;31m             \u001b[0;32mreturn\u001b[0m \u001b[0mobject\u001b[0m\u001b[0;34m.\u001b[0m\u001b[0m__getattribute__\u001b[0m\u001b[0;34m(\u001b[0m\u001b[0mself\u001b[0m\u001b[0;34m,\u001b[0m \u001b[0mname\u001b[0m\u001b[0;34m)\u001b[0m\u001b[0;34m\u001b[0m\u001b[0;34m\u001b[0m\u001b[0m\n\u001b[0m\u001b[1;32m   5068\u001b[0m \u001b[0;34m\u001b[0m\u001b[0m\n\u001b[1;32m   5069\u001b[0m     \u001b[0;32mdef\u001b[0m \u001b[0m__setattr__\u001b[0m\u001b[0;34m(\u001b[0m\u001b[0mself\u001b[0m\u001b[0;34m,\u001b[0m \u001b[0mname\u001b[0m\u001b[0;34m,\u001b[0m \u001b[0mvalue\u001b[0m\u001b[0;34m)\u001b[0m\u001b[0;34m:\u001b[0m\u001b[0;34m\u001b[0m\u001b[0;34m\u001b[0m\u001b[0m\n",
      "\u001b[0;31mAttributeError\u001b[0m: 'Series' object has no attribute 'to_datetime64'"
     ]
    }
   ],
   "source": [
    "rbf.epsilon\n",
    "\n",
    "res['t'].to_datetime64()# .astype('np.datetime64['d']')"
   ]
  },
  {
   "cell_type": "markdown",
   "metadata": {},
   "source": [
    "#### Plotting"
   ]
  },
  {
   "cell_type": "code",
   "execution_count": 118,
   "metadata": {},
   "outputs": [
    {
     "data": {
      "application/vnd.jupyter.widget-view+json": {
       "model_id": "92fdb11466fd4b9fa2cb337f5e772a4b",
       "version_major": 2,
       "version_minor": 0
      },
      "text/plain": [
       "FigureCanvasNbAgg()"
      ]
     },
     "metadata": {},
     "output_type": "display_data"
    }
   ],
   "source": [
    "%matplotlib widget\n",
    "plt.figure(figsize=(10,6))\n",
    "# plt.contourf(grid_x/1000, grid_t, (grid_off))\n",
    "plt.scatter(res['x'].values/1000, res['t_days'].values, s = 20, c=res['off'].values,\n",
    "            linewidth=.5, edgecolor='k', vmin = -50, vmax=10, cmap='inferno')\n",
    "# res.plot.scatter(x='x', y='t', c='off')#, linewidth=.5, edgecolor='k')\n",
    "plt.xlabel('Profile Length (km)')\n",
    "plt.ylabel('Time (days)')\n",
    "# plt.colormap('RdBu')\n",
    "plt.colorbar(label='Deviation from reference profile (m)');\n",
    "plt.show()"
   ]
  },
  {
   "cell_type": "code",
   "execution_count": 9,
   "metadata": {},
   "outputs": [
    {
     "data": {
      "image/png": "[encoded data removed]",
      "text/plain": [
       "<Figure size 432x288 with 2 Axes>"
      ]
     },
     "metadata": {
      "needs_background": "light"
     },
     "output_type": "display_data"
    }
   ],
   "source": [
    "# fig, ax = plt.subplots(3)\n",
    "\n",
    "plt.figure()\n",
    "plt.contourf(grid_x/1000, grid_t, (grid_off))\n",
    "plt.scatter(res['x']/1000, res['t'], c=res['off'], linewidth=.5, edgecolor='k')\n",
    "plt.xlabel('Profile Length (km)')\n",
    "plt.ylabel('Time (days)')\n",
    "plt.colorbar(label='Deviation from reference profile (m)');\n",
    "plt.show()"
   ]
  },
  {
   "cell_type": "code",
   "execution_count": null,
   "metadata": {},
   "outputs": [],
   "source": []
  }
 ],
 "metadata": {
  "kernelspec": {
   "display_name": "Python 3",
   "language": "python",
   "name": "python3"
  },
  "language_info": {
   "codemirror_mode": {
    "name": "ipython",
    "version": 3
   },
   "file_extension": ".py",
   "mimetype": "text/x-python",
   "name": "python",
   "nbconvert_exporter": "python",
   "pygments_lexer": "ipython3",
   "version": "3.6.7"
  }
 },
 "nbformat": 4,
 "nbformat_minor": 2
}
