{
 "cells": [
  {
   "cell_type": "markdown",
   "metadata": {},
   "source": [
    "import hd5py\n",
    "import numpy as py"
   ]
  },
  {
   "cell_type": "markdown",
   "metadata": {},
   "source": [
    "Create query data"
   ]
  },
  {
   "cell_type": "code",
   "execution_count": 1,
   "metadata": {},
   "outputs": [],
   "source": [
    "xq = [79.4, 79.2, 79.0, 78.8, 78.6]\n",
    "yq = [-23.1, -22.6, -22.1, -21.6, -21.1]\n"
   ]
  },
  {
   "cell_type": "markdown",
   "metadata": {},
   "source": [
    "Create target points"
   ]
  },
  {
   "cell_type": "code",
   "execution_count": 2,
   "metadata": {},
   "outputs": [],
   "source": [
    "x = [79.1, 79.1]\n",
    "y = [-22, -21]\n",
    "\n",
    "\n",
    "\n"
   ]
  },
  {
   "cell_type": "markdown",
   "metadata": {},
   "source": [
    "Find distance between points and index of smallest distance between points"
   ]
  },
  {
   "cell_type": "code",
   "execution_count": 4,
   "metadata": {},
   "outputs": [
    {
     "ename": "NameError",
     "evalue": "name 'best_pair' is not defined",
     "output_type": "error",
     "traceback": [
      "\u001b[0;31m---------------------------------------------------------------------------\u001b[0m",
      "\u001b[0;31mNameError\u001b[0m                                 Traceback (most recent call last)",
      "\u001b[0;32m<ipython-input-4-c223acf28dab>\u001b[0m in \u001b[0;36m<module>\u001b[0;34m\u001b[0m\n\u001b[1;32m     77\u001b[0m     \u001b[0;32mreturn\u001b[0m \u001b[0mbest_pair\u001b[0m\u001b[0;34m[\u001b[0m\u001b[0;36m0\u001b[0m\u001b[0;34m]\u001b[0m\u001b[0;34m,\u001b[0m \u001b[0mbest_pair\u001b[0m\u001b[0;34m[\u001b[0m\u001b[0;36m1\u001b[0m\u001b[0;34m]\u001b[0m\u001b[0;34m,\u001b[0m \u001b[0mbest\u001b[0m\u001b[0;34m\u001b[0m\u001b[0;34m\u001b[0m\u001b[0m\n\u001b[1;32m     78\u001b[0m \u001b[0;34m\u001b[0m\u001b[0m\n\u001b[0;32m---> 79\u001b[0;31m \u001b[0mprint\u001b[0m\u001b[0;34m(\u001b[0m\u001b[0mbest_pair\u001b[0m\u001b[0;34m,\u001b[0m\u001b[0mbest\u001b[0m\u001b[0;34m)\u001b[0m\u001b[0;34m\u001b[0m\u001b[0;34m\u001b[0m\u001b[0m\n\u001b[0m",
      "\u001b[0;31mNameError\u001b[0m: name 'best_pair' is not defined"
     ]
    }
   ],
   "source": [
    "def presort(xq, yq):\n",
    "    a = list(zip(xq, yq))  # This produces list of tuples\n",
    "    ax = sorted(a, key=lambda xq: xq[0])  # Presorting x-wise\n",
    "    ay = sorted(a, key=lambda xq: xq[1])  # Presorting y-wise\n",
    "    p1, p2, mi = closest_pair(ax, ay)  # Recursive D&C function\n",
    "    return mi\n",
    "\n",
    "def closest_pair(ax, ay):\n",
    "    ln_ax = len(ax)  # It's quicker to assign variable\n",
    "    if ln_ax <= 3:\n",
    "        return brute(ax)  # A call to bruteforce comparison\n",
    "    mid = ln_ax // 2  # Division without remainder, need int\n",
    "    Qx = ax[:mid]  # Two-part split\n",
    "    Rx = ax[mid:]\n",
    "    # Determine midpoint on x-axis\n",
    "    midpoint = ax[mid][0]  \n",
    "    Qy = list()\n",
    "    Ry = list()\n",
    "    for x in ay:  # split ay into 2 arrays using midpoint\n",
    "        if x[0] <= midpoint:\n",
    "           Qy.append(x)\n",
    "        else:\n",
    "           Ry.append(x)\n",
    "    # Call recursively both arrays after split\n",
    "    (p1, q1, mi1) = closest_pair(Qx, Qy)\n",
    "    (p2, q2, mi2) = closest_pair(Rx, Ry)\n",
    "    # Determine smaller distance between points of 2 arrays\n",
    "    if mi1 <= mi2:\n",
    "        d = mi1\n",
    "        mn = (p1, q1)\n",
    "    else:\n",
    "        d = mi2\n",
    "        mn = (p2, q2)\n",
    "    # Call function to account for points on the boundary\n",
    "    (p3, q3, mi3) = closest_split_pair(ax, ay, d, mn)\n",
    "    # Determine smallest distance for the array\n",
    "    if d <= mi3:\n",
    "        return mn[0], mn[1], d\n",
    "    else:\n",
    "        return p3, q3, mi3\n",
    "    \n",
    "def brute(ax):\n",
    "    mi = dist(ax[0], ax[1])\n",
    "    p1 = ax[0]\n",
    "    p2 = ax[1]\n",
    "    ln_ax = len(ax)\n",
    "    if ln_ax == 2:\n",
    "        return p1, p2, mi\n",
    "    for i in range(ln_ax-1):\n",
    "        for j in range(i + 1, ln_ax):\n",
    "            if i != 0 and j != 1:\n",
    "                d = dist(ax[i], ax[j])\n",
    "                if d < mi:  # Update min_dist and points\n",
    "                    mi = d\n",
    "                    p1, p2 = ax[i], ax[j]\n",
    "    return p1, p2, mi\n",
    "\n",
    "import math\n",
    "def dist(p1, p2):\n",
    "    return math.sqrt((p1[0] - p2[0]) ** 2 + (p1[1] - p2[1]) ** 2)\n",
    "\n",
    "def closest_split_pair(p_x, p_y, delta, best_pair):\n",
    "    ln_x = len(p_x)  # store length - quicker\n",
    "    mx_x = p_x[ln_x // 2][0]  # select midpoint on x-sorted array\n",
    "    # Create a subarray of points not further than delta from\n",
    "    # midpoint on x-sorted array\n",
    "    s_y = [x for x in p_y if mx_x - delta <= x[0] <= mx_x + delta]\n",
    "    best = delta  # assign best value to delta\n",
    "    ln_y = len(s_y)  # store length of subarray for quickness\n",
    "    for i in range(ln_y - 1):\n",
    "        for j in range(i+1, min(i + 7, ln_y)):\n",
    "            p, q = s_y[i], s_y[j]\n",
    "            dst = dist(p, q)\n",
    "            if dst < best:\n",
    "                best_pair = p, q\n",
    "                best = dst\n",
    "    return best_pair[0], best_pair[1], best\n",
    "\n",
    "print(best_pair,best)"
   ]
  },
  {
   "cell_type": "code",
   "execution_count": 12,
   "metadata": {},
   "outputs": [
    {
     "ename": "ValueError",
     "evalue": "XA must be a 2-dimensional array.",
     "output_type": "error",
     "traceback": [
      "\u001b[0;31m---------------------------------------------------------------------------\u001b[0m",
      "\u001b[0;31mValueError\u001b[0m                                Traceback (most recent call last)",
      "\u001b[0;32m<ipython-input-12-5c5eaae5a446>\u001b[0m in \u001b[0;36m<module>\u001b[0;34m\u001b[0m\n\u001b[1;32m     11\u001b[0m \u001b[0msome_pt\u001b[0m \u001b[0;34m=\u001b[0m \u001b[0;34m(\u001b[0m\u001b[0;36m1\u001b[0m\u001b[0;34m,\u001b[0m \u001b[0;36m2\u001b[0m\u001b[0;34m)\u001b[0m\u001b[0;34m\u001b[0m\u001b[0;34m\u001b[0m\u001b[0m\n\u001b[1;32m     12\u001b[0m \u001b[0;34m\u001b[0m\u001b[0m\n\u001b[0;32m---> 13\u001b[0;31m \u001b[0mclose_idx\u001b[0m \u001b[0;34m=\u001b[0m \u001b[0mclosest_node\u001b[0m\u001b[0;34m(\u001b[0m\u001b[0mqpoints\u001b[0m\u001b[0;34m,\u001b[0m \u001b[0mtpoints\u001b[0m\u001b[0;34m)\u001b[0m\u001b[0;34m\u001b[0m\u001b[0;34m\u001b[0m\u001b[0m\n\u001b[0m\u001b[1;32m     14\u001b[0m \u001b[0mprint\u001b[0m\u001b[0;34m(\u001b[0m\u001b[0mclose_idx\u001b[0m\u001b[0;34m)\u001b[0m\u001b[0;34m\u001b[0m\u001b[0;34m\u001b[0m\u001b[0m\n",
      "\u001b[0;32m<ipython-input-12-5c5eaae5a446>\u001b[0m in \u001b[0;36mclosest_node\u001b[0;34m(node, nodes)\u001b[0m\n\u001b[1;32m      4\u001b[0m \u001b[0mtpoints\u001b[0m \u001b[0;34m=\u001b[0m \u001b[0mlist\u001b[0m\u001b[0;34m(\u001b[0m\u001b[0mzip\u001b[0m\u001b[0;34m(\u001b[0m\u001b[0mx\u001b[0m\u001b[0;34m,\u001b[0m\u001b[0my\u001b[0m\u001b[0;34m)\u001b[0m\u001b[0;34m)\u001b[0m\u001b[0;34m\u001b[0m\u001b[0;34m\u001b[0m\u001b[0m\n\u001b[1;32m      5\u001b[0m \u001b[0;32mdef\u001b[0m \u001b[0mclosest_node\u001b[0m\u001b[0;34m(\u001b[0m\u001b[0mnode\u001b[0m\u001b[0;34m,\u001b[0m \u001b[0mnodes\u001b[0m\u001b[0;34m)\u001b[0m\u001b[0;34m:\u001b[0m\u001b[0;34m\u001b[0m\u001b[0;34m\u001b[0m\u001b[0m\n\u001b[0;32m----> 6\u001b[0;31m     \u001b[0mclosest_index\u001b[0m \u001b[0;34m=\u001b[0m \u001b[0mdistance\u001b[0m\u001b[0;34m.\u001b[0m\u001b[0mcdist\u001b[0m\u001b[0;34m(\u001b[0m\u001b[0;34m[\u001b[0m\u001b[0mnode\u001b[0m\u001b[0;34m]\u001b[0m\u001b[0;34m,\u001b[0m \u001b[0mnodes\u001b[0m\u001b[0;34m)\u001b[0m\u001b[0;34m.\u001b[0m\u001b[0margmin\u001b[0m\u001b[0;34m(\u001b[0m\u001b[0;34m)\u001b[0m\u001b[0;34m\u001b[0m\u001b[0;34m\u001b[0m\u001b[0m\n\u001b[0m\u001b[1;32m      7\u001b[0m     \u001b[0;32mreturn\u001b[0m \u001b[0mnodes\u001b[0m\u001b[0;34m[\u001b[0m\u001b[0mclosest_index\u001b[0m\u001b[0;34m]\u001b[0m\u001b[0;34m\u001b[0m\u001b[0;34m\u001b[0m\u001b[0m\n\u001b[1;32m      8\u001b[0m \u001b[0;34m\u001b[0m\u001b[0m\n",
      "\u001b[0;32m/srv/conda/lib/python3.6/site-packages/scipy/spatial/distance.py\u001b[0m in \u001b[0;36mcdist\u001b[0;34m(XA, XB, metric, *args, **kwargs)\u001b[0m\n\u001b[1;32m   2715\u001b[0m \u001b[0;34m\u001b[0m\u001b[0m\n\u001b[1;32m   2716\u001b[0m     \u001b[0;32mif\u001b[0m \u001b[0mlen\u001b[0m\u001b[0;34m(\u001b[0m\u001b[0ms\u001b[0m\u001b[0;34m)\u001b[0m \u001b[0;34m!=\u001b[0m \u001b[0;36m2\u001b[0m\u001b[0;34m:\u001b[0m\u001b[0;34m\u001b[0m\u001b[0;34m\u001b[0m\u001b[0m\n\u001b[0;32m-> 2717\u001b[0;31m         \u001b[0;32mraise\u001b[0m \u001b[0mValueError\u001b[0m\u001b[0;34m(\u001b[0m\u001b[0;34m'XA must be a 2-dimensional array.'\u001b[0m\u001b[0;34m)\u001b[0m\u001b[0;34m\u001b[0m\u001b[0;34m\u001b[0m\u001b[0m\n\u001b[0m\u001b[1;32m   2718\u001b[0m     \u001b[0;32mif\u001b[0m \u001b[0mlen\u001b[0m\u001b[0;34m(\u001b[0m\u001b[0msB\u001b[0m\u001b[0;34m)\u001b[0m \u001b[0;34m!=\u001b[0m \u001b[0;36m2\u001b[0m\u001b[0;34m:\u001b[0m\u001b[0;34m\u001b[0m\u001b[0;34m\u001b[0m\u001b[0m\n\u001b[1;32m   2719\u001b[0m         \u001b[0;32mraise\u001b[0m \u001b[0mValueError\u001b[0m\u001b[0;34m(\u001b[0m\u001b[0;34m'XB must be a 2-dimensional array.'\u001b[0m\u001b[0;34m)\u001b[0m\u001b[0;34m\u001b[0m\u001b[0;34m\u001b[0m\u001b[0m\n",
      "\u001b[0;31mValueError\u001b[0m: XA must be a 2-dimensional array."
     ]
    }
   ],
   "source": [
    "from numpy import random\n",
    "from scipy.spatial import distance\n",
    "qpoints = list(zip(xq,yq))\n",
    "tpoints = list(zip(x,y))\n",
    "def closest_node(node, nodes):\n",
    "    closest_index = distance.cdist([node], nodes).argmin()\n",
    "    return nodes[closest_index]\n",
    "\n",
    "\n",
    "\n",
    "close_idx = closest_node(qpoints, tpoints)\n",
    "print(close_idx)"
   ]
  },
  {
   "cell_type": "code",
   "execution_count": 13,
   "metadata": {},
   "outputs": [
    {
     "name": "stdout",
     "output_type": "stream",
     "text": [
      "[(79.4, -23.1), (79.2, -22.6), (79.0, -22.1), (78.8, -21.6), (78.6, -21.1)]\n"
     ]
    }
   ],
   "source": [
    "print(qpoints)"
   ]
  }
 ],
 "metadata": {
  "kernelspec": {
   "display_name": "Python 3",
   "language": "python",
   "name": "python3"
  },
  "language_info": {
   "codemirror_mode": {
    "name": "ipython",
    "version": 3
   },
   "file_extension": ".py",
   "mimetype": "text/x-python",
   "name": "python",
   "nbconvert_exporter": "python",
   "pygments_lexer": "ipython3",
   "version": "3.6.7"
  }
 },
 "nbformat": 4,
 "nbformat_minor": 2
}
